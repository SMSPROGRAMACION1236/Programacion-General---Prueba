{
 "cells": [
  {
   "cell_type": "markdown",
   "metadata": {},
   "source": [
    "https://gemini.google.com/u/0/app/2cf30af2b4491cf7?hl=es"
   ]
  },
  {
   "cell_type": "code",
   "execution_count": 18,
   "metadata": {},
   "outputs": [
    {
     "name": "stdout",
     "output_type": "stream",
     "text": [
      "                         0\n",
      "0  12 Years a Slave (2013)\n",
      "1         127 Hours (2010)\n"
     ]
    }
   ],
   "source": [
    "import sqlite3 as sql\n",
    "import pandas as pd\n",
    "from icecream import ic\n",
    "# root = sql.connect(\"C:\\\\Users\\\\santi\\\\Programación\\\\Programacion-General---Prueba\\\\SQL Dalto\\\\.database\\\\movies\\\\movie.sqlite\")\n",
    "\n",
    "with sql.connect(\"C:/Users/santi/Programación/Programacion-General---Prueba/SQL Dalto/.database/movies/movie.sqlite\") as root:\n",
    "    cursor = root.cursor()\n",
    "    cursor.execute(\"SELECT title FROM IMDB\")\n",
    "    result = cursor.fetchall()\n",
    "    root.commit()\n",
    "    \n",
    "    df = pd.DataFrame(result)\n",
    "    print(df.head(2))\n"
   ]
  },
  {
   "cell_type": "markdown",
   "metadata": {},
   "source": [
    "### Ejercicio 1 -- Cuantas Peliculas hay en la base de datos"
   ]
  },
  {
   "cell_type": "code",
   "execution_count": 5,
   "metadata": {},
   "outputs": [
    {
     "name": "stdout",
     "output_type": "stream",
     "text": [
      "[(117,)]\n"
     ]
    }
   ],
   "source": [
    "with sql.connect(\"C:/Users/santi/Programación/Programacion-General---Prueba/SQL Dalto/.database/movies/movie.sqlite\") as root:\n",
    "  cursor = root.cursor()\n",
    "  cursor.execute(\"SELECT count(title) as numero_de_peliculas from IMDB\")\n",
    "  result = cursor.fetchall()\n",
    "  root.commit()\n",
    "  \n",
    "  print(result)"
   ]
  },
  {
   "cell_type": "markdown",
   "metadata": {},
   "source": [
    "### Ejercicio 2 Cuales son los titulos de las 10 peliculas mejor calificadas segun el rating\n"
   ]
  },
  {
   "cell_type": "code",
   "execution_count": 7,
   "metadata": {},
   "outputs": [
    {
     "name": "stdout",
     "output_type": "stream",
     "text": [
      "                                0\n",
      "0                Inception (2010)\n",
      "1             Interstellar (2014)\n",
      "2                 Whiplash (2014)\n",
      "3         Django Unchained (2012)\n",
      "4    The Dark Knight Rises (2012)\n",
      "5              Toy Story 3 (2010)\n",
      "6            Hacksaw Ridge (2016)\n",
      "7               Inside Out (2015)\n",
      "8               La La Land (2016)\n",
      "9  The Wolf of Wall Street (2013)\n"
     ]
    }
   ],
   "source": [
    "with sql.connect(\"C:/Users/santi/Programación/Programacion-General---Prueba/SQL Dalto/.database/movies/movie.sqlite\") as root:\n",
    "  cursor = root.cursor()\n",
    "  cursor.execute(\"\"\"Select Title from IMDB Order BY Rating DESC LIMIT 10\"\"\")\n",
    "  result = cursor.fetchall()\n",
    "  \n",
    "  print(pd.DataFrame(result))"
   ]
  },
  {
   "cell_type": "markdown",
   "metadata": {},
   "source": [
    "###  Ejercicio 3 Cual es la pelicula con mayor recaudacion Mundial"
   ]
  },
  {
   "cell_type": "code",
   "execution_count": 3,
   "metadata": {},
   "outputs": [
    {
     "name": "stdout",
     "output_type": "stream",
     "text": [
      "[('Star Wars: The Force Awakens (2015)', 2068223624.0)]\n"
     ]
    }
   ],
   "source": [
    "with sql.connect(\"C:/Users/santi/Programación/Programacion-General---Prueba/SQL Dalto/.database/movies/movie.sqlite\") as root:\n",
    "  cursor = root.cursor()\n",
    "  cursor.execute(\"Select title, worldwide From IMDB as im, Earning as er Where im.Movie_Id = er.Movie_id Order By Worldwide Desc limit 1\")\n",
    "  \n",
    "  result = cursor.fetchall()\n",
    "  print(result)"
   ]
  },
  {
   "cell_type": "markdown",
   "metadata": {},
   "source": [
    "### EJERCICIO 4: ¿Qué géneros de películas están presentes en la base de datos?"
   ]
  },
  {
   "cell_type": "code",
   "execution_count": 8,
   "metadata": {},
   "outputs": [
    {
     "name": "stdout",
     "output_type": "stream",
     "text": [
      "             0\n",
      "0    Biography\n",
      "1    Adventure\n",
      "2       Comedy\n",
      "3       Comedy\n",
      "4        Drama\n",
      "..         ...\n",
      "346           \n",
      "347     Comedy\n",
      "348     Sci-Fi\n",
      "349     Sci-Fi\n",
      "350     Comedy\n",
      "\n",
      "[351 rows x 1 columns]\n"
     ]
    }
   ],
   "source": [
    "with sql.connect(\"C:/Users/santi/Programación/Programacion-General---Prueba/SQL Dalto/.database/movies/movie.sqlite\") as root:\n",
    "  cursor = root.cursor()\n",
    "  cursor.execute(\"SELECT genre FROM genre\")\n",
    "  result = cursor.fetchall()\n",
    "  \n",
    "  print(pd.DataFrame(result))"
   ]
  },
  {
   "cell_type": "markdown",
   "metadata": {},
   "source": [
    "### EJERCICIO 5: ¿Cuántas películas tienen un presupuesto mayor a 100 millones de dólares?"
   ]
  },
  {
   "cell_type": "code",
   "execution_count": 8,
   "metadata": {},
   "outputs": [
    {
     "name": "stdout",
     "output_type": "stream",
     "text": [
      "    0\n",
      "0  36\n"
     ]
    }
   ],
   "source": [
    "with sql.connect(\"C:/Users/santi/Programación/Programacion-General---Prueba/SQL Dalto/.database/movies/movie.sqlite\") as root:\n",
    "  cursor = root.cursor()\n",
    "  cursor.execute(\"Select count(title) from IMDB Where Budget > 100000000\")\n",
    "  result = cursor.fetchall()\n",
    "  \n",
    "  print(pd.DataFrame(result))"
   ]
  },
  {
   "cell_type": "markdown",
   "metadata": {},
   "source": [
    "### EJERCICIO 6: ¿Qué porcentaje de votos totales provienen de usuarios menores de 18 años?\n",
    "No se cual es la columna de edad(si es que hay)"
   ]
  },
  {
   "cell_type": "code",
   "execution_count": null,
   "metadata": {},
   "outputs": [],
   "source": []
  },
  {
   "cell_type": "markdown",
   "metadata": {},
   "source": [
    "### EJERCICIO 7 ¿Cuál es el género de película más común?"
   ]
  },
  {
   "cell_type": "code",
   "execution_count": 4,
   "metadata": {},
   "outputs": [
    {
     "name": "stdout",
     "output_type": "stream",
     "text": [
      "[(77, 'Drama')]\n"
     ]
    }
   ],
   "source": [
    "with sql.connect(\"C:/Users/santi/Programación/Programacion-General---Prueba/SQL Dalto/.database/movies/movie.sqlite\") as root:\n",
    "  cursor = root.cursor()\n",
    "  cursor.execute(\"Select count(genre), genre From genre Group By genre Order by count(genre) DESC Limit 1\")\n",
    "  result = cursor.fetchall()\n",
    "  \n",
    "  print(result)"
   ]
  },
  {
   "cell_type": "markdown",
   "metadata": {},
   "source": [
    " ### EJERCICIO 9:  ¿Cuál es el promedio de calificación de las películas por género?"
   ]
  },
  {
   "cell_type": "code",
   "execution_count": 5,
   "metadata": {},
   "outputs": [
    {
     "name": "stdout",
     "output_type": "stream",
     "text": [
      "            0     1\n",
      "0              7.86\n",
      "1      Action  7.84\n",
      "2   Adventure  7.84\n",
      "3   Animation  7.82\n",
      "4   Biography  7.83\n",
      "5      Comedy  7.80\n",
      "6       Crime  7.87\n",
      "7       Drama  7.84\n",
      "8      Family  7.60\n",
      "9     Fantasy  7.73\n",
      "10    History  7.92\n",
      "11     Horror  7.50\n",
      "12      Music  8.23\n",
      "13    Musical  7.50\n",
      "14    Mystery  7.89\n",
      "15    Romance  7.75\n",
      "16     Sci-Fi  7.96\n",
      "17      Sport  7.80\n",
      "18   Thriller  7.85\n",
      "19        War  7.50\n",
      "20    Western  8.05\n"
     ]
    }
   ],
   "source": [
    "with sql.connect(\"C:/Users/santi/Programación/Programacion-General---Prueba/SQL Dalto/.database/movies/movie.sqlite\") as root:\n",
    "  cursor = root.cursor()\n",
    "  cursor.execute(\"Select genre, round(avg(VotesM), 2) as calificacion_promedio  From genre as gen INNER JOIN IMDB as im on gen.Movie_ID= im.Movie_ID Group By genre\")\n",
    "  \n",
    "  resultado = cursor.fetchall()\n",
    "  \n",
    "  print(pd.DataFrame(resultado))"
   ]
  },
  {
   "cell_type": "markdown",
   "metadata": {},
   "source": [
    "### EJERCICIO 11: ¿Cuáles son las 5 películas con mayor recaudación doméstica y sus respectivos géneros?"
   ]
  },
  {
   "cell_type": "code",
   "execution_count": 6,
   "metadata": {},
   "outputs": [
    {
     "name": "stdout",
     "output_type": "stream",
     "text": [
      "                                     0          1          2\n",
      "0  Star Wars: The Force Awakens (2015)  936662225     Action\n",
      "1  Star Wars: The Force Awakens (2015)  936662225  Adventure\n",
      "2  Star Wars: The Force Awakens (2015)  936662225    Fantasy\n",
      "3                  The Avengers (2012)  623357910           \n",
      "4                  The Avengers (2012)  623357910     Action\n"
     ]
    }
   ],
   "source": [
    "with sql.connect(\"C:/Users/santi/Programación/Programacion-General---Prueba/SQL Dalto/.database/movies/movie.sqlite\") as root:\n",
    "  cursor = root.cursor()\n",
    "  cursor.execute(\"Select title, Domestic, genre from IMDB as im INNER JOIN earning as ear, genre as ge ON im.Movie_ID = ear.Movie_ID and im.Movie_ID = ge.Movie_ID Order BY Domestic DESC Limit 5\")\n",
    "  \n",
    "  result = cursor.fetchall()\n",
    "  \n",
    "  print(pd.DataFrame(result))"
   ]
  },
  {
   "cell_type": "markdown",
   "metadata": {},
   "source": [
    "### EJERCICIO 12: ¿Cuál es el promedio de presupuesto de las películas de acción?\n"
   ]
  },
  {
   "cell_type": "code",
   "execution_count": 14,
   "metadata": {},
   "outputs": [
    {
     "ename": "OperationalError",
     "evalue": "no such column: Action",
     "output_type": "error",
     "traceback": [
      "\u001b[1;31m---------------------------------------------------------------------------\u001b[0m",
      "\u001b[1;31mOperationalError\u001b[0m                          Traceback (most recent call last)",
      "Cell \u001b[1;32mIn[14], line 3\u001b[0m\n\u001b[0;32m      1\u001b[0m \u001b[38;5;28;01mwith\u001b[39;00m sql\u001b[38;5;241m.\u001b[39mconnect(\u001b[38;5;124m\"\u001b[39m\u001b[38;5;124mC:/Users/santi/Programación/Programacion-General---Prueba/SQL Dalto/.database/movies/movie.sqlite\u001b[39m\u001b[38;5;124m\"\u001b[39m) \u001b[38;5;28;01mas\u001b[39;00m root:\n\u001b[0;32m      2\u001b[0m   cursor \u001b[38;5;241m=\u001b[39m root\u001b[38;5;241m.\u001b[39mcursor()\n\u001b[1;32m----> 3\u001b[0m   \u001b[43mcursor\u001b[49m\u001b[38;5;241;43m.\u001b[39;49m\u001b[43mexecute\u001b[49m\u001b[43m(\u001b[49m\u001b[38;5;124;43m\"\u001b[39;49m\u001b[38;5;124;43mSELECT avg(Budget) as promedio_acccion, genre FROM IMDB as im INNER JOIN genre as ge on im.Movie_id = ge.Movie_id WHERE genre = Action\u001b[39;49m\u001b[38;5;124;43m\"\u001b[39;49m\u001b[43m)\u001b[49m\n\u001b[0;32m      5\u001b[0m   result \u001b[38;5;241m=\u001b[39m cursor\u001b[38;5;241m.\u001b[39mfetchall()\n\u001b[0;32m      7\u001b[0m   \u001b[38;5;28mprint\u001b[39m(result)\n",
      "\u001b[1;31mOperationalError\u001b[0m: no such column: Action"
     ]
    }
   ],
   "source": [
    "with sql.connect(\"C:/Users/santi/Programación/Programacion-General---Prueba/SQL Dalto/.database/movies/movie.sqlite\") as root:\n",
    "  cursor = root.cursor()\n",
    "  cursor.execute(\"SELECT avg(Budget) as promedio_acccion, genre FROM IMDB as im INNER JOIN genre as ge on im.Movie_id = ge.Movie_id WHERE genre = Action\")\n",
    "  \n",
    "  result = cursor.fetchall()\n",
    "  \n",
    "  print(result)\n",
    "  \n",
    "  #! No funciona aqui ni en sql de VSCode pero si funciona en el nativo"
   ]
  },
  {
   "cell_type": "markdown",
   "metadata": {},
   "source": [
    "### Ejercicio 13: ¿Cuál es la película con la mayor diferencia entre los votos de hombres y mujeres?"
   ]
  },
  {
   "cell_type": "code",
   "execution_count": 7,
   "metadata": {},
   "outputs": [
    {
     "name": "stdout",
     "output_type": "stream",
     "text": [
      "                  0       1\n",
      "0  Inception (2010)  804522\n"
     ]
    }
   ],
   "source": [
    "with sql.connect(\"C:/Users/santi/Programación/Programacion-General---Prueba/SQL Dalto/.database/movies/movie.sqlite\") as root:\n",
    "  cursor = root.cursor()\n",
    "  cursor.execute(\"Select title, (CVotesMale - CVotesFemale) as diferencia from IMDB Order by diferencia DESC Limit 1\")\n",
    "  result = cursor.fetchall()\n",
    "  \n",
    "  print(pd.DataFrame(result))"
   ]
  },
  {
   "cell_type": "markdown",
   "metadata": {},
   "source": [
    "### Ejercicio 14: ¿Cuáles son las 5 películas más populares de cada género (considerando el número total de votos)?"
   ]
  },
  {
   "cell_type": "code",
   "execution_count": 5,
   "metadata": {},
   "outputs": [
    {
     "name": "stdout",
     "output_type": "stream",
     "text": [
      "                                           0         1        2\n",
      "0               The Dark Knight Rises (2012)            1240780\n",
      "1                    Django Unchained (2012)            1056822\n",
      "2                        The Avengers (2012)            1056773\n",
      "3                      Shutter Island (2010)             871391\n",
      "4   The Hobbit: An Unexpected Journey (2012)             675678\n",
      "..                                       ...       ...      ...\n",
      "81                            Skyfall (2012)  Thriller   552367\n",
      "82                               Fury (2014)       War   337571\n",
      "83                     The Book Thief (2013)       War   107880\n",
      "84                   Django Unchained (2012)   Western  1056822\n",
      "85                          True Grit (2010)   Western   257670\n",
      "\n",
      "[86 rows x 3 columns]\n"
     ]
    }
   ],
   "source": [
    "with sql.connect(\"C:/Users/santi/Programación/Programacion-General---Prueba/SQL Dalto/.database/movies/movie.sqlite\") as root:\n",
    "  cursor = root.cursor()\n",
    "  cursor.execute(\"\"\"SELECT title, genre, \"TotalVotes\"\n",
    "FROM (\n",
    "    SELECT title, genre, \"TotalVotes\",\n",
    "           ROW_NUMBER() OVER (PARTITION BY genre ORDER BY \"TotalVotes\" DESC) as rn\n",
    "    FROM \"IMDB\" as im\n",
    "    LEFT JOIN genre as gen on im.\"Movie_id\" = gen.\"Movie_id\"\n",
    ") as subquery\n",
    "WHERE rn <= 5\n",
    "ORDER BY genre, \"TotalVotes\" DESC\"\"\")\n",
    "  result = cursor.fetchall()\n",
    "  print(pd.DataFrame(result))"
   ]
  },
  {
   "cell_type": "markdown",
   "metadata": {},
   "source": [
    "### Ejercicio 15: ¿Cuál es el promedio de presupuesto de las películas de animación comparado con las de acción?"
   ]
  },
  {
   "cell_type": "code",
   "execution_count": 13,
   "metadata": {},
   "outputs": [
    {
     "name": "stdout",
     "output_type": "stream",
     "text": [
      "Animation: (141938461.53846154, 'Animation'); Action: (131287878.78787878, 'Action')\n"
     ]
    }
   ],
   "source": [
    "with sql.connect(\"C:/Users/santi/Programación/Programacion-General---Prueba/SQL Dalto/.database/movies/movie.sqlite\") as root:\n",
    "  cursor = root.cursor()\n",
    "  cursor.execute(\"Select avg(IM.Budget) as promedio_por_genero, gen.genre From IMDB as IM INNER JOIN genre as gen on IM.MOVIE_ID = gen.MOVIE_ID  Group by genre\") \n",
    "  result = cursor.fetchall()\n",
    "  result_frame = result\n",
    "  print(f\"Animation: {result_frame[3]}; Action: {result_frame[1]}\")"
   ]
  },
  {
   "cell_type": "markdown",
   "metadata": {},
   "source": [
    "### Ejercicio 17:  ¿Qué género tiene la mayor proporción de películas con una calificación superior a 8?"
   ]
  },
  {
   "cell_type": "code",
   "execution_count": 18,
   "metadata": {},
   "outputs": [
    {
     "name": "stdout",
     "output_type": "stream",
     "text": [
      "            0   1\n",
      "0               8\n",
      "1      Action   9\n",
      "2   Adventure  10\n",
      "3   Animation   4\n",
      "4   Biography   6\n",
      "5      Comedy   6\n",
      "6       Crime   4\n",
      "7       Drama  15\n",
      "8     Fantasy   1\n",
      "9     History   3\n",
      "10      Music   2\n",
      "11    Mystery   3\n",
      "12     Sci-Fi   5\n",
      "13      Sport   1\n",
      "14   Thriller   3\n",
      "15    Western   1\n"
     ]
    }
   ],
   "source": [
    "with sql.connect(\"C:/Users/santi/Programación/Programacion-General---Prueba/SQL Dalto/.database/movies/movie.sqlite\") as root:\n",
    "  cursor = root.cursor()\n",
    "  cursor.execute(\"\"\"SELECT genre, count(*) as 'numero de peliculas' FROM \"IMDB\" as IM\n",
    "  INNER JOIN \"genre\" as gen on \"IM\".\"Movie_id\" = \"gen\".\"Movie_id\"\n",
    "  WHERE \"Rating\" > 8\n",
    "  GROUP BY genre\"\"\")\n",
    "  result = cursor.fetchall()\n",
    "  print(pd.DataFrame(result))"
   ]
  },
  {
   "cell_type": "markdown",
   "metadata": {},
   "source": [
    "### Ejercicio 18 --¿Qué porcentaje de las películas recuperan su inversión inicial (es decir, la recaudación mundial es mayor al presupuesto)?\n"
   ]
  },
  {
   "cell_type": "code",
   "execution_count": 58,
   "metadata": {},
   "outputs": [
    {
     "name": "stderr",
     "output_type": "stream",
     "text": [
      "ic| total_peliculas: [(117,)]\n",
      "ic| peliculas_con_beneficios: [(108,)]\n"
     ]
    },
    {
     "name": "stdout",
     "output_type": "stream",
     "text": [
      "Hay 117 peliculas en total de las cuales 108 peliculas han tenido beneficios y esto equivale al 92 % \n"
     ]
    }
   ],
   "source": [
    "with sql.connect(\"C:/Users/santi/Programación/Programacion-General---Prueba/SQL Dalto/.database/movies/movie.sqlite\") as root:\n",
    "  cursor = root.cursor()\n",
    "  cursor.execute(\"\"\"Select count(*) from  IMDB as IM left join earning as ear on IM.Movie_id = ear.Movie_id Where ear.Worldwide > IM.Budget\"\"\")\n",
    "  peliculas_con_beneficios =cursor.fetchall()\n",
    "  cursor.execute(\"\"\"Select count(*) from IMDB\"\"\")\n",
    "  total_peliculas = cursor.fetchall()\n",
    "  \n",
    "  ic((total_peliculas))\n",
    "  ic(peliculas_con_beneficios)\n",
    "  for j,k in zip(total_peliculas, peliculas_con_beneficios):\n",
    "    total = j[0]\n",
    "    benefic = k[0]\n",
    "    print(f\"Hay {total} peliculas en total de las cuales {benefic} peliculas han tenido beneficios y esto equivale al {round((benefic/total) * 100)} % \")\n",
    "  \n",
    "  \n",
    "\n",
    "  \n",
    "  "
   ]
  },
  {
   "cell_type": "markdown",
   "metadata": {},
   "source": [
    "### Ejercicio 19: ¿Cuáles son las películas que tienen un rating superior al promedio de rating de todas las películas?"
   ]
  },
  {
   "cell_type": "code",
   "execution_count": 72,
   "metadata": {},
   "outputs": [
    {
     "name": "stderr",
     "output_type": "stream",
     "text": [
      "ic| promedio_peli: [(8.0,)]\n"
     ]
    },
    {
     "name": "stdout",
     "output_type": "stream",
     "text": [
      "                                      0    1\n",
      "0                      Inception (2010)  8.8\n",
      "1                   Interstellar (2014)  8.6\n",
      "2                       Whiplash (2014)  8.5\n",
      "3               Django Unchained (2012)  8.4\n",
      "4          The Dark Knight Rises (2012)  8.4\n",
      "5                    Toy Story 3 (2010)  8.3\n",
      "6                  Hacksaw Ridge (2016)  8.2\n",
      "7                     Inside Out (2015)  8.2\n",
      "8                     La La Land (2016)  8.2\n",
      "9        The Wolf of Wall Street (2013)  8.2\n",
      "10                       Warrior (2011)  8.2\n",
      "11              12 Years a Slave (2013)  8.1\n",
      "12                     Gone Girl (2014)  8.1\n",
      "13       Guardians of the Galaxy (2014)  8.1\n",
      "14      How to Train Your Dragon (2010)  8.1\n",
      "15                          Lion (2016)  8.1\n",
      "16            Mad Max: Fury Road (2015)  8.1\n",
      "17                     Prisoners (2013)  8.1\n",
      "18                          Rush (2013)  8.1\n",
      "19                Shutter Island (2010)  8.1\n",
      "20                     Spotlight (2015)  8.1\n",
      "21  Star Wars: The Force Awakens (2015)  8.1\n",
      "22                  The Avengers (2012)  8.1\n",
      "23      The Grand Budapest Hotel (2014)  8.1\n",
      "24                      The Help (2011)  8.1\n",
      "25            The Imitation Game (2014)  8.1\n",
      "26                      Zootopia (2016)  8.1\n"
     ]
    }
   ],
   "source": [
    "with sql.connect(\"C:/Users/santi/Programación/Programacion-General---Prueba/SQL Dalto/.database/movies/movie.sqlite\") as root:\n",
    "  cursor = root.cursor()\n",
    "  cursor.execute(\"\"\"Select round(avg(Rating)) from  IMDB\"\"\")\n",
    "  promedio_peli = cursor.fetchall()\n",
    "  ic(promedio_peli)\n",
    "  \n",
    "  cursor.execute(f\"\"\"Select title, Rating  from IMDB Where Rating > {promedio_peli[0][0]} Order by Rating Desc\"\"\")\n",
    "  result = cursor.fetchall()\n",
    "  print(pd.DataFrame(result))\n",
    "  "
   ]
  },
  {
   "cell_type": "markdown",
   "metadata": {},
   "source": [
    "### Ejercicio 20: ¿Cuál es la posición de cada película en términos de recaudación mundial dentro de su género? "
   ]
  },
  {
   "cell_type": "code",
   "execution_count": null,
   "metadata": {},
   "outputs": [
    {
     "ename": "OperationalError",
     "evalue": "no such column: IMDB",
     "output_type": "error",
     "traceback": [
      "\u001b[1;31m---------------------------------------------------------------------------\u001b[0m",
      "\u001b[1;31mOperationalError\u001b[0m                          Traceback (most recent call last)",
      "Cell \u001b[1;32mIn[100], line 7\u001b[0m\n\u001b[0;32m      5\u001b[0m colums \u001b[38;5;241m=\u001b[39m [i[\u001b[38;5;241m0\u001b[39m] \u001b[38;5;28;01mfor\u001b[39;00m i \u001b[38;5;129;01min\u001b[39;00m result]\n\u001b[0;32m      6\u001b[0m \u001b[38;5;28;01mfor\u001b[39;00m i \u001b[38;5;129;01min\u001b[39;00m colums:\n\u001b[1;32m----> 7\u001b[0m   \u001b[43mcursor\u001b[49m\u001b[38;5;241;43m.\u001b[39;49m\u001b[43mexecute\u001b[49m\u001b[43m(\u001b[49m\u001b[38;5;124;43mf\u001b[39;49m\u001b[38;5;124;43m\"\"\"\u001b[39;49m\u001b[38;5;124;43mSELECT title FROM \u001b[39;49m\u001b[38;5;124;43m\"\u001b[39;49m\u001b[38;5;124;43mIMDB\u001b[39;49m\u001b[38;5;124;43m\"\u001b[39;49m\u001b[38;5;124;43m as IM\u001b[39;49m\n\u001b[0;32m      8\u001b[0m \u001b[38;5;124;43mLEFT JOIN earning as ear on IM.\u001b[39;49m\u001b[38;5;124;43m\"\u001b[39;49m\u001b[38;5;124;43mMovie_id\u001b[39;49m\u001b[38;5;124;43m\"\u001b[39;49m\u001b[38;5;124;43m = ear.\u001b[39;49m\u001b[38;5;124;43m\"\u001b[39;49m\u001b[38;5;124;43mMovie_id\u001b[39;49m\u001b[38;5;124;43m\"\u001b[39;49m\n\u001b[0;32m      9\u001b[0m \u001b[38;5;124;43mLEFT JOIN genre as gen on  \u001b[39;49m\u001b[38;5;124;43m\"\u001b[39;49m\u001b[38;5;124;43mIM\u001b[39;49m\u001b[38;5;124;43m\"\u001b[39;49m\u001b[38;5;124;43m.\u001b[39;49m\u001b[38;5;124;43m\"\u001b[39;49m\u001b[38;5;124;43mMovie_id\u001b[39;49m\u001b[38;5;124;43m\"\u001b[39;49m\u001b[38;5;124;43m = gen.\u001b[39;49m\u001b[38;5;124;43m\"\u001b[39;49m\u001b[38;5;124;43mMovie_id\u001b[39;49m\u001b[38;5;124;43m\"\u001b[39;49m\n\u001b[0;32m     10\u001b[0m \u001b[38;5;124;43mWHERE gen.genre = \u001b[39;49m\u001b[38;5;132;43;01m{\u001b[39;49;00m\u001b[43mi\u001b[49m\u001b[38;5;132;43;01m}\u001b[39;49;00m\n\u001b[0;32m     11\u001b[0m \u001b[38;5;124;43mORDER BY ear.\u001b[39;49m\u001b[38;5;124;43m\"\u001b[39;49m\u001b[38;5;124;43mWorldwide\u001b[39;49m\u001b[38;5;124;43m\"\u001b[39;49m\u001b[38;5;124;43m DESC;\u001b[39;49m\u001b[38;5;124;43m\"\"\"\u001b[39;49m\u001b[43m)\u001b[49m\n",
      "\u001b[1;31mOperationalError\u001b[0m: no such column: IMDB"
     ]
    }
   ],
   "source": [
    "with sql.connect(\"C:/Users/santi/Programación/Programacion-General---Prueba/SQL Dalto/.database/movies/movie.sqlite\") as root:\n",
    "  cursor = root.cursor()\n",
    "  cursor.execute(\"\"\"SELECT name FROM sqlite_master WHERE type='table';\"\"\")\n",
    "  result = cursor.fetchall()\n",
    "  colums = [i[0] for i in result]\n",
    "  for i in colums:\n",
    "    cursor.execute(f\"\"\"SELECT title FROM \"IMDB\" as IM\n",
    "  LEFT JOIN earning as ear on IM.\"Movie_id\" = ear.\"Movie_id\"\n",
    "  LEFT JOIN genre as gen on  \"IM\".\"Movie_id\" = gen.\"Movie_id\"\n",
    "  WHERE gen.genre = {i}\n",
    "  ORDER BY ear.\"Worldwide\" DESC;\"\"\")\n",
    "\n",
    "  \n",
    "#! Problema"
   ]
  }
 ],
 "metadata": {
  "kernelspec": {
   "display_name": "Python 3",
   "language": "python",
   "name": "python3"
  },
  "language_info": {
   "codemirror_mode": {
    "name": "ipython",
    "version": 3
   },
   "file_extension": ".py",
   "mimetype": "text/x-python",
   "name": "python",
   "nbconvert_exporter": "python",
   "pygments_lexer": "ipython3",
   "version": "3.11.7"
  }
 },
 "nbformat": 4,
 "nbformat_minor": 2
}
