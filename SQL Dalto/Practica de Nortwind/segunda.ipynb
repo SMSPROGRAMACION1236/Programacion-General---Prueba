{
 "cells": [
  {
   "cell_type": "markdown",
   "metadata": {},
   "source": [
    "#### ¿Cuántos empleados nacieron después del 1 de junio de 1965? Crea un informe que diga El empleado Nació el N”, donde “N” representa el nombre completo y la fecha de nacimiento."
   ]
  },
  {
   "cell_type": "code",
   "execution_count": 2,
   "metadata": {},
   "outputs": [
    {
     "name": "stdout",
     "output_type": "stream",
     "text": [
      "El empleado nacio el\n",
      "       0           1\n",
      "0  Nancy  1968-12-08\n",
      "1   Anne  1969-07-02\n"
     ]
    },
    {
     "name": "stderr",
     "output_type": "stream",
     "text": [
      "C:\\Users\\santi\\AppData\\Local\\Temp\\ipykernel_12616\\1347757077.py:4: DeprecationWarning: \n",
      "Pyarrow will become a required dependency of pandas in the next major release of pandas (pandas 3.0),\n",
      "(to allow more performant data types, such as the Arrow string type, and better interoperability with other libraries)\n",
      "but was not found to be installed on your system.\n",
      "If this would cause problems for you,\n",
      "please provide us feedback at https://github.com/pandas-dev/pandas/issues/54466\n",
      "        \n",
      "  import pandas as pd\n"
     ]
    }
   ],
   "source": [
    "import sqlite3\n",
    "import pandas as pd\n",
    "\n",
    "# square = lambda n : n*n\n",
    "conn = sqlite3.connect(\"C:/Users/santi/Programación/SQL Dalto/Northwind/Northwind.db\") \n",
    "# conn.create_function('SQUARE', 1, square)\n",
    "\n",
    "courser = conn.cursor()\n",
    "courser.execute(\"\"\"\n",
    "                SELECT FirstName,BirthDate FROM Employees WHERE BirthDate > '1965-06-01'\"\"\")\n",
    "result = courser.fetchall()\n",
    "\n",
    "conn.commit()\n",
    "courser.close() \n",
    "conn.close()  \n",
    "result_pd = pd.DataFrame(result)\n",
    "print(\"El empleado nacio el\")\n",
    "print(result_pd)\n",
    "\n"
   ]
  },
  {
   "cell_type": "markdown",
   "metadata": {},
   "source": [
    "#### Repite el informe anterior, pero solo para los empleados con los ID 8, 7, 3 y 10\n",
    "\n"
   ]
  },
  {
   "cell_type": "code",
   "execution_count": 3,
   "metadata": {},
   "outputs": [
    {
     "name": "stdout",
     "output_type": "stream",
     "text": [
      "El empleado nacio el\n",
      "     0          1         2           3            4  \\\n",
      "0    1    Davolio     Nancy  1968-12-08   EmpID1.pic   \n",
      "1    2     Fuller    Andrew  1952-02-19   EmpID2.pic   \n",
      "2    3  Leverling     Janet  1963-08-30   EmpID3.pic   \n",
      "3    4    Peacock  Margaret  1958-09-19   EmpID4.pic   \n",
      "4    5   Buchanan    Steven  1955-03-04   EmpID5.pic   \n",
      "5    6     Suyama   Michael  1963-07-02   EmpID6.pic   \n",
      "6    7       King    Robert  1960-05-29   EmpID7.pic   \n",
      "7    8   Callahan     Laura  1958-01-09   EmpID8.pic   \n",
      "8    9  Dodsworth      Anne  1969-07-02   EmpID9.pic   \n",
      "9   10       West      Adam  1928-09-19  EmpID10.pic   \n",
      "10  11        Wes      Adam        None         None   \n",
      "\n",
      "                                                    5  \n",
      "0   Education includes a BA in psychology from Col...  \n",
      "1   Andrew received his BTS commercial and a Ph.D....  \n",
      "2   Janet has a BS degree in chemistry from Boston...  \n",
      "3   Margaret holds a BA in English literature from...  \n",
      "4   Steven Buchanan graduated from St. Andrews Uni...  \n",
      "5   Michael is a graduate of Sussex University (MA...  \n",
      "6   Robert King served in the Peace Corps and trav...  \n",
      "7   Laura received a BA in psychology from the Uni...  \n",
      "8   Anne has a BA degree in English from St. Lawre...  \n",
      "9                                        An old chum.  \n",
      "10                                               None  \n"
     ]
    }
   ],
   "source": [
    "import sqlite3\n",
    "import pandas as pd\n",
    "\n",
    "# square = lambda n : n*n\n",
    "conn = sqlite3.connect(\"C:/Users/santi/Programación/SQL Dalto/Northwind/Northwind.db\") \n",
    "# conn.create_function('SQUARE', 1, square)\n",
    "\n",
    "courser = conn.cursor()\n",
    "courser.execute(\"\"\"\n",
    "                SELECT * from Employees\"\"\")\n",
    "result = courser.fetchall()\n",
    "\n",
    "conn.commit()\n",
    "courser.close() \n",
    "conn.close()  \n",
    "result_pd = pd.DataFrame(result)\n",
    "print(\"El empleado nacio el\")\n",
    "print(result_pd)"
   ]
  }
 ],
 "metadata": {
  "kernelspec": {
   "display_name": "Python 3",
   "language": "python",
   "name": "python3"
  },
  "language_info": {
   "codemirror_mode": {
    "name": "ipython",
    "version": 3
   },
   "file_extension": ".py",
   "mimetype": "text/x-python",
   "name": "python",
   "nbconvert_exporter": "python",
   "pygments_lexer": "ipython3",
   "version": "3.11.7"
  }
 },
 "nbformat": 4,
 "nbformat_minor": 2
}
