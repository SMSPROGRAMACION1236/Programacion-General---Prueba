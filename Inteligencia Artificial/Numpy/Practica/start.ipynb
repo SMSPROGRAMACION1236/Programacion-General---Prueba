{
 "cells": [
  {
   "cell_type": "markdown",
   "metadata": {},
   "source": [
    "# Ejercicios Basicos de Numpy\n",
    "### https://gemini.google.com/u/1/app/393a7c30921eff1b?hl=es"
   ]
  },
  {
   "cell_type": "code",
   "execution_count": 215,
   "metadata": {},
   "outputs": [],
   "source": [
    "## importamos las librerias\n",
    "\n",
    "import numpy as np"
   ]
  },
  {
   "cell_type": "markdown",
   "metadata": {},
   "source": [
    "# Ejercicio 1"
   ]
  },
  {
   "cell_type": "markdown",
   "metadata": {},
   "source": [
    "## Parte 1\n",
    "### Creando e imprimiendo arrays:\n",
    "- Crea un array unidimensional con los números del 1 al 5.\n",
    "- Imprime el array completo.\n",
    "- Crea un array bidimensional de 2 filas y 3 columnas con valores 0, 1 y 2.\n",
    "- Imprime el array completo.\n",
    "- "
   ]
  },
  {
   "cell_type": "code",
   "execution_count": 216,
   "metadata": {},
   "outputs": [
    {
     "name": "stdout",
     "output_type": "stream",
     "text": [
      "[1 2 3 4 5]\n"
     ]
    }
   ],
   "source": [
    "\"\"\"\n",
    "- Crea un array unidimensional con los números del 1 al 5.\n",
    "- Imprime el array completo.\n",
    "  \"\"\"\n",
    "undimensional = np.array([1,2,3,4,5])\n",
    "print(undimensional)"
   ]
  },
  {
   "cell_type": "code",
   "execution_count": 217,
   "metadata": {},
   "outputs": [],
   "source": [
    "\"\"\"\n",
    "- Crea un array bidimensional de 2 filas y 3 columnas con valores 0, 1 y 2.\n",
    "- Imprime el array completo.\n",
    "  \"\"\"\n",
    "  \n",
    "bidimensional = np.array([[0,1,2],[0,1,2]])"
   ]
  },
  {
   "cell_type": "markdown",
   "metadata": {},
   "source": [
    "## Parte 2\n",
    "### Obteniendo información de arrays:\n",
    "- Crea un array de 10 números aleatorios entre 0 y 100.\n",
    "- Muestra la cantidad de elementos del array.\n",
    "- Obtén el tipo de datos del array.\n",
    "- Verifica si todos los elementos del array son iguales.\n",
    "\n"
   ]
  },
  {
   "cell_type": "code",
   "execution_count": 218,
   "metadata": {},
   "outputs": [
    {
     "name": "stdout",
     "output_type": "stream",
     "text": [
      "[ 4 66 40 74 75 13 83 81  5 53]\n"
     ]
    }
   ],
   "source": [
    "#Crea un array de 10 números aleatorios entre 0 y 100.\n",
    "\n",
    "array = np.random.randint(0,101,size= 10)\n",
    "print(array)"
   ]
  },
  {
   "cell_type": "code",
   "execution_count": 219,
   "metadata": {},
   "outputs": [
    {
     "name": "stdout",
     "output_type": "stream",
     "text": [
      "10\n"
     ]
    }
   ],
   "source": [
    "#Muestra la cantidad de elementos del array.\n",
    "print(len(array)) ## para saber su longitud"
   ]
  },
  {
   "cell_type": "code",
   "execution_count": 220,
   "metadata": {},
   "outputs": [
    {
     "name": "stdout",
     "output_type": "stream",
     "text": [
      "<class 'numpy.ndarray'>\n"
     ]
    }
   ],
   "source": [
    "#Obtén el tipo de datos del array.\n",
    "print(type(array))"
   ]
  },
  {
   "cell_type": "code",
   "execution_count": 221,
   "metadata": {},
   "outputs": [
    {
     "name": "stdout",
     "output_type": "stream",
     "text": [
      "no son iguales\n"
     ]
    }
   ],
   "source": [
    "#Verifica si todos los elementos del array son iguales.\n",
    "hola = np.array([1,1,1])\n",
    "if np.all(array == array[0]):\n",
    "  print(\"son iguales\")\n",
    "else:\n",
    "  print(\"no son iguales\")\n",
    "  "
   ]
  },
  {
   "cell_type": "markdown",
   "metadata": {},
   "source": [
    "## Part 3\n",
    "###  Operaciones básicas con arrays:\n",
    "- Crea dos arrays unidimensionales del mismo tamaño con valores enteros.\n",
    "- Suma los dos arrays elemento a elemento.\n",
    "- Resta el segundo array del primer array elemento a elemento.\n",
    "- Multiplica cada elemento del primer array por el elemento correspondiente del segundo array.\n",
    "- Divide cada elemento del primer array por el elemento correspondiente del segundo array (considerando la división flotante)."
   ]
  },
  {
   "cell_type": "code",
   "execution_count": 222,
   "metadata": {},
   "outputs": [
    {
     "name": "stdout",
     "output_type": "stream",
     "text": [
      "[6 8 2 9]\n",
      "[9 6 3 7]\n"
     ]
    }
   ],
   "source": [
    "# Crea dos arrays unidimensionales del mismo tamaño con valores enteros.\n",
    "\n",
    "array1 = np.random.randint(10,size=4)\n",
    "array2 = np.random.randint(10,size=4)\n",
    "print(array1)\n",
    "print(array2)"
   ]
  },
  {
   "cell_type": "code",
   "execution_count": 223,
   "metadata": {},
   "outputs": [
    {
     "name": "stdout",
     "output_type": "stream",
     "text": [
      "[15 14  5 16]\n",
      "[15, 14, 5, 16]\n"
     ]
    }
   ],
   "source": [
    "#Suma los dos arrays elemento a elemento.\n",
    "print(array1 + array2)\n",
    "print([array1[0] + array2[0], array1[1] + array2[1], array1[2]+ array2[2],array1[3] + array2[3]])"
   ]
  },
  {
   "cell_type": "code",
   "execution_count": 224,
   "metadata": {},
   "outputs": [
    {
     "name": "stdout",
     "output_type": "stream",
     "text": [
      "[-3  2 -1  2]\n",
      "[-3, 2, -1, 2]\n"
     ]
    }
   ],
   "source": [
    "#Resta el segundo array del primer array elemento a elemento.\n",
    "print(array1 - array2)\n",
    "print([array1[0] - array2[0], array1[1] - array2[1], array1[2]- array2[2],array1[3] - array2[3]])"
   ]
  },
  {
   "cell_type": "code",
   "execution_count": 225,
   "metadata": {},
   "outputs": [
    {
     "name": "stdout",
     "output_type": "stream",
     "text": [
      "[54 48  6 63]\n",
      "[54, 48, 6, 63]\n"
     ]
    }
   ],
   "source": [
    "#Multiplica cada elemento del primer array por el elemento correspondiente del segundo array.\n",
    "print(array1 * array2)\n",
    "print([array1[0] * array2[0], array1[1] * array2[1], array1[2]* array2[2],array1[3] * array2[3]])"
   ]
  },
  {
   "cell_type": "code",
   "execution_count": 226,
   "metadata": {},
   "outputs": [
    {
     "name": "stdout",
     "output_type": "stream",
     "text": [
      "[0.66666667 1.33333333 0.66666667 1.28571429]\n",
      "[0.6666666666666666, 1.3333333333333333, 0.6666666666666666, 1.2857142857142858]\n"
     ]
    }
   ],
   "source": [
    "#Divide cada elemento del primer array por el elemento correspondiente del segundo array (considerando la división flotante).\n",
    "print(array1 / array2)\n",
    "print([array1[0] / array2[0], array1[1] / array2[1], array1[2]/ array2[2],array1[3] / array2[3]])"
   ]
  },
  {
   "cell_type": "markdown",
   "metadata": {},
   "source": [
    "## Parte 4\n",
    "### Seleccionando elementos de arrays:\n",
    "-  Crea un array de 10 números aleatorios entre 0 y 100.\n",
    "-  Muestra el primer y último elemento del array.\n",
    "-  Muestra los elementos del array que son mayores a 50.\n",
    "-  Muestra los elementos del array en las posiciones pares.\n"
   ]
  },
  {
   "cell_type": "code",
   "execution_count": 227,
   "metadata": {},
   "outputs": [
    {
     "name": "stdout",
     "output_type": "stream",
     "text": [
      "El array completo es: [82 17 19 32  4 15 36 44 69 95]\n"
     ]
    }
   ],
   "source": [
    "#Crea un array de 10 números aleatorios entre 0 y 100.\n",
    "array_difficult = np.random.randint(0,101,size= 10)\n",
    "print(f\"El array completo es: {array_difficult}\")\n"
   ]
  },
  {
   "cell_type": "code",
   "execution_count": 228,
   "metadata": {},
   "outputs": [
    {
     "name": "stdout",
     "output_type": "stream",
     "text": [
      "The first value is: 82\n",
      "The first value is: 95\n"
     ]
    }
   ],
   "source": [
    "#Muestra el primer y último elemento del array.\n",
    "print(f\"The first value is: {array_difficult[0]}\")\n",
    "print(f\"The first value is: {array_difficult[9]}\")\n"
   ]
  },
  {
   "cell_type": "code",
   "execution_count": 229,
   "metadata": {},
   "outputs": [
    {
     "name": "stdout",
     "output_type": "stream",
     "text": [
      "[82, 69, 95]\n"
     ]
    }
   ],
   "source": [
    "#Muestra los elementos del array que son mayores a 50.\n",
    "new_array_difficult = []\n",
    "for i in array_difficult:\n",
    "  if i >50:\n",
    "    new_array_difficult.append(i)\n",
    "    \n",
    "print(new_array_difficult)\n",
    "  "
   ]
  },
  {
   "cell_type": "code",
   "execution_count": 230,
   "metadata": {},
   "outputs": [
    {
     "name": "stdout",
     "output_type": "stream",
     "text": [
      "19\n",
      "4\n",
      "36\n",
      "69\n",
      "19\n",
      "4\n",
      "36\n",
      "69\n"
     ]
    }
   ],
   "source": [
    "# Muestra los elementos del array en las posiciones pares.\n",
    "for i in range(len(array_difficult)):\n",
    "  if i %2 ==0 and i != 0:\n",
    "    print(array_difficult[i])\n",
    "\n",
    "\n",
    "hola =[2,4,6,8]\n",
    "\n",
    "for i in hola:\n",
    "  print(array_difficult[i])"
   ]
  },
  {
   "cell_type": "markdown",
   "metadata": {},
   "source": [
    "## Parte 5\n",
    "### Creando arrays a partir de otras estructuras:\n",
    "\n",
    "Crea una lista de 5 nombres de ciudades.\n",
    "\n",
    "Convierte la lista en un array NumPy.\n",
    "\n",
    "Crea un array de 10 números decimales.\n",
    "\n",
    "Redondea los números del array a dos decimales y crea un nuevo array con los valores redondeados."
   ]
  },
  {
   "cell_type": "code",
   "execution_count": 231,
   "metadata": {},
   "outputs": [],
   "source": [
    "# Crea una lista de 5 nombres de ciudades.\n",
    "cities_name = [\"Madrid\",\"Barcelona\", \"Montevideo\",\"Nueva York\", \"Bogota\"]"
   ]
  },
  {
   "cell_type": "code",
   "execution_count": 232,
   "metadata": {},
   "outputs": [
    {
     "name": "stdout",
     "output_type": "stream",
     "text": [
      "El array: ['Madrid' 'Barcelona' 'Montevideo' 'Nueva York' 'Bogota'] es de tipo: <class 'numpy.ndarray'>\n"
     ]
    }
   ],
   "source": [
    "#Convierte la lista en un array NumPy.\n",
    "cities = np.array(cities_name)\n",
    "print(f\"El array: {cities} es de tipo: {type(cities)}\")"
   ]
  },
  {
   "cell_type": "code",
   "execution_count": 233,
   "metadata": {},
   "outputs": [
    {
     "name": "stdout",
     "output_type": "stream",
     "text": [
      "[19.68297979 13.0624186  55.68946307 56.83067296 68.87696089 45.42576851\n",
      "  2.88880672 63.61481956 88.41145225 15.6074465 ]\n"
     ]
    }
   ],
   "source": [
    "#Crea un array de 10 números decimales.\n",
    "decimal_array = np.random.rand(10) * 100\n",
    "print(decimal_array)\n"
   ]
  },
  {
   "cell_type": "code",
   "execution_count": 234,
   "metadata": {},
   "outputs": [
    {
     "name": "stdout",
     "output_type": "stream",
     "text": [
      "[19.68 13.06 55.69 56.83 68.88 45.43  2.89 63.61 88.41 15.61]\n"
     ]
    }
   ],
   "source": [
    "# Redondea los números del array a dos decimales y crea un nuevo array con los valores redondeados.\n",
    "round_array = np.round(decimal_array,decimals=2)\n",
    "\n",
    "print(round_array)"
   ]
  },
  {
   "cell_type": "markdown",
   "metadata": {},
   "source": [
    "# Ejercicio 2"
   ]
  },
  {
   "cell_type": "markdown",
   "metadata": {},
   "source": [
    "## Parte 1\n",
    "\n",
    "### Estadisticas con Numpy\n"
   ]
  },
  {
   "cell_type": "code",
   "execution_count": 235,
   "metadata": {},
   "outputs": [],
   "source": [
    "## Crea un array con datos de ventas de un negocio durante un mes.\n",
    "ventas = np.array([2,42,424,4,3])"
   ]
  },
  {
   "cell_type": "code",
   "execution_count": 236,
   "metadata": {},
   "outputs": [
    {
     "name": "stdout",
     "output_type": "stream",
     "text": [
      "The mean will be: 95.0\n",
      "The median will be: 4.0\n",
      "The standard desviation will be: 13644.4\n"
     ]
    }
   ],
   "source": [
    "#calcula la media, la mediana y la desviación estándar de las ventas.\n",
    "\n",
    "mean = np.mean(ventas)\n",
    "print(f\"The mean will be: {mean}\")\n",
    "\n",
    "median = np.median(ventas)\n",
    "print(f\"The median will be: {median}\")\n",
    "\n",
    "var = np.var(ventas)\n",
    "\n",
    "print(f\"The standard desviation will be: {var*0.5}\")\n"
   ]
  },
  {
   "cell_type": "code",
   "execution_count": null,
   "metadata": {},
   "outputs": [],
   "source": []
  }
 ],
 "metadata": {
  "kernelspec": {
   "display_name": "Python 3",
   "language": "python",
   "name": "python3"
  },
  "language_info": {
   "codemirror_mode": {
    "name": "ipython",
    "version": 3
   },
   "file_extension": ".py",
   "mimetype": "text/x-python",
   "name": "python",
   "nbconvert_exporter": "python",
   "pygments_lexer": "ipython3",
   "version": "3.11.7"
  }
 },
 "nbformat": 4,
 "nbformat_minor": 2
}
