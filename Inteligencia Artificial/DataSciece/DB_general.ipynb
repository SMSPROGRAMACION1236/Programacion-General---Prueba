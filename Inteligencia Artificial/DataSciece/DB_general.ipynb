{
 "cells": [
  {
   "cell_type": "markdown",
   "metadata": {},
   "source": [
    "Son ejercicios para practicar las librerias de DataScience. Usando un dataframe muy divertido para mi como es el de DragonBall"
   ]
  },
  {
   "cell_type": "markdown",
   "metadata": {},
   "source": [
    "#### https://gemini.google.com/u/0/app/35738470bdaf8a74?hl=es"
   ]
  },
  {
   "cell_type": "code",
   "execution_count": 33,
   "metadata": {},
   "outputs": [],
   "source": [
    "import pandas as pd\n",
    "import numpy as np\n",
    "import matplotlib.pyplot as plt\n",
    "from colorama import Back, Style, Fore\n",
    "\n",
    "\n",
    "db = pd.read_csv('C:\\\\Users\\\\santi\\\\Programación\\\\Programacion-General---Prueba\\\\Inteligencia Artificial\\\\DataSciece\\\\Pandas\\\\withoutgroup\\\\Dragon_Ball_Data_Set.csv')"
   ]
  },
  {
   "cell_type": "markdown",
   "metadata": {},
   "source": [
    "# Ejercicios Basicos\n"
   ]
  },
  {
   "cell_type": "markdown",
   "metadata": {},
   "source": [
    "## Pandas y Numpy"
   ]
  },
  {
   "cell_type": "markdown",
   "metadata": {},
   "source": [
    "### Visualizacion Basica"
   ]
  },
  {
   "cell_type": "code",
   "execution_count": 34,
   "metadata": {},
   "outputs": [
    {
     "name": "stdout",
     "output_type": "stream",
     "text": [
      "<class 'pandas.core.frame.DataFrame'>\n",
      "RangeIndex: 1244 entries, 0 to 1243\n",
      "Data columns (total 4 columns):\n",
      " #   Column              Non-Null Count  Dtype \n",
      "---  ------              --------------  ----- \n",
      " 0   Character           1244 non-null   object\n",
      " 1   Power_Level         1244 non-null   object\n",
      " 2   Saga_or_Movie       1244 non-null   object\n",
      " 3   Dragon_Ball_Series  1244 non-null   object\n",
      "dtypes: object(4)\n",
      "memory usage: 39.0+ KB\n"
     ]
    }
   ],
   "source": [
    "\n",
    "#* Mostrar las primeras 5 filas del DataFrame: \n",
    "\n",
    "db.head(5)\n",
    "\n",
    "#* Mostrar las últimas 5 filas del DataFrame: \n",
    "db.tail(5)\n",
    "\n",
    "#* Obtener información general sobre el DataFrame: \n",
    "db.info()\n",
    "\n",
    "\n",
    "\n"
   ]
  },
  {
   "cell_type": "markdown",
   "metadata": {},
   "source": [
    "### Acceso a Columnas"
   ]
  },
  {
   "cell_type": "code",
   "execution_count": 35,
   "metadata": {},
   "outputs": [
    {
     "name": "stdout",
     "output_type": "stream",
     "text": [
      "0                                   Goku\n",
      "1                                  Bulma\n",
      "2                             Bear Thief\n",
      "3                           Master Roshi\n",
      "4                                 Oolong\n",
      "                      ...               \n",
      "1239       Goku (MSSJ with SSJG's power)\n",
      "1240                         Goku (SSJG)\n",
      "1241                                Goku\n",
      "1242    Beerus (full power, never shown)\n",
      "1243      Whis (full power, never shown)\n",
      "Name: Character, Length: 1244, dtype: object\n",
      "El promedio de la totalidad de los personajes es: 649878397076006.1\n"
     ]
    }
   ],
   "source": [
    "\n",
    "#* Mostrar todos los nombres de los personajes:\n",
    "print(db[\"Character\"])\n",
    "\n",
    "\n",
    "#* Calcular el nivel de poder promedio de todos los personajes: \n",
    "power_level = [float( (str(i.replace(\",\",\"\")))) for i in np.array(db[\"Power_Level\"])]\n",
    "\n",
    "#! (supressed, figting Trunks) Este seria el valor verdadero de la linea 1127, lo cambie a 0 para poder realizar este ejercicio.\n",
    "semi_promedio = 0\n",
    "cantidad_personajes = len(power_level)\n",
    "\n",
    "for i in power_level:\n",
    "  semi_promedio +=i\n",
    "final_promedio = semi_promedio / cantidad_personajes\n",
    "print(f\"El promedio de la totalidad de los personajes es: {final_promedio}\")\n"
   ]
  },
  {
   "cell_type": "markdown",
   "metadata": {},
   "source": [
    "### Filtrado"
   ]
  },
  {
   "cell_type": "code",
   "execution_count": 36,
   "metadata": {},
   "outputs": [
    {
     "name": "stdout",
     "output_type": "stream",
     "text": [
      "                    Character Power_Level Saga_or_Movie Dragon_Ball_Series\n",
      "115  Farmer (without shotgun)           2   Saiyan Saga      Dragon Ball Z\n",
      "116     Farmer (with shotgun)           5   Saiyan Saga      Dragon Ball Z\n",
      "117                    Raditz       1,200   Saiyan Saga      Dragon Ball Z\n",
      "118                     Gohan           1   Saiyan Saga      Dragon Ball Z\n",
      "119        Piccolo (weighted)         326   Saiyan Saga      Dragon Ball Z\n",
      "..                        ...         ...           ...                ...\n",
      "178         Vegeta (weakened)       1,900   Saiyan Saga      Dragon Ball Z\n",
      "179        Krillin (weakened)         600   Saiyan Saga      Dragon Ball Z\n",
      "180          Gohan (weakened)         420   Saiyan Saga      Dragon Ball Z\n",
      "181         Gohan (Great Ape)      10,000   Saiyan Saga      Dragon Ball Z\n",
      "182    Vegeta (badly injured)          22   Saiyan Saga      Dragon Ball Z\n",
      "\n",
      "[68 rows x 4 columns]\n",
      "Division\n"
     ]
    },
    {
     "ename": "TypeError",
     "evalue": "'>' not supported between instances of 'str' and 'int'",
     "output_type": "error",
     "traceback": [
      "\u001b[1;31m---------------------------------------------------------------------------\u001b[0m",
      "\u001b[1;31mTypeError\u001b[0m                                 Traceback (most recent call last)",
      "Cell \u001b[1;32mIn[36], line 10\u001b[0m\n\u001b[0;32m      8\u001b[0m pd\u001b[38;5;241m.\u001b[39moptions\u001b[38;5;241m.\u001b[39mdisplay\u001b[38;5;241m.\u001b[39mfloat_format \u001b[38;5;241m=\u001b[39m \u001b[38;5;124m'\u001b[39m\u001b[38;5;132;01m{:.2f}\u001b[39;00m\u001b[38;5;124m'\u001b[39m\u001b[38;5;241m.\u001b[39mformat\n\u001b[0;32m      9\u001b[0m \u001b[38;5;66;03m# db['Power_Level'] = db['Power_Level'].str.replace(',', '').astype(float)\u001b[39;00m\n\u001b[1;32m---> 10\u001b[0m \u001b[38;5;28mprint\u001b[39m(db\u001b[38;5;241m.\u001b[39mloc[\u001b[43mdb\u001b[49m\u001b[43m[\u001b[49m\u001b[38;5;124;43m\"\u001b[39;49m\u001b[38;5;124;43mPower_Level\u001b[39;49m\u001b[38;5;124;43m\"\u001b[39;49m\u001b[43m]\u001b[49m\u001b[43m \u001b[49m\u001b[38;5;241;43m>\u001b[39;49m\u001b[43m \u001b[49m\u001b[38;5;241;43m10000\u001b[39;49m])\n",
      "File \u001b[1;32mc:\\Users\\santi\\AppData\\Local\\Programs\\Python\\Python311\\Lib\\site-packages\\pandas\\core\\ops\\common.py:76\u001b[0m, in \u001b[0;36m_unpack_zerodim_and_defer.<locals>.new_method\u001b[1;34m(self, other)\u001b[0m\n\u001b[0;32m     72\u001b[0m             \u001b[38;5;28;01mreturn\u001b[39;00m \u001b[38;5;28mNotImplemented\u001b[39m\n\u001b[0;32m     74\u001b[0m other \u001b[38;5;241m=\u001b[39m item_from_zerodim(other)\n\u001b[1;32m---> 76\u001b[0m \u001b[38;5;28;01mreturn\u001b[39;00m \u001b[43mmethod\u001b[49m\u001b[43m(\u001b[49m\u001b[38;5;28;43mself\u001b[39;49m\u001b[43m,\u001b[49m\u001b[43m \u001b[49m\u001b[43mother\u001b[49m\u001b[43m)\u001b[49m\n",
      "File \u001b[1;32mc:\\Users\\santi\\AppData\\Local\\Programs\\Python\\Python311\\Lib\\site-packages\\pandas\\core\\arraylike.py:56\u001b[0m, in \u001b[0;36mOpsMixin.__gt__\u001b[1;34m(self, other)\u001b[0m\n\u001b[0;32m     54\u001b[0m \u001b[38;5;129m@unpack_zerodim_and_defer\u001b[39m(\u001b[38;5;124m\"\u001b[39m\u001b[38;5;124m__gt__\u001b[39m\u001b[38;5;124m\"\u001b[39m)\n\u001b[0;32m     55\u001b[0m \u001b[38;5;28;01mdef\u001b[39;00m \u001b[38;5;21m__gt__\u001b[39m(\u001b[38;5;28mself\u001b[39m, other):\n\u001b[1;32m---> 56\u001b[0m     \u001b[38;5;28;01mreturn\u001b[39;00m \u001b[38;5;28;43mself\u001b[39;49m\u001b[38;5;241;43m.\u001b[39;49m\u001b[43m_cmp_method\u001b[49m\u001b[43m(\u001b[49m\u001b[43mother\u001b[49m\u001b[43m,\u001b[49m\u001b[43m \u001b[49m\u001b[43moperator\u001b[49m\u001b[38;5;241;43m.\u001b[39;49m\u001b[43mgt\u001b[49m\u001b[43m)\u001b[49m\n",
      "File \u001b[1;32mc:\\Users\\santi\\AppData\\Local\\Programs\\Python\\Python311\\Lib\\site-packages\\pandas\\core\\series.py:6099\u001b[0m, in \u001b[0;36mSeries._cmp_method\u001b[1;34m(self, other, op)\u001b[0m\n\u001b[0;32m   6096\u001b[0m lvalues \u001b[38;5;241m=\u001b[39m \u001b[38;5;28mself\u001b[39m\u001b[38;5;241m.\u001b[39m_values\n\u001b[0;32m   6097\u001b[0m rvalues \u001b[38;5;241m=\u001b[39m extract_array(other, extract_numpy\u001b[38;5;241m=\u001b[39m\u001b[38;5;28;01mTrue\u001b[39;00m, extract_range\u001b[38;5;241m=\u001b[39m\u001b[38;5;28;01mTrue\u001b[39;00m)\n\u001b[1;32m-> 6099\u001b[0m res_values \u001b[38;5;241m=\u001b[39m \u001b[43mops\u001b[49m\u001b[38;5;241;43m.\u001b[39;49m\u001b[43mcomparison_op\u001b[49m\u001b[43m(\u001b[49m\u001b[43mlvalues\u001b[49m\u001b[43m,\u001b[49m\u001b[43m \u001b[49m\u001b[43mrvalues\u001b[49m\u001b[43m,\u001b[49m\u001b[43m \u001b[49m\u001b[43mop\u001b[49m\u001b[43m)\u001b[49m\n\u001b[0;32m   6101\u001b[0m \u001b[38;5;28;01mreturn\u001b[39;00m \u001b[38;5;28mself\u001b[39m\u001b[38;5;241m.\u001b[39m_construct_result(res_values, name\u001b[38;5;241m=\u001b[39mres_name)\n",
      "File \u001b[1;32mc:\\Users\\santi\\AppData\\Local\\Programs\\Python\\Python311\\Lib\\site-packages\\pandas\\core\\ops\\array_ops.py:344\u001b[0m, in \u001b[0;36mcomparison_op\u001b[1;34m(left, right, op)\u001b[0m\n\u001b[0;32m    341\u001b[0m     \u001b[38;5;28;01mreturn\u001b[39;00m invalid_comparison(lvalues, rvalues, op)\n\u001b[0;32m    343\u001b[0m \u001b[38;5;28;01melif\u001b[39;00m lvalues\u001b[38;5;241m.\u001b[39mdtype \u001b[38;5;241m==\u001b[39m \u001b[38;5;28mobject\u001b[39m \u001b[38;5;129;01mor\u001b[39;00m \u001b[38;5;28misinstance\u001b[39m(rvalues, \u001b[38;5;28mstr\u001b[39m):\n\u001b[1;32m--> 344\u001b[0m     res_values \u001b[38;5;241m=\u001b[39m \u001b[43mcomp_method_OBJECT_ARRAY\u001b[49m\u001b[43m(\u001b[49m\u001b[43mop\u001b[49m\u001b[43m,\u001b[49m\u001b[43m \u001b[49m\u001b[43mlvalues\u001b[49m\u001b[43m,\u001b[49m\u001b[43m \u001b[49m\u001b[43mrvalues\u001b[49m\u001b[43m)\u001b[49m\n\u001b[0;32m    346\u001b[0m \u001b[38;5;28;01melse\u001b[39;00m:\n\u001b[0;32m    347\u001b[0m     res_values \u001b[38;5;241m=\u001b[39m _na_arithmetic_op(lvalues, rvalues, op, is_cmp\u001b[38;5;241m=\u001b[39m\u001b[38;5;28;01mTrue\u001b[39;00m)\n",
      "File \u001b[1;32mc:\\Users\\santi\\AppData\\Local\\Programs\\Python\\Python311\\Lib\\site-packages\\pandas\\core\\ops\\array_ops.py:129\u001b[0m, in \u001b[0;36mcomp_method_OBJECT_ARRAY\u001b[1;34m(op, x, y)\u001b[0m\n\u001b[0;32m    127\u001b[0m     result \u001b[38;5;241m=\u001b[39m libops\u001b[38;5;241m.\u001b[39mvec_compare(x\u001b[38;5;241m.\u001b[39mravel(), y\u001b[38;5;241m.\u001b[39mravel(), op)\n\u001b[0;32m    128\u001b[0m \u001b[38;5;28;01melse\u001b[39;00m:\n\u001b[1;32m--> 129\u001b[0m     result \u001b[38;5;241m=\u001b[39m \u001b[43mlibops\u001b[49m\u001b[38;5;241;43m.\u001b[39;49m\u001b[43mscalar_compare\u001b[49m\u001b[43m(\u001b[49m\u001b[43mx\u001b[49m\u001b[38;5;241;43m.\u001b[39;49m\u001b[43mravel\u001b[49m\u001b[43m(\u001b[49m\u001b[43m)\u001b[49m\u001b[43m,\u001b[49m\u001b[43m \u001b[49m\u001b[43my\u001b[49m\u001b[43m,\u001b[49m\u001b[43m \u001b[49m\u001b[43mop\u001b[49m\u001b[43m)\u001b[49m\n\u001b[0;32m    130\u001b[0m \u001b[38;5;28;01mreturn\u001b[39;00m result\u001b[38;5;241m.\u001b[39mreshape(x\u001b[38;5;241m.\u001b[39mshape)\n",
      "File \u001b[1;32mops.pyx:107\u001b[0m, in \u001b[0;36mpandas._libs.ops.scalar_compare\u001b[1;34m()\u001b[0m\n",
      "\u001b[1;31mTypeError\u001b[0m: '>' not supported between instances of 'str' and 'int'"
     ]
    }
   ],
   "source": [
    "\n",
    "#*Encontrar a todos los personajes de la saga Saiyan:\n",
    "\n",
    "\n",
    "print(db.loc[db['Saga_or_Movie'] == \"Saiyan Saga\"])\n",
    "print(\"Division\")\n",
    "\n",
    "#*Mostrar los personajes que tienen un nivel de poder mayor a 10,000:\n",
    "pd.options.display.float_format = '{:.2f}'.format\n",
    "# db['Power_Level'] = db['Power_Level'].str.replace(',', '').astype(float)\n",
    "print(db.loc[db[\"Power_Level\"] > 10000])\n",
    "\n",
    "\n"
   ]
  },
  {
   "cell_type": "markdown",
   "metadata": {},
   "source": [
    "### Agrupacion"
   ]
  },
  {
   "cell_type": "code",
   "execution_count": 49,
   "metadata": {},
   "outputs": [
    {
     "name": "stdout",
     "output_type": "stream",
     "text": [
      "Saga_or_Movie\n",
      "Android Saga                                                605536931.03\n",
      "Babidi Saga/Majin Buu Saga                               163808888890.00\n",
      "Baby Saga                                              78822975995238.19\n",
      "Black-Star Dragon Ball Saga                              127765649141.26\n",
      "Captain Ginyu Saga                                              85085.71\n",
      "Cell Games Saga                                           22288195111.27\n",
      "Dragon Ball GT: A Hero's Legacy                            7693853101.31\n",
      "Dragon Ball Z: Bardock-Father of Goku                           71603.85\n",
      "Dragon Ball Z: History of Trunks                           1405720342.06\n",
      "Dragon Ball: Episode of Bardock                               1910571.43\n",
      "Dragon Ball: Yo! Son Goku and His Friends Return          38236178935.50\n",
      "Emperor Pilaf Saga                                                 35.50\n",
      "Fortune Teller Baba Saga                                           68.75\n",
      "Frieza Saga                                                  20638704.68\n",
      "Fusion Saga                                             1100342875609.76\n",
      "Ginyu Force Saga                                                32000.00\n",
      "Goku And Gohan in The Hyperbolic Time Chamber              5824750000.00\n",
      "Great Saiyaman Saga/World Tournament Saga                 12425608591.62\n",
      "Imperfect Cell Saga                                         924293750.00\n",
      "Kid Buu Saga                                             818407112000.14\n",
      "King Piccolo Saga                                                 221.28\n",
      "Movie 10: Broly- The Second Coming                        45541925000.31\n",
      "Movie 11: Bio-Broly                                        1369138462.08\n",
      "Movie 12: Fusion Reborn                                 2013147350190.75\n",
      "Movie 13: Wrath of the Dragon                            609296591320.24\n",
      "Movie 14: Battle of Gods                              165443653783420.16\n",
      "Movie 1: Dead Zone                                                340.33\n",
      "Movie 2: World's Strongest                                      38372.29\n",
      "Movie 3: The Tree of Might                                   35676322.63\n",
      "Movie 4: Lord Slug                                          336487381.57\n",
      "Movie 5: Cooler's Revenge                                   146035006.62\n",
      "Movie 6: The Return of Cooler                              3895337209.27\n",
      "Movie 7: Super Android 13                                   649030563.28\n",
      "Movie 8: Broly - The Legendary Super Saiyan                9416739000.03\n",
      "Movie 9: Bojack Unbound                                    5807736793.63\n",
      "Namek Saga                                                      24139.28\n",
      "OVA: Plan to Eradicate the Super Saiyans                   9360884186.46\n",
      "Perfect Cell Saga                                         10326047222.22\n",
      "Piccolo Jr. Saga                                                  240.86\n",
      "Red Ribbon Army Saga                                               63.19\n",
      "Saiyan Saga                                                     13741.76\n",
      "Shadow Dragon Saga                                  16489061979715802.00\n",
      "Super 17 saga                                         368598793130243.19\n",
      "Tien Shinhan Saga                                                 193.71\n",
      "Tournament Saga                                                    82.68\n",
      "Trunks Saga                                                 570942800.33\n",
      "Name: Power_Level, dtype: float64\n"
     ]
    }
   ],
   "source": [
    "#\n",
    "#* Agrupar los personajes por serie y calcular el nivel de poder promedio de cada serie:\n",
    "\n",
    "db_series = db.groupby(\"Saga_or_Movie\")\n",
    "\n",
    "\n",
    "power_level_mean_by_series =  db_series[\"Power_Level\"].mean()\n",
    "print(power_level_mean_by_series)"
   ]
  },
  {
   "cell_type": "code",
   "execution_count": 37,
   "metadata": {},
   "outputs": [],
   "source": [
    "#\n",
    "#! Problema con PowerLevel\n",
    "db['Power_Level'] = db['Power_Level'].astype(str)\n",
    "db['Power_Level'] = db['Power_Level'].str.replace(',', '').astype(float)\n"
   ]
  },
  {
   "cell_type": "markdown",
   "metadata": {},
   "source": [
    "### Manipulacin de Datos y Analisis"
   ]
  },
  {
   "cell_type": "code",
   "execution_count": 61,
   "metadata": {},
   "outputs": [
    {
     "name": "stdout",
     "output_type": "stream",
     "text": [
      "                             Character         Power_Level  \\\n",
      "0                                 Goku               10.00   \n",
      "1                                Bulma                1.50   \n",
      "2                           Bear Thief                7.00   \n",
      "3                         Master Roshi               30.00   \n",
      "4                               Oolong                5.00   \n",
      "...                                ...                 ...   \n",
      "1239     Goku (MSSJ with SSJG's power)   22400000000000.00   \n",
      "1240                       Goku (SSJG)  224000000000000.00   \n",
      "1241                              Goku      44800000000.00   \n",
      "1242  Beerus (full power, never shown)  896000000000000.00   \n",
      "1243    Whis (full power, never shown) 4480000000000000.00   \n",
      "\n",
      "                 Saga_or_Movie Dragon_Ball_Series Categoria de Poder  \n",
      "0           Emperor Pilaf Saga        Dragon Ball               Bajo  \n",
      "1           Emperor Pilaf Saga        Dragon Ball               Bajo  \n",
      "2           Emperor Pilaf Saga        Dragon Ball               Bajo  \n",
      "3           Emperor Pilaf Saga        Dragon Ball               Bajo  \n",
      "4           Emperor Pilaf Saga        Dragon Ball               Bajo  \n",
      "...                        ...                ...                ...  \n",
      "1239  Movie 14: Battle of Gods      Dragon Ball Z               Alto  \n",
      "1240  Movie 14: Battle of Gods      Dragon Ball Z               Alto  \n",
      "1241  Movie 14: Battle of Gods      Dragon Ball Z               Alto  \n",
      "1242  Movie 14: Battle of Gods      Dragon Ball Z               Alto  \n",
      "1243  Movie 14: Battle of Gods      Dragon Ball Z               Alto  \n",
      "\n",
      "[1244 rows x 5 columns]\n",
      "\u001b[31mFiltro de Personajes\u001b[0m\n",
      "649878397076006.1\n",
      "                             Character         Power_Level  \\\n",
      "1242  Beerus (full power, never shown)  896000000000000.00   \n",
      "1243    Whis (full power, never shown) 4480000000000000.00   \n",
      "\n",
      "                 Saga_or_Movie Dragon_Ball_Series Categoria de Poder  \n",
      "1242  Movie 14: Battle of Gods      Dragon Ball Z               Alto  \n",
      "1243  Movie 14: Battle of Gods      Dragon Ball Z               Alto  \n",
      "\u001b[34mAgrupacion\u001b[0m\n",
      "(Saga_or_Movie\n",
      "Android Saga                                                605536931.03\n",
      "Babidi Saga/Majin Buu Saga                               163808888890.00\n",
      "Baby Saga                                              78822975995238.19\n",
      "Black-Star Dragon Ball Saga                              127765649141.26\n",
      "Captain Ginyu Saga                                              85085.71\n",
      "Cell Games Saga                                           22288195111.27\n",
      "Dragon Ball GT: A Hero's Legacy                            7693853101.31\n",
      "Dragon Ball Z: Bardock-Father of Goku                           71603.85\n",
      "Dragon Ball Z: History of Trunks                           1405720342.06\n",
      "Dragon Ball: Episode of Bardock                               1910571.43\n",
      "Dragon Ball: Yo! Son Goku and His Friends Return          38236178935.50\n",
      "Emperor Pilaf Saga                                                 35.50\n",
      "Fortune Teller Baba Saga                                           68.75\n",
      "Frieza Saga                                                  20638704.68\n",
      "Fusion Saga                                             1100342875609.76\n",
      "Ginyu Force Saga                                                32000.00\n",
      "Goku And Gohan in The Hyperbolic Time Chamber              5824750000.00\n",
      "Great Saiyaman Saga/World Tournament Saga                 12425608591.62\n",
      "Imperfect Cell Saga                                         924293750.00\n",
      "Kid Buu Saga                                             818407112000.14\n",
      "King Piccolo Saga                                                 221.28\n",
      "Movie 10: Broly- The Second Coming                        45541925000.31\n",
      "Movie 11: Bio-Broly                                        1369138462.08\n",
      "Movie 12: Fusion Reborn                                 2013147350190.75\n",
      "Movie 13: Wrath of the Dragon                            609296591320.24\n",
      "Movie 14: Battle of Gods                              165443653783420.16\n",
      "Movie 1: Dead Zone                                                340.33\n",
      "Movie 2: World's Strongest                                      38372.29\n",
      "Movie 3: The Tree of Might                                   35676322.63\n",
      "Movie 4: Lord Slug                                          336487381.57\n",
      "Movie 5: Cooler's Revenge                                   146035006.62\n",
      "Movie 6: The Return of Cooler                              3895337209.27\n",
      "Movie 7: Super Android 13                                   649030563.28\n",
      "Movie 8: Broly - The Legendary Super Saiyan                9416739000.03\n",
      "Movie 9: Bojack Unbound                                    5807736793.63\n",
      "Namek Saga                                                      24139.28\n",
      "OVA: Plan to Eradicate the Super Saiyans                   9360884186.46\n",
      "Perfect Cell Saga                                         10326047222.22\n",
      "Piccolo Jr. Saga                                                  240.86\n",
      "Red Ribbon Army Saga                                               63.19\n",
      "Saiyan Saga                                                     13741.76\n",
      "Shadow Dragon Saga                                  16489061979715802.00\n",
      "Super 17 saga                                         368598793130243.19\n",
      "Tien Shinhan Saga                                                 193.71\n",
      "Tournament Saga                                                    82.68\n",
      "Trunks Saga                                                 570942800.33\n",
      "Name: Power_Level, dtype: float64, Saga_or_Movie\n",
      "Android Saga                                                5000000000.00\n",
      "Babidi Saga/Majin Buu Saga                               1120000000000.00\n",
      "Baby Saga                                             4000000000000000.00\n",
      "Black-Star Dragon Ball Saga                              1500000000000.00\n",
      "Captain Ginyu Saga                                              250000.00\n",
      "Cell Games Saga                                           200000000000.00\n",
      "Dragon Ball GT: A Hero's Legacy                           100000000000.00\n",
      "Dragon Ball Z: Bardock-Father of Goku                           750000.00\n",
      "Dragon Ball Z: History of Trunks                           10000000000.00\n",
      "Dragon Ball: Episode of Bardock                               13000000.00\n",
      "Dragon Ball: Yo! Son Goku and His Friends Return          396000000000.00\n",
      "Emperor Pilaf Saga                                                 180.00\n",
      "Fortune Teller Baba Saga                                           125.00\n",
      "Frieza Saga                                                  180000000.00\n",
      "Fusion Saga                                             28000000000000.00\n",
      "Ginyu Force Saga                                                 90000.00\n",
      "Goku And Gohan in The Hyperbolic Time Chamber              40500000000.00\n",
      "Great Saiyaman Saga/World Tournament Saga                 140000000000.00\n",
      "Imperfect Cell Saga                                         3000000000.00\n",
      "Kid Buu Saga                                            11200000000000.00\n",
      "King Piccolo Saga                                                 1030.00\n",
      "Movie 10: Broly- The Second Coming                        300000000000.00\n",
      "Movie 11: Bio-Broly                                         8000000000.00\n",
      "Movie 12: Fusion Reborn                                 28000000000000.00\n",
      "Movie 13: Wrath of the Dragon                            4000000000000.00\n",
      "Movie 14: Battle of Gods                              4480000000000000.00\n",
      "Movie 1: Dead Zone                                                1300.00\n",
      "Movie 2: World's Strongest                                      400000.00\n",
      "Movie 3: The Tree of Might                                   600000000.00\n",
      "Movie 4: Lord Slug                                          4248000000.00\n",
      "Movie 5: Cooler's Revenge                                    600000000.00\n",
      "Movie 6: The Return of Cooler                              20000000000.00\n",
      "Movie 7: Super Android 13                                   2650000000.00\n",
      "Movie 8: Broly - The Legendary Super Saiyan                70000000000.00\n",
      "Movie 9: Bojack Unbound                                    36000000000.00\n",
      "Namek Saga                                                      220000.00\n",
      "OVA: Plan to Eradicate the Super Saiyans                   80000000000.00\n",
      "Perfect Cell Saga                                         112500000000.00\n",
      "Piccolo Jr. Saga                                                   740.00\n",
      "Red Ribbon Army Saga                                               190.00\n",
      "Saiyan Saga                                                     400000.00\n",
      "Shadow Dragon Saga                                  700000000000000000.00\n",
      "Super 17 saga                                        18500000000000000.00\n",
      "Tien Shinhan Saga                                                  985.00\n",
      "Tournament Saga                                                    570.00\n",
      "Trunks Saga                                                 5000000000.00\n",
      "Name: Power_Level, dtype: float64, Saga_or_Movie\n",
      "Android Saga                                           3000.00\n",
      "Babidi Saga/Majin Buu Saga                               20.00\n",
      "Baby Saga                                                 6.00\n",
      "Black-Star Dragon Ball Saga                               1.50\n",
      "Captain Ginyu Saga                                      200.00\n",
      "Cell Games Saga                                           7.00\n",
      "Dragon Ball GT: A Hero's Legacy                           1.00\n",
      "Dragon Ball Z: Bardock-Father of Goku                  1200.00\n",
      "Dragon Ball Z: History of Trunks                          0.00\n",
      "Dragon Ball: Episode of Bardock                       10000.00\n",
      "Dragon Ball: Yo! Son Goku and His Friends Return          1.50\n",
      "Emperor Pilaf Saga                                        1.50\n",
      "Fortune Teller Baba Saga                                 22.00\n",
      "Frieza Saga                                               6.00\n",
      "Fusion Saga                                          100000.00\n",
      "Ginyu Force Saga                                       5000.00\n",
      "Goku And Gohan in The Hyperbolic Time Chamber       9000000.00\n",
      "Great Saiyaman Saga/World Tournament Saga                 4.00\n",
      "Imperfect Cell Saga                                 6350000.00\n",
      "Kid Buu Saga                                              7.00\n",
      "King Piccolo Saga                                        74.00\n",
      "Movie 10: Broly- The Second Coming                        5.00\n",
      "Movie 11: Bio-Broly                                       7.00\n",
      "Movie 12: Fusion Reborn                                   5.00\n",
      "Movie 13: Wrath of the Dragon                             1.50\n",
      "Movie 14: Battle of Gods                                  1.50\n",
      "Movie 1: Dead Zone                                        1.00\n",
      "Movie 2: World's Strongest                                1.50\n",
      "Movie 3: The Tree of Might                              130.00\n",
      "Movie 4: Lord Slug                                        1.50\n",
      "Movie 5: Cooler's Revenge                               139.00\n",
      "Movie 6: The Return of Cooler                           139.00\n",
      "Movie 7: Super Android 13                               139.00\n",
      "Movie 8: Broly - The Legendary Super Saiyan               2.00\n",
      "Movie 9: Bojack Unbound                                  40.00\n",
      "Namek Saga                                                3.00\n",
      "OVA: Plan to Eradicate the Super Saiyans                  1.50\n",
      "Perfect Cell Saga                                     50000.00\n",
      "Piccolo Jr. Saga                                         90.00\n",
      "Red Ribbon Army Saga                                      5.00\n",
      "Saiyan Saga                                               1.00\n",
      "Shadow Dragon Saga                                      139.00\n",
      "Super 17 saga                                             6.00\n",
      "Tien Shinhan Saga                                        71.00\n",
      "Tournament Saga                                           4.00\n",
      "Trunks Saga                                               1.50\n",
      "Name: Power_Level, dtype: float64)\n",
      "\u001b[32mSeries de Dragon Ball\u001b[0m\n",
      "                           Character           Power_Level  \\\n",
      "99                          Mr. Popo               1030.00   \n",
      "767     Goku's Universal Spirit Bomb 700000000000000000.00   \n",
      "1243  Whis (full power, never shown)   4480000000000000.00   \n",
      "420                           Frouge           70000000.00   \n",
      "\n",
      "                                  Saga_or_Movie Dragon_Ball_Series  \\\n",
      "99                            King Piccolo Saga        Dragon Ball   \n",
      "767                          Shadow Dragon Saga     Dragon Ball GT   \n",
      "1243                   Movie 14: Battle of Gods      Dragon Ball Z   \n",
      "420   Great Saiyaman Saga/World Tournament Saga     Dragon Ball Z    \n",
      "\n",
      "     Categoria de Poder  \n",
      "99                Medio  \n",
      "767                Alto  \n",
      "1243               Alto  \n",
      "420               Medio  \n",
      "\u001b[37mPersonajes\u001b[0m\n",
      "                    Character  Power_Level  Saga_or_Movie  Categoria de Poder\n",
      "Dragon_Ball_Series                                                           \n",
      "Dragon Ball               115          115            115                 115\n",
      "Dragon Ball GT            209          209            209                 209\n",
      "Dragon Ball Z             919          919            919                 919\n",
      "Dragon Ball Z               1            1              1                   1\n"
     ]
    }
   ],
   "source": [
    "\n",
    "#* Crea una nueva columna llamada \"Categoría de Poder\" donde clasifiques a los personajes en categorías como \"Bajo\", \"Medio\" y \"Alto\" según su nivel de poder.\n",
    "def clasificar(value):\n",
    "  # value = value.replace(\",\",\"\")\n",
    "  if (value) > 0 and (value) < 1000:\n",
    "    return \"Bajo\"\n",
    "  elif (value) > 1000 and (value) < 1000000000:\n",
    "    return \"Medio\"\n",
    "  else:\n",
    "    return \"Alto\"\n",
    "db['Categoria de Poder'] = db[\"Power_Level\"].apply(clasificar)\n",
    "print(db)\n",
    "\n",
    "\n",
    "\n",
    "#* Filtra a los personajes que pertenecen a la saga Saiyan y tienen un nivel de poder superior al promedio de todos los personajes.\n",
    "saiyan_strongest = db[(db[\"Saga_or_Movie\"]== \"Movie 14: Battle of Gods\")  & (db[\"Power_Level\"] > final_promedio)]\n",
    "print(Fore.RED + \"Filtro de Personajes\" + Style.RESET_ALL)\n",
    "print(final_promedio)\n",
    "print(saiyan_strongest)\n",
    "\n",
    "#* Agrupa a los personajes por serie y calcula el nivel de poder máximo, mínimo y promedio de cada grupo.\n",
    "print(Fore.BLUE + \"Agrupacion\" +Style.RESET_ALL)\n",
    "db_sagas = db.groupby(\"Saga_or_Movie\")\n",
    "db_describe = db_sagas[\"Power_Level\"].mean(), db_sagas[\"Power_Level\"].max(), db_sagas[\"Power_Level\"].min()\n",
    "print(db_describe)\n",
    "#* ¿Cuál es el personaje con el nivel de poder más alto en cada saga o película?\n",
    "print(Fore.GREEN + \"Series de Dragon Ball\" + Style.RESET_ALL)\n",
    "db_series = db.groupby(\"Dragon_Ball_Series\")[\"Power_Level\"].idxmax()\n",
    "print(db.loc[db_series])\n",
    "\n",
    "#* ¿Cuántos personajes hay en total en cada serie de Dragon Ball?\n",
    "print(Fore.WHITE + \"Personajes\" + Style.RESET_ALL)\n",
    "db_personajes = db.groupby(\"Dragon_Ball_Series\")\n",
    "cant_db_personajes = db_personajes.count()\n",
    "print(cant_db_personajes)\n"
   ]
  },
  {
   "cell_type": "markdown",
   "metadata": {},
   "source": [
    "### Analisis Profundo y Creacion de Nuevas Caracteristicas"
   ]
  },
  {
   "cell_type": "code",
   "execution_count": null,
   "metadata": {},
   "outputs": [],
   "source": [
    "\n",
    "#*¿Existe una correlación entre el nivel de poder y la frecuencia con la que un personaje aparece en las sagas?\n",
    "\n"
   ]
  },
  {
   "cell_type": "code",
   "execution_count": null,
   "metadata": {},
   "outputs": [],
   "source": []
  },
  {
   "cell_type": "code",
   "execution_count": null,
   "metadata": {},
   "outputs": [],
   "source": [
    "#\n",
    "#*  ¿Hay algún personaje que tenga un aumento de nivel de poder significativamente mayor que el resto?"
   ]
  },
  {
   "cell_type": "code",
   "execution_count": null,
   "metadata": {},
   "outputs": [],
   "source": [
    "#\n",
    "#* ¿Cuál es la probabilidad de que un personaje de la saga Saiyan tenga un nivel de poder superior a 50,000?"
   ]
  },
  {
   "cell_type": "code",
   "execution_count": null,
   "metadata": {},
   "outputs": [],
   "source": [
    "#\n",
    "#* Crea una columna que indique si un personaje es un protagonista o un antagonista basándote en tu conocimiento de la serie (o si tienes datos adicionales).\n"
   ]
  },
  {
   "cell_type": "code",
   "execution_count": null,
   "metadata": {},
   "outputs": [],
   "source": [
    "#\n",
    "#* Crea una columna que categorice a los personajes por raza (Saiyan, Humano, Namekiano, etc.)."
   ]
  },
  {
   "cell_type": "code",
   "execution_count": null,
   "metadata": {},
   "outputs": [],
   "source": [
    "#\n",
    "#* ¿Cuál es la media, mediana y desviación estándar del nivel de poder para cada serie?"
   ]
  },
  {
   "cell_type": "code",
   "execution_count": null,
   "metadata": {},
   "outputs": [],
   "source": [
    "#\n",
    "#*¿Qué porcentaje de personajes superan un nivel de poder de 10,000 en la saga de Cell?"
   ]
  },
  {
   "cell_type": "code",
   "execution_count": null,
   "metadata": {},
   "outputs": [],
   "source": [
    "# \n",
    "#*¿Cuál es el personaje con mayor rango de aumento de nivel de poder a lo largo de las sagas? Para esto, puedes crear una nueva columna que calcule la diferencia entre el nivel de poder máximo y mínimo de cada personaje."
   ]
  },
  {
   "cell_type": "markdown",
   "metadata": {},
   "source": [
    "## Matplotlib:"
   ]
  },
  {
   "cell_type": "code",
   "execution_count": null,
   "metadata": {},
   "outputs": [],
   "source": [
    "\n",
    "#* Crear un histograma del nivel de poder de todos los personajes:\n",
    "\n",
    "plt.hist(db['Power_Level'], bins=10, edgecolor='black')\n",
    "\n",
    "\n",
    "plt.title('Histograma del Nivel de Poder de Todos los Personajes')\n",
    "plt.xlabel('Nivel de Poder')\n",
    "plt.ylabel('Frecuencia')\n",
    "\n",
    "plt.show()\n",
    "#* Crea un gráfico de barras que muestre el número de personajes en cada saga o película.\n",
    "lista_de_sagas = [i for i in db[\"Saga_or_Movie\"]]\n",
    "# print(list(set(lista_de_sagas)))\n",
    "\n",
    "conteo_principal = db[\"Saga_or_Movie\"].value_counts()\n",
    "# print(conteo)\n",
    "\n",
    "series_x = conteo_principal.index.tolist()\n",
    "conteo_y = conteo_principal.values.tolist()\n",
    "plt.figure(figsize=(12,6))\n",
    "plt.bar(series_x, conteo_y, color=\"red\", align=\"edge\",width=0.5)\n",
    "plt.xlabel(\"Sagas o Peliculas\")\n",
    "plt.ylabel(\"Cantidad de Personajes\")\n",
    "plt.xticks(rotation=45, ha='right')\n",
    "plt.show()\n",
    "\n",
    "\n",
    "\n",
    "\n"
   ]
  },
  {
   "cell_type": "code",
   "execution_count": null,
   "metadata": {},
   "outputs": [],
   "source": [
    "#\n",
    "#* Crea un gráfico de líneas que muestre la evolución del nivel de poder promedio de los personajes a lo largo de las sagas.\n"
   ]
  },
  {
   "cell_type": "code",
   "execution_count": 68,
   "metadata": {},
   "outputs": [],
   "source": [
    "\n",
    "#*Gráfico de barras: Número de personajes por raza: Si has creado una columna \"raza\", puedes hacer un gráfico de barras para ver cuántos personajes de cada raza hay en tu dataset."
   ]
  },
  {
   "cell_type": "code",
   "execution_count": null,
   "metadata": {},
   "outputs": [],
   "source": [
    "#\n",
    "#* Crea un gráfico de barras apiladas que muestre la cantidad de personajes de cada raza en cada saga."
   ]
  },
  {
   "cell_type": "code",
   "execution_count": null,
   "metadata": {},
   "outputs": [],
   "source": [
    "#\n",
    "#* Gráfico de torta: Proporción de personajes por saga: Crea un gráfico de torta para visualizar la proporción de personajes que pertenecen a cada sagaiiii"
   ]
  }
 ],
 "metadata": {
  "kernelspec": {
   "display_name": "Python 3",
   "language": "python",
   "name": "python3"
  },
  "language_info": {
   "codemirror_mode": {
    "name": "ipython",
    "version": 3
   },
   "file_extension": ".py",
   "mimetype": "text/x-python",
   "name": "python",
   "nbconvert_exporter": "python",
   "pygments_lexer": "ipython3",
   "version": "3.11.7"
  }
 },
 "nbformat": 4,
 "nbformat_minor": 2
}
