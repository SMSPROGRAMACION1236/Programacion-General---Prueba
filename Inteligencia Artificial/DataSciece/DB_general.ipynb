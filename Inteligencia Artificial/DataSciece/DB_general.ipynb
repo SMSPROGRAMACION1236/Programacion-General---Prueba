{
 "cells": [
  {
   "cell_type": "markdown",
   "metadata": {},
   "source": [
    "Son ejercicios para practicar las librerias de DataScience. Usando un dataframe muy divertido para mi como es el de DragonBall"
   ]
  },
  {
   "cell_type": "markdown",
   "metadata": {},
   "source": [
    "#### https://gemini.google.com/u/0/app/35738470bdaf8a74?hl=es"
   ]
  },
  {
   "cell_type": "code",
   "execution_count": 3,
   "metadata": {},
   "outputs": [],
   "source": [
    "import pandas as pd\n",
    "import numpy as np\n",
    "import matplotlib.pyplot as plt\n",
    "\n",
    "\n",
    "db = pd.read_csv('C:\\\\Users\\\\santi\\\\Programación\\\\Programacion-General---Prueba\\\\Inteligencia Artificial\\\\DataSciece\\\\Pandas\\\\withoutgroup\\\\Dragon_Ball_Data_Set.csv')"
   ]
  },
  {
   "cell_type": "markdown",
   "metadata": {},
   "source": [
    "# Ejercicios Basicos\n"
   ]
  },
  {
   "cell_type": "markdown",
   "metadata": {},
   "source": [
    "### Visualizacion Basica"
   ]
  },
  {
   "cell_type": "code",
   "execution_count": 6,
   "metadata": {},
   "outputs": [
    {
     "data": {
      "text/html": [
       "<div>\n",
       "<style scoped>\n",
       "    .dataframe tbody tr th:only-of-type {\n",
       "        vertical-align: middle;\n",
       "    }\n",
       "\n",
       "    .dataframe tbody tr th {\n",
       "        vertical-align: top;\n",
       "    }\n",
       "\n",
       "    .dataframe thead th {\n",
       "        text-align: right;\n",
       "    }\n",
       "</style>\n",
       "<table border=\"1\" class=\"dataframe\">\n",
       "  <thead>\n",
       "    <tr style=\"text-align: right;\">\n",
       "      <th></th>\n",
       "      <th>Character</th>\n",
       "      <th>Power_Level</th>\n",
       "      <th>Saga_or_Movie</th>\n",
       "      <th>Dragon_Ball_Series</th>\n",
       "    </tr>\n",
       "  </thead>\n",
       "  <tbody>\n",
       "    <tr>\n",
       "      <th>1239</th>\n",
       "      <td>Goku (MSSJ with SSJG's power)</td>\n",
       "      <td>22,400,000,000,000</td>\n",
       "      <td>Movie 14: Battle of Gods</td>\n",
       "      <td>Dragon Ball Z</td>\n",
       "    </tr>\n",
       "    <tr>\n",
       "      <th>1240</th>\n",
       "      <td>Goku (SSJG)</td>\n",
       "      <td>224,000,000,000,000</td>\n",
       "      <td>Movie 14: Battle of Gods</td>\n",
       "      <td>Dragon Ball Z</td>\n",
       "    </tr>\n",
       "    <tr>\n",
       "      <th>1241</th>\n",
       "      <td>Goku</td>\n",
       "      <td>44,800,000,000</td>\n",
       "      <td>Movie 14: Battle of Gods</td>\n",
       "      <td>Dragon Ball Z</td>\n",
       "    </tr>\n",
       "    <tr>\n",
       "      <th>1242</th>\n",
       "      <td>Beerus (full power, never shown)</td>\n",
       "      <td>896,000,000,000,000</td>\n",
       "      <td>Movie 14: Battle of Gods</td>\n",
       "      <td>Dragon Ball Z</td>\n",
       "    </tr>\n",
       "    <tr>\n",
       "      <th>1243</th>\n",
       "      <td>Whis (full power, never shown)</td>\n",
       "      <td>4,480,000,000,000,000</td>\n",
       "      <td>Movie 14: Battle of Gods</td>\n",
       "      <td>Dragon Ball Z</td>\n",
       "    </tr>\n",
       "  </tbody>\n",
       "</table>\n",
       "</div>"
      ],
      "text/plain": [
       "                             Character            Power_Level  \\\n",
       "1239     Goku (MSSJ with SSJG's power)     22,400,000,000,000   \n",
       "1240                       Goku (SSJG)    224,000,000,000,000   \n",
       "1241                              Goku         44,800,000,000   \n",
       "1242  Beerus (full power, never shown)    896,000,000,000,000   \n",
       "1243    Whis (full power, never shown)  4,480,000,000,000,000   \n",
       "\n",
       "                 Saga_or_Movie Dragon_Ball_Series  \n",
       "1239  Movie 14: Battle of Gods      Dragon Ball Z  \n",
       "1240  Movie 14: Battle of Gods      Dragon Ball Z  \n",
       "1241  Movie 14: Battle of Gods      Dragon Ball Z  \n",
       "1242  Movie 14: Battle of Gods      Dragon Ball Z  \n",
       "1243  Movie 14: Battle of Gods      Dragon Ball Z  "
      ]
     },
     "execution_count": 6,
     "metadata": {},
     "output_type": "execute_result"
    }
   ],
   "source": [
    "\n",
    "#* Mostrar las primeras 5 filas del DataFrame: \n",
    "\n",
    "db.head(5)\n",
    "\n",
    "#* Mostrar las últimas 5 filas del DataFrame: \n",
    "db.tail(5)\n",
    "\n",
    "#* Obtener información general sobre el DataFrame: \n",
    "\n",
    "\n",
    "\n",
    "\n"
   ]
  },
  {
   "cell_type": "markdown",
   "metadata": {},
   "source": [
    "### Acceso a Columnas"
   ]
  },
  {
   "cell_type": "code",
   "execution_count": null,
   "metadata": {},
   "outputs": [],
   "source": [
    "\n",
    "#* Mostrar todos los nombres de los personajes:\n",
    "\n",
    "\n",
    "\n",
    "\n",
    "\n",
    "#* Calcular el nivel de poder promedio de todos los personajes: \n",
    "\n",
    "\n",
    "\n",
    "\n"
   ]
  },
  {
   "cell_type": "markdown",
   "metadata": {},
   "source": [
    "### Filtrado"
   ]
  },
  {
   "cell_type": "code",
   "execution_count": 1,
   "metadata": {},
   "outputs": [],
   "source": [
    "\n",
    "#*Encontrar a todos los personajes de la saga Saiyan:\n",
    "\n",
    "\n",
    "\n",
    "\n",
    "\n",
    "#*Mostrar los personajes que tienen un nivel de poder mayor a 10,000:\n",
    "\n",
    "\n",
    "\n",
    "\n",
    "\n"
   ]
  },
  {
   "cell_type": "markdown",
   "metadata": {},
   "source": [
    "### Agrupacion"
   ]
  },
  {
   "cell_type": "code",
   "execution_count": null,
   "metadata": {},
   "outputs": [],
   "source": [
    "#\n",
    "#* Agrupar los personajes por serie y calcular el nivel de poder promedio de cada serie:"
   ]
  },
  {
   "cell_type": "markdown",
   "metadata": {},
   "source": [
    "### Manipulacin de Datos y Analisis"
   ]
  },
  {
   "cell_type": "code",
   "execution_count": null,
   "metadata": {},
   "outputs": [],
   "source": [
    "\n",
    "#* Crea una nueva columna llamada \"Categoría de Poder\" donde clasifiques a los personajes en categorías como \"Bajo\", \"Medio\" y \"Alto\" según su nivel de poder.\n",
    "\n",
    "#* Filtra a los personajes que pertenecen a la saga Saiyan y tienen un nivel de poder superior al promedio de todos los personajes.\n",
    "\n",
    "#* Agrupa a los personajes por serie y calcula el nivel de poder máximo, mínimo y promedio de cada grupo.\n",
    "\n",
    "#* ¿Cuál es el personaje con el nivel de poder más alto en cada saga o película?\n",
    "\n",
    "#* ¿Cuántos personajes hay en total en cada serie de Dragon Ball?\n",
    "\n"
   ]
  },
  {
   "cell_type": "markdown",
   "metadata": {},
   "source": [
    "### Visualización sencilla con Matplotlib:"
   ]
  },
  {
   "cell_type": "code",
   "execution_count": null,
   "metadata": {},
   "outputs": [],
   "source": [
    "#\n",
    "#* Crear un histograma del nivel de poder de todos los personajes:\n",
    "\n",
    "\n",
    "\n",
    "#* Crea un gráfico de barras que muestre el número de personajes en cada saga o película."
   ]
  }
 ],
 "metadata": {
  "kernelspec": {
   "display_name": "Python 3",
   "language": "python",
   "name": "python3"
  },
  "language_info": {
   "codemirror_mode": {
    "name": "ipython",
    "version": 3
   },
   "file_extension": ".py",
   "mimetype": "text/x-python",
   "name": "python",
   "nbconvert_exporter": "python",
   "pygments_lexer": "ipython3",
   "version": "3.11.7"
  }
 },
 "nbformat": 4,
 "nbformat_minor": 2
}
