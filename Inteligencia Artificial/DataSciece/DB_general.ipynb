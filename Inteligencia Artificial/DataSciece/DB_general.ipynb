{
 "cells": [
  {
   "cell_type": "markdown",
   "metadata": {},
   "source": [
    "Son ejercicios para practicar las librerias de DataScience. Usando un dataframe muy divertido para mi como es el de DragonBall"
   ]
  },
  {
   "cell_type": "markdown",
   "metadata": {},
   "source": [
    "#### https://gemini.google.com/u/0/app/35738470bdaf8a74?hl=es"
   ]
  },
  {
   "cell_type": "code",
   "execution_count": 42,
   "metadata": {},
   "outputs": [],
   "source": [
    "import pandas as pd\n",
    "import numpy as np\n",
    "import matplotlib.pyplot as plt\n",
    "from colorama import Back, Style, Fore\n",
    "\n",
    "from icecream import ic\n",
    "\n",
    "\n",
    "db = pd.read_csv('C:\\\\Users\\\\santi\\\\Programación\\\\Programacion-General---Prueba\\\\Inteligencia Artificial\\\\DataSciece\\\\Pandas\\\\withoutgroup\\\\Dragon_Ball_Data_Set.csv')"
   ]
  },
  {
   "cell_type": "markdown",
   "metadata": {},
   "source": [
    "# Ejercicios Basicos\n"
   ]
  },
  {
   "cell_type": "markdown",
   "metadata": {},
   "source": [
    "## Pandas y Numpy"
   ]
  },
  {
   "cell_type": "markdown",
   "metadata": {},
   "source": [
    "### Visualizacion Basica"
   ]
  },
  {
   "cell_type": "code",
   "execution_count": 43,
   "metadata": {},
   "outputs": [
    {
     "name": "stdout",
     "output_type": "stream",
     "text": [
      "<class 'pandas.core.frame.DataFrame'>\n",
      "RangeIndex: 1244 entries, 0 to 1243\n",
      "Data columns (total 4 columns):\n",
      " #   Column              Non-Null Count  Dtype \n",
      "---  ------              --------------  ----- \n",
      " 0   Character           1244 non-null   object\n",
      " 1   Power_Level         1244 non-null   object\n",
      " 2   Saga_or_Movie       1244 non-null   object\n",
      " 3   Dragon_Ball_Series  1244 non-null   object\n",
      "dtypes: object(4)\n",
      "memory usage: 39.0+ KB\n"
     ]
    }
   ],
   "source": [
    "\n",
    "#* Mostrar las primeras 5 filas del DataFrame: \n",
    "\n",
    "db.head(5)\n",
    "\n",
    "#* Mostrar las últimas 5 filas del DataFrame: \n",
    "db.tail(5)\n",
    "\n",
    "#* Obtener información general sobre el DataFrame: \n",
    "db.info()\n",
    "\n",
    "\n",
    "\n"
   ]
  },
  {
   "cell_type": "markdown",
   "metadata": {},
   "source": [
    "### Acceso a Columnas"
   ]
  },
  {
   "cell_type": "code",
   "execution_count": 44,
   "metadata": {},
   "outputs": [
    {
     "name": "stdout",
     "output_type": "stream",
     "text": [
      "0                                   Goku\n",
      "1                                  Bulma\n",
      "2                             Bear Thief\n",
      "3                           Master Roshi\n",
      "4                                 Oolong\n",
      "                      ...               \n",
      "1239       Goku (MSSJ with SSJG's power)\n",
      "1240                         Goku (SSJG)\n",
      "1241                                Goku\n",
      "1242    Beerus (full power, never shown)\n",
      "1243      Whis (full power, never shown)\n",
      "Name: Character, Length: 1244, dtype: object\n",
      "El promedio de la totalidad de los personajes es: 649878397076006.1\n"
     ]
    }
   ],
   "source": [
    "\n",
    "#* Mostrar todos los nombres de los personajes:\n",
    "print(db[\"Character\"])\n",
    "\n",
    "\n",
    "#* Calcular el nivel de poder promedio de todos los personajes: \n",
    "power_level = [float( (str(i.replace(\",\",\"\")))) for i in np.array(db[\"Power_Level\"])]\n",
    "\n",
    "#! (supressed, figting Trunks) Este seria el valor verdadero de la linea 1127, lo cambie a 0 para poder realizar este ejercicio.\n",
    "semi_promedio = 0\n",
    "cantidad_personajes = len(power_level)\n",
    "\n",
    "for i in power_level:\n",
    "  semi_promedio +=i\n",
    "final_promedio = semi_promedio / cantidad_personajes\n",
    "print(f\"El promedio de la totalidad de los personajes es: {final_promedio}\")\n"
   ]
  },
  {
   "cell_type": "markdown",
   "metadata": {},
   "source": [
    "### Filtrado"
   ]
  },
  {
   "cell_type": "code",
   "execution_count": 45,
   "metadata": {},
   "outputs": [
    {
     "name": "stdout",
     "output_type": "stream",
     "text": [
      "                    Character Power_Level Saga_or_Movie Dragon_Ball_Series\n",
      "115  Farmer (without shotgun)           2   Saiyan Saga      Dragon Ball Z\n",
      "116     Farmer (with shotgun)           5   Saiyan Saga      Dragon Ball Z\n",
      "117                    Raditz       1,200   Saiyan Saga      Dragon Ball Z\n",
      "118                     Gohan           1   Saiyan Saga      Dragon Ball Z\n",
      "119        Piccolo (weighted)         326   Saiyan Saga      Dragon Ball Z\n",
      "..                        ...         ...           ...                ...\n",
      "178         Vegeta (weakened)       1,900   Saiyan Saga      Dragon Ball Z\n",
      "179        Krillin (weakened)         600   Saiyan Saga      Dragon Ball Z\n",
      "180          Gohan (weakened)         420   Saiyan Saga      Dragon Ball Z\n",
      "181         Gohan (Great Ape)      10,000   Saiyan Saga      Dragon Ball Z\n",
      "182    Vegeta (badly injured)          22   Saiyan Saga      Dragon Ball Z\n",
      "\n",
      "[68 rows x 4 columns]\n",
      "Division\n"
     ]
    },
    {
     "ename": "TypeError",
     "evalue": "'>' not supported between instances of 'str' and 'int'",
     "output_type": "error",
     "traceback": [
      "\u001b[1;31m---------------------------------------------------------------------------\u001b[0m",
      "\u001b[1;31mTypeError\u001b[0m                                 Traceback (most recent call last)",
      "Cell \u001b[1;32mIn[45], line 10\u001b[0m\n\u001b[0;32m      8\u001b[0m pd\u001b[38;5;241m.\u001b[39moptions\u001b[38;5;241m.\u001b[39mdisplay\u001b[38;5;241m.\u001b[39mfloat_format \u001b[38;5;241m=\u001b[39m \u001b[38;5;124m'\u001b[39m\u001b[38;5;132;01m{:.2f}\u001b[39;00m\u001b[38;5;124m'\u001b[39m\u001b[38;5;241m.\u001b[39mformat\n\u001b[0;32m      9\u001b[0m \u001b[38;5;66;03m# db['Power_Level'] = db['Power_Level'].str.replace(',', '').astype(float)\u001b[39;00m\n\u001b[1;32m---> 10\u001b[0m \u001b[38;5;28mprint\u001b[39m(db\u001b[38;5;241m.\u001b[39mloc[\u001b[43mdb\u001b[49m\u001b[43m[\u001b[49m\u001b[38;5;124;43m\"\u001b[39;49m\u001b[38;5;124;43mPower_Level\u001b[39;49m\u001b[38;5;124;43m\"\u001b[39;49m\u001b[43m]\u001b[49m\u001b[43m \u001b[49m\u001b[38;5;241;43m>\u001b[39;49m\u001b[43m \u001b[49m\u001b[38;5;241;43m10000\u001b[39;49m])\n",
      "File \u001b[1;32mc:\\Users\\santi\\AppData\\Local\\Programs\\Python\\Python311\\Lib\\site-packages\\pandas\\core\\ops\\common.py:76\u001b[0m, in \u001b[0;36m_unpack_zerodim_and_defer.<locals>.new_method\u001b[1;34m(self, other)\u001b[0m\n\u001b[0;32m     72\u001b[0m             \u001b[38;5;28;01mreturn\u001b[39;00m \u001b[38;5;28mNotImplemented\u001b[39m\n\u001b[0;32m     74\u001b[0m other \u001b[38;5;241m=\u001b[39m item_from_zerodim(other)\n\u001b[1;32m---> 76\u001b[0m \u001b[38;5;28;01mreturn\u001b[39;00m \u001b[43mmethod\u001b[49m\u001b[43m(\u001b[49m\u001b[38;5;28;43mself\u001b[39;49m\u001b[43m,\u001b[49m\u001b[43m \u001b[49m\u001b[43mother\u001b[49m\u001b[43m)\u001b[49m\n",
      "File \u001b[1;32mc:\\Users\\santi\\AppData\\Local\\Programs\\Python\\Python311\\Lib\\site-packages\\pandas\\core\\arraylike.py:56\u001b[0m, in \u001b[0;36mOpsMixin.__gt__\u001b[1;34m(self, other)\u001b[0m\n\u001b[0;32m     54\u001b[0m \u001b[38;5;129m@unpack_zerodim_and_defer\u001b[39m(\u001b[38;5;124m\"\u001b[39m\u001b[38;5;124m__gt__\u001b[39m\u001b[38;5;124m\"\u001b[39m)\n\u001b[0;32m     55\u001b[0m \u001b[38;5;28;01mdef\u001b[39;00m \u001b[38;5;21m__gt__\u001b[39m(\u001b[38;5;28mself\u001b[39m, other):\n\u001b[1;32m---> 56\u001b[0m     \u001b[38;5;28;01mreturn\u001b[39;00m \u001b[38;5;28;43mself\u001b[39;49m\u001b[38;5;241;43m.\u001b[39;49m\u001b[43m_cmp_method\u001b[49m\u001b[43m(\u001b[49m\u001b[43mother\u001b[49m\u001b[43m,\u001b[49m\u001b[43m \u001b[49m\u001b[43moperator\u001b[49m\u001b[38;5;241;43m.\u001b[39;49m\u001b[43mgt\u001b[49m\u001b[43m)\u001b[49m\n",
      "File \u001b[1;32mc:\\Users\\santi\\AppData\\Local\\Programs\\Python\\Python311\\Lib\\site-packages\\pandas\\core\\series.py:6099\u001b[0m, in \u001b[0;36mSeries._cmp_method\u001b[1;34m(self, other, op)\u001b[0m\n\u001b[0;32m   6096\u001b[0m lvalues \u001b[38;5;241m=\u001b[39m \u001b[38;5;28mself\u001b[39m\u001b[38;5;241m.\u001b[39m_values\n\u001b[0;32m   6097\u001b[0m rvalues \u001b[38;5;241m=\u001b[39m extract_array(other, extract_numpy\u001b[38;5;241m=\u001b[39m\u001b[38;5;28;01mTrue\u001b[39;00m, extract_range\u001b[38;5;241m=\u001b[39m\u001b[38;5;28;01mTrue\u001b[39;00m)\n\u001b[1;32m-> 6099\u001b[0m res_values \u001b[38;5;241m=\u001b[39m \u001b[43mops\u001b[49m\u001b[38;5;241;43m.\u001b[39;49m\u001b[43mcomparison_op\u001b[49m\u001b[43m(\u001b[49m\u001b[43mlvalues\u001b[49m\u001b[43m,\u001b[49m\u001b[43m \u001b[49m\u001b[43mrvalues\u001b[49m\u001b[43m,\u001b[49m\u001b[43m \u001b[49m\u001b[43mop\u001b[49m\u001b[43m)\u001b[49m\n\u001b[0;32m   6101\u001b[0m \u001b[38;5;28;01mreturn\u001b[39;00m \u001b[38;5;28mself\u001b[39m\u001b[38;5;241m.\u001b[39m_construct_result(res_values, name\u001b[38;5;241m=\u001b[39mres_name)\n",
      "File \u001b[1;32mc:\\Users\\santi\\AppData\\Local\\Programs\\Python\\Python311\\Lib\\site-packages\\pandas\\core\\ops\\array_ops.py:344\u001b[0m, in \u001b[0;36mcomparison_op\u001b[1;34m(left, right, op)\u001b[0m\n\u001b[0;32m    341\u001b[0m     \u001b[38;5;28;01mreturn\u001b[39;00m invalid_comparison(lvalues, rvalues, op)\n\u001b[0;32m    343\u001b[0m \u001b[38;5;28;01melif\u001b[39;00m lvalues\u001b[38;5;241m.\u001b[39mdtype \u001b[38;5;241m==\u001b[39m \u001b[38;5;28mobject\u001b[39m \u001b[38;5;129;01mor\u001b[39;00m \u001b[38;5;28misinstance\u001b[39m(rvalues, \u001b[38;5;28mstr\u001b[39m):\n\u001b[1;32m--> 344\u001b[0m     res_values \u001b[38;5;241m=\u001b[39m \u001b[43mcomp_method_OBJECT_ARRAY\u001b[49m\u001b[43m(\u001b[49m\u001b[43mop\u001b[49m\u001b[43m,\u001b[49m\u001b[43m \u001b[49m\u001b[43mlvalues\u001b[49m\u001b[43m,\u001b[49m\u001b[43m \u001b[49m\u001b[43mrvalues\u001b[49m\u001b[43m)\u001b[49m\n\u001b[0;32m    346\u001b[0m \u001b[38;5;28;01melse\u001b[39;00m:\n\u001b[0;32m    347\u001b[0m     res_values \u001b[38;5;241m=\u001b[39m _na_arithmetic_op(lvalues, rvalues, op, is_cmp\u001b[38;5;241m=\u001b[39m\u001b[38;5;28;01mTrue\u001b[39;00m)\n",
      "File \u001b[1;32mc:\\Users\\santi\\AppData\\Local\\Programs\\Python\\Python311\\Lib\\site-packages\\pandas\\core\\ops\\array_ops.py:129\u001b[0m, in \u001b[0;36mcomp_method_OBJECT_ARRAY\u001b[1;34m(op, x, y)\u001b[0m\n\u001b[0;32m    127\u001b[0m     result \u001b[38;5;241m=\u001b[39m libops\u001b[38;5;241m.\u001b[39mvec_compare(x\u001b[38;5;241m.\u001b[39mravel(), y\u001b[38;5;241m.\u001b[39mravel(), op)\n\u001b[0;32m    128\u001b[0m \u001b[38;5;28;01melse\u001b[39;00m:\n\u001b[1;32m--> 129\u001b[0m     result \u001b[38;5;241m=\u001b[39m \u001b[43mlibops\u001b[49m\u001b[38;5;241;43m.\u001b[39;49m\u001b[43mscalar_compare\u001b[49m\u001b[43m(\u001b[49m\u001b[43mx\u001b[49m\u001b[38;5;241;43m.\u001b[39;49m\u001b[43mravel\u001b[49m\u001b[43m(\u001b[49m\u001b[43m)\u001b[49m\u001b[43m,\u001b[49m\u001b[43m \u001b[49m\u001b[43my\u001b[49m\u001b[43m,\u001b[49m\u001b[43m \u001b[49m\u001b[43mop\u001b[49m\u001b[43m)\u001b[49m\n\u001b[0;32m    130\u001b[0m \u001b[38;5;28;01mreturn\u001b[39;00m result\u001b[38;5;241m.\u001b[39mreshape(x\u001b[38;5;241m.\u001b[39mshape)\n",
      "File \u001b[1;32mops.pyx:107\u001b[0m, in \u001b[0;36mpandas._libs.ops.scalar_compare\u001b[1;34m()\u001b[0m\n",
      "\u001b[1;31mTypeError\u001b[0m: '>' not supported between instances of 'str' and 'int'"
     ]
    }
   ],
   "source": [
    "\n",
    "#*Encontrar a todos los personajes de la saga Saiyan:\n",
    "\n",
    "\n",
    "print(db.loc[db['Saga_or_Movie'] == \"Saiyan Saga\"])\n",
    "print(\"Division\")\n",
    "\n",
    "#*Mostrar los personajes que tienen un nivel de poder mayor a 10,000:\n",
    "pd.options.display.float_format = '{:.2f}'.format\n",
    "# db['Power_Level'] = db['Power_Level'].str.replace(',', '').astype(float)\n",
    "print(db.loc[db[\"Power_Level\"] > 10000])\n",
    "\n",
    "\n"
   ]
  },
  {
   "cell_type": "markdown",
   "metadata": {},
   "source": [
    "### Agrupacion"
   ]
  },
  {
   "cell_type": "code",
   "execution_count": null,
   "metadata": {},
   "outputs": [],
   "source": [
    "#\n",
    "#* Agrupar los personajes por serie y calcular el nivel de poder promedio de cada serie:\n",
    "\n",
    "db_series = db.groupby(\"Saga_or_Movie\")\n",
    "\n",
    "\n",
    "power_level_mean_by_series =  db_series[\"Power_Level\"].mean()\n",
    "print(power_level_mean_by_series)"
   ]
  },
  {
   "cell_type": "code",
   "execution_count": null,
   "metadata": {},
   "outputs": [],
   "source": [
    "#\n",
    "#! Problema con PowerLevel\n",
    "db['Power_Level'] = db['Power_Level'].astype(str)\n",
    "db['Power_Level'] = db['Power_Level'].str.replace(',', '').astype(float)\n"
   ]
  },
  {
   "cell_type": "markdown",
   "metadata": {},
   "source": [
    "### Manipulacin de Datos y Analisis"
   ]
  },
  {
   "cell_type": "code",
   "execution_count": null,
   "metadata": {},
   "outputs": [],
   "source": [
    "\n",
    "#* Crea una nueva columna llamada \"Categoría de Poder\" donde clasifiques a los personajes en categorías como \"Bajo\", \"Medio\" y \"Alto\" según su nivel de poder.\n",
    "def clasificar(value):\n",
    "  # value = value.replace(\",\",\"\")\n",
    "  if (value) > 0 and (value) < 1000:\n",
    "    return \"Bajo\"\n",
    "  elif (value) > 1000 and (value) < 1000000000:\n",
    "    return \"Medio\"\n",
    "  else:\n",
    "    return \"Alto\"\n",
    "db['Categoria de Poder'] = db[\"Power_Level\"].apply(clasificar)\n",
    "print(db)\n",
    "\n",
    "\n",
    "\n",
    "#* Filtra a los personajes que pertenecen a la saga Saiyan y tienen un nivel de poder superior al promedio de todos los personajes.\n",
    "saiyan_strongest = db[(db[\"Saga_or_Movie\"]== \"Movie 14: Battle of Gods\")  & (db[\"Power_Level\"] > final_promedio)]\n",
    "print(Fore.RED + \"Filtro de Personajes\" + Style.RESET_ALL)\n",
    "print(final_promedio)\n",
    "print(saiyan_strongest)\n",
    "\n",
    "#* Agrupa a los personajes por serie y calcula el nivel de poder máximo, mínimo y promedio de cada grupo.\n",
    "print(Fore.BLUE + \"Agrupacion\" +Style.RESET_ALL)\n",
    "db_sagas = db.groupby(\"Saga_or_Movie\")\n",
    "db_describe = db_sagas[\"Power_Level\"].mean(), db_sagas[\"Power_Level\"].max(), db_sagas[\"Power_Level\"].min()\n",
    "print(db_describe)\n",
    "#* ¿Cuál es el personaje con el nivel de poder más alto en cada saga o película?\n",
    "print(Fore.GREEN + \"Series de Dragon Ball\" + Style.RESET_ALL)\n",
    "db_series = db.groupby(\"Dragon_Ball_Series\")[\"Power_Level\"].idxmax()\n",
    "print(db.loc[db_series])\n",
    "\n",
    "#* ¿Cuántos personajes hay en total en cada serie de Dragon Ball?\n",
    "print(Fore.WHITE + \"Personajes\" + Style.RESET_ALL)\n",
    "db_personajes = db.groupby(\"Dragon_Ball_Series\")\n",
    "cant_db_personajes = db_personajes.count()\n",
    "print(cant_db_personajes)\n"
   ]
  },
  {
   "cell_type": "markdown",
   "metadata": {},
   "source": [
    "### Analisis Profundo y Creacion de Nuevas Caracteristicas"
   ]
  },
  {
   "cell_type": "code",
   "execution_count": null,
   "metadata": {},
   "outputs": [],
   "source": [
    "\n",
    "#*¿Existe una correlación entre el nivel de poder y la frecuencia con la que un personaje aparece en las sagas?\n",
    "\n"
   ]
  },
  {
   "cell_type": "code",
   "execution_count": null,
   "metadata": {},
   "outputs": [
    {
     "name": "stdout",
     "output_type": "stream",
     "text": [
      "El personaje con el mayor aumento de nivel de poder es Goku's 10x Kamehameha con un aumento de 3800000000000000.0.\n"
     ]
    }
   ],
   "source": [
    "# Agrupar los datos por personaje\n",
    "grouped_by_character = db.groupby('Character')\n",
    "\n",
    "# Calcular la diferencia entre el nivel de poder máximo y mínimo para cada personaje\n",
    "power_level_diff = grouped_by_character['Power_Level'].max() - grouped_by_character['Power_Level'].min()\n",
    "\n",
    "# Identificar el personaje con el mayor aumento de nivel de poder\n",
    "max_increase_character = power_level_diff.idxmax()\n",
    "max_increase_value = power_level_diff.max()\n",
    "\n",
    "print(f\"El personaje con el mayor aumento de nivel de poder es {max_increase_character} con un aumento de {max_increase_value}.\")\n",
    "\n"
   ]
  },
  {
   "cell_type": "code",
   "execution_count": 53,
   "metadata": {},
   "outputs": [
    {
     "name": "stderr",
     "output_type": "stream",
     "text": [
      "ic| total_saiyan_characters: 68\n"
     ]
    },
    {
     "name": "stderr",
     "output_type": "stream",
     "text": [
      "ic| total_de_saiyan_con_50_mil_o_mas: 2\n"
     ]
    },
    {
     "name": "stdout",
     "output_type": "stream",
     "text": [
      "La posibilidad entonces seria de: 3%\n"
     ]
    }
   ],
   "source": [
    "#\n",
    "#* ¿Cuál es la probabilidad de que un personaje de la saga Saiyan tenga un nivel de poder superior a 50,000?\n",
    "def filtrar_personajes_por_saga_y_poder(saga, nivel_de_poder):\n",
    "  personajes_filtrados = db.loc[(db[\"Saga_or_Movie\"] == saga) & (db[\"Power_Level\"] >= nivel_de_poder)]\n",
    "  return personajes_filtrados\n",
    "\n",
    "# Convert Power_Level to numeric if not already done\n",
    "if db['Power_Level'].dtype == 'object':\n",
    "    db['Power_Level'] = db['Power_Level'].str.replace(',', '').astype(float)\n",
    "\n",
    "total_de_saiyan_con_50_mil_o_mas = len(filtrar_personajes_por_saga_y_poder(\"Saiyan Saga\", 50000))\n",
    "total_saiyan_characters = len(db.loc[(db[\"Saga_or_Movie\"] == \"Saiyan Saga\")])\n",
    "\n",
    "ic(total_saiyan_characters)\n",
    "ic(total_de_saiyan_con_50_mil_o_mas)\n",
    "\n",
    "print(f\"La posibilidad entonces seria de: {round((total_de_saiyan_con_50_mil_o_mas / total_saiyan_characters) * 100)}%\")\n"
   ]
  },
  {
   "cell_type": "code",
   "execution_count": null,
   "metadata": {},
   "outputs": [],
   "source": [
    "#\n",
    "#* Crea una columna que indique si un personaje es un protagonista o un antagonista basándote en tu conocimiento de la serie (o si tienes datos adicionales).\n"
   ]
  },
  {
   "cell_type": "code",
   "execution_count": null,
   "metadata": {},
   "outputs": [],
   "source": [
    "#\n",
    "#* Crea una columna que categorice a los personajes por raza (Saiyan, Humano, Namekiano, etc.)."
   ]
  },
  {
   "cell_type": "code",
   "execution_count": null,
   "metadata": {},
   "outputs": [],
   "source": [
    "#\n",
    "#* ¿Cuál es la media, mediana y desviación estándar del nivel de poder para cada serie?"
   ]
  },
  {
   "cell_type": "code",
   "execution_count": null,
   "metadata": {},
   "outputs": [],
   "source": [
    "#\n",
    "#*¿Qué porcentaje de personajes superan un nivel de poder de 10,000 en la saga de Cell?"
   ]
  },
  {
   "cell_type": "code",
   "execution_count": null,
   "metadata": {},
   "outputs": [],
   "source": [
    "# \n",
    "#*¿Cuál es el personaje con mayor rango de aumento de nivel de poder a lo largo de las sagas? Para esto, puedes crear una nueva columna que calcule la diferencia entre el nivel de poder máximo y mínimo de cada personaje."
   ]
  },
  {
   "cell_type": "markdown",
   "metadata": {},
   "source": [
    "## Matplotlib:"
   ]
  },
  {
   "cell_type": "code",
   "execution_count": null,
   "metadata": {},
   "outputs": [],
   "source": [
    "\n",
    "#* Crear un histograma del nivel de poder de todos los personajes:\n",
    "\n",
    "plt.hist(db['Power_Level'], bins=10, edgecolor='black')\n",
    "\n",
    "\n",
    "plt.title('Histograma del Nivel de Poder de Todos los Personajes')\n",
    "plt.xlabel('Nivel de Poder')\n",
    "plt.ylabel('Frecuencia')\n",
    "\n",
    "plt.show()\n",
    "#* Crea un gráfico de barras que muestre el número de personajes en cada saga o película.\n",
    "lista_de_sagas = [i for i in db[\"Saga_or_Movie\"]]\n",
    "# print(list(set(lista_de_sagas)))\n",
    "\n",
    "conteo_principal = db[\"Saga_or_Movie\"].value_counts()\n",
    "# print(conteo)\n",
    "\n",
    "series_x = conteo_principal.index.tolist()\n",
    "conteo_y = conteo_principal.values.tolist()\n",
    "plt.figure(figsize=(12,6))\n",
    "plt.bar(series_x, conteo_y, color=\"red\", align=\"edge\",width=0.5)\n",
    "plt.xlabel(\"Sagas o Peliculas\")\n",
    "plt.ylabel(\"Cantidad de Personajes\")\n",
    "plt.xticks(rotation=45, ha='right')\n",
    "plt.show()\n",
    "\n",
    "\n",
    "\n",
    "\n"
   ]
  },
  {
   "cell_type": "code",
   "execution_count": null,
   "metadata": {},
   "outputs": [],
   "source": [
    "#\n",
    "#* Crea un gráfico de líneas que muestre la evolución del nivel de poder promedio de los personajes a lo largo de las sagas.\n"
   ]
  },
  {
   "cell_type": "code",
   "execution_count": null,
   "metadata": {},
   "outputs": [],
   "source": [
    "\n",
    "#*Gráfico de barras: Número de personajes por raza: Si has creado una columna \"raza\", puedes hacer un gráfico de barras para ver cuántos personajes de cada raza hay en tu dataset."
   ]
  },
  {
   "cell_type": "code",
   "execution_count": null,
   "metadata": {},
   "outputs": [],
   "source": [
    "#\n",
    "#* Crea un gráfico de barras apiladas que muestre la cantidad de personajes de cada raza en cada saga."
   ]
  },
  {
   "cell_type": "code",
   "execution_count": null,
   "metadata": {},
   "outputs": [],
   "source": [
    "#\n",
    "#* Gráfico de torta: Proporción de personajes por saga: Crea un gráfico de torta para visualizar la proporción de personajes que pertenecen a cada sagaiiii"
   ]
  }
 ],
 "metadata": {
  "kernelspec": {
   "display_name": "Python 3",
   "language": "python",
   "name": "python3"
  },
  "language_info": {
   "codemirror_mode": {
    "name": "ipython",
    "version": 3
   },
   "file_extension": ".py",
   "mimetype": "text/x-python",
   "name": "python",
   "nbconvert_exporter": "python",
   "pygments_lexer": "ipython3",
   "version": "3.11.7"
  }
 },
 "nbformat": 4,
 "nbformat_minor": 2
}
