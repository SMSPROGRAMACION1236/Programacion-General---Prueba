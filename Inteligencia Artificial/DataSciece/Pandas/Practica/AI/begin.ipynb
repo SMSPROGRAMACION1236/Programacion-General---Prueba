{
 "cells": [
  {
   "cell_type": "markdown",
   "metadata": {},
   "source": [
    "# First"
   ]
  },
  {
   "attachments": {
    "image.png": {
     "image/png": "[encoded data removed]"
    }
   },
   "cell_type": "markdown",
   "metadata": {},
   "source": [
    "## Exercise 1\n",
    "#### create a data frame from a list\n",
    "![image.png](attachment:image.png)"
   ]
  },
  {
   "cell_type": "code",
   "execution_count": 2,
   "metadata": {},
   "outputs": [
    {
     "name": "stdout",
     "output_type": "stream",
     "text": [
      "    Name  Age\n",
      "0    Ana   25\n",
      "1   Juan   30\n",
      "2  Maria   22\n",
      "3  Pedro   28\n"
     ]
    },
    {
     "name": "stderr",
     "output_type": "stream",
     "text": [
      "C:\\Users\\santi\\AppData\\Local\\Temp\\ipykernel_11256\\3822123818.py:1: DeprecationWarning: \n",
      "Pyarrow will become a required dependency of pandas in the next major release of pandas (pandas 3.0),\n",
      "(to allow more performant data types, such as the Arrow string type, and better interoperability with other libraries)\n",
      "but was not found to be installed on your system.\n",
      "If this would cause problems for you,\n",
      "please provide us feedback at https://github.com/pandas-dev/pandas/issues/54466\n",
      "        \n",
      "  import pandas as pd\n"
     ]
    }
   ],
   "source": [
    "import pandas as pd\n",
    "df = pd.DataFrame()\n",
    "# print(df)\n",
    "\n",
    "\n",
    "df[\"Name\"]= [\"Ana\", \"Juan\", \"Maria\", \"Pedro\"]\n",
    "df[\"Age\"] = [25, 30, 22, 28]\n",
    "\n",
    "print(df)"
   ]
  },
  {
   "cell_type": "markdown",
   "metadata": {},
   "source": [
    "## Exercise Two\n",
    "#### Filter the age,where age >=25\n",
    "\n"
   ]
  },
  {
   "cell_type": "code",
   "execution_count": 3,
   "metadata": {},
   "outputs": [
    {
     "name": "stdout",
     "output_type": "stream",
     "text": [
      "    Name  Age\n",
      "0    Ana   25\n",
      "1   Juan   30\n",
      "3  Pedro   28\n"
     ]
    }
   ],
   "source": [
    "filter = df.loc[df['Age']>=25 ]\n",
    "print(filter)"
   ]
  },
  {
   "cell_type": "markdown",
   "metadata": {},
   "source": [
    "## Exercise Three\n",
    "#### Create another column calling price, and add the value"
   ]
  },
  {
   "cell_type": "code",
   "execution_count": 4,
   "metadata": {},
   "outputs": [
    {
     "name": "stdout",
     "output_type": "stream",
     "text": [
      "    Name  Age  Price\n",
      "0    Ana   25    100\n",
      "1   Juan   30    430\n",
      "2  Maria   22   1000\n",
      "3  Pedro   28   4640\n"
     ]
    }
   ],
   "source": [
    "\n",
    "df[\"Price\"]= [100, 430, 1000, 4640]\n",
    "print(df)"
   ]
  },
  {
   "cell_type": "markdown",
   "metadata": {},
   "source": [
    "# Second\n"
   ]
  },
  {
   "cell_type": "markdown",
   "metadata": {},
   "source": [
    "1. Create a dataframe calling data"
   ]
  },
  {
   "cell_type": "code",
   "execution_count": 5,
   "metadata": {},
   "outputs": [
    {
     "name": "stdout",
     "output_type": "stream",
     "text": [
      "      Month  Selling  Buying\n",
      "0   January    30500   22000\n",
      "1  February    35600   23400\n",
      "2     March    28300   18100\n",
      "3     April    33900   20700\n"
     ]
    }
   ],
   "source": [
    "import pandas as pd\n",
    "data = {\n",
    "    'Month': ['January', 'February', 'March', 'April'],\n",
    "    'Selling': [30500, 35600, 28300, 33900],\n",
    "    'Buying': [22000, 23400, 18100, 20700]}\n",
    "\n",
    "df = pd.DataFrame(data)\n",
    "print(df)\n",
    "\n"
   ]
  },
  {
   "cell_type": "markdown",
   "metadata": {},
   "source": [
    "2.  Acceder al elemento en la primera fila y columna 'Ventas'"
   ]
  },
  {
   "cell_type": "code",
   "execution_count": 6,
   "metadata": {},
   "outputs": [
    {
     "name": "stdout",
     "output_type": "stream",
     "text": [
      "30500\n"
     ]
    }
   ],
   "source": [
    "print(df.iloc[0,1]) # The first row and the second column"
   ]
  },
  {
   "cell_type": "markdown",
   "metadata": {},
   "source": [
    "3.  Filtrar los meses donde las ventas superan los 30000"
   ]
  },
  {
   "cell_type": "code",
   "execution_count": 7,
   "metadata": {},
   "outputs": [
    {
     "name": "stdout",
     "output_type": "stream",
     "text": [
      "The months where the Sellings are > 30000\n",
      "0     January\n",
      "1    February\n",
      "3       April\n",
      "Name: Month, dtype: object\n"
     ]
    }
   ],
   "source": [
    "max_month = df.loc[df['Selling'] >30000]\n",
    "print(f\"The months where the Sellings are > 30000\")\n",
    "print(max_month[\"Month\"])         "
   ]
  },
  {
   "cell_type": "markdown",
   "metadata": {},
   "source": [
    "4.  Calcular el balance (ventas - gastos) y añadirlo como nueva columna"
   ]
  },
  {
   "cell_type": "code",
   "execution_count": 8,
   "metadata": {},
   "outputs": [
    {
     "name": "stdout",
     "output_type": "stream",
     "text": [
      "      Month  Selling  Buying  balance\n",
      "0   January    30500   22000     8500\n",
      "1  February    35600   23400    12200\n",
      "2     March    28300   18100    10200\n",
      "3     April    33900   20700    13200\n"
     ]
    }
   ],
   "source": [
    "\n",
    "df[\"balance\"]= df['Selling'] -df[\"Buying\"]\n",
    "print(df)"
   ]
  },
  {
   "cell_type": "markdown",
   "metadata": {},
   "source": [
    "5. Obtener la media de las ventas"
   ]
  },
  {
   "cell_type": "code",
   "execution_count": 12,
   "metadata": {},
   "outputs": [
    {
     "name": "stdout",
     "output_type": "stream",
     "text": [
      "32075.0\n"
     ]
    }
   ],
   "source": [
    "middle = 0\n",
    "\n",
    "for i in df[\"Selling\"]:\n",
    "  middle+= i\n",
    "print(middle/len(df[\"Selling\"]))"
   ]
  },
  {
   "cell_type": "code",
   "execution_count": null,
   "metadata": {},
   "outputs": [],
   "source": []
  }
 ],
 "metadata": {
  "kernelspec": {
   "display_name": "Python 3",
   "language": "python",
   "name": "python3"
  },
  "language_info": {
   "codemirror_mode": {
    "name": "ipython",
    "version": 3
   },
   "file_extension": ".py",
   "mimetype": "text/x-python",
   "name": "python",
   "nbconvert_exporter": "python",
   "pygments_lexer": "ipython3",
   "version": "3.11.7"
  }
 },
 "nbformat": 4,
 "nbformat_minor": 2
}
