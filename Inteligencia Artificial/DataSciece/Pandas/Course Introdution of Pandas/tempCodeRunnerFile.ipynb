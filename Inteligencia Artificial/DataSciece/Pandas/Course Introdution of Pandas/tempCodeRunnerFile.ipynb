
cols = list(df.columns.values) # We become df to list
print(type(cols))