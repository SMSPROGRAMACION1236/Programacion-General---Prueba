{
 "cells": [
  {
   "cell_type": "markdown",
   "metadata": {},
   "source": [
    "# Ejercicios Basicos de Numpy\n",
    "### https://gemini.google.com/u/1/app/393a7c30921eff1b?hl=es"
   ]
  },
  {
   "cell_type": "code",
   "execution_count": 2,
   "metadata": {},
   "outputs": [],
   "source": [
    "## importamos las librerias\n",
    "\n",
    "import numpy as np"
   ]
  },
  {
   "cell_type": "markdown",
   "metadata": {},
   "source": [
    "# Ejercicio 1"
   ]
  },
  {
   "cell_type": "markdown",
   "metadata": {},
   "source": [
    "## Parte 1\n",
    "### Creando e imprimiendo arrays:\n",
    "- Crea un array unidimensional con los números del 1 al 5.\n",
    "- Imprime el array completo.\n",
    "- Crea un array bidimensional de 2 filas y 3 columnas con valores 0, 1 y 2.\n",
    "- Imprime el array completo.\n",
    "- "
   ]
  },
  {
   "cell_type": "code",
   "execution_count": 3,
   "metadata": {},
   "outputs": [
    {
     "name": "stdout",
     "output_type": "stream",
     "text": [
      "[1 2 3 4 5]\n"
     ]
    }
   ],
   "source": [
    "\"\"\"\n",
    "- Crea un array unidimensional con los números del 1 al 5.\n",
    "- Imprime el array completo.\n",
    "  \"\"\"\n",
    "undimensional = np.array([1,2,3,4,5])\n",
    "print(undimensional)"
   ]
  },
  {
   "cell_type": "code",
   "execution_count": 4,
   "metadata": {},
   "outputs": [],
   "source": [
    "\"\"\"\n",
    "- Crea un array bidimensional de 2 filas y 3 columnas con valores 0, 1 y 2.\n",
    "- Imprime el array completo.\n",
    "  \"\"\"\n",
    "  \n",
    "bidimensional = np.array([[0,1,2],[0,1,2]])"
   ]
  },
  {
   "cell_type": "markdown",
   "metadata": {},
   "source": [
    "## Parte 2\n",
    "### Obteniendo información de arrays:\n",
    "- Crea un array de 10 números aleatorios entre 0 y 100.\n",
    "- Muestra la cantidad de elementos del array.\n",
    "- Obtén el tipo de datos del array.\n",
    "- Verifica si todos los elementos del array son iguales.\n",
    "\n"
   ]
  },
  {
   "cell_type": "code",
   "execution_count": 5,
   "metadata": {},
   "outputs": [
    {
     "name": "stdout",
     "output_type": "stream",
     "text": [
      "[88 55 92 86 90 95 52 33 77 69]\n"
     ]
    }
   ],
   "source": [
    "#Crea un array de 10 números aleatorios entre 0 y 100.\n",
    "\n",
    "array = np.random.randint(0,101,size= 10)\n",
    "print(array)"
   ]
  },
  {
   "cell_type": "code",
   "execution_count": 6,
   "metadata": {},
   "outputs": [
    {
     "name": "stdout",
     "output_type": "stream",
     "text": [
      "10\n"
     ]
    }
   ],
   "source": [
    "#Muestra la cantidad de elementos del array.\n",
    "print(len(array)) ## para saber su longitud"
   ]
  },
  {
   "cell_type": "code",
   "execution_count": 7,
   "metadata": {},
   "outputs": [
    {
     "name": "stdout",
     "output_type": "stream",
     "text": [
      "<class 'numpy.ndarray'>\n"
     ]
    }
   ],
   "source": [
    "#Obtén el tipo de datos del array.\n",
    "print(type(array))"
   ]
  },
  {
   "cell_type": "code",
   "execution_count": 8,
   "metadata": {},
   "outputs": [
    {
     "name": "stdout",
     "output_type": "stream",
     "text": [
      "no son iguales\n"
     ]
    }
   ],
   "source": [
    "#Verifica si todos los elementos del array son iguales.\n",
    "hola = np.array([1,1,1])\n",
    "if np.all(array == array[0]):\n",
    "  print(\"son iguales\")\n",
    "else:\n",
    "  print(\"no son iguales\")\n",
    "  "
   ]
  },
  {
   "cell_type": "markdown",
   "metadata": {},
   "source": [
    "## Part 3\n",
    "###  Operaciones básicas con arrays:\n",
    "- Crea dos arrays unidimensionales del mismo tamaño con valores enteros.\n",
    "- Suma los dos arrays elemento a elemento.\n",
    "- Resta el segundo array del primer array elemento a elemento.\n",
    "- Multiplica cada elemento del primer array por el elemento correspondiente del segundo array.\n",
    "- Divide cada elemento del primer array por el elemento correspondiente del segundo array (considerando la división flotante)."
   ]
  },
  {
   "cell_type": "code",
   "execution_count": 9,
   "metadata": {},
   "outputs": [
    {
     "name": "stdout",
     "output_type": "stream",
     "text": [
      "[1 3 2 2]\n",
      "[6 1 1 5]\n"
     ]
    }
   ],
   "source": [
    "# Crea dos arrays unidimensionales del mismo tamaño con valores enteros.\n",
    "\n",
    "array1 = np.random.randint(10,size=4)\n",
    "array2 = np.random.randint(10,size=4)\n",
    "print(array1)\n",
    "print(array2)"
   ]
  },
  {
   "cell_type": "code",
   "execution_count": 10,
   "metadata": {},
   "outputs": [
    {
     "name": "stdout",
     "output_type": "stream",
     "text": [
      "[7 4 3 7]\n",
      "[7, 4, 3, 7]\n"
     ]
    }
   ],
   "source": [
    "#Suma los dos arrays elemento a elemento.\n",
    "print(array1 + array2)\n",
    "print([array1[0] + array2[0], array1[1] + array2[1], array1[2]+ array2[2],array1[3] + array2[3]])"
   ]
  },
  {
   "cell_type": "code",
   "execution_count": 11,
   "metadata": {},
   "outputs": [
    {
     "name": "stdout",
     "output_type": "stream",
     "text": [
      "[-5  2  1 -3]\n",
      "[-5, 2, 1, -3]\n"
     ]
    }
   ],
   "source": [
    "#Resta el segundo array del primer array elemento a elemento.\n",
    "print(array1 - array2)\n",
    "print([array1[0] - array2[0], array1[1] - array2[1], array1[2]- array2[2],array1[3] - array2[3]])"
   ]
  },
  {
   "cell_type": "code",
   "execution_count": 12,
   "metadata": {},
   "outputs": [
    {
     "name": "stdout",
     "output_type": "stream",
     "text": [
      "[ 6  3  2 10]\n",
      "[6, 3, 2, 10]\n"
     ]
    }
   ],
   "source": [
    "#Multiplica cada elemento del primer array por el elemento correspondiente del segundo array.\n",
    "print(array1 * array2)\n",
    "print([array1[0] * array2[0], array1[1] * array2[1], array1[2]* array2[2],array1[3] * array2[3]])"
   ]
  },
  {
   "cell_type": "code",
   "execution_count": 13,
   "metadata": {},
   "outputs": [
    {
     "name": "stdout",
     "output_type": "stream",
     "text": [
      "[0.16666667 3.         2.         0.4       ]\n",
      "[0.16666666666666666, 3.0, 2.0, 0.4]\n"
     ]
    }
   ],
   "source": [
    "#Divide cada elemento del primer array por el elemento correspondiente del segundo array (considerando la división flotante).\n",
    "print(array1 / array2)\n",
    "print([array1[0] / array2[0], array1[1] / array2[1], array1[2]/ array2[2],array1[3] / array2[3]])"
   ]
  },
  {
   "cell_type": "markdown",
   "metadata": {},
   "source": [
    "## Parte 4\n",
    "### Seleccionando elementos de arrays:\n",
    "-  Crea un array de 10 números aleatorios entre 0 y 100.\n",
    "-  Muestra el primer y último elemento del array.\n",
    "-  Muestra los elementos del array que son mayores a 50.\n",
    "-  Muestra los elementos del array en las posiciones pares.\n"
   ]
  },
  {
   "cell_type": "code",
   "execution_count": 14,
   "metadata": {},
   "outputs": [
    {
     "name": "stdout",
     "output_type": "stream",
     "text": [
      "El array completo es: [66 20 81 14 75 21 16 94 84 85]\n"
     ]
    }
   ],
   "source": [
    "#Crea un array de 10 números aleatorios entre 0 y 100.\n",
    "array_difficult = np.random.randint(0,101,size= 10)\n",
    "print(f\"El array completo es: {array_difficult}\")\n"
   ]
  },
  {
   "cell_type": "code",
   "execution_count": 15,
   "metadata": {},
   "outputs": [
    {
     "name": "stdout",
     "output_type": "stream",
     "text": [
      "The first value is: 66\n",
      "The first value is: 85\n"
     ]
    }
   ],
   "source": [
    "#Muestra el primer y último elemento del array.\n",
    "print(f\"The first value is: {array_difficult[0]}\")\n",
    "print(f\"The first value is: {array_difficult[9]}\")\n"
   ]
  },
  {
   "cell_type": "code",
   "execution_count": 16,
   "metadata": {},
   "outputs": [
    {
     "name": "stdout",
     "output_type": "stream",
     "text": [
      "[66, 81, 75, 94, 84, 85]\n"
     ]
    }
   ],
   "source": [
    "#Muestra los elementos del array que son mayores a 50.\n",
    "new_array_difficult = []\n",
    "for i in array_difficult:\n",
    "  if i >50:\n",
    "    new_array_difficult.append(i)\n",
    "    \n",
    "print(new_array_difficult)\n",
    "  "
   ]
  },
  {
   "cell_type": "code",
   "execution_count": 17,
   "metadata": {},
   "outputs": [
    {
     "name": "stdout",
     "output_type": "stream",
     "text": [
      "81\n",
      "75\n",
      "16\n",
      "84\n",
      "81\n",
      "75\n",
      "16\n",
      "84\n"
     ]
    }
   ],
   "source": [
    "# Muestra los elementos del array en las posiciones pares.\n",
    "for i in range(len(array_difficult)):\n",
    "  if i %2 ==0 and i != 0:\n",
    "    print(array_difficult[i])\n",
    "\n",
    "\n",
    "hola =[2,4,6,8]\n",
    "\n",
    "for i in hola:\n",
    "  print(array_difficult[i])"
   ]
  },
  {
   "cell_type": "markdown",
   "metadata": {},
   "source": [
    "## Parte 5\n",
    "### Creando arrays a partir de otras estructuras:\n",
    "\n",
    "Crea una lista de 5 nombres de ciudades.\n",
    "\n",
    "Convierte la lista en un array NumPy.\n",
    "\n",
    "Crea un array de 10 números decimales.\n",
    "\n",
    "Redondea los números del array a dos decimales y crea un nuevo array con los valores redondeados."
   ]
  },
  {
   "cell_type": "code",
   "execution_count": 18,
   "metadata": {},
   "outputs": [],
   "source": [
    "# Crea una lista de 5 nombres de ciudades.\n",
    "cities_name = [\"Madrid\",\"Barcelona\", \"Montevideo\",\"Nueva York\", \"Bogota\"]"
   ]
  },
  {
   "cell_type": "code",
   "execution_count": 19,
   "metadata": {},
   "outputs": [
    {
     "name": "stdout",
     "output_type": "stream",
     "text": [
      "El array: ['Madrid' 'Barcelona' 'Montevideo' 'Nueva York' 'Bogota'] es de tipo: <class 'numpy.ndarray'>\n"
     ]
    }
   ],
   "source": [
    "#Convierte la lista en un array NumPy.\n",
    "cities = np.array(cities_name)\n",
    "print(f\"El array: {cities} es de tipo: {type(cities)}\")"
   ]
  },
  {
   "cell_type": "code",
   "execution_count": 20,
   "metadata": {},
   "outputs": [
    {
     "name": "stdout",
     "output_type": "stream",
     "text": [
      "[29.65818539 20.06948076 73.40735298 87.38238445 56.11455282 74.56270004\n",
      " 54.05756287 29.7879482  13.39298724 78.55566286]\n"
     ]
    }
   ],
   "source": [
    "#Crea un array de 10 números decimales.\n",
    "decimal_array = np.random.rand(10) * 100\n",
    "print(decimal_array)\n"
   ]
  },
  {
   "cell_type": "code",
   "execution_count": 21,
   "metadata": {},
   "outputs": [
    {
     "name": "stdout",
     "output_type": "stream",
     "text": [
      "[29.66 20.07 73.41 87.38 56.11 74.56 54.06 29.79 13.39 78.56]\n"
     ]
    }
   ],
   "source": [
    "# Redondea los números del array a dos decimales y crea un nuevo array con los valores redondeados.\n",
    "round_array = np.round(decimal_array,decimals=2)\n",
    "\n",
    "print(round_array)"
   ]
  },
  {
   "cell_type": "markdown",
   "metadata": {},
   "source": [
    "# Ejercicio 2"
   ]
  },
  {
   "cell_type": "markdown",
   "metadata": {},
   "source": [
    "## Parte 1\n",
    "\n",
    "### Estadisticas con Numpy\n"
   ]
  },
  {
   "cell_type": "code",
   "execution_count": 22,
   "metadata": {},
   "outputs": [],
   "source": [
    "## Crea un array con datos de ventas de un negocio durante un mes.\n",
    "ventas = np.array([2,42,424,4,3])"
   ]
  },
  {
   "cell_type": "code",
   "execution_count": 23,
   "metadata": {},
   "outputs": [
    {
     "name": "stdout",
     "output_type": "stream",
     "text": [
      "The mean will be: 95.0\n",
      "The median will be: 4.0\n",
      "The standard desviation will be: 13644.4\n"
     ]
    }
   ],
   "source": [
    "#calcula la media, la mediana y la desviación estándar de las ventas.\n",
    "\n",
    "mean = np.mean(ventas)\n",
    "print(f\"The mean will be: {mean}\")\n",
    "\n",
    "median = np.median(ventas)\n",
    "print(f\"The median will be: {median}\")\n",
    "\n",
    "var = np.var(ventas)\n",
    "\n",
    "print(f\"The standard desviation will be: {var*0.5}\")\n"
   ]
  },
  {
   "cell_type": "code",
   "execution_count": 39,
   "metadata": {},
   "outputs": [
    {
     "name": "stdout",
     "output_type": "stream",
     "text": [
      "2\n",
      "1\n"
     ]
    }
   ],
   "source": [
    "#Identifica el día del mes con mayor volumen de ventas y el día con menor volumen de ventas.\n",
    "\n",
    "dia_con_mayor_volumen = np.where(ventas == int(max(ventas)))[0][0]\n",
    "print(dia_con_mayor_volumen)\n",
    "dia_con_menor_volumen = np.where(ventas == int(min(ventas)))[0][0]\n",
    "if dia_con_menor_volumen ==0:\n",
    "  print(1)\n",
    "  \n"
   ]
  },
  {
   "cell_type": "code",
   "execution_count": 45,
   "metadata": {},
   "outputs": [
    {
     "name": "stdout",
     "output_type": "stream",
     "text": [
      "El rango intercuartilico es: 39.0\n"
     ]
    }
   ],
   "source": [
    "#Calcula el rango intercuartílico (IQR) de las ventas.\n",
    "\n",
    "\n",
    "Q3 = np.quantile(ventas, 0.75)\n",
    "Q1 = np.quantile(ventas, 0.25)\n",
    "IQR = Q3 - Q1\n",
    "print(f\"El rango intercuartilico es: {IQR}\")"
   ]
  },
  {
   "cell_type": "markdown",
   "metadata": {},
   "source": [
    "## Parte 2\n",
    "###  Manipulación de arrays:"
   ]
  },
  {
   "cell_type": "code",
   "execution_count": 53,
   "metadata": {},
   "outputs": [
    {
     "data": {
      "text/plain": [
       "2"
      ]
     },
     "execution_count": 53,
     "metadata": {},
     "output_type": "execute_result"
    }
   ],
   "source": [
    "# Crea un array bidimensional con datos de temperatura y humedad para diferentes ciudades.\n",
    "\n",
    "temp_hume = np.array([[20,34],[13,16]])\n",
    "temp_hume.ndim"
   ]
  },
  {
   "cell_type": "code",
   "execution_count": 56,
   "metadata": {},
   "outputs": [
    {
     "name": "stdout",
     "output_type": "stream",
     "text": [
      "[20 34]\n"
     ]
    }
   ],
   "source": [
    "#Obtén un nuevo array que contenga solo las temperaturas de las ciudades.\n",
    "\n",
    "temperature = temp_hume[0]\n",
    "print(temperature)"
   ]
  },
  {
   "cell_type": "code",
   "execution_count": 63,
   "metadata": {},
   "outputs": [
    {
     "name": "stdout",
     "output_type": "stream",
     "text": [
      "13\n"
     ]
    }
   ],
   "source": [
    "# Ordena el array original por temperatura de forma ascendente y descendente.\n",
    "\n",
    "ordered_by_temperature_increase = sorted(temp_hume, key=lambda x:x[0],reverse=False)\n",
    "\n",
    "print(ordered_by_temperature_increase[0][0]) #! Todavia no funciona"
   ]
  }
 ],
 "metadata": {
  "kernelspec": {
   "display_name": "Python 3",
   "language": "python",
   "name": "python3"
  },
  "language_info": {
   "codemirror_mode": {
    "name": "ipython",
    "version": 3
   },
   "file_extension": ".py",
   "mimetype": "text/x-python",
   "name": "python",
   "nbconvert_exporter": "python",
   "pygments_lexer": "ipython3",
   "version": "3.11.7"
  }
 },
 "nbformat": 4,
 "nbformat_minor": 2
}
