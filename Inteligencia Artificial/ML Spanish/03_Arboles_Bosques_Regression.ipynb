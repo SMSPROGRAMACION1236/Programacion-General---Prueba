{
 "cells": [
  {
   "cell_type": "markdown",
   "metadata": {},
   "source": [
    "# House Price"
   ]
  },
  {
   "cell_type": "markdown",
   "metadata": {},
   "source": [
    "## Informacin de la base de datos"
   ]
  },
  {
   "cell_type": "code",
   "execution_count": null,
   "metadata": {},
   "outputs": [],
   "source": [
    "import pandas as pd\n",
    "import matplotlib.pyplot as plt\n",
    "import seaborn as sns\n",
    "import numpy as np"
   ]
  },
  {
   "cell_type": "code",
   "execution_count": null,
   "metadata": {},
   "outputs": [],
   "source": [
    "data = pd.read_csv(\"DATA/housing.csv\")\n",
    "data.head(5)"
   ]
  },
  {
   "cell_type": "code",
   "execution_count": null,
   "metadata": {},
   "outputs": [],
   "source": [
    "### Informacion en General\n",
    "data.info()"
   ]
  },
  {
   "cell_type": "code",
   "execution_count": null,
   "metadata": {},
   "outputs": [],
   "source": [
    "### Datos Importantes \n",
    "\"\"\"Se sabe que cuando mas cerca del oceano es mas caro\"\"\"\n",
    "data[\"ocean_proximity\"].value_counts()"
   ]
  },
  {
   "cell_type": "markdown",
   "metadata": {},
   "source": [
    "### Visualizacion de Datos"
   ]
  },
  {
   "cell_type": "code",
   "execution_count": null,
   "metadata": {},
   "outputs": [],
   "source": [
    "data.hist(bins=50, figsize= (20, 15)) # bins es para la cantidad de barras que se quieren en el histograma y figsize es para el tamaño de la imagen  (ancho, alto) en pulgadas\n"
   ]
  },
  {
   "cell_type": "code",
   "execution_count": null,
   "metadata": {},
   "outputs": [],
   "source": [
    "data.plot(kind=\"scatter\", x=\"longitude\",y=\"latitude\", alpha=0.4, s=data[\"population\"]/100, label=\"population\", figsize=(10,7), c=\"median_house_value\", cmap=plt.get_cmap(\"jet\"), colorbar=True) # alpha es para la transparencia, s es para el tamaño de los puntos, c es para el color de los puntos, cmap es para el color del mapa de calor figsize es para el tamaño de la imagen  (ancho, alto) en pulgadas\n",
    "plt.legend()\n",
    "plt.show()"
   ]
  },
  {
   "cell_type": "markdown",
   "metadata": {},
   "source": [
    "### Correlacion"
   ]
  },
  {
   "cell_type": "code",
   "execution_count": null,
   "metadata": {},
   "outputs": [],
   "source": [
    "\n",
    "\"\"\"Sirve para saber que variables son las que tienen mayor correlacion con la variable que se quiere predecir, es decir la variable que mas peso tiene en la prediccion\"\"\"\n",
    "plt.figure(figsize=(10,5))\n",
    "sns.heatmap(data.drop('ocean_proximity', axis=1).corr(), annot=True) # annot es para mostrar los valores en la matriz de correlacion\n"
   ]
  },
  {
   "cell_type": "code",
   "execution_count": null,
   "metadata": {},
   "outputs": [],
   "source": [
    "### Matriz de Correlacion\n",
    "\"\"\"Nos muestra la correlacion de cada variable con la variable que queremos predecir, cuando mas cerca de 1 es mas correlacionada y cuando mas cerca de -1 es menos correlacionada\"\"\"#\n",
    "corr_matrix = data.drop('ocean_proximity', axis=1).corr()\n",
    "corr_matrix[\"median_house_value\"].sort_values(ascending=False)"
   ]
  },
  {
   "cell_type": "markdown",
   "metadata": {},
   "source": [
    "### Combinacion de Atributos\n",
    "- `rooms_per_household` : Representa el numero medio de habitaciones por hogar en una cierta area. Proporciona una medida de la densidad de habitaciones en una vivienda promedio de esa area\n",
    "- `bedrooms_per_room`  : Indica la proporcion de dormitorios con respecto al numero total de habitaciones en una cierta area\n",
    "- `population_per_household` : Representa la densidad de poblacion promedio por hogar en cierta area"
   ]
  },
  {
   "cell_type": "code",
   "execution_count": null,
   "metadata": {},
   "outputs": [],
   "source": [
    "data[\"rooms_per_household\"] = data[\"total_rooms\"]/data[\"households\"]\n",
    "data[\"bedrooms_per_room\"] = data[\"total_bedrooms\"]/data[\"total_rooms\"]\n",
    "data[\"population_per_household\"] = data[\"population\"]/data[\"households\"]\n",
    "data"
   ]
  },
  {
   "cell_type": "code",
   "execution_count": null,
   "metadata": {},
   "outputs": [],
   "source": [
    "corr_matrix = data.drop('ocean_proximity', axis=1).corr()\n",
    "corr_matrix[\"median_house_value\"].sort_values(ascending=False)"
   ]
  },
  {
   "cell_type": "markdown",
   "metadata": {},
   "source": [
    "### Limpieza de Datos"
   ]
  },
  {
   "cell_type": "markdown",
   "metadata": {},
   "source": [
    "\n",
    "#### Total Bedrooms\n",
    "Rellenar con algo por que esta incompleto\n",
    "- No se recomienda usar 0s por que puede modificar el resultado final\n"
   ]
  },
  {
   "cell_type": "code",
   "execution_count": null,
   "metadata": {},
   "outputs": [],
   "source": [
    "#### Ejemplo:\n",
    "x = [1,2,3,np.nan]\n",
    "x1 = pd.Series(x)\n",
    "print(x1.mean())\n",
    "\n",
    "\n",
    "x = [1,2,3,0]\n",
    "x2 = pd.Series(x)\n",
    "print(x2.mean()) # Se puede que la media cambie mucho si se rellena con 0"
   ]
  },
  {
   "cell_type": "code",
   "execution_count": null,
   "metadata": {},
   "outputs": [],
   "source": [
    "### Rellenar total bedrooms\n",
    "data[\"total_bedrooms\"].fillna(data[\"total_bedrooms\"].median(), inplace=True) # Rellenar con la mediana y le damos el permiso de sobreescribir los datos con inplace=True\n",
    "data.info()"
   ]
  },
  {
   "cell_type": "markdown",
   "metadata": {},
   "source": [
    "#### ocean_proximity\n",
    "Aqui lo que haremos es transformar los valores a valores numericos"
   ]
  },
  {
   "cell_type": "code",
   "execution_count": null,
   "metadata": {},
   "outputs": [],
   "source": [
    "# Manipulacion de Dato Categorico\n",
    "#* Metodo Uno\n",
    "#! El problema es que puede afecta el rendimiento en un algoritmo de clasificacion\n",
    "from sklearn.preprocessing import OrdinalEncoder # Nos permite codificar los numeros\n",
    "\n",
    "data_ocen = data[['ocean_proximity']] # Seleccionamos la columna que queremos codificar,en este caso ocean_proximity \n",
    "\n",
    "ordinal_encoder = OrdinalEncoder() # Creamos el objeto ordinal_encoder \n",
    "data_ocen_encoded = ordinal_encoder.fit_transform(data_ocen)\n"
   ]
  },
  {
   "cell_type": "code",
   "execution_count": null,
   "metadata": {},
   "outputs": [],
   "source": [
    "#\n",
    "#* Metodo 2\n",
    "from sklearn.preprocessing import OneHotEncoder\n",
    "\n",
    "cat_encoder = OneHotEncoder() # Nos permite codificar los datos categoricos en un array de 0 y 1 \n",
    "data_car_1hot = cat_encoder.fit_transform(data_ocen) # Se puede ver que el resultado es un array de 0 y 1 \n",
    "print(data_car_1hot) # 0 significa que no es y 1 significa que si es, es decir si es una categoria o no\n"
   ]
  },
  {
   "cell_type": "code",
   "execution_count": null,
   "metadata": {},
   "outputs": [],
   "source": [
    "#\n",
    "#* Transformarmos a data frame para poder utiizar el resultad\n",
    "\n",
    "encoded_df = pd.DataFrame(data_car_1hot.toarray(), columns=cat_encoder.get_feature_names_out()) # Transformamos el array a un data frame, es decir a una tabla con columnas y filas, y nos muestra el nombre de las columnas  con get_feature_names_out(). Cada columan significa una categoria de la variable ocean_proximity\n",
    "encoded_df"
   ]
  },
  {
   "attachments": {
    "image.png": {
     "image/png": "[encoded data removed]"
    }
   },
   "cell_type": "markdown",
   "metadata": {},
   "source": [
    "# Arbol de Decision\n",
    "Es un algoritmo en donde se divide en varias secciones en donde estaran los datos\n",
    "Estas secciones representan ciertas caracteristicas\n",
    "\n",
    "\n",
    "![image.png](attachment:image.png)\n",
    "\n",
    "\n",
    "Se le pone varias condiciones y se va extendiendo como un arbol\n",
    "\n",
    "Al final cada seccion(division de datos) retornara el promedio \n"
   ]
  },
  {
   "cell_type": "markdown",
   "metadata": {},
   "source": [
    "### Samos la informacion y los Datos"
   ]
  },
  {
   "cell_type": "code",
   "execution_count": null,
   "metadata": {},
   "outputs": [],
   "source": [
    "# Variable Dependiente e Independientes\n",
    "\n",
    "y = data[\"median_house_value\"].values.reshape(-1,1)\n",
    "X =data[[\n",
    "  'median_income',\n",
    "  'rooms_per_household',\n",
    "  'total_rooms',\n",
    "  'housing_median_age',\n",
    "  'households',\n",
    "]]"
   ]
  },
  {
   "cell_type": "code",
   "execution_count": null,
   "metadata": {},
   "outputs": [],
   "source": [
    "#Agregar las variables categoricas\n",
    "data_1 = pd.concat([X, encoded_df], axis=1) # Concatenamos las variables independientes con las variables categoricas, axis significa que se concatenara en las columnas \n",
    "\n",
    "X = data_1.values # nos quedamos con los valores de las variables independientes\n"
   ]
  },
  {
   "cell_type": "code",
   "execution_count": null,
   "metadata": {},
   "outputs": [],
   "source": [
    "### Regresion Lineal (Para comparar)\n",
    "from sklearn.model_selection import train_test_split\n",
    "from sklearn.linear_model import LinearRegression\n",
    "from sklearn.metrics import r2_score\n",
    "\n",
    "X_train, X_test, y_train, y_test = train_test_split(X, y, test_size=0.2, random_state=42)\n",
    "\n",
    "### Entrenamiento y Prediccion\n",
    "\n",
    "li_model = LinearRegression()\n",
    "li_model.fit(X_train, y_train)\n",
    "y_pred = li_model.predict(X_test)\n",
    "\n",
    "### Metricas\n",
    "\n",
    "print(f\"El r2 es: {r2_score(y_test, y_pred)}\")\n",
    "\n",
    "\n"
   ]
  },
  {
   "cell_type": "markdown",
   "metadata": {},
   "source": [
    "### "
   ]
  },
  {
   "cell_type": "markdown",
   "metadata": {},
   "source": [
    "#### Escalar Variable"
   ]
  },
  {
   "cell_type": "code",
   "execution_count": null,
   "metadata": {},
   "outputs": [],
   "source": [
    "### \n",
    "from sklearn.preprocessing import StandardScaler # Nos permite escalar las variables, escalar significa que todas las variables tengan la misma escala, es decir que tengan el mismo rango de valores \n",
    "sc_x = StandardScaler() # Creamos el objeto sc_x \n",
    "X = sc_x.fit_transform(X) # Escalamos las variables independientes, es decir las variables que se usaran para predecir la variable dependiente"
   ]
  },
  {
   "cell_type": "markdown",
   "metadata": {},
   "source": [
    "#### Probamos de Nuevo la regresion Lineal"
   ]
  },
  {
   "cell_type": "code",
   "execution_count": null,
   "metadata": {},
   "outputs": [],
   "source": [
    "\n",
    "X_train, X_test, y_train, y_test = train_test_split(X, y, test_size=0.2, random_state=42)\n",
    "\n",
    "### Entrenamiento y Prediccion\n",
    "\n",
    "li_model = LinearRegression()\n",
    "li_model.fit(X_train, y_train)\n",
    "y_pred = li_model.predict(X_test)\n",
    "\n",
    "### Metricas\n",
    "\n",
    "print(f\"El r2 es: {r2_score(y_test, y_pred)} (no mejoro nada)\")"
   ]
  },
  {
   "cell_type": "code",
   "execution_count": null,
   "metadata": {},
   "outputs": [],
   "source": [
    "columns = [\n",
    "  # Le agregamos las variables latitude y longitude para ver su comportamiento\n",
    "  'median_income',\n",
    "  'rooms_per_household',\n",
    "  'total_rooms',\n",
    "  'housing_median_age',\n",
    "  'households',\n",
    "  'latitude',\n",
    "  'longitude',\n",
    "]\n",
    "y = data[\"median_house_value\"].values.reshape(-1,1) # Variable Dependiente\n",
    "\n",
    "\n",
    "col_modelo = []\n",
    "for col in columns:\n",
    "  col_modelo.append(col)\n",
    "  data_1 = data[col_modelo]\n",
    "  data_1 = pd.concat([data_1, encoded_df], axis=1) # Explicacion: Seleccionamos las columnas que queremos, luego concatenamos las variables independientes con las variables categoricas, axis significa que se concatenara en las columnas \n",
    "  X = data_1.values # nos quedamos con los valores de las variables independientes\n",
    "  \n",
    "  #* De nuevo regresion Lineal\n",
    "  X_train, X_test, y_train, y_test = train_test_split(X, y, test_size=0.2, random_state=42)\n",
    "\n",
    "  li_model = LinearRegression()\n",
    "  li_model.fit(X_train, y_train)\n",
    "  y_pred = li_model.predict(X_test)\n",
    "  \n",
    "  r2 = r2_score(y_test, y_pred)\n",
    "  print(f\"Columns: {col_modelo} , Calificacion: {r2}\")  "
   ]
  },
  {
   "cell_type": "markdown",
   "metadata": {},
   "source": [
    "## Arbol De Decision Code\n"
   ]
  },
  {
   "cell_type": "code",
   "execution_count": null,
   "metadata": {},
   "outputs": [],
   "source": [
    "from sklearn.tree import DecisionTreeRegressor"
   ]
  },
  {
   "cell_type": "code",
   "execution_count": null,
   "metadata": {},
   "outputs": [],
   "source": [
    "columns = [\n",
    "  # Le agregamos las variables latitude y longitude para ver su comportamiento\n",
    "  'median_income',\n",
    "  'rooms_per_household',\n",
    "  'total_rooms',\n",
    "  'housing_median_age',\n",
    "  'households',\n",
    "  'latitude',\n",
    "  'longitude',\n",
    "]\n",
    "y = data[\"median_house_value\"].values.reshape(-1,1) # Variable Dependiente\n",
    "\n",
    "\n",
    "col_modelo = []\n",
    "for col in columns:\n",
    "  col_modelo.append(col)\n",
    "  data_1 = data[col_modelo]\n",
    "  data_1 = pd.concat([data_1, encoded_df], axis=1) # Explicacion: Seleccionamos las columnas que queremos, luego concatenamos las variables independientes con las variables categoricas, axis significa que se concatenara en las columnas \n",
    "  X = data_1.values # nos quedamos con los valores de las variables independientes\n",
    "  \n",
    "  #* De nuevo regresion Lineal\n",
    "  X_train, X_test, y_train, y_test = train_test_split(X, y, test_size=0.2, random_state=42)\n",
    "\n",
    "  tree_model = DecisionTreeRegressor()\n",
    "  tree_model.fit(X_train, y_train)\n",
    "  y_pred = tree_model.predict(X_test)\n",
    "  \n",
    "  r2 = r2_score(y_test, y_pred)\n",
    "  print(f\"Columns: {col_modelo} , Calificacion: {r2}\")  "
   ]
  },
  {
   "cell_type": "markdown",
   "metadata": {},
   "source": [
    "# Bosque de Decision\n",
    "\n",
    "Hay mas arboles cual cada uno retorna un valor\n"
   ]
  },
  {
   "cell_type": "code",
   "execution_count": null,
   "metadata": {},
   "outputs": [],
   "source": [
    "from sklearn.ensemble import RandomForestRegressor\n"
   ]
  },
  {
   "cell_type": "code",
   "execution_count": null,
   "metadata": {},
   "outputs": [],
   "source": [
    "columns = [\n",
    "  # Le agregamos las variables latitude y longitude para ver su comportamiento\n",
    "  'median_income',\n",
    "  'rooms_per_household',\n",
    "  'total_rooms',\n",
    "  'housing_median_age',\n",
    "  'households',\n",
    "  'latitude',\n",
    "  'longitude',\n",
    "]\n",
    "y = data[\"median_house_value\"].values # Variable Dependiente\n",
    "\n",
    "\n",
    "col_modelo = []\n",
    "for col in columns:\n",
    "  col_modelo.append(col)\n",
    "  data_1 = data[col_modelo]\n",
    "  data_1 = pd.concat([data_1, encoded_df], axis=1) # Explicacion: Seleccionamos las columnas que queremos, luego concatenamos las variables independientes con las variables categoricas, axis significa que se concatenara en las columnas \n",
    "  X = data_1.values # nos quedamos con los valores de las variables independientes\n",
    "  \n",
    "  \n",
    "  #* De nuevo regresion Lineal\n",
    "  X_train, X_test, y_train, y_test = train_test_split(X, y, test_size=0.2, random_state=42)\n",
    "\n",
    "  forest_model = RandomForestRegressor()\n",
    "  forest_model.fit(X_train, y_train)\n",
    "  y_pred = forest_model.predict(X_test)\n",
    "  \n",
    "  r2 = r2_score(y_test, y_pred)\n",
    "  print(f\"Columns: {col_modelo} , Calificacion: {r2}\")  "
   ]
  }
 ],
 "metadata": {
  "kernelspec": {
   "display_name": "Python 3",
   "language": "python",
   "name": "python3"
  },
  "language_info": {
   "codemirror_mode": {
    "name": "ipython",
    "version": 3
   },
   "file_extension": ".py",
   "mimetype": "text/x-python",
   "name": "python",
   "nbconvert_exporter": "python",
   "pygments_lexer": "ipython3",
   "version": "3.11.7"
  }
 },
 "nbformat": 4,
 "nbformat_minor": 2
}
