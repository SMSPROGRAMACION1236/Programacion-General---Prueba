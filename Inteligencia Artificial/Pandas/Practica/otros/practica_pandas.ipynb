{
 "cells": [
  {
   "cell_type": "markdown",
   "metadata": {},
   "source": [
    "#https://aprendeconalf.es/docencia/python/ejercicios/pandas/\n",
    "#### Ejercicio 1\n",
    "Escribir un programa que pregunte al usuario por las ventas de un rango de años y muestre por pantalla una serie con los datos de las ventas indexada por los años, antes y después de aplicarles un descuento del 10%."
   ]
  },
  {
   "cell_type": "code",
   "execution_count": 2,
   "metadata": {},
   "outputs": [
    {
     "name": "stderr",
     "output_type": "stream",
     "text": [
      "C:\\Users\\santi\\AppData\\Local\\Temp\\ipykernel_9180\\1717875819.py:1: DeprecationWarning: \n",
      "Pyarrow will become a required dependency of pandas in the next major release of pandas (pandas 3.0),\n",
      "(to allow more performant data types, such as the Arrow string type, and better interoperability with other libraries)\n",
      "but was not found to be installed on your system.\n",
      "If this would cause problems for you,\n",
      "please provide us feedback at https://github.com/pandas-dev/pandas/issues/54466\n",
      "        \n",
      "  import pandas as pd\n"
     ]
    },
    {
     "name": "stdout",
     "output_type": "stream",
     "text": [
      "Empty DataFrame\n",
      "Columns: [Year, Price, Discount]\n",
      "Index: []\n",
      "   Year  Price  Discount\n",
      "0   2.0    3.0       2.7\n",
      "1   3.0    3.0       2.7\n"
     ]
    }
   ],
   "source": [
    "import pandas as pd\n",
    "3\n",
    "vt = pd.DataFrame(columns=[ \"Year\", \"Price\", \"Discount\"])\n",
    "print(vt)\n",
    "start_year = int(input(\"Enter the incial year: \"))\n",
    "end_year = int(input(\"Enter the final year: \"))\n",
    "for i in range(start_year, end_year+1):\n",
    "  price = int(input(\"Enter the price: \"))\n",
    "  vt.loc[len(vt)] = [i, price, price -(price*0.1)]\n",
    "print(vt)"
   ]
  },
  {
   "cell_type": "markdown",
   "metadata": {},
   "source": [
    "#### Ejercicio 2\n",
    "Escribir una función que reciba un diccionario con las notas de los alumno de un curso y devuelva una serie con la nota mínima, la máxima, media y la desviación típica."
   ]
  },
  {
   "cell_type": "code",
   "execution_count": 37,
   "metadata": {},
   "outputs": [
    {
     "name": "stdout",
     "output_type": "stream",
     "text": [
      "Minimo        10.0\n",
      "Maximo        30.0\n",
      "Media         17.4\n",
      "Desviacion     3.7\n",
      "dtype: float64\n"
     ]
    }
   ],
   "source": [
    "import pandas as pd\n",
    "notas = {\"Peter\":10, \"Maria\":20, \"Thiago\":15, \"Richard\":30, \"Pablo\": 12}\n",
    "\n",
    "\n",
    "def middle(nom_calif: dict):\n",
    "  media = 0\n",
    "  for valor in nom_calif.values():\n",
    "    media += valor\n",
    "  final_media = media / len(nom_calif.values())\n",
    "  return final_media\n",
    "def desviation(nom_calif:dict):\n",
    "  varianza = 0\n",
    "  media = middle(nom_calif)\n",
    "  for i in nom_calif.values():\n",
    "    varianza =+ (i - media)**2\n",
    "    final_varianza = varianza / (len(nom_calif.values()) - 1)\n",
    "    return final_varianza ** 0.5\n",
    "def set_serie(nom_calif:dict):\n",
    "  desviacion = desviation(nom_calif)\n",
    "  media = middle(nom_calif)\n",
    "  minimo = min(notas.values())\n",
    "  maximo = max(notas.values())\n",
    "  return pd.Series([minimo, maximo, media, desviacion],index=[\"Minimo\",\"Maximo\",\"Media\", \"Desviacion\"])\n",
    "  \n",
    "print(set_serie({\"Peter\":10, \"Maria\":20, \"Thiago\":15, \"Richard\":30, \"Pablo\": 12}))\n"
   ]
  },
  {
   "cell_type": "markdown",
   "metadata": {},
   "source": [
    "#### Ejercicio 3\n",
    "Escribir una función que reciba un diccionario con las notas de los alumnos de un curso y devuelva una serie con las notas de los alumnos aprobados ordenadas de mayor a menor."
   ]
  },
  {
   "cell_type": "code",
   "execution_count": 102,
   "metadata": {},
   "outputs": [
    {
     "name": "stdout",
     "output_type": "stream",
     "text": [
      "Maria      15\n",
      "Thiago     20\n",
      "Richard    30\n",
      "dtype: int64\n"
     ]
    }
   ],
   "source": [
    "def student_ordered_notes(grades:dict):\n",
    "  dict_list = {clave:valor for clave, valor in grades.items() if valor >12}\n",
    "  value_list = [n for n in dict_list.values()]\n",
    "  index_list = [j for j in dict_list.keys()]\n",
    "  return pd.Series(sorted(value_list),index=index_list)\n",
    "print(student_ordered_notes({\"Peter\":10, \"Maria\":20, \"Thiago\":15, \"Richard\":30, \"Pablo\": 12}))\n"
   ]
  },
  {
   "cell_type": "markdown",
   "metadata": {},
   "source": [
    "#### Ejercicio 4\n",
    "Escribir programa que genere y muestre por pantalla un DataFrame con los datos de la tabla siguiente:\n",
    "\n"
   ]
  },
  {
   "cell_type": "code",
   "execution_count": 11,
   "metadata": {},
   "outputs": [
    {
     "name": "stdout",
     "output_type": "stream",
     "text": [
      "       Mes  Ventas  Gastos\n",
      "0    Enero   30500   22000\n",
      "1  Febrero   35600   23400\n",
      "2    Marzo   28300   18100\n",
      "3    Abril   33900   20700\n"
     ]
    }
   ],
   "source": [
    "conta = pd.DataFrame(columns=[\"Mes\",\"Ventas\",\"Gastos\"])\n",
    "months = [\"Enero\",\"Febrero\",\"Marzo\",\"Abril\"]\n",
    "ventas = [30500, 35600,28300,33900]\n",
    "gastos = [22000,23400,18100,20700]\n",
    "\n",
    "\n",
    "for k,j,t in zip(months,ventas, gastos):\n",
    "  conta.loc[len(conta)] = [k,j,t]\n",
    "print(conta)"
   ]
  },
  {
   "cell_type": "markdown",
   "metadata": {},
   "source": [
    "#### Ejercicio 5\n",
    "Escribir una función que reciba un DataFrame con el formato del ejercicio anterior, una lista de meses, y devuelva el balance (ventas - gastos) total en los meses indicados\n"
   ]
  },
  {
   "cell_type": "code",
   "execution_count": 40,
   "metadata": {},
   "outputs": [
    {
     "name": "stdout",
     "output_type": "stream",
     "text": [
      "       Mes  Ventas  Gastos  Balance\n",
      "0    Enero   30500   22000     8500\n",
      "1  Febrero   35600   23400    12200\n",
      "2    Marzo   28300   18100    10200\n",
      "3    Abril   33900   20700    13200\n"
     ]
    }
   ],
   "source": [
    "def show_balance(frame:pd.DataFrame):\n",
    "  frame[\"Balance\"] = frame[\"Ventas\"] - frame[\"Gastos\"] \n",
    "  return frame\n",
    "print(show_balance(conta))"
   ]
  }
 ],
 "metadata": {
  "kernelspec": {
   "display_name": "Python 3",
   "language": "python",
   "name": "python3"
  },
  "language_info": {
   "codemirror_mode": {
    "name": "ipython",
    "version": 3
   },
   "file_extension": ".py",
   "mimetype": "text/x-python",
   "name": "python",
   "nbconvert_exporter": "python",
   "pygments_lexer": "ipython3",
   "version": "3.11.7"
  }
 },
 "nbformat": 4,
 "nbformat_minor": 2
}
