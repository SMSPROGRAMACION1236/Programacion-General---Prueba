one_class = df.loc[df['Pclass'] == 0]
print(len(one_class))