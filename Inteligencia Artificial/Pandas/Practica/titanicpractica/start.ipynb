{
 "cells": [
  {
   "cell_type": "markdown",
   "metadata": {},
   "source": [
    "### This is a practical  exercise, provided by bard\n",
    "###### https://gemini.google.com/u/1/app/000b6363a5ee133b?hl=es"
   ]
  },
  {
   "cell_type": "markdown",
   "metadata": {},
   "source": [
    "# STEPS"
   ]
  },
  {
   "cell_type": "markdown",
   "metadata": {},
   "source": [
    "#### 1. Import the cvs file"
   ]
  },
  {
   "cell_type": "markdown",
   "metadata": {},
   "source": []
  },
  {
   "cell_type": "code",
   "execution_count": 42,
   "metadata": {},
   "outputs": [],
   "source": [
    "### We import the pandas and init the file\n",
    "import pandas as pd\n",
    "import matplotlib.pyplot  as plt\n",
    "\n",
    "df = pd.read_csv(\"Titanic.csv\")\n"
   ]
  },
  {
   "cell_type": "code",
   "execution_count": 43,
   "metadata": {},
   "outputs": [
    {
     "name": "stdout",
     "output_type": "stream",
     "text": [
      "0       NaN\n",
      "1       NaN\n",
      "2       NaN\n",
      "3       NaN\n",
      "4       NaN\n",
      "       ... \n",
      "413     NaN\n",
      "414    C105\n",
      "415     NaN\n",
      "416     NaN\n",
      "417     NaN\n",
      "Name: Cabin, Length: 418, dtype: object\n"
     ]
    }
   ],
   "source": [
    "## Show all the data\n",
    "print(df[\"Cabin\"])"
   ]
  },
  {
   "cell_type": "code",
   "execution_count": 44,
   "metadata": {},
   "outputs": [
    {
     "name": "stdout",
     "output_type": "stream",
     "text": [
      "Index(['PassengerId', 'Survived', 'Pclass', 'Name', 'Sex', 'Age', 'SibSp',\n",
      "       'Parch', 'Ticket', 'Fare', 'Cabin', 'Embarked'],\n",
      "      dtype='object')\n"
     ]
    }
   ],
   "source": [
    "## Show the names of the columns\n",
    "print(df.columns)"
   ]
  },
  {
   "cell_type": "code",
   "execution_count": 45,
   "metadata": {},
   "outputs": [
    {
     "name": "stdout",
     "output_type": "stream",
     "text": [
      "   PassengerId  Survived  Pclass  \\\n",
      "0          892         0       3   \n",
      "1          893         1       3   \n",
      "2          894         0       2   \n",
      "3          895         0       3   \n",
      "4          896         1       3   \n",
      "5          897         0       3   \n",
      "\n",
      "                                           Name     Sex   Age  SibSp  Parch  \\\n",
      "0                              Kelly, Mr. James    male  34.5      0      0   \n",
      "1              Wilkes, Mrs. James (Ellen Needs)  female  47.0      1      0   \n",
      "2                     Myles, Mr. Thomas Francis    male  62.0      0      0   \n",
      "3                              Wirz, Mr. Albert    male  27.0      0      0   \n",
      "4  Hirvonen, Mrs. Alexander (Helga E Lindqvist)  female  22.0      1      1   \n",
      "5                    Svensson, Mr. Johan Cervin    male  14.0      0      0   \n",
      "\n",
      "    Ticket     Fare Cabin Embarked  \n",
      "0   330911   7.8292   NaN        Q  \n",
      "1   363272   7.0000   NaN        S  \n",
      "2   240276   9.6875   NaN        Q  \n",
      "3   315154   8.6625   NaN        S  \n",
      "4  3101298  12.2875   NaN        S  \n",
      "5     7538   9.2250   NaN        S  \n"
     ]
    }
   ],
   "source": [
    "## Show the first five rows\n",
    "print(df.head(6))"
   ]
  },
  {
   "cell_type": "markdown",
   "metadata": {},
   "source": [
    "#### 2. Filter Data"
   ]
  },
  {
   "cell_type": "code",
   "execution_count": 46,
   "metadata": {},
   "outputs": [
    {
     "name": "stdout",
     "output_type": "stream",
     "text": [
      "The numbers of female are: 266\n",
      "They are: \n",
      "0                  Kelly, Mr. James\n",
      "2         Myles, Mr. Thomas Francis\n",
      "3                  Wirz, Mr. Albert\n",
      "5        Svensson, Mr. Johan Cervin\n",
      "7      Caldwell, Mr. Albert Francis\n",
      "                   ...             \n",
      "407      Widener, Mr. George Dunton\n",
      "413              Spector, Mr. Woolf\n",
      "415    Saether, Mr. Simon Sivertsen\n",
      "416             Ware, Mr. Frederick\n",
      "417        Peter, Master. Michael J\n",
      "Name: Name, Length: 266, dtype: object\n"
     ]
    }
   ],
   "source": [
    "## Select just the rows where the sex is female\n",
    "length_of_female = df.loc[df[\"Sex\"] == 'male']\n",
    "print(f\"The numbers of female are: {len(length_of_female)}\")\n",
    "print(f'They are: ')\n",
    "print(length_of_female[\"Name\"])\n"
   ]
  },
  {
   "cell_type": "code",
   "execution_count": 47,
   "metadata": {},
   "outputs": [
    {
     "name": "stdout",
     "output_type": "stream",
     "text": [
      "There are: 132 people older than 30 years old\n",
      "These persons are: \n",
      "0                                     Kelly, Mr. James\n",
      "1                     Wilkes, Mrs. James (Ellen Needs)\n",
      "2                            Myles, Mr. Thomas Francis\n",
      "11                          Jones, Mr. Charles Cresson\n",
      "13                                Howard, Mr. Benjamin\n",
      "                            ...                       \n",
      "404                       Frauenthal, Mr. Isaac Gerald\n",
      "407                         Widener, Mr. George Dunton\n",
      "411    Minahan, Mrs. William Edward (Lillian E Thorpe)\n",
      "414                       Oliva y Ocana, Dona. Fermina\n",
      "415                       Saether, Mr. Simon Sivertsen\n",
      "Name: Name, Length: 132, dtype: object\n"
     ]
    }
   ],
   "source": [
    "## Select just the rows where the age is biggest than 30 years\n",
    "thirty_years_old = df.loc[df['Age'] > 30]\n",
    "print(f\"There are: {len(thirty_years_old)} people older than 30 years old\")\n",
    "print(f'These persons are: ')\n",
    "print(thirty_years_old['Name'])"
   ]
  },
  {
   "cell_type": "code",
   "execution_count": 48,
   "metadata": {},
   "outputs": [
    {
     "name": "stdout",
     "output_type": "stream",
     "text": [
      "The numbers of survivors are: 152\n",
      "These persons are: \n",
      "1                     Wilkes, Mrs. James (Ellen Needs)\n",
      "4         Hirvonen, Mrs. Alexander (Helga E Lindqvist)\n",
      "6                                 Connolly, Miss. Kate\n",
      "8            Abrahim, Mrs. Joseph (Sophie Halaut Easu)\n",
      "12       Snyder, Mrs. John Pillsbury (Nelle Stevenson)\n",
      "                            ...                       \n",
      "409                          Peacock, Miss. Treasteall\n",
      "410                             Naughton, Miss. Hannah\n",
      "411    Minahan, Mrs. William Edward (Lillian E Thorpe)\n",
      "412                     Henriksson, Miss. Jenny Lovisa\n",
      "414                       Oliva y Ocana, Dona. Fermina\n",
      "Name: Name, Length: 152, dtype: object\n"
     ]
    }
   ],
   "source": [
    "## Select just the people who have survived( The Survivors)\n",
    "\n",
    "survivors = df.loc[df['Survived'] == True]\n",
    "print(f'The numbers of survivors are: {len(survivors)}')\n",
    "print(\"These persons are: \")\n",
    "print(survivors['Name'])"
   ]
  },
  {
   "cell_type": "markdown",
   "metadata": {},
   "source": [
    "#### 3. Modify Data"
   ]
  },
  {
   "cell_type": "code",
   "execution_count": 49,
   "metadata": {},
   "outputs": [],
   "source": [
    "## Create a column calling surname, that mix the name and the lastname of the passenger\n",
    "\n",
    "# df['fullname'] = df['Name'] + df['']"
   ]
  },
  {
   "cell_type": "code",
   "execution_count": 50,
   "metadata": {},
   "outputs": [
    {
     "name": "stdout",
     "output_type": "stream",
     "text": [
      "0      M\n",
      "1      F\n",
      "2      M\n",
      "3      M\n",
      "4      F\n",
      "      ..\n",
      "413    M\n",
      "414    F\n",
      "415    M\n",
      "416    M\n",
      "417    M\n",
      "Name: Sex, Length: 418, dtype: object\n"
     ]
    }
   ],
   "source": [
    "## change the value of the column Sex  to M when it is male and F when it is female\n",
    "df.loc[df['Sex'] =='male', \"Sex\"] = \"M\"  # From male to M\n",
    "df.loc[df['Sex'] == \"female\", \"Sex\"] = \"F\"  # From female to F\n",
    "print(df[\"Sex\"])"
   ]
  },
  {
   "cell_type": "code",
   "execution_count": 51,
   "metadata": {},
   "outputs": [
    {
     "name": "stdout",
     "output_type": "stream",
     "text": [
      "     PassengerId  Survived  Pclass  \\\n",
      "0            892         0       3   \n",
      "1            893         1       3   \n",
      "2            894         0       2   \n",
      "3            895         0       3   \n",
      "4            896         1       3   \n",
      "..           ...       ...     ...   \n",
      "413         1305         0       3   \n",
      "414         1306         1       1   \n",
      "415         1307         0       3   \n",
      "416         1308         0       3   \n",
      "417         1309         0       3   \n",
      "\n",
      "                                             Name Sex   Age  SibSp  Parch  \\\n",
      "0                                Kelly, Mr. James   M  34.5      0      0   \n",
      "1                Wilkes, Mrs. James (Ellen Needs)   F  47.0      1      0   \n",
      "2                       Myles, Mr. Thomas Francis   M  62.0      0      0   \n",
      "3                                Wirz, Mr. Albert   M  27.0      0      0   \n",
      "4    Hirvonen, Mrs. Alexander (Helga E Lindqvist)   F  22.0      1      1   \n",
      "..                                            ...  ..   ...    ...    ...   \n",
      "413                            Spector, Mr. Woolf   M   NaN      0      0   \n",
      "414                  Oliva y Ocana, Dona. Fermina   F  39.0      0      0   \n",
      "415                  Saether, Mr. Simon Sivertsen   M  38.5      0      0   \n",
      "416                           Ware, Mr. Frederick   M   NaN      0      0   \n",
      "417                      Peter, Master. Michael J   M   NaN      1      1   \n",
      "\n",
      "                 Ticket      Fare Embarked  \n",
      "0                330911    7.8292        Q  \n",
      "1                363272    7.0000        S  \n",
      "2                240276    9.6875        Q  \n",
      "3                315154    8.6625        S  \n",
      "4               3101298   12.2875        S  \n",
      "..                  ...       ...      ...  \n",
      "413           A.5. 3236    8.0500        S  \n",
      "414            PC 17758  108.9000        C  \n",
      "415  SOTON/O.Q. 3101262    7.2500        S  \n",
      "416              359309    8.0500        S  \n",
      "417                2668   22.3583        C  \n",
      "\n",
      "[418 rows x 11 columns]\n"
     ]
    }
   ],
   "source": [
    "## Deleted the column cabin\n",
    "# I've not deleted from the original DB, i've\n",
    "df_deleted_cabin = df.drop(columns= [\"Cabin\"]) \n",
    "print(df_deleted_cabin)"
   ]
  },
  {
   "cell_type": "markdown",
   "metadata": {},
   "source": [
    "#### 4 Group data"
   ]
  },
  {
   "cell_type": "code",
   "execution_count": 52,
   "metadata": {},
   "outputs": [
    {
     "name": "stdout",
     "output_type": "stream",
     "text": [
      "In the first class, there are: 107 persons\n",
      "In the second class, there are: 93 persons\n",
      "In the thirth class, there are: 218 persons\n"
     ]
    }
   ],
   "source": [
    "## Group the data by the class of the passenger and calculate the quantity of passengers in each class'\n",
    "one_class = df.loc[df['Pclass'] == 1]\n",
    "\n",
    "two_class = df.loc[df[\"Pclass\"] ==2 ]\n",
    "\n",
    "three_class = df.loc[df[\"Pclass\"] ==3 ]\n",
    "\n",
    "print(f\"In the first class, there are: {len(one_class)} persons\")\n",
    "print(f\"In the second class, there are: {len(two_class)} persons\")\n",
    "print(f\"In the thirth class, there are: {len(three_class)} persons\")"
   ]
  },
  {
   "cell_type": "code",
   "execution_count": 53,
   "metadata": {},
   "outputs": [
    {
     "name": "stdout",
     "output_type": "stream",
     "text": [
      "0.0\n",
      "36.36363636363637\n"
     ]
    }
   ],
   "source": [
    "## Group the data by sex of the passenger and calculate the fax(tasa) of survivor for each sex\n",
    "\n",
    "female_survivor_amount = df.loc[(df[\"Sex\"] == \"F\") & (df[\"Survived\"] ==1)]\n",
    "\n",
    "male_survivor_amount =  df.loc[(df[\"Sex\"] == \"M\") & (df[\"Survived\"] ==1)]\n",
    "\n",
    "male_survivor_percent = (len(male_survivor_amount) / len(df)) *100\n",
    "print(male_survivor_percent)\n",
    "female_survivor_percent = (len(female_survivor_amount) / (len(df))) *100\n",
    "print(female_survivor_percent)\n",
    "\n"
   ]
  },
  {
   "cell_type": "markdown",
   "metadata": {},
   "source": [
    "#### Visualizar datos\n"
   ]
  },
  {
   "cell_type": "code",
   "execution_count": 66,
   "metadata": {},
   "outputs": [
    {
     "name": "stdout",
     "output_type": "stream",
     "text": [
      "266\n"
     ]
    },
    {
     "data": {
      "text/plain": [
       "(array([0., 0., 0., 0., 0., 1., 0., 0., 0., 0.]),\n",
       " array([19.5, 19.6, 19.7, 19.8, 19.9, 20. , 20.1, 20.2, 20.3, 20.4, 20.5]),\n",
       " <BarContainer object of 10 artists>)"
      ]
     },
     "execution_count": 66,
     "metadata": {},
     "output_type": "execute_result"
    },
    {
     "data": {
      "image/png": "[encoded data removed]",
      "text/plain": [
       "<Figure size 640x480 with 1 Axes>"
      ]
     },
     "metadata": {},
     "output_type": "display_data"
    }
   ],
   "source": [
    "#Crear un histograma de la edad de los pasajeros\n",
    "ages_man = df.loc[df[\"Sex\"] == \"M\"]\n",
    "print(len(ages_man))\n",
    "\n",
    "plt.hist(20)"
   ]
  }
 ],
 "metadata": {
  "kernelspec": {
   "display_name": "Python 3",
   "language": "python",
   "name": "python3"
  },
  "language_info": {
   "codemirror_mode": {
    "name": "ipython",
    "version": 3
   },
   "file_extension": ".py",
   "mimetype": "text/x-python",
   "name": "python",
   "nbconvert_exporter": "python",
   "pygments_lexer": "ipython3",
   "version": "3.11.7"
  }
 },
 "nbformat": 4,
 "nbformat_minor": 2
}
