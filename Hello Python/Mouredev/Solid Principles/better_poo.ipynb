{
 "cells": [
  {
   "cell_type": "markdown",
   "metadata": {},
   "source": [
    "https://gemini.google.com/u/0/app/51608414ea39b649?hl=es\n",
    "\n",
    "Aqui hare una nueva practica repasando todo lo del Curso de POO, y sobre todo implementando mejor el tema de los principios SOLID"
   ]
  },
  {
   "cell_type": "markdown",
   "metadata": {},
   "source": [
    "## Clases y Objetos"
   ]
  },
  {
   "cell_type": "markdown",
   "metadata": {},
   "source": [
    "#### Ejercicio 1: Crea una clase llamada \"Perro\".\n",
    "Atributos: nombre, raza, edad.\n",
    "\n",
    "Métodos: ladrar(), jugar().\n",
    "\n",
    "Instancia: Crea un objeto \"mi_perro\" y asigna valores a sus atributos. Luego, haz que el perro ladre y juegue.\n"
   ]
  },
  {
   "cell_type": "code",
   "execution_count": 1,
   "metadata": {},
   "outputs": [
    {
     "data": {
      "text/plain": [
       "'Guau Guau'"
      ]
     },
     "execution_count": 1,
     "metadata": {},
     "output_type": "execute_result"
    }
   ],
   "source": [
    "class Dog:\n",
    "  def __init__(self, nombre, raza, edad):\n",
    "    self.nombre = nombre\n",
    "    self.raza = raza\n",
    "    self.edad = edad\n",
    "  def ladrar(self):\n",
    "    return \"Guau Guau\"\n",
    "  def jugar(self):\n",
    "    return \"Jugando\"\n",
    "mi_perro = Dog(\"Doller\",\"Mestizo\", \"14\")\n",
    "mi_perro.jugar()\n",
    "mi_perro.ladrar()"
   ]
  },
  {
   "cell_type": "markdown",
   "metadata": {},
   "source": [
    "#### Crea una clase llamada \"Coche\".\n",
    "Atributos: marca, modelo, color, año.\n",
    "\n",
    "Métodos: acelerar(), frenar().\n",
    "\n",
    "Instancia: Crea un objeto \"mi_coche\" y utilízalo para acelerar y frenar."
   ]
  },
  {
   "cell_type": "code",
   "execution_count": 2,
   "metadata": {},
   "outputs": [
    {
     "name": "stdout",
     "output_type": "stream",
     "text": [
      "Acelerando\n"
     ]
    }
   ],
   "source": [
    "class Coche:\n",
    "  def __init__(self, marca, color, año):\n",
    "    self.marca = marca\n",
    "    self.color  = color\n",
    "    self.año = año\n",
    "  def acelerar(self):\n",
    "\n",
    "    return \"Acelerando\"\n",
    "  def frenar(self):\n",
    "    return \"frenar\"\n",
    "mi_coche = Coche(\"Toyota\", \"rojo\", 1994)\n",
    "print(mi_coche.acelerar())\n",
    "  "
   ]
  },
  {
   "cell_type": "code",
   "execution_count": null,
   "metadata": {},
   "outputs": [],
   "source": []
  },
  {
   "cell_type": "markdown",
   "metadata": {},
   "source": [
    "## Herencia Simple"
   ]
  },
  {
   "cell_type": "markdown",
   "metadata": {},
   "source": [
    "#### Crea una clase base llamada \"Animal\".\n",
    "Atributos: nombre, especie.\n",
    "\n",
    "Métodos: comer(), dormir().\n",
    "\n",
    "#### Crea una clase \"Perro\" que herede de \"Animal\".\n",
    "Atributos: raza.\n",
    "\n",
    "Métodos: ladrar().\n",
    "\n",
    "#### Crea una clase \"Gato\" que herede de \"Animal\".\n",
    "Atributos: color.\n",
    "\n",
    "Métodos: maullar().\n",
    "\n",
    "Instancia: Crea objetos de tipo \"Perro\" y \"Gato\" y utiliza sus métodos."
   ]
  },
  {
   "cell_type": "code",
   "execution_count": 3,
   "metadata": {},
   "outputs": [
    {
     "data": {
      "text/plain": [
       "'Dormiendo'"
      ]
     },
     "execution_count": 3,
     "metadata": {},
     "output_type": "execute_result"
    }
   ],
   "source": [
    "class Animal:\n",
    "  def __init__(self, nombre, especie):\n",
    "    self.nombre = nombre\n",
    "    self.especie = especie\n",
    "  def comer(self):\n",
    "    return \"Comiendo\"\n",
    "  def dormir(self):\n",
    "    return \"Dormiendo\"\n",
    "class Perro(Animal):\n",
    "  def __init__(self, nombre, especie, raza):\n",
    "    super().__init__(nombre, especie)\n",
    "    self.raza = raza\n",
    "  def ladrar(self):\n",
    "    return \"Guau Guau\"\n",
    "class Gato(Animal):\n",
    "  def __init__(self, nombre, especie,color):\n",
    "    super().__init__(nombre, especie)\n",
    "    self. color = color\n",
    "  def maullar(self):\n",
    "    return \"Maullar\"\n",
    "  \n",
    "perrito = Perro(\"Doller\",\"Canina\",\"Labrador\")\n",
    "perrito.dormir()\n",
    "gatito = Gato(\"Demon\",\"Felino\",\"rojo\")\n",
    "gatito.dormir()"
   ]
  },
  {
   "cell_type": "code",
   "execution_count": null,
   "metadata": {},
   "outputs": [],
   "source": []
  },
  {
   "cell_type": "markdown",
   "metadata": {},
   "source": [
    "## Herencia Multiple"
   ]
  },
  {
   "cell_type": "markdown",
   "metadata": {},
   "source": [
    "### Ejercicio 1\n",
    "####   Crea una clase \"Volador\".\n",
    "Método: volar().\n",
    "\n",
    "#### Crea una clase \"Nadador\".\n",
    "Método: nadar().\n",
    "\n",
    "#### Crea una clase \"Pato\" que herede tanto de \"Volador\" como de \"Nadador\".\n",
    "Instancia: Crea un objeto \"pato\" y haz que vuele y nade."
   ]
  },
  {
   "cell_type": "code",
   "execution_count": 4,
   "metadata": {},
   "outputs": [
    {
     "data": {
      "text/plain": [
       "'El pato esta Nadando y tambine esta Volando'"
      ]
     },
     "execution_count": 4,
     "metadata": {},
     "output_type": "execute_result"
    }
   ],
   "source": [
    "class Volador:\n",
    "  def __init__(self):\n",
    "    pass\n",
    "  def volar():\n",
    "    return \"Volando\"\n",
    "class Nadador:\n",
    "  def __init__(self):\n",
    "    pass\n",
    "  def nadar():\n",
    "    return \"Nadando\"\n",
    "class Pato(Volador, Nadador):\n",
    "  def __init__():\n",
    "    Volador.__init__()\n",
    "    Nadador.__init__()\n",
    "  def nadar_y_volar():\n",
    "    return f\"El pato esta {Nadador.nadar()} y tambine esta {Volador.volar()}\"\n",
    "patito = Pato\n",
    "patito.nadar_y_volar()"
   ]
  },
  {
   "cell_type": "markdown",
   "metadata": {},
   "source": [
    "### Ejercicio 2\n",
    "#### Un zoológico:\n",
    "\n",
    "Clases base: Animal (nombre, especie, sonido), Mamífero (número de patas), Ave (color de plumas).\n",
    "\n",
    "Clases derivadas: León, Tigre (ambas heredan de Mamífero), Canario, Águila (ambas heredan de Ave).\n",
    "\n",
    "Métodos: Cada animal tendrá un método específico para hacer su sonido (rugir, maullar, cantar, chillar).\n",
    "\n",
    "\n",
    "Instancias: Crea varios animales y haz que hagan sus sonidos."
   ]
  },
  {
   "cell_type": "code",
   "execution_count": 5,
   "metadata": {},
   "outputs": [
    {
     "name": "stdout",
     "output_type": "stream",
     "text": [
      "Soy Tigre y digo Wasaaa\n"
     ]
    }
   ],
   "source": [
    "class Animal:\n",
    "    def __init__(self, nombre, especie, sonido):\n",
    "        self.nombre = nombre\n",
    "        self.especie = especie\n",
    "        self.sonido = sonido\n",
    "\n",
    "class Manifero(Animal):\n",
    "    def __init__(self, nombre, especie, sonido, num_patas):\n",
    "        super().__init__(nombre, especie, sonido)\n",
    "        self.num_patas = num_patas\n",
    "\n",
    "class Ave(Animal):\n",
    "    def __init__(self, nombre, especie, sonido, pluma_color):\n",
    "        super().__init__(nombre, especie, sonido)\n",
    "        self.pluma_color = pluma_color\n",
    "\n",
    "class Leon(Manifero):\n",
    "    def __init__(self, nombre, especie, sonido, num_patas):\n",
    "        super().__init__(nombre, especie, sonido, num_patas)\n",
    "    def hacer_ruido(self):\n",
    "        return \"Soy LEON y digo Wasaaa\"\n",
    "\n",
    "class Tigre(Manifero):\n",
    "    def __init__(self, nombre, especie, sonido, num_patas):\n",
    "        super().__init__(nombre, especie, sonido, num_patas)\n",
    "    def hacer_ruido(self):\n",
    "        return \"Soy Tigre y digo Wasaaa\"\n",
    "\n",
    "class Canario(Ave):\n",
    "    def __init__(self, nombre, especie, sonido, pluma_color):\n",
    "        super().__init__(nombre, especie, sonido, pluma_color)\n",
    "    def hacer_ruido(self):\n",
    "        return \"Soy Canario y digo Wasaaa\"\n",
    "\n",
    "class Aguila(Ave):\n",
    "    def __init__(self, nombre, especie, sonido, pluma_color):\n",
    "        super().__init__(nombre, especie, sonido, pluma_color)\n",
    "    def hacer_ruido(self):\n",
    "        return \"Soy Aguila y digo Wasaaa\"\n",
    "\n",
    "tigre = Tigre(\"Don Tigre\", \"Tigresa\", \"Wasaaa\", 4)\n",
    "print(tigre.hacer_ruido())\n"
   ]
  },
  {
   "cell_type": "markdown",
   "metadata": {},
   "source": [
    "### Ejercicio 3\n",
    "#### Personajes de un videojuego:\n",
    "\n",
    "Clase base: Personaje (nombre, vida, fuerza).\n",
    "\n",
    "Clases derivadas: Guerrero, Mago, Arquero (cada uno con habilidades especiales).\n",
    "\n",
    "Métodos: Cada personaje tendrá métodos para atacar, defenderse y usar habilidades especiales.\n",
    "\n",
    "Instancias: Crea diferentes personajes y haz que luchen entre sí."
   ]
  },
  {
   "cell_type": "code",
   "execution_count": 6,
   "metadata": {},
   "outputs": [
    {
     "name": "stdout",
     "output_type": "stream",
     "text": [
      "El mago se esta defendiendo\n"
     ]
    }
   ],
   "source": [
    "class Personaje:\n",
    "  def __init__(self, nombre, vida, fuerza):\n",
    "    self.nombre = nombre\n",
    "    self.vida = vida\n",
    "    self.fuerza = fuerza\n",
    "class Guerrero(Personaje):\n",
    "  def __init__(self, nombre, vida, fuerza):\n",
    "    super().__init__(nombre, vida, fuerza)\n",
    "    self.habilidades_especiales = [\"espadazo\", \"machetear\"]\n",
    "  def atacar(self):\n",
    "    return \"El Guerrero esta atacando\"\n",
    "  def defender(self):\n",
    "    return \"El Guerrero se esta defendiendo\"\n",
    "  def atacar_especial(self,index:int):\n",
    "    return f\"El Guerrero usa la habilidad especial de: {self.habilidades_especiales[index]}\"\n",
    "class Mago(Personaje):\n",
    "  def __init__(self, nombre, vida, fuerza):\n",
    "    super().__init__(nombre, vida, fuerza)\n",
    "    self.habilidades_especiales = [\"tirar fuego\",\"congelar\"]\n",
    "  def atacar(self):\n",
    "    return \"El mago esta atacando\"\n",
    "  def defender(self):\n",
    "    return \"El mago se esta defendiendo\"\n",
    "  def atacar_especial(self,index:int):\n",
    "    return f\"El mago usa la habilidad especial de: {self.habilidades_especiales[index]}\"\n",
    "class Arquero(Personaje):\n",
    "  def __init__(self, nombre, vida, fuerza):\n",
    "    super().__init__(nombre, vida, fuerza)\n",
    "    self.habilidades_especiales = [\"flechazo\",\"catapulta\"]\n",
    "  def atacar(self):\n",
    "    return \"El Arquero esta atacando\"\n",
    "  def defender(self):\n",
    "    return \"El Arquero se esta defendiendo\"\n",
    "  def atacar_especial(self,index:int):\n",
    "    return f\"El Arquero usa la habilidad especial de: {self.habilidades_especiales[index]}\"\n",
    "    \n",
    "thiago = Mago(\"Thiago\",500,200)\n",
    "print(thiago.defender())\n"
   ]
  },
  {
   "cell_type": "markdown",
   "metadata": {},
   "source": [
    "## Polimorfismo"
   ]
  },
  {
   "cell_type": "markdown",
   "metadata": {},
   "source": [
    "### Ejercicio 1\n",
    "#### Figuras geométricas: Crea una clase base Figura con un método calcular_area(). Deriva clases como Cuadrado, Circulo y Triangulo y sobrescribe el método calcular_area() para cada figura."
   ]
  },
  {
   "cell_type": "code",
   "execution_count": 7,
   "metadata": {},
   "outputs": [
    {
     "data": {
      "text/plain": [
       "4.0"
      ]
     },
     "execution_count": 7,
     "metadata": {},
     "output_type": "execute_result"
    }
   ],
   "source": [
    "class Figura:\n",
    "  def __init__(self):\n",
    "    pass\n",
    "  def calcular_area(self):\n",
    "    pass\n",
    "class Cuadrado(Figura):\n",
    "  def __init__(self):\n",
    "    super().__init__()\n",
    "  def calcalar_area(self, lado):\n",
    "    return lado **2\n",
    "    \n",
    "class Triangulo(Figura):\n",
    "  def __init__(self, ):\n",
    "    super().__init__()\n",
    "  def calcular_area(self, base, altura):\n",
    "    return 0.5 * base * altura\n",
    "cuadrado = Cuadrado()\n",
    "cuadrado.calcalar_area(2)\n",
    "triangulo = Triangulo()\n",
    "triangulo.calcular_area(2, 4)\n"
   ]
  },
  {
   "cell_type": "markdown",
   "metadata": {},
   "source": [
    "## Encapsulamiento"
   ]
  },
  {
   "cell_type": "markdown",
   "metadata": {},
   "source": [
    "### Ejercicio 1\n",
    "\n",
    " El encapsulamiento consiste en ocultar los detalles internos de una clase y proporcionar una interfaz para interactuar con ella. De esta manera, proteges los datos de la clase y evitas que se modifiquen accidentalmente.\n",
    "\n",
    "Ejercicio:\n",
    "\n",
    "#### Crea una clase CuentaBancaria con atributos como saldo y métodos como depositar() y retirar().\n",
    "\n",
    "Haz que los atributos sean privados (utilizando __ en Python) para que no se puedan modificar directamente desde fuera de la clase.\n",
    "\n",
    "Implementa los métodos depositar() y retirar() para modificar el saldo de forma segura."
   ]
  },
  {
   "cell_type": "code",
   "execution_count": 8,
   "metadata": {},
   "outputs": [
    {
     "data": {
      "text/plain": [
       "'Retiro exitoso'"
      ]
     },
     "execution_count": 8,
     "metadata": {},
     "output_type": "execute_result"
    }
   ],
   "source": [
    "class CuentaBancaria:\n",
    "  def __init__(self):\n",
    "    self.__saldo = 0\n",
    "  def depositar(self, num_cuenta, titular, cantidad):\n",
    "    if num_cuenta and titular:\n",
    "      self.__saldo = cantidad\n",
    "      return \"Deposito exitoso\"\n",
    "    \n",
    "  def retirar(self, num_cuenta, titular, cantidad):\n",
    "    if num_cuenta and titular:\n",
    "      self.__saldo -= cantidad\n",
    "      return \"Retiro exitoso\"    \n",
    "  \n",
    "personita = CuentaBancaria()\n",
    "personita.depositar(12341414,\"Danti\",200)\n",
    "personita.retirar(32142, 242, 242)"
   ]
  },
  {
   "cell_type": "markdown",
   "metadata": {},
   "source": [
    "### Ejercicio 2\n",
    "#### Persona: Crea una clase Persona con atributos como nombre, edad y altura. Haz que estos atributos sean privados y proporciona métodos como obtener_nombre(), establecer_edad() y obtener_altura() para acceder y modificar estos valores de forma controlada."
   ]
  },
  {
   "cell_type": "code",
   "execution_count": 9,
   "metadata": {},
   "outputs": [
    {
     "name": "stdout",
     "output_type": "stream",
     "text": [
      "170\n",
      "16\n",
      "Liam\n",
      "190\n",
      "32\n",
      "Julian\n"
     ]
    }
   ],
   "source": [
    "class Persona:\n",
    "  def __init__(self, nombre, edad, altura):\n",
    "    self.__nombre = nombre\n",
    "    self.__edad = edad\n",
    "    self.__altura = altura\n",
    "  ## Obtener\n",
    "  def obtener_nombre(self):\n",
    "    return self.__nombre\n",
    "  def obtener_edad(self):\n",
    "    return self.__edad\n",
    "  def obtener_altura(self):\n",
    "    return self.__altura\n",
    "  ## Cambiar\n",
    "  def establece_nombre(self, name):\n",
    "    self.__nombre = name\n",
    "    return self.__nombre\n",
    "  def establece_edad(self, edad):\n",
    "    self.__edad = edad \n",
    "    return self.__edad\n",
    "  def establece_altura(self, altura):\n",
    "    self.__altura = altura\n",
    "    return self.__altura\n",
    "  \n",
    "\n",
    "Liam  = Persona(\"Liam\",16, 170)\n",
    "print(Liam.obtener_altura())\n",
    "print(Liam.obtener_edad())\n",
    "print(Liam.obtener_nombre())\n",
    "print(Liam.establece_altura(190))\n",
    "print(Liam.establece_edad(32))\n",
    "print(Liam.establece_nombre(\"Julian\"))\n",
    "\n",
    "  "
   ]
  },
  {
   "cell_type": "markdown",
   "metadata": {},
   "source": [
    "### Ejercicio 3\n",
    "#### Crea una clase Libro con atributos como titulo, autor y numero_paginas. Haz que estos atributos sean privados y proporciona métodos para prestar un libro, devolver un libro y obtener información sobre el libro."
   ]
  },
  {
   "cell_type": "code",
   "execution_count": 10,
   "metadata": {},
   "outputs": [
    {
     "name": "stdout",
     "output_type": "stream",
     "text": [
      "The title is: Atomic habit written by: James Clear. It has around 320 pages\n",
      "No olvides devolverlo\n",
      "Has devuelto el libro\n",
      "None\n"
     ]
    }
   ],
   "source": [
    "class Libro:\n",
    "  def __init__(self, title, author, pages):\n",
    "    self.__title = title\n",
    "    self.__author = author\n",
    "    self.__pages = pages\n",
    "    self.__books = {\"title\":title, \"author\":author, \"pages\":pages}\n",
    "  def get_book_info(self):\n",
    "    return f\"The title is: {self.__title} written by: {self.__author}. It has around {self.__pages} pages\"\n",
    "  def load_book(self, title):\n",
    "    if title == self.__books.get(\"title\"):\n",
    "      self.__lends = {\"title\":title, \"author\":self.__author, \"pages\":self.__pages}\n",
    "      self.__books.clear()\n",
    "      return(f\"No olvides devolverlo\")\n",
    "      \n",
    "  def return_book(self, book_title):\n",
    "    if book_title == self.__lends.get(\"title\"):\n",
    "      print(\"Has devuelto el libro\")\n",
    "      self.__lends.clear()\n",
    "      self.__books = {\"title\":self.__title, \"author\":self.__author, \"pages\":self.__pages} \n",
    "    \n",
    "atomic_habit = Libro(\"Atomic habit\", \"James Clear\", 320)\n",
    "print(atomic_habit.get_book_info())\n",
    "print(atomic_habit.load_book(\"Atomic habit\"))\n",
    "print(atomic_habit.return_book(\"Atomic habit\"))\n",
    "\n",
    "    \n",
    "\n",
    "    "
   ]
  },
  {
   "cell_type": "markdown",
   "metadata": {},
   "source": [
    "### Ejercicio\n",
    "#### Zoo: Crea una clase base Animal con atributos como nombre y tipo_alimento. Deriva clases como Leon, Jirafa y Pinguino. Implementa un método alimentar() en la clase base y sobrescríbelo en las clases derivadas para mostrar mensajes específicos según el tipo de animal."
   ]
  },
  {
   "cell_type": "code",
   "execution_count": 11,
   "metadata": {},
   "outputs": [
    {
     "name": "stdout",
     "output_type": "stream",
     "text": [
      "El Jirafa con nombre: Gorgito esta comiendo: marihuana\n"
     ]
    }
   ],
   "source": [
    "class Animal:\n",
    "  def __init__(self, nombre, tipo_alimento):\n",
    "    self._nombre = nombre\n",
    "    self._tipo_alimento = tipo_alimento\n",
    "  def alimentar(self):\n",
    "    return f\"El animal con nombre: {self._nombre} esta comiendo: {self._tipo_alimento}\"\n",
    "  def _obtener_nombre(self):\n",
    "    return self._nombre\n",
    "  def _obtener_tipo_alimento(self):\n",
    "    return self._tipo_alimento\n",
    "class Leon(Animal):\n",
    "  def __init__(self, nombre, tipo_alimento):\n",
    "    super().__init__(nombre, tipo_alimento)\n",
    "  def alimentar(self):\n",
    "    return f\"El Leon con nombre: {self._obtener_nombre()} esta comiendo: {self._obtener_tipo_alimento()}\"\n",
    "class Jirafa(Animal):\n",
    "  def __init__(self, nombre, tipo_alimento):\n",
    "    super().__init__(nombre, tipo_alimento)\n",
    "  def alimentar(self):\n",
    "    return f\"El Jirafa con nombre: {self._obtener_nombre()} esta comiendo: {self._obtener_tipo_alimento()}\"\n",
    "class Pinguino(Animal):\n",
    "  def __init__(self, nombre, tipo_alimento):\n",
    "    super().__init__(nombre, tipo_alimento)\n",
    "  def alimentar(self):\n",
    "    return f\"El pinguino con nombre: {self._obtener_nombre()} esta comiendo: {self._obtener_tipo_alimento()}\"\n",
    "jorgito = Jirafa(\"Gorgito\",\"marihuana\")\n",
    "print(jorgito.alimentar())\n",
    "\n"
   ]
  },
  {
   "cell_type": "markdown",
   "metadata": {},
   "source": [
    "## Decoradores y Propiedades"
   ]
  },
  {
   "cell_type": "markdown",
   "metadata": {},
   "source": [
    "### Ejercicio 1\n",
    "#### Crea una clase Persona con atributos privados _nombre y _edad.\n",
    "Utiliza @property y @edad.setter para crear una propiedad edad que:\n",
    "Al establecerse, verifique que la edad sea un número positivo y menor a 120."
   ]
  },
  {
   "cell_type": "code",
   "execution_count": 12,
   "metadata": {},
   "outputs": [
    {
     "name": "stdout",
     "output_type": "stream",
     "text": [
      "15\n",
      "Aprobado\n",
      "20\n",
      "Desaprobado\n"
     ]
    }
   ],
   "source": [
    "\n",
    "class Persona:\n",
    "  def __init__(self, nombre, edad):\n",
    "    self._nombre = nombre\n",
    "    self._edad = edad\n",
    "  @property\n",
    "  def mostrar_edad(self):\n",
    "    return self._edad\n",
    "  @mostrar_edad.setter\n",
    "  def mostrar_edad(self, nueva_edad):\n",
    "    if nueva_edad > 0 and nueva_edad < 120:\n",
    "      self._edad = nueva_edad\n",
    "      print(\"Aprobado\")\n",
    "    else:\n",
    "      print(\"Desaprobado\")\n",
    "    \n",
    "liam = Persona(\"Liam\", 15)\n",
    "print(liam.mostrar_edad)\n",
    "liam.mostrar_edad = 20\n",
    "print(liam.mostrar_edad)\n",
    "liam.mostrar_edad = 230\n",
    "    "
   ]
  },
  {
   "cell_type": "markdown",
   "metadata": {},
   "source": [
    "### Ejercicio 2\n",
    "### Crea una clase Fecha con propiedades dia, mes y año. Utiliza propiedades para validar que la fecha sea válida."
   ]
  },
  {
   "cell_type": "code",
   "execution_count": 13,
   "metadata": {},
   "outputs": [
    {
     "name": "stdout",
     "output_type": "stream",
     "text": [
      "Fecha Incorrecta\n"
     ]
    }
   ],
   "source": [
    "import time as ti\n",
    "actual_time = ti.localtime()\n",
    "actual_year = actual_time[0]\n",
    "actual_mes = actual_time[1]\n",
    "actual_dia = actual_time[2]\n",
    "\n",
    "class Fecha:\n",
    "  def __init__(self, dia, mes, año):\n",
    "    self._dia = dia\n",
    "    self._mes = mes\n",
    "    self._año = año\n",
    "  def comprobar_fecha(self):\n",
    "    if self._año == actual_year and self._dia == actual_dia and self._mes == actual_mes:\n",
    "      print(\"Fecha Correcta\")\n",
    "    else:\n",
    "      print(\"Fecha Incorrecta\")\n",
    "    # return f\"La fecha es: {self._dia} / {self._mes} / {self._año}\"\n",
    " \n",
    "tiempo = Fecha(29,1,2025)\n",
    "tiempo.comprobar_fecha()"
   ]
  },
  {
   "cell_type": "markdown",
   "metadata": {},
   "source": [
    "### Ejercicio 3\n",
    "#### Coche eléctrico: Crea una clase CocheElectrico con atributos privados _bateria y _autonomia_maxima.\n",
    "Utiliza @property y @autonomia_maxima.setter para crear una propiedad autonomia_maxima que:\n",
    "Al obtenerse, devuelva la autonomía máxima.\n",
    "Al establecerse, verifique que el nuevo valor sea positivo y mayor que el valor actual de la batería."
   ]
  },
  {
   "cell_type": "code",
   "execution_count": 14,
   "metadata": {},
   "outputs": [
    {
     "name": "stdout",
     "output_type": "stream",
     "text": [
      "50\n",
      "Comprobado\n",
      "150\n"
     ]
    }
   ],
   "source": [
    "class CocheElectrico:\n",
    "  def  __init__(self, bateria, autonomia_maxima):\n",
    "    self._bateria = bateria\n",
    "    self._autonomia_maxima = autonomia_maxima\n",
    "  @property\n",
    "  def obtener_autonomia(self):\n",
    "    return self._autonomia_maxima\n",
    "  @obtener_autonomia.setter\n",
    "  def obtener_autonomia(self, nueva_autonomia):\n",
    "    self._autonomia_maxima = nueva_autonomia\n",
    "    if nueva_autonomia > 0 and nueva_autonomia > self._bateria:\n",
    "      print(\"Comprobado\")\n",
    "la_maquina = CocheElectrico(100, 50)\n",
    "print(la_maquina.obtener_autonomia)\n",
    "la_maquina.obtener_autonomia = 150\n",
    "print(la_maquina.obtener_autonomia)"
   ]
  },
  {
   "cell_type": "markdown",
   "metadata": {},
   "source": [
    "### Ejercicio 4\n",
    "#### Producto:\n",
    "Crea una clase Producto con atributos privados _nombre, _precio y _stock.\n",
    "Utiliza @property y @stock.setter para crear una propiedad stock que:\n",
    "Al establecerse, verifique que el nuevo valor sea no negativo.\n",
    "Si el stock llega a cero, imprima un mensaje indicando que el producto está agotado."
   ]
  },
  {
   "cell_type": "code",
   "execution_count": 15,
   "metadata": {},
   "outputs": [
    {
     "name": "stdout",
     "output_type": "stream",
     "text": [
      "El producto: ayudin tiene un precio actual de: 30 y hay actualmente 5 unidades en el almacen\n",
      "ayudin agotado. Nueva la proxima\n",
      "El producto: ayudin tiene un precio actual de: 30 y hay actualmente 0 unidades en el almacen\n"
     ]
    }
   ],
   "source": [
    "\n",
    "class Producto:\n",
    "  def __init__(self, nombre, precio, stock):\n",
    "    self._nombre = nombre\n",
    "    self._precio = precio\n",
    "    self._stock = stock\n",
    "  @property\n",
    "  def verificar_info(self):\n",
    "    return f\"El producto: {self._nombre} tiene un precio actual de: {self._precio} y hay actualmente {self._stock} unidades en el almacen\"\n",
    "  @verificar_info.setter\n",
    "  def verificar_info(self,nuevo_stock):\n",
    "    self._stock = nuevo_stock\n",
    "    if nuevo_stock < 0:\n",
    "      print(\"Error Por ser Negativo\")\n",
    "    elif nuevo_stock == 0:\n",
    "      print(f\"{self._nombre} agotado. Nueva la proxima\")\n",
    "    else:\n",
    "      print(\"Comprobado\") \n",
    "\n",
    "    \n",
    "ayudin = Producto(\"ayudin\", 30, 5)\n",
    "print(ayudin.verificar_info)\n",
    "ayudin.verificar_info = 0\n",
    "print(ayudin.verificar_info)"
   ]
  },
  {
   "cell_type": "markdown",
   "metadata": {},
   "source": [
    "## Abstraccion, Clases Abstractas y Metodos Especiales"
   ]
  },
  {
   "cell_type": "code",
   "execution_count": 3,
   "metadata": {},
   "outputs": [],
   "source": [
    "from abc import ABC, abstractclassmethod, abstractmethod"
   ]
  },
  {
   "cell_type": "markdown",
   "metadata": {},
   "source": [
    "### Ejercicio 1   --- Animales:\n",
    "#### Crea una clase abstracta llamada Animal.\n",
    "#### Define un método abstracto llamado hacer_ruido().\n",
    "#### Crea clases concretas como Perro, Gato y Pajaro que hereden de Animal e implementen el método hacer_ruido()."
   ]
  },
  {
   "cell_type": "code",
   "execution_count": 17,
   "metadata": {},
   "outputs": [
    {
     "name": "stdout",
     "output_type": "stream",
     "text": [
      "Wowo\n",
      "Miau\n",
      "Wasaa\n"
     ]
    }
   ],
   "source": [
    "class Animal(ABC):\n",
    "  \n",
    "  @abstractmethod\n",
    "  def __init__(self, animal):\n",
    "    self.animal = animal\n",
    "\n",
    "  @abstractmethod\n",
    "  def hacer_ruido(self):\n",
    "    pass\n",
    "\n",
    "class Perro(Animal):\n",
    "  def __init__(self, animal):\n",
    "    super().__init__(animal)\n",
    "\n",
    "  def hacer_ruido(self):\n",
    "    print(\"Wowo\")\n",
    "class Gato(Animal):\n",
    "  def __init__(self, animal):\n",
    "    super().__init__(animal)\n",
    "  def hacer_ruido(self):\n",
    "    print(\"Miau\")\n",
    "class Pajaro(Animal):\n",
    "  def __init__(self, animal):\n",
    "    super().__init__(animal)\n",
    "  def hacer_ruido(self):\n",
    "    print(\"Wasaa\")\n",
    "\n",
    "perro = Perro(\"Perrito\")\n",
    "perro.hacer_ruido()\n",
    "gato = Gato('gatito').hacer_ruido()\n",
    "pajaro = Pajaro(\"pajarito\").hacer_ruido()\n",
    "\n",
    "#! Falta Completar"
   ]
  },
  {
   "cell_type": "markdown",
   "metadata": {},
   "source": [
    "### Ejercicio 2 -- Figuras geométricas:\n",
    "\n",
    "#### Crea una clase abstracta llamada Figura.\n",
    "#### Define un método abstracto llamado calcular_area().\n",
    "#### Crea clases concretas como Cuadrado, Circulo y Triangulo que hereden de Figura e implementen el método calcular_area()."
   ]
  },
  {
   "cell_type": "code",
   "execution_count": 18,
   "metadata": {},
   "outputs": [
    {
     "name": "stdout",
     "output_type": "stream",
     "text": [
      "314.0\n",
      "100\n",
      "250.0\n"
     ]
    }
   ],
   "source": [
    "class Figura(ABC):\n",
    "  @abstractmethod\n",
    "  def __init__(self):\n",
    "    pass\n",
    "  @abstractmethod\n",
    "  def calcular_area(self):\n",
    "    pass\n",
    "class Circulo(Figura):\n",
    "  def __init__(self):\n",
    "    super().__init__()\n",
    "  def calcular_area(self, radio):\n",
    "    print( 3.14 * (radio **2))\n",
    "class Cuadrado(Figura):\n",
    "  def __init__(self):\n",
    "    super().__init__()\n",
    "  def calcular_area(self, lado):\n",
    "    return(lado * lado)\n",
    "class Triangulo(Figura):\n",
    "  def __init__(self):\n",
    "    super().__init__()\n",
    "  def calcular_area(self, base, altura):\n",
    "    print((base * altura) /  2)\n",
    "    \n",
    "circulito = Circulo().calcular_area(10)\n",
    "cuadradito = Cuadrado().calcular_area(10)\n",
    "print(cuadradito)\n",
    "triangulito = Triangulo().calcular_area(10, 50)\n"
   ]
  },
  {
   "cell_type": "markdown",
   "metadata": {},
   "source": [
    "### Ejercicio 3 -- Persona:\n",
    "#### Crea una clase Persona con atributos nombre y edad.\n",
    "#### Implementa el método especial __init__ para inicializar los atributos.\n",
    "#### Implementa el método especial __str__ para que al imprimir un objeto de tipo Persona se muestre su nombre y edad"
   ]
  },
  {
   "cell_type": "code",
   "execution_count": 19,
   "metadata": {},
   "outputs": [
    {
     "name": "stdout",
     "output_type": "stream",
     "text": [
      "Name: Agustin; Age: 16\n"
     ]
    }
   ],
   "source": [
    "class Persona:\n",
    "  def __init__(self, name, age):\n",
    "    self.name = name\n",
    "    self.age = age\n",
    "  def __str__(self):\n",
    "    return f\"Name: {self.name}; Age: {self.age}\"\n",
    "  \n",
    "juliam = Persona(\"Agustin\",16)\n",
    "print(juliam)\n",
    "    "
   ]
  },
  {
   "cell_type": "markdown",
   "metadata": {},
   "source": [
    "### Ejercicio 4 -- Cuenta Bancaria\n",
    "#### Crea una clase CuentaBancaria con atributos titular y saldo.\n",
    "#### Implementa el método especial __init__ para inicializar los atributos.\n",
    "#### Implementa el método especial __str__ para que al imprimir una cuenta se muestre el titular y el saldo.\n"
   ]
  },
  {
   "cell_type": "code",
   "execution_count": 20,
   "metadata": {},
   "outputs": [
    {
     "name": "stdout",
     "output_type": "stream",
     "text": [
      "Titular: Valenciano Baragatti; Saldo Disponible: 1000000000\n"
     ]
    }
   ],
   "source": [
    "class CuentaBancaria:\n",
    "  def __init__(self, titular, saldo):\n",
    "    self.titular = titular\n",
    "    self.saldo = saldo\n",
    "  def __str__(self):\n",
    "    return f\"Titular: {self.titular}; Saldo Disponible: {self.saldo}\"\n",
    "  \n",
    "account_110 = CuentaBancaria(\"Valenciano Baragatti\", 1_000_000_000)\n",
    "print(account_110)"
   ]
  },
  {
   "cell_type": "markdown",
   "metadata": {},
   "source": [
    "### Ejercicio 5 -- Figuras 3D:\n",
    "#### Crea una clase abstracta Figura3D con un método abstracto calcular_volumen().\n",
    "#### Deriva clases como Cubo, Esfera y Prisma para implementar el cálculo del volumen específico de cada figura."
   ]
  },
  {
   "cell_type": "code",
   "execution_count": 21,
   "metadata": {},
   "outputs": [
    {
     "name": "stdout",
     "output_type": "stream",
     "text": [
      "1000\n",
      "4186.666666666667\n",
      "10\n"
     ]
    }
   ],
   "source": [
    "class Figura3D(ABC):\n",
    "  @abstractmethod\n",
    "  def __init__(self):\n",
    "    super().__init__()\n",
    "  @abstractmethod\n",
    "  def calcular_volumen(self):\n",
    "    pass\n",
    "  \n",
    "  \n",
    "  \n",
    "class Cubo(Figura3D):\n",
    "  def __init__(self):\n",
    "    super().__init__()\n",
    "  def calcular_volumen(self, lado):\n",
    "    return lado ** 3\n",
    "\n",
    "\n",
    "\n",
    "class Esfera(Figura3D):\n",
    "  def __init__(self):\n",
    "    super().__init__()\n",
    "  def calcular_volumen(self, radio):\n",
    "    return (4/3)*3.14*radio**3\n",
    "  \n",
    "  \n",
    "  \n",
    "class Prisma(Figura3D):\n",
    "  def __init__(self):\n",
    "    super().__init__()\n",
    "  def calcular_volumen(self, h, lado):\n",
    "    #Para Cuadrado\n",
    "    ab = Cuadrado().calcular_area(lado)\n",
    "    return int(ab / h)\n",
    "\n",
    "  \n",
    "  \n",
    "  \n",
    "cubito = Cubo()\n",
    "print(cubito.calcular_volumen(10))\n",
    "esferita = Esfera()\n",
    "print(esferita.calcular_volumen(10))\n",
    "prismita = Prisma()\n",
    "print(prismita.calcular_volumen(10, 10))\n",
    "    "
   ]
  },
  {
   "cell_type": "markdown",
   "metadata": {},
   "source": [
    "### Ejercicio 6 -- Empleado\n",
    "#### Crea una clase abstracta Empleado con métodos abstractos como calcular_sueldo() y obtener_datos_personales().\n",
    "#### Deriva clases como Empleado_a_tiempo_completo, Empleado_por_horas y Empleado_comisionista para implementar los cálculos específicos de cada tipo de empleado."
   ]
  },
  {
   "cell_type": "code",
   "execution_count": 43,
   "metadata": {},
   "outputs": [
    {
     "name": "stdout",
     "output_type": "stream",
     "text": [
      "Nombre: Benjamin; Edad:13\n",
      "70\n",
      "Nombre: Sway; Edad:13\n",
      "200\n",
      "Nombre: Jeniffer; Edad:18\n",
      "1200.0\n"
     ]
    }
   ],
   "source": [
    "class Empleado(ABC):\n",
    "  @abstractmethod\n",
    "  def __init__(self, name, age):\n",
    "    self.name = name\n",
    "    self.age = age\n",
    "    super().__init__()\n",
    "  @abstractmethod\n",
    "  def calcular_sueldo(self):\n",
    "    pass\n",
    "  @abstractmethod\n",
    "  def obtener_datos(self):\n",
    "    return f\"Nombre: {self.name}; Edad:{self.age}\"\n",
    "class EmpleadoATiempoCompleto(Empleado):\n",
    "  def __init__(self, name, age):\n",
    "    super().__init__(name, age)\n",
    "  def calcular_sueldo(self, sueldo_base, periodo:str):\n",
    "    match periodo:\n",
    "      case \"semanal\":\n",
    "        return sueldo_base * 7\n",
    "      case \"mensual\":\n",
    "        return sueldo_base * 24\n",
    "      case \"anual\":\n",
    "        return sueldo_base * 365\n",
    "      case __:\n",
    "        return \"Invalido\"  \n",
    "  def obtener_datos(self):\n",
    "    return super().obtener_datos()\n",
    "\n",
    "class EmpleadoPorHora(Empleado):\n",
    "  def __init__(self, name, age):\n",
    "    super().__init__(name, age)\n",
    "  def calcular_sueldo(self, horas):\n",
    "    self.sueldo_base = 20\n",
    "    return self.sueldo_base * horas\n",
    "  def obtener_datos(self):\n",
    "    return super().obtener_datos()\n",
    "class EmpleadoComisionista(Empleado):\n",
    "  def __init__(self, name, age):\n",
    "    super().__init__(name, age)\n",
    "  def calcular_sueldo(self, ganancia_total):\n",
    "    self.sueldo_base = 500\n",
    "    self.sueldo_total = self.sueldo_base + (ganancia_total *0.35)\n",
    "    return self.sueldo_total\n",
    "  def obtener_datos(self):\n",
    "    return super().obtener_datos()\n",
    "  \n",
    "benja = EmpleadoATiempoCompleto(\"Benjamin\", 13)\n",
    "print(benja.obtener_datos())\n",
    "print(benja.calcular_sueldo(10, \"semanal\"))\n",
    "sway = EmpleadoPorHora(\"Sway\", 13)\n",
    "print(sway.obtener_datos())\n",
    "print(sway.calcular_sueldo(10))\n",
    "\n",
    "jenni = EmpleadoComisionista(\"Jeniffer\", 18)\n",
    "print(jenni.obtener_datos())\n",
    "print(jenni.calcular_sueldo(2000))\n",
    "      \n"
   ]
  },
  {
   "cell_type": "markdown",
   "metadata": {},
   "source": [
    "### Ejercicio 7 -- Instrumentos Musicales\n",
    "#### Crea una clase abstracta InstrumentoMusical con métodos abstractos como tocar() y afinar().\n",
    "#### Deriva clases como Piano, Guitarra y Violín para implementar las acciones específicas de cada instrumento."
   ]
  },
  {
   "cell_type": "code",
   "execution_count": 67,
   "metadata": {},
   "outputs": [
    {
     "name": "stdout",
     "output_type": "stream",
     "text": [
      "El sonido es: Plink\n",
      "Afinado con: electronico\n",
      "El sonido es: Strum\n",
      "Afinado con: estandar en la cuerda: 3\n",
      "El sonido es: Chirp\n",
      "Afinado con: estandar en la cuerda: 3\n"
     ]
    }
   ],
   "source": [
    "class InstrumentoMusical(ABC):\n",
    "  @abstractmethod\n",
    "  def __init__(self):\n",
    "    super().__init__()\n",
    "  @abstractmethod\n",
    "  def tocar(self):\n",
    "    return \"El sonido es: \"\n",
    "  @abstractmethod\n",
    "  def afinar(self):\n",
    "    pass\n",
    "  \n",
    "  \n",
    "\n",
    "class Piano(InstrumentoMusical):\n",
    "  def __init__(self):\n",
    "    super().__init__()\n",
    "  def tocar(self):\n",
    "    return super().tocar() + \"Plink\"\n",
    "  def afinar(self, metodo):\n",
    "    tipo_de_afinamiento = [\"electronico\",\"llave\"]\n",
    "    if  metodo in tipo_de_afinamiento:\n",
    "      return f\"Afinado con: {metodo}\"\n",
    "    else:\n",
    "      return \"No afinado\"\n",
    "    \n",
    "    \n",
    "    \n",
    "class Guitarra(InstrumentoMusical):\n",
    "  def __init__(self):\n",
    "    super().__init__()\n",
    "  def tocar(self):\n",
    "    return super().tocar() + \"Strum\"\n",
    "  def afinar(self, metodo, cuerda):\n",
    "    tipo_de_afinamiento = [\"electronico\",\"estandar\"]\n",
    "    if  metodo in tipo_de_afinamiento and(cuerda >0 and cuerda <7):\n",
    "      return f\"Afinado con: {metodo} en la cuerda: {cuerda}\"\n",
    "    else:\n",
    "      return \"No afinado\"\n",
    "    \n",
    "    \n",
    "    \n",
    "    \n",
    "class Violin(InstrumentoMusical):\n",
    "  def __init__(self):\n",
    "    super().__init__()\n",
    "  def tocar(self):\n",
    "    return super().tocar() + \"Chirp\"\n",
    "  def afinar(self, metodo, cuerda):\n",
    "    tipo_de_afinamiento = [\"electronico\",\"estandar\"]\n",
    "    if  metodo in tipo_de_afinamiento and (cuerda > 0 and cuerda < 5):\n",
    "      return f\"Afinado con: {metodo} en la cuerda: {cuerda}\"\n",
    "    else:\n",
    "      return \"No afinado\"\n",
    "\n",
    "pianito = Piano()\n",
    "print(pianito.tocar())\n",
    "print(pianito.afinar(\"electronico\"))\n",
    "\n",
    "guitarrita = Guitarra()\n",
    "print(guitarrita.tocar())\n",
    "print(guitarrita.afinar(\"estandar\", 3))\n",
    "\n",
    "violincito = Violin()\n",
    "print(violincito.tocar())\n",
    "print(violincito.afinar(\"estandar\", 3))\n",
    "\n",
    "\n",
    "    "
   ]
  },
  {
   "cell_type": "markdown",
   "metadata": {},
   "source": [
    "### Ejercicio 8: --  Fecha\n",
    "#### Crea una clase Fecha con atributos dia, mes y año.\n",
    "#### Implementa el método especial __str__ para que al imprimir un objeto de tipo Fecha se muestre en un formato legible (por ejemplo, \"15 de mayo de 2024\").\n",
    "#### Implementa el método especial __eq__ para comparar si dos objetos de tipo Fecha son iguales."
   ]
  },
  {
   "cell_type": "code",
   "execution_count": 10,
   "metadata": {},
   "outputs": [
    {
     "name": "stdout",
     "output_type": "stream",
     "text": [
      "Es el 10 de Octubre del 2005\n",
      "Es el 10 de Noviembre del 2005\n",
      "False\n"
     ]
    }
   ],
   "source": [
    "class Fecha:\n",
    "  def __init__(self, dia, mes, año):\n",
    "    self.dia  = dia\n",
    "    self.mes = mes\n",
    "    self.año = año\n",
    "  def __str__(self):\n",
    "    self.meses = {1:\"Enero\",2:\"Febrero\",3:\"Marzo\", 4: \"Abril\", 5:\"Mayo\", 6:\"Junio\", 7: \"Julio\", 8: \"Agosto\", 9: \"Septiembre\", 10:\"Octubre\", 11:\"Noviembre\", 12:\"Diciembre\"}\n",
    "    return f\"Es el {self.dia} de {self.meses[self.mes]} del {self.año}\"\n",
    "  def  __eq__(self, value):\n",
    "    if isinstance(value, Fecha):\n",
    "      return self.dia == value.dia and self.mes == value.mes and self.año == value.año\n",
    "    return False\n",
    "fechita = Fecha(10, 10, 2005)\n",
    "fechota = Fecha(10, 11, 2005)\n",
    "print(fechita)\n",
    "print(fechota)\n",
    "\n",
    "print(fechita == fechota)"
   ]
  },
  {
   "cell_type": "markdown",
   "metadata": {},
   "source": [
    "### Ejercicio 9 --Fracción:\n",
    "#### Crea una clase Fraccion con atributos numerador y denominador.\n",
    "#### Implementa los métodos especiales __add__, __sub__, __mul__ y __truediv__ para realizar operaciones aritméticas con fracciones.\n",
    "#### Implementa el método especial __str__ para mostrar la fracción en formato a/b."
   ]
  },
  {
   "cell_type": "code",
   "execution_count": null,
   "metadata": {},
   "outputs": [],
   "source": []
  },
  {
   "cell_type": "markdown",
   "metadata": {},
   "source": [
    "### Ejercicio 10 -- Vector\n",
    "#### Crea una clase Vector para representar vectores en el plano.\n",
    "#### Implementa los métodos especiales __add__ y __sub__ para sumar y restar vectores.\n",
    "#### Implementa el método especial __len__ para calcular la magnitud del vector."
   ]
  },
  {
   "cell_type": "code",
   "execution_count": null,
   "metadata": {},
   "outputs": [],
   "source": []
  },
  {
   "cell_type": "markdown",
   "metadata": {},
   "source": [
    "### Ejercicio 11 -- Cuenta bancaria:\n",
    "#### Crea una clase abstracta Cuenta con métodos abstractos depositar() y retirar().\n",
    "#### Deriva clases como CuentaCorriente y CuentaAhorros para implementar diferentes políticas de comisiones y tasas de interés.\n",
    "#### Implementa el método especial __str__ para mostrar el saldo de la cuenta."
   ]
  },
  {
   "cell_type": "code",
   "execution_count": null,
   "metadata": {},
   "outputs": [],
   "source": []
  },
  {
   "cell_type": "markdown",
   "metadata": {},
   "source": [
    "## Principios SOLID"
   ]
  },
  {
   "cell_type": "markdown",
   "metadata": {},
   "source": [
    "### Ejercicio 1  -- Principio de Responsabilidad Única (SRP - Single Responsibility Principle):"
   ]
  },
  {
   "cell_type": "markdown",
   "metadata": {},
   "source": [
    "#### Crea una clase Usuario con atributos nombre y email.\n",
    "#### Incorrecto: Agrega un método guardar_en_base_de_datos() a la misma clase Usuario.\n",
    "#### Correcto: Crea una clase separada llamada UsuarioRepositorio con un método guardar(usuario) para encargarse de la persistencia del usuario."
   ]
  },
  {
   "cell_type": "code",
   "execution_count": null,
   "metadata": {},
   "outputs": [
    {
     "name": "stdout",
     "output_type": "stream",
     "text": [
      "{'Usuario 1': ['Peter', 'thia10@gmail.com']}\n"
     ]
    }
   ],
   "source": [
    "\n",
    "#!Incorrecto\n",
    "class Usuario:\n",
    "  def __init__(self,nombre, email):\n",
    "    self.nombre = nombre\n",
    "    self.email = email\n",
    "  def guardar_en_base_de_datos(self):\n",
    "    datos = {\"Usuario 1\": [self.nombre, self.email]}\n",
    "    return datos\n",
    "\n",
    "persona_1 = Usuario(\"Peter\", \"thia10@gmail.com\")\n",
    "print(persona_1.guardar_en_base_de_datos())\n",
    "\n",
    "#! Correcto\n",
    "class Usuario:\n",
    "  def __init__(self, nombre, email):\n",
    "    self.nombre = nombre\n",
    "    self.email = email\n",
    "  def retornar_nombre(self):\n",
    "    return self.nombre\n",
    "  def retornar_email(self):\n",
    "    return self.email\n",
    "class UsuarioRepositorio:\n",
    "  def __init__(self, user):\n",
    "    self.user= user\n",
    "  def guardar_datos(self):\n",
    "    datos = {\"Usuario 1\": [self.user.retornar_nombre(), self.user.retornar_email()]}\n",
    "    return datos\n",
    "persona_2 = Usuario(\"Peter\", \"thia10@gmail.com\")\n",
    "\n",
    "persona_2_registrado = UsuarioRepositorio(persona_2)\n",
    "print(persona_2_registrado.guardar_datos())"
   ]
  },
  {
   "cell_type": "markdown",
   "metadata": {},
   "source": [
    " ### Ejercicio 2 --  Principio de Abierto/Cerrado (OCP - Open/Closed Principle):"
   ]
  },
  {
   "cell_type": "markdown",
   "metadata": {},
   "source": [
    "- Tienes una clase CalculadoraDeAreas con un método calcular_area(figura, tipo).\n",
    "- Incorrecto: Dentro de este método, usas condicionales (if/else) para calcular el área según el tipo de figura (\"circulo\", \"rectangulo\", etc.).\n",
    "- Correcto:\n",
    "  - Crea una interfaz o clase abstracta Figura con un método abstracto calcular_area().\n",
    "  - Crea clases concretas como Circulo y Rectangulo que implementen la interfaz Figura.\n",
    "  - La clase CalculadoraDeAreas ahora tendrá un método calcular_area(figura: Figura) que llama al método calcular_area() del objeto figura sin necesidad de condicionales."
   ]
  },
  {
   "cell_type": "code",
   "execution_count": 8,
   "metadata": {},
   "outputs": [
    {
     "name": "stdout",
     "output_type": "stream",
     "text": [
      "314.0\n",
      "12.56\n",
      "100\n"
     ]
    }
   ],
   "source": [
    "\n",
    "#! Incorrecto\n",
    "class CalculadoraDeAreas:\n",
    "  def __init__(self):\n",
    "    pass\n",
    "  def calcular_area(self, figura):\n",
    "    if figura == \"cuadrado\":\n",
    "      lado = float(input(\"Ingrese el lado: \"))\n",
    "      return lado * lado\n",
    "    if figura == \"circulo\":\n",
    "      radio = float(input(\"Ingrese radio: \"))\n",
    "      return 3.14 *(radio**2)\n",
    "circulo = CalculadoraDeAreas()\n",
    "print(circulo.calcular_area(\"circulo\"))\n",
    "#! Correcto\n",
    "class Figura(ABC):\n",
    "  def __init__(self):\n",
    "    super().__init__()\n",
    "  @abstractmethod\n",
    "  def calcular_area(self):\n",
    "    raise NotImplementedError(\"Aun no\")\n",
    "class Circulo(Figura):\n",
    "  def __init__(self, radio):\n",
    "    self.radio = radio\n",
    "    super().__init__()\n",
    "  def calcular_area(self):\n",
    "    return (self.radio**2)  * 3.14\n",
    "class Cuadrado(Figura):\n",
    "  def __init__(self, lado):\n",
    "    super().__init__()\n",
    "    self.lado = lado\n",
    "  def calcular_area(self):\n",
    "    return self.lado * self.lado\n",
    "\n",
    "class CalculadoraDeAreas:\n",
    "  def __init__(self, figura):\n",
    "    self.figura = figura\n",
    "  def calcular_area(self):\n",
    "    return self.figura.calcular_area()\n",
    "\n",
    "\n",
    "circulo = Circulo(2)\n",
    "print(circulo.calcular_area())\n",
    "cuadrado = Cuadrado(10)\n",
    "print(cuadrado.calcular_area())\n",
    "\n",
    "\n"
   ]
  },
  {
   "cell_type": "markdown",
   "metadata": {},
   "source": [
    "### Ejercicio 3 -- Principio de Sustitución de Liskov (LSP - Liskov Substitution Principle):"
   ]
  },
  {
   "cell_type": "markdown",
   "metadata": {},
   "source": [
    "- Tienes una clase base Ave con un método volar().\n",
    "- Crea una clase derivada Pinguino que hereda de Ave.\n",
    "- Consideración: Un pingüino no puede volar. Asegúrate de que la clase Pinguino se comporte de manera coherente con su naturaleza, quizás no implementando el método volar() o lanzando una excepción si se intenta llamar.\n",
    "- Alternativa: Podrías tener una interfaz AveVoladora que herede de Ave y solo las aves que vuelan implementarían esta interfaz. Pinguino solo implementaría Ave."
   ]
  },
  {
   "cell_type": "code",
   "execution_count": null,
   "metadata": {},
   "outputs": [],
   "source": []
  },
  {
   "cell_type": "markdown",
   "metadata": {},
   "source": [
    "### Ejercicio 4 -- Principio de Segregación de la Interfaz (ISP - Interface Segregation Principle):"
   ]
  },
  {
   "cell_type": "markdown",
   "metadata": {},
   "source": [
    "- Tienes una interfaz Trabajador con métodos como trabajar(), comer() y descansar().\n",
    "- Tienes una clase Robot que implementa Trabajador.\n",
    "- Incorrecto: Un robot no come ni descansa, pero está obligado a implementar esos métodos (quizás dejándolos vacíos).\n",
    "- Correcto: Crea interfaces más específicas como Trabajador, TrabajadorComedor y TrabajadorDescansador. La clase Robot solo implementaría la interfaz Trabajador con el método trabajar()."
   ]
  },
  {
   "cell_type": "code",
   "execution_count": null,
   "metadata": {},
   "outputs": [],
   "source": []
  },
  {
   "cell_type": "markdown",
   "metadata": {},
   "source": [
    "### Ejercicio 5 -- Principio de Inversión de Dependencias (DIP - Dependency Inversion Principle):"
   ]
  },
  {
   "cell_type": "markdown",
   "metadata": {},
   "source": [
    "- Tienes una clase Bombilla con un método encender() y otra clase Interruptor con un método activar() que internamente crea una instancia de Bombilla y la enciende.\n",
    "- Incorrecto: Interruptor depende directamente de la implementación concreta de Bombilla.\n",
    "- Correcto:\n",
    "  - Crea una interfaz DispositivoEncendible con un método encender().\n",
    "  - Haz que la clase Bombilla implemente DispositivoEncendible.\n",
    "  - Modifica la clase Interruptor para que dependa de la interfaz DispositivoEncendible en lugar de la clase concreta Bombilla. Ahora puedes conectar cualquier dispositivo que implemente DispositivoEncendible al Interruptor."
   ]
  }
 ],
 "metadata": {
  "kernelspec": {
   "display_name": "Python 3",
   "language": "python",
   "name": "python3"
  },
  "language_info": {
   "codemirror_mode": {
    "name": "ipython",
    "version": 3
   },
   "file_extension": ".py",
   "mimetype": "text/x-python",
   "name": "python",
   "nbconvert_exporter": "python",
   "pygments_lexer": "ipython3",
   "version": "3.11.7"
  }
 },
 "nbformat": 4,
 "nbformat_minor": 2
}
