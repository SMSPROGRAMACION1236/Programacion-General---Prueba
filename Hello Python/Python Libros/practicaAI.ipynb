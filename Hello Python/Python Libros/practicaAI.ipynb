{
 "cells": [
  {
   "cell_type": "markdown",
   "metadata": {},
   "source": [
    "https://gemini.google.com/u/0/app/4483dd6b55ecf86c?hl=es"
   ]
  },
  {
   "cell_type": "markdown",
   "metadata": {},
   "source": [
    "# Tipos de Datos"
   ]
  },
  {
   "cell_type": "markdown",
   "metadata": {},
   "source": [
    "#### Crea dos variables, numero1 y numero2, y asígnales valores numéricos.\n",
    "Suma ambas variables y almacena el resultado en una nueva variable llamada suma.\n",
    "Imprime el resultado por pantalla."
   ]
  },
  {
   "cell_type": "code",
   "execution_count": 1,
   "metadata": {},
   "outputs": [
    {
     "name": "stdout",
     "output_type": "stream",
     "text": [
      "13\n"
     ]
    }
   ],
   "source": [
    "num_1 =12\n",
    "num_2 = 1\n",
    "\n",
    "suma = num_1+ num_2\n",
    "print(suma)"
   ]
  },
  {
   "cell_type": "markdown",
   "metadata": {},
   "source": [
    "#### Utiliza las mismas variables numero1 y numero2.\n",
    "Resta numero2 de numero1 y almacena el resultado en una variable llamada resta.\n",
    "Multiplica numero1 por numero2 y almacena el resultado en una variable llamada multiplicacion.\n",
    "Imprime los resultados de la resta y la multiplicación."
   ]
  },
  {
   "cell_type": "code",
   "execution_count": 3,
   "metadata": {},
   "outputs": [
    {
     "name": "stdout",
     "output_type": "stream",
     "text": [
      "-11\n",
      "12\n"
     ]
    }
   ],
   "source": [
    "resta = num_2 - num_1\n",
    "print(resta)\n",
    "\n",
    "multiplicacion = num_1 * num_2\n",
    "print(multiplicacion)"
   ]
  },
  {
   "cell_type": "markdown",
   "metadata": {},
   "source": [
    "#### Divide numero1 entre numero2 y almacena el resultado en una variable llamada division.\n",
    "Imprime el resultado de la división."
   ]
  },
  {
   "cell_type": "code",
   "execution_count": 5,
   "metadata": {},
   "outputs": [
    {
     "name": "stdout",
     "output_type": "stream",
     "text": [
      "12.0\n"
     ]
    }
   ],
   "source": [
    "division = num_1 / num_2\n",
    "print(division)"
   ]
  },
  {
   "cell_type": "markdown",
   "metadata": {},
   "source": [
    "#### Saludo personalizado:\n",
    "\n",
    "Crea una variable llamada nombre y asígnale tu nombre.\n",
    "Imprime un saludo personalizado utilizando la variable nombre. Por ejemplo: \"Hola, ¡[tu nombre]! ¿Cómo estás?\""
   ]
  },
  {
   "cell_type": "code",
   "execution_count": 6,
   "metadata": {},
   "outputs": [
    {
     "name": "stdout",
     "output_type": "stream",
     "text": [
      "Hola, Peter! Como estas?\n"
     ]
    }
   ],
   "source": [
    "nombre = \"Peter\"\n",
    "print(f\"Hola, {nombre}! Como estas?\")#"
   ]
  },
  {
   "cell_type": "markdown",
   "metadata": {},
   "source": [
    "#### Concatenación:\n",
    "\n",
    "Crea dos variables, palabra1 y palabra2, y asígnales palabras.\n",
    "Concatena ambas palabras y almacena el resultado en una nueva variable llamada frase.\n",
    "Imprime la frase completa.\n"
   ]
  },
  {
   "cell_type": "code",
   "execution_count": 7,
   "metadata": {},
   "outputs": [
    {
     "name": "stdout",
     "output_type": "stream",
     "text": [
      "Hola Mundo\n"
     ]
    }
   ],
   "source": [
    "palabra1 = \"Hola\"\n",
    "palabra2 = \" Mundo\"\n",
    "\n",
    "frase = palabra1 + palabra2\n",
    "print(frase)"
   ]
  },
  {
   "cell_type": "markdown",
   "metadata": {},
   "source": [
    "#### Longitud de una cadena:\n",
    "\n",
    "Crea una variable llamada texto y asígnale una frase.\n",
    "Calcula la longitud de la frase utilizando la función len() y almacena el resultado en una variable llamada longitud.\n",
    "Imprime la longitud de la frase."
   ]
  },
  {
   "cell_type": "code",
   "execution_count": 10,
   "metadata": {},
   "outputs": [
    {
     "name": "stdout",
     "output_type": "stream",
     "text": [
      "10\n",
      "Help on built-in function id in module builtins:\n",
      "\n",
      "id(obj, /)\n",
      "    Return the identity of an object.\n",
      "\n",
      "    This is guaranteed to be unique among simultaneously existing objects.\n",
      "    (CPython uses the object's memory address.)\n",
      "\n",
      "None\n"
     ]
    }
   ],
   "source": [
    "texto = \"Hola Mundo\"\n",
    "longitud = len(texto)\n",
    "print(longitud)\n"
   ]
  },
  {
   "cell_type": "markdown",
   "metadata": {},
   "source": [
    "#### Calcula el valor absoluto de -5 y 12.\n",
    "\n",
    "\n",
    " #### Pide al usuario que ingrese un número y muestra por pantalla su valor absoluto."
   ]
  },
  {
   "cell_type": "code",
   "execution_count": 15,
   "metadata": {},
   "outputs": [
    {
     "name": "stdout",
     "output_type": "stream",
     "text": [
      "5\n",
      "12\n",
      "El valor absoluto de: -12 es: 12\n"
     ]
    }
   ],
   "source": [
    "print(abs(-5))\n",
    "print(abs(12))\n",
    "\n",
    "num_abs = int(input(\"Ingrese un numero: \"))\n",
    "print(f\"El valor absoluto de: {num_abs} es: {abs(num_abs)}\")"
   ]
  },
  {
   "cell_type": "markdown",
   "metadata": {},
   "source": [
    "####  Crea dos variables, a y b, y asígnales el valor 5. Compara sus identificadores usando id(). ¿Son iguales?\n",
    "#### Crea una lista y un diccionario. Compara sus identificadores. ¿Son diferentes?"
   ]
  },
  {
   "cell_type": "code",
   "execution_count": 21,
   "metadata": {},
   "outputs": [
    {
     "name": "stdout",
     "output_type": "stream",
     "text": [
      "True\n",
      "2753774091392\n",
      "2753774105024\n",
      "False\n"
     ]
    }
   ],
   "source": [
    "a = 5\n",
    "b = 5\n",
    "print(a == b) # WTF\n",
    "\n",
    "my_dict = {1:1,2:2}\n",
    "my_list = [1,2]\n",
    "print(id(my_dict))\n",
    "print(id(my_list))\n",
    "print(my_dict == my_list)"
   ]
  }
 ],
 "metadata": {
  "kernelspec": {
   "display_name": "Python 3",
   "language": "python",
   "name": "python3"
  },
  "language_info": {
   "codemirror_mode": {
    "name": "ipython",
    "version": 3
   },
   "file_extension": ".py",
   "mimetype": "text/x-python",
   "name": "python",
   "nbconvert_exporter": "python",
   "pygments_lexer": "ipython3",
   "version": "3.12.1"
  }
 },
 "nbformat": 4,
 "nbformat_minor": 2
}
