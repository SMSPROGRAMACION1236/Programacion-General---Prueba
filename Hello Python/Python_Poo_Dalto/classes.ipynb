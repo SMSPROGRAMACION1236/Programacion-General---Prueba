{
 "cells": [
  {
   "cell_type": "markdown",
   "metadata": {},
   "source": [
    "Este es el link de los ejercicios de donde lo estoy sacando.\n",
    "\n",
    "https://gemini.google.com/u/1/app/38f079ff8728a11a?hl=es\n"
   ]
  },
  {
   "cell_type": "markdown",
   "metadata": {},
   "source": [
    "# Basico de lo basico"
   ]
  },
  {
   "cell_type": "markdown",
   "metadata": {},
   "source": [
    "## Exercise 1"
   ]
  },
  {
   "cell_type": "markdown",
   "metadata": {},
   "source": []
  },
  {
   "cell_type": "markdown",
   "metadata": {},
   "source": [
    "### Definición de una Clase y Creación de un Objeto:\n",
    "Crea una clase llamada “Persona” con atributos como nombre, edad y profesion.\n",
    "Luego, instancia un objeto de la clase “Persona” con tus propios valores para los atributos."
   ]
  },
  {
   "cell_type": "code",
   "execution_count": 6,
   "metadata": {},
   "outputs": [
    {
     "ename": "SyntaxError",
     "evalue": "invalid syntax (417224793.py, line 4)",
     "output_type": "error",
     "traceback": [
      "\u001b[1;36m  Cell \u001b[1;32mIn[6], line 4\u001b[1;36m\u001b[0m\n\u001b[1;33m    self.age K = age\u001b[0m\n\u001b[1;37m             ^\u001b[0m\n\u001b[1;31mSyntaxError\u001b[0m\u001b[1;31m:\u001b[0m invalid syntax\n"
     ]
    }
   ],
   "source": [
    "class Person:\n",
    "  def __init__(self, name, age, profession) -> None:\n",
    "    self.name = name\n",
    "    self.age K = age\n",
    "    self.profession = profession\n",
    "  def greeting(self):\n",
    "    print(f\"My name is: {self.name} with {self.age} years old, my profession is: {self.profession}\")\n",
    "    \n",
    "maria = Person(\"Maria\",  25, \"Teacher\")\n",
    "maria.greeting()"
   ]
  },
  {
   "cell_type": "markdown",
   "metadata": {},
   "source": [
    "## Exercise 2"
   ]
  },
  {
   "cell_type": "markdown",
   "metadata": {},
   "source": [
    "### Agregando Atributos a una Clase:\n",
    "Amplía la clase “Persona” para incluir un atributo adicional, como direccion.\n",
    "Crea una nueva instancia de “Persona” con la dirección de tu elección."
   ]
  },
  {
   "cell_type": "code",
   "execution_count": null,
   "metadata": {},
   "outputs": [
    {
     "name": "stdout",
     "output_type": "stream",
     "text": [
      "My name is: Maria with 25 years old, my profession is: Teacher and I live in: 1000 Avenue\n"
     ]
    }
   ],
   "source": [
    "class Person:\n",
    "  def __init__(self, name, age, profession, address) -> None:\n",
    "    self.name = name\n",
    "    self.age  = age\n",
    "    self.profession = profession\n",
    "    self.adress = address\n",
    "  def greeting(self):\n",
    "    print(f\"My name is: {self.name} with {self.age} years old, my profession is: {self.profession} and I live in: {self.adress}\")\n",
    "    \n",
    "maria = Person(\"Maria\",  25, \"Teacher\",  \"1000 Avenue\")\n",
    "maria.greeting()"
   ]
  },
  {
   "cell_type": "markdown",
   "metadata": {},
   "source": [
    "## Exercise 3"
   ]
  },
  {
   "cell_type": "markdown",
   "metadata": {},
   "source": [
    "### Clase “Estudiante”:\n",
    "Crea una clase llamada “Estudiante” con los siguientes atributos:\n",
    "- nombre\n",
    "- edad\n",
    "- \n",
    "- carrera\n",
    "- promedio\n",
    "\n",
    "Implementa un método llamado mostrar_informacion() que imprima los detalles del estudiante.\n",
    "Crea al menos dos instancias de la clase “Estudiante” con diferentes valores para los atributos."
   ]
  },
  {
   "cell_type": "code",
   "execution_count": null,
   "metadata": {},
   "outputs": [
    {
     "name": "stdout",
     "output_type": "stream",
     "text": [
      "My name  is : Peter,  I'm 15 years old, i chose the career of: Medicine and my average is: 10\n",
      "My name  is : Caroline,  I'm 16 years old, i chose the career of: Architect and my average is: 9.8\n"
     ]
    }
   ],
   "source": [
    "class Student:\n",
    "  def __init__(self, name, age, career,average):\n",
    "    self.name = name\n",
    "    self.age  = age\n",
    "    self.career  = career\n",
    "    self.average =  average\n",
    "  def show_information(self):\n",
    "    print(f\"My name  is : {self.name},  I'm {self.age} years old, i chose the career of: {self.career} and my average is: {self.average}\")\n",
    "peter = Student(\"Peter\", 15, \"Medicine\", 10)\n",
    "caroline = Student(\"Caroline\", 16, \"Architect\", 9.8)\n",
    "\n",
    "peter.show_information()\n",
    "caroline.show_information()\n",
    "\n"
   ]
  },
  {
   "cell_type": "markdown",
   "metadata": {},
   "source": [
    "## Exercise 4"
   ]
  },
  {
   "cell_type": "markdown",
   "metadata": {},
   "source": [
    "### Clase “Libro”:\n",
    "Define una clase llamada “Libro” con los siguientes atributos:\n",
    "- titulo\n",
    "- autor\n",
    "- genero\n",
    "- anio_publicacion\n",
    "  \n",
    "Crea un método llamado detalles() que muestre la información completa del libro.\n",
    "Crea dos objetos de la clase “Libro” con diferentes valores."
   ]
  },
  {
   "cell_type": "code",
   "execution_count": null,
   "metadata": {},
   "outputs": [
    {
     "name": "stdout",
     "output_type": "stream",
     "text": [
      "This Horror book is: Carry, that was publicated by Stephen King in 14 de abril de 1995\n"
     ]
    }
   ],
   "source": [
    "class Book:\n",
    "  def  __init__(self, title, author, gender, publication_date) -> None:\n",
    "    self.title = title\n",
    "    self.author = author\n",
    "    self.gender = gender\n",
    "    self.publication_date = publication_date\n",
    "  def details(self):\n",
    "    return f\"This {self.gender} book is: {self.title}, that was publicated by {self.author} in {self.publication_date}\"\n",
    "  \n",
    "carry = Book(\"Carry\", \"Stephen King\", \"Horror\", \"14 de abril de 1995\")\n",
    "print(carry.details())"
   ]
  },
  {
   "cell_type": "markdown",
   "metadata": {},
   "source": [
    "## Exercise 5\n"
   ]
  },
  {
   "cell_type": "markdown",
   "metadata": {},
   "source": [
    "###  Clase “Cuenta Bancaria”:\n",
    "- Crea una clase llamada “CuentaBancaria” con los siguientes          atributos:\n",
    "  - titular\n",
    "  - saldo\n",
    "  - numero_cuenta\n",
    "- Implementa métodos para:\n",
    "  - Depositar dinero en la cuenta.\n",
    "  - Retirar dinero de la cuenta.\n",
    "  - Mostrar el saldo actual.\n",
    "- Crea una instancia de la clase “CuentaBancaria” y realiza algunas operaciones."
   ]
  },
  {
   "cell_type": "code",
   "execution_count": null,
   "metadata": {},
   "outputs": [
    {
     "name": "stdout",
     "output_type": "stream",
     "text": [
      "The headline Santiago actually balance is: 50000 in  the account of 13\n"
     ]
    }
   ],
   "source": [
    "class BankAccount:\n",
    "  def __init__(self,headline,balance ,account_number) -> None:\n",
    "    self.headline = headline\n",
    "    self.balance = balance\n",
    "    self.account_number = account_number\n",
    "  def put_money(self):\n",
    "    # self.headline = str(input(\"Who is the headline: \"))\n",
    "    # self.account_number = int(input(\"Enter your account_number: \"))\n",
    "    # self.balance = int(input(\"Enter the money for your account\"))\n",
    "    return f\"The headline {self.headline} will put {self.balance} in his account {self.account_number}\"\n",
    "  def takeout_money(self):\n",
    "    # self.balance = int(input(\"Enter the money for your account\"))\n",
    "    lent_money = int(input(f\"How much do you want to take out from {self.balance}: \"))\n",
    "    return f\"The headline {self.headline} will take out {lent_money} from {self.balance} , and now your balance is: {self.balance - lent_money} in the account of {self.account_number}\"\n",
    "  def show_balance(self):\n",
    "    return f\"The headline {self.headline} actually balance is: {self.balance} in  the account of {self.account_number}\"\n",
    "    \n",
    "thing = BankAccount(headline=\"Santiago\", balance=50000, account_number= 13)\n",
    "## Solamente debo de descomentar uno y comentar los demas, para usar un metodo, es solo para que no se mezcle todo.\n",
    "# print(thing.put_money())\n",
    "# print(thing.takeout_money())\n",
    "print(thing.show_balance())\n",
    "\n",
    "\n",
    "# loop = True\n",
    "# while loop == True:\n",
    "#   option = str(input(\"What would you like to do(put_money = 1,takeout_money =2 ,show_balance = 3): \"))\n",
    "  \n",
    "#   if option ==\"1\":\n",
    "#     thing = BankAccount()\n",
    "#     print(thing.put_money())\n",
    "#   elif option ==\"2\":\n",
    "#     thing = BankAccount()\n",
    "#     print(thing.takeout_money())\n",
    "#   elif option ==\"3\":\n",
    "#     thing = BankAccount()\n",
    "#     print(thing.show_balance())\n",
    "#   else:\n",
    "#     loop = False"
   ]
  },
  {
   "cell_type": "markdown",
   "metadata": {},
   "source": [
    "## Ejercicio 6\n"
   ]
  },
  {
   "cell_type": "markdown",
   "metadata": {},
   "source": [
    "### Crear una clase Fraccion\n",
    "Los siguientes atributos\n",
    "\n",
    "\n",
    "- Numerador\n",
    "- Denominador\n",
    "\n",
    "Métodos:\n",
    "\n",
    "- Constructor que inicialice los atributos\n",
    "- Simplificar: Dividir el numerador y el denominador por su máximo común divisor\n",
    "- Sumar: Sumar dos fracciones\n",
    "- Restar: Restar dos fracciones"
   ]
  },
  {
   "cell_type": "code",
   "execution_count": null,
   "metadata": {},
   "outputs": [
    {
     "name": "stdout",
     "output_type": "stream",
     "text": [
      "The sum is (5, 2)\n"
     ]
    }
   ],
   "source": [
    "\n",
    "import math as mt\n",
    "\n",
    "class Fraction:\n",
    "  def __init__(self, numerator, denominator):\n",
    "    self.numerator = numerator\n",
    "    self.denominator = denominator\n",
    "  def simplify(self):\n",
    "    gcd_val = mt.gcd(self.numerator, self.denominator)\n",
    "    return self.numerator // gcd_val, self.denominator // gcd_val\n",
    "  def __add__(self ,other):\n",
    "    dem1 = self.denominator\n",
    "    dem2 = other.denominator\n",
    "    mcm = dem1 * dem2 // mt.gcd(dem1, dem2)\n",
    "    fraction1 = self.numerator * (mcm //dem1)\n",
    "    fraction2 = other.numerator * (mcm // dem2)\n",
    "    new_value = fraction1 + fraction2\n",
    "    result = Fraction(new_value,mcm)\n",
    "    return result.simplify()\n",
    "  def __sub__(self,other):\n",
    "    dem1 = self.denominator\n",
    "    dem2 = other.denominator\n",
    "    mcm = dem1 * dem2 // mt.gcd(dem1, dem2)\n",
    "    fraction1 = self.numerator * (mcm //dem1)\n",
    "    fraction2 = other.numerator * (mcm // dem2)\n",
    "    new_value = fraction1 - fraction2\n",
    "    result = Fraction(new_value,mcm)\n",
    "    return result.simplify()\n",
    "\n",
    "thing1 = Fraction(4,2)\n",
    "thing2 = Fraction(2,4)\n",
    "result = thing1  +thing2\n",
    "print(\"The sum is\", result)\n",
    "\n"
   ]
  },
  {
   "cell_type": "markdown",
   "metadata": {},
   "source": [
    "## Ejercicio 7\n",
    "### Crear una clase Fecha con los siguientes atributos:\n",
    "\n",
    "Día\n",
    "\n",
    "Mes\n",
    "\n",
    "Año\n",
    "\n",
    "Métodos:\n",
    "\n",
    "Constructor que inicialice los atributos\n",
    "\n",
    "MostrarFecha: Imprimir la fecha en formato dd/mm/aaaa\n",
    "\n",
    "EsBisiesto: Comprobar si el año es bisiesto"
   ]
  },
  {
   "cell_type": "code",
   "execution_count": null,
   "metadata": {},
   "outputs": [
    {
     "name": "stdout",
     "output_type": "stream",
     "text": [
      "It's: 12/21/2001\n",
      "False\n"
     ]
    }
   ],
   "source": [
    "class Date:\n",
    "  def __init__(self, day, month, year):\n",
    "    self.day = day\n",
    "    self.month = month\n",
    "    self.year = year\n",
    "    \n",
    "  def show_date(self):\n",
    "    return(f\"It's: {self.day}/{self.month}/{self.year}\")\n",
    "  def Isleap(self):\n",
    "    if self.year %4 ==0 and (self.year %100 !=0 or self.year %400 ==0):\n",
    "      return True\n",
    "    else:\n",
    "      return False\n",
    "day = int(input(\"Enter the date in format{dd}: \"))\n",
    "while len(str(day)) != 2:\n",
    "  day = int(input(\"Enter the date in format{dd}: \"))\n",
    "month = int(input(\"Enter the date in format{mm}: \"))\n",
    "while len(str(month)) != 2:\n",
    "  month = int(input(\"Enter the date in format{mm}: \"))\n",
    "year = int(input(\"Enter the year in format{aaaa}\"))\n",
    "while len(str(year)) != 4:\n",
    "  year = int(input(\"Enter the year in format{aaaa}\"))\n",
    "  \n",
    "june = Date(day,month,year)\n",
    "print(june.show_date())\n",
    "print(june.Isleap())\n",
    "\n",
    "    \n"
   ]
  },
  {
   "cell_type": "markdown",
   "metadata": {},
   "source": [
    "## Ejercicio 8\n",
    "### Crear una clase Persona con los siguientes atributos\n",
    "#### Atributos\n",
    "\n",
    "Nombre\n",
    "\n",
    "Edad\n",
    "\n",
    "Ciudad\n",
    "\n",
    "Profesión\n",
    "\n",
    "#### Métodos:\n",
    "\n",
    "Constructor que inicialice los atributos\n",
    "\n",
    "Saludar: Imprimir un mensaje que diga \"Hola, mi nombre es {nombre}, tengo {edad} años, soy de {ciudad} y soy {profesión}.\"\n",
    "\n",
    "CambiarCiudad: Modificar el valor del atributo ciudad\n",
    "\n",
    "CambiarProfesion: Modificar el valor del atributo profesión"
   ]
  },
  {
   "cell_type": "code",
   "execution_count": null,
   "metadata": {},
   "outputs": [
    {
     "name": "stdout",
     "output_type": "stream",
     "text": [
      "Hi, my name is Santiago, I'm 22 years old, I'm from madrid and I'm a programmer\n",
      "The new city will be: Bogota\n",
      "The new profession is: Cooker\n",
      "Hi, my name is Santiago, I'm 22 years old, I'm from Bogota and I'm a Cooker\n"
     ]
    }
   ],
   "source": [
    "class Person:\n",
    "  def __init__(self,name, age,city, profession,) -> None:\n",
    "    \n",
    "    self.name = name\n",
    "    self.age = age\n",
    "    self.city = city\n",
    "    self.profession = profession\n",
    "    \n",
    "  def greet(self):\n",
    "    return f\"Hi, my name is {self.name}, I'm {self.age} years old, I'm from {self.city} and I'm a {self.profession}\"\n",
    "  \n",
    "  def change_city(self, new_city):\n",
    "    self.city = new_city\n",
    "    return f\"The new city will be: {self.city}\"\n",
    "  def change_profession(self,new_profession):\n",
    "    self.profession = new_profession \n",
    "    return f\"The new profession is: {self.profession}\"\n",
    "persona = Person(\"Santiago\", 22, \"madrid\", \"programmer\")\n",
    "\n",
    "print(persona.greet())\n",
    "print(persona.change_city(\"Bogota\"))\n",
    "print(persona.change_profession(\"Cooker\"))\n",
    "print(persona.greet())"
   ]
  },
  {
   "cell_type": "markdown",
   "metadata": {},
   "source": [
    "## Ejercicio 9\n",
    "\n",
    "### Crear una clase Animal con los siguientes atributos:\n",
    "\n",
    "\n",
    "#### Atributos\n",
    "\n",
    "Tipo (perro, gato, etc.)\n",
    "\n",
    "Raza\n",
    "\n",
    "Edad\n",
    "\n",
    "#### Métodos:\n",
    "\n",
    "Constructor que inicialice los atributos\n",
    "\n",
    "HacerRuido: Imprimir un mensaje que diga el tipo de animal y el ruido que hace (por ejemplo, \"Perro: Guau\")."
   ]
  },
  {
   "cell_type": "code",
   "execution_count": null,
   "metadata": {},
   "outputs": [
    {
     "name": "stdout",
     "output_type": "stream",
     "text": [
      "The 8 years old cat from the golden says: \n",
      "Meow\n"
     ]
    }
   ],
   "source": [
    "class Animal:\n",
    "  def __init__(self, type:str, race:str, age:int ) :\n",
    "    self.type = type\n",
    "    self.race = race\n",
    "    self.age = age\n",
    "  def made_noise(self):\n",
    "    if self.type == \"dog\":\n",
    "      print(f\"The {self.age} years old {self.type} from  the {self.race} says: \")\n",
    "      return \"Woof\"\n",
    "    elif self.type == \"cat\":\n",
    "      print(f\"The {self.age} years old {self.type} from the {self.race} says: \")\n",
    "      return \"Meow\"\n",
    "    elif self.type == \"bird\":\n",
    "      print(f\"The {self.age} years old {self.type} from  the {self.race} says: \")\n",
    "      return \"Chirp\"\n",
    "    \n",
    "    else:\n",
    "      print(\"Error\")\n",
    "\n",
    "dog = Animal(\"cat\", \"golden\", 8)\n",
    "print(dog.made_noise())\n",
    "  \n",
    "  \n",
    "    "
   ]
  },
  {
   "cell_type": "markdown",
   "metadata": {},
   "source": [
    "## Ejercicio 10\n",
    "### Crear una clase CuentaBancaria con los siguientes atributos:\n",
    "#### Atributos\n",
    "- titular\n",
    "- saldo\n",
    "- tipo de cuenta(ahorro, corriente)\n",
    "#### Metodos\n",
    "\n",
    "- Constructor que inicialice los atributos\n",
    "- Depositar: Aumentar el saldo de la cuenta\n",
    "- Retirar: Disminuir el saldo de la cuenta\n",
    "- ConsultarSaldo: Imprimir el saldo actual de la cuenta\n",
    "- ExtraerComision(solo para cuentas corrientes): Aplicar una comisión por cada extracción\n"
   ]
  },
  {
   "cell_type": "code",
   "execution_count": null,
   "metadata": {},
   "outputs": [
    {
     "name": "stdout",
     "output_type": "stream",
     "text": [
      "The headline isPablo and has a current type of account, with 1000 of money\n",
      "None\n",
      " The balance is: 1500\n",
      "None\n",
      " The balance is: 1300\n",
      "The comisio is: 130.0\n",
      " The balance is: 1170.0\n"
     ]
    }
   ],
   "source": [
    "class AdvancedBankAccount:\n",
    "  def __init__(self, headline:str, balance:int, account_type:str ):\n",
    "    self.headline = headline\n",
    "    self.balance = balance\n",
    "    self.account_type = account_type\n",
    "  def show_information(self):\n",
    "    return f\"The headline is{self.headline} and has a {self.account_type} type of account, with {self.balance} of money\"\n",
    "  def deposit(self, amount):\n",
    "    self.balance += amount\n",
    "  def withdraw(self,  amount):\n",
    "    self.balance -= amount\n",
    "  def show_balance(self):\n",
    "    return f\" The balance is: {self.balance}\"\n",
    "  def extract_comision(self, percent):\n",
    "    if self.account_type == \"current\":\n",
    "      self.comision = self.balance * (percent / 100)\n",
    "      self.balance -= self.comision\n",
    "      return f\"The comisio is: {self.comision}\"\n",
    "    else:\n",
    "      return f\"This operation just work when the account type is current\"\n",
    "hola = AdvancedBankAccount(\"Pablo\",1000,\"current\")\n",
    "\n",
    "print(hola.show_information())\n",
    "print(hola.deposit(500))\n",
    "print(hola.show_balance())\n",
    "print(hola.withdraw(200))\n",
    "print(hola.show_balance())\n",
    "print(hola.extract_comision(10))\n",
    "print(hola.show_balance())"
   ]
  },
  {
   "cell_type": "markdown",
   "metadata": {},
   "source": [
    "# Herencia Simple\n"
   ]
  },
  {
   "cell_type": "markdown",
   "metadata": {},
   "source": [
    "## Ejercicio 11\n",
    "### Crear una clase Animal con los siguientes atributos:\n",
    "#### Atributos\n",
    "Tipo (perro, gato, etc.)\n",
    "Raza\n",
    "Edad\n",
    "#### Métodos:\n",
    "\n",
    "- Constructor que inicialice los atributos\n",
    "- HacerRuido: Imprimir un mensaje que diga el tipo de animal y el ruido que hace (por ejemplo, \"Perro: Guau\").\n",
    "#### Crear clases derivadas Perro y Gato que hereden de la clase Animal y agreguen los siguientes atributos y métodos:\n",
    "\n",
    "##### Perro:\n",
    "Atributo: Color\n",
    "Método: Ladrar\n",
    "##### Gato:\n",
    "Atributo: Pelaje (largo, corto)\n",
    "Método: Maullar"
   ]
  },
  {
   "cell_type": "code",
   "execution_count": null,
   "metadata": {},
   "outputs": [
    {
     "name": "stdout",
     "output_type": "stream",
     "text": [
      "Woof Woof\n",
      "Invalid Fur\n",
      "Meow Meow\n"
     ]
    }
   ],
   "source": [
    "\n",
    "class Dog(Animal):\n",
    "  def __init__(self, type:str, race:str, age:int, color:str):\n",
    "    super().__init__(type,  race, age)\n",
    "    self.color = color\n",
    "  def bark(self):\n",
    "    return \"Woof Woof\"\n",
    "  \n",
    "dog = Dog(\"dog\",\"golden\",13,\"yellow\")\n",
    "print(dog.bark())\n",
    "\n",
    "class Cat(Animal):\n",
    "  def __init__(self, type: str, race: str, age: int, fur:str):\n",
    "    super().__init__(type, race, age)\n",
    "    self.fur = fur\n",
    "  def meow(self):\n",
    "    if self.fur == \"short\":\n",
    "      pass\n",
    "    elif self.fur == \"long\":\n",
    "      pass\n",
    "    else:\n",
    "      print(\"Invalid Fur\")\n",
    "    return \"Meow Meow\"\n",
    "  \n",
    "cat = Cat(\"cat\",\"nose\",4,\"\")\n",
    "print(cat.meow())\n"
   ]
  },
  {
   "cell_type": "markdown",
   "metadata": {},
   "source": [
    "## Ejercicio 12\n",
    "### Crear una clase Figura Geometrica\n",
    "#### Atributos\n",
    "- Nombre\n",
    "- Color\n",
    "#### Metodos\n",
    "- Constructor que inicialice los atributos\n",
    "- CalcularArea: Implementar este método en las clases derivadas (no en la clase base)\n",
    "- ObtenerColor: Devolver el valor del atributo color\n",
    "\n",
    "#### Crear clases derivadas Triángulo y Círculo que hereden de la clase FiguraGeométrica e implementen el método CalcularArea:\n",
    "---\n",
    "##### Triángulo:\n",
    "- Atributos: base, altura\n",
    "- Método CalcularArea: (base * altura) / 2\n",
    "##### Círculo:\n",
    "- Atributo: radio\n",
    "- Método CalcularArea: π * radio²"
   ]
  },
  {
   "cell_type": "code",
   "execution_count": null,
   "metadata": {},
   "outputs": [
    {
     "name": "stdout",
     "output_type": "stream",
     "text": [
      "Its name is: My little triangule, and its color is: green\n",
      "160.0\n",
      "Its name is: My little circle, and its color is: red\n",
      "12.56\n"
     ]
    }
   ],
   "source": [
    "class GeometricFigure:\n",
    "  def __init__(self, name: str, color:str) :\n",
    "    self.name = name\n",
    "    self.color = color\n",
    "  def get_color(self):\n",
    "    print(f\"The color is {self.color}\")\n",
    "    return self.color\n",
    "  \n",
    "class Triangule(GeometricFigure):\n",
    "  def __init__(self, name, color, base:int, height:int):\n",
    "    super().__init__(name, color)\n",
    "    self.base = base\n",
    "    self.height = height\n",
    "    \n",
    "  def calculate_area(self):\n",
    "    print(f\"Its name is: {self.name}, and its color is: {self.color}\")\n",
    "    return (self.base*self.height)/2\n",
    "class Circle(GeometricFigure):\n",
    "  def __init__(self, name, color, radio:float):\n",
    "    super().__init__(name, color)\n",
    "    self.radio = radio\n",
    "  def calculate_area(self):\n",
    "    print(f\"Its name is: {self.name}, and its color is: {self.color}\")\n",
    "    return 3.14*(self.radio **2)\n",
    "  \n",
    "  \n",
    "triangule = Triangule(\"My little triangule\", \"green\", 10, 32)\n",
    "print(triangule.calculate_area())\n",
    "circle = Circle(\"My little circle\", \"red\", 2)\n",
    "print(circle.calculate_area())"
   ]
  },
  {
   "cell_type": "markdown",
   "metadata": {},
   "source": [
    "## Ejecicio 13 \n",
    "### Crear una clase vehiculo con herencia\n",
    "### Objetivo:\n",
    "\n",
    "Crear una clase base Vehículo y dos clases derivadas, Coche y Moto, que hereden de ella. Implementar métodos y atributos específicos para cada clase.\n",
    "\n",
    "### Descripción:\n",
    "\n",
    "#### Clase Vehículo:\n",
    "\n",
    "#### Atributos:\n",
    "- marca: Marca del vehículo (string).\n",
    "- modelo: Modelo del vehículo (string).\n",
    "- color: Color del vehículo (string).\n",
    "#### Métodos:\n",
    "- __init__(self, marca, modelo, color): Constructor que inicializa los atributos.\n",
    "- acelerar(self): Imprime un mensaje genérico de aceleración.\n",
    "#### Clase Coche:\n",
    "\n",
    "- Hereda de: Vehículo.\n",
    "##### Atributos específicos:\n",
    "numero_puertas: Número de puertas del coche (entero).\n",
    "##### Métodos:\n",
    "- __init__(self, marca, modelo, color, numero_puertas): Constructor que inicializa los atributos heredados y el nuevo atributo.\n",
    "- acelerar(self): Imprime un mensaje de aceleración específico para un coche.\n",
    "#### Clase Moto:\n",
    "\n",
    "- Hereda de: Vehículo.\n",
    "##### Atributos específicos:\n",
    "- tipo_moto: Tipo de moto (deportiva, scooter, etc.) (string).\n",
    "##### Métodos:\n",
    "- __init__(self, marca, modelo, color, tipo_moto): Constructor que inicializa los atributos heredados y el nuevo atributo.\n",
    "- acelerar(self): Imprime un mensaje de aceleración específico para una moto."
   ]
  },
  {
   "cell_type": "code",
   "execution_count": null,
   "metadata": {},
   "outputs": [
    {
     "name": "stdout",
     "output_type": "stream",
     "text": [
      "The vehicule is speeding up\n",
      "It has 4 doors\n",
      "The car is speeding up\n",
      "It's a moto, i don't the class\n",
      "The moto is speeding up\n"
     ]
    }
   ],
   "source": [
    "class Vehicule:\n",
    "  def __init__(self,brand:str, model:str, color:str) :\n",
    "    self.brand = brand\n",
    "    self.model = model\n",
    "    self.color = color\n",
    "  def speed_up(self):\n",
    "    return(\"The vehicule is speeding up\")\n",
    "class Car(Vehicule):\n",
    "  def __init__(self, brand: str, model: str, color: str, door_number:int):\n",
    "    super().__init__(brand, model, color)\n",
    "    self.door_number = door_number\n",
    "  def speed_up(self):\n",
    "    print(f\"It has {self.door_number} doors\")\n",
    "    return \"The car is speeding up\"\n",
    "class Moto(Vehicule):\n",
    "  def __init__(self, brand: str, model: str, color: str, moto_class:str):\n",
    "    super().__init__(brand, model, color)\n",
    "    self.moto_class = moto_class\n",
    "  def speed_up(self):\n",
    "    match self.moto_class:\n",
    "      case \"deportive\":\n",
    "        print(\"It's deportive\")\n",
    "      case \"scooter\":\n",
    "        print(\"It's a scooter\")\n",
    "      case __:\n",
    "        print(\"It's a moto, i don't the class\")\n",
    "    return \"The moto is speeding up\"\n",
    "  \n",
    "vehiculo = Vehicule(\"Toyota\",\"Rush\", \"Silver\")\n",
    "print(vehiculo.speed_up())\n",
    "car = Car(\"Toyota\",\"Hilux\",\"Red\",4)\n",
    "print(car.speed_up())\n",
    "moto = Moto(\"Moton\",\"Motito\",\"Black\",\"\")\n",
    "print(moto.speed_up())\n"
   ]
  },
  {
   "cell_type": "markdown",
   "metadata": {},
   "source": [
    "## Ejercicio 14 \n",
    "### Juego de Cartas\n",
    "\n",
    "Crea un juego de cartas simple utilizando herencia. Las clases involucradas son:\n",
    "\n",
    "#### Carta:\n",
    "##### Atributos:\n",
    "- palo: Palo de la carta (corazones, diamantes, tréboles, picas).\n",
    "- valor: Valor de la carta (as, 2, 3, ..., rey).\n",
    "##### Métodos:\n",
    "- __init__(self, palo, valor): Constructor.\n",
    "- mostrar(self): Imprime la información de la carta (palo y valor).\n",
    "  \n",
    "#### Baraja:\n",
    "Hereda de list.\n",
    "##### Métodos:\n",
    "- __init__(self): Constructor. Inicializa la baraja con todas las cartas.\n",
    "- barajar(self): Mezcla las cartas de la baraja aleatoriamente.\n",
    "- sacar_carta(self): Extrae y devuelve la última carta de la baraja.\n",
    "- mostrar_baraja(self): Imprime todas las cartas de la baraja.\n",
    "#### Jugador:\n",
    "##### Atributos:\n",
    "-nombre: Nombre del jugador (string).\n",
    "-mano: Lista de cartas que tiene el jugador.\n",
    "##### Métodos:\n",
    "-__init__(self, nombre): Constructor.\n",
    "-tomar_carta(self, baraja): Toma una carta de la baraja y la agrega a la mano del jugador.\n",
    "-mostrar_mano(self): Imprime las cartas de la mano del jugador.\n",
    "\n"
   ]
  },
  {
   "cell_type": "code",
   "execution_count": null,
   "metadata": {},
   "outputs": [
    {
     "name": "stdout",
     "output_type": "stream",
     "text": [
      "['heart', 'diamond']\n"
     ]
    }
   ],
   "source": [
    "import random\n",
    "class Card:\n",
    "\n",
    "  def __init__(self, stick:str, value:str):\n",
    "    self.stick = stick\n",
    "    self.value = value\n",
    "    self.sticks = [\"diamond\",\"heart\",\"spade\",\"clove\"]\n",
    "    self.values = [\"as\",\"2\",\"3\",\"4\"]\n",
    "    if self.stick in self.sticks:\n",
    "      pass\n",
    "    else:\n",
    "      print(\"Introduced stick not valid\")\n",
    "    if self.value in self. values:\n",
    "      pass\n",
    "    else:\n",
    "      print(\"Introduced value not valid\")\n",
    "  def show_both(self):\n",
    "    print(\"stick: \", self.stick, \"value: \", self.value)\n",
    "  def return_sick(self):\n",
    "    return self.stick\n",
    "  def return_value(self):\n",
    "    return self.value\n",
    "    \n",
    "class DeckOfCards(Card):\n",
    "  def __init__(self, stick:str, value:str):\n",
    "    super().__init__(stick, value)\n",
    "    self.dict = {self.stick:self.value}\n",
    "  def shuffle(self, cards:dict):\n",
    "    card_list = list(cards.items())\n",
    "    random.shuffle(card_list)\n",
    "    self.shuffle_dict= dict(card_list)\n",
    "    # return self.shuffle_dict\n",
    "  def take_out(self):\n",
    "    last_key = list(self.shuffle_dict.keys())\n",
    "    last_value = self.shuffle_dict[last_key[-1]]\n",
    "    return f\"{last_key[-1]} : {last_value}\"\n",
    "  def show_all(self):\n",
    "    return self.shuffle_dict\n",
    "\n",
    "cards ={}\n",
    "number_of_card = int(input(\"Enter the number of cards: \"))\n",
    "for i in range(number_of_card):\n",
    "  stick = str(input(\"Enter the stick: \"))\n",
    "  value = str(input(\"Enter the value: \"))\n",
    "  card = DeckOfCards(stick, value)\n",
    "  if card.return_sick() == stick and card.return_value() == value:\n",
    "    cards[stick] = value\n",
    "card.shuffle(cards)\n",
    "all_of_card = card.show_all()\n",
    "card.take_out()\n",
    "\n",
    "class Player:\n",
    "  def __init__(self, name, card):\n",
    "    self.name = name\n",
    "    self.card = card\n",
    "  def take_one_card(self):\n",
    "    if self.card in all_of_card.keys():\n",
    "      self.hand = self.card\n",
    "      return self.hand\n",
    "    else:\n",
    "      print(\"Entered card, isn't in the data\")\n",
    "  def show_hand(self,cards_in_hand:list):\n",
    "    return cards_in_hand\n",
    "cards_in_hand = []\n",
    "num_of_cards_for_hand = int(input(\"Enter the number  of cards for your hand: \"))\n",
    "name = str(input(\"Enter the player name: \"))\n",
    "for i in range(num_of_cards_for_hand):\n",
    "  card = str(input(\"Enter the card: \")).lower()\n",
    "  player = Player(name, card)\n",
    "  cards_in_hand.append(player.take_one_card())\n",
    "print(player.show_hand(cards_in_hand))"
   ]
  },
  {
   "cell_type": "code",
   "execution_count": null,
   "metadata": {},
   "outputs": [],
   "source": []
  },
  {
   "cell_type": "markdown",
   "metadata": {},
   "source": [
    "# Herencia Multiple\n"
   ]
  },
  {
   "cell_type": "code",
   "execution_count": null,
   "metadata": {},
   "outputs": [],
   "source": []
  },
  {
   "cell_type": "code",
   "execution_count": null,
   "metadata": {},
   "outputs": [],
   "source": []
  },
  {
   "cell_type": "markdown",
   "metadata": {},
   "source": [
    "## Ejercicio 15  \n",
    "###  Figura Geométrica con Colores y Texturas:\n",
    "#### Imagina que queremos crear figuras geométricas que tengan tanto un color como una textura."
   ]
  },
  {
   "cell_type": "code",
   "execution_count": 20,
   "metadata": {},
   "outputs": [
    {
     "name": "stdout",
     "output_type": "stream",
     "text": [
      "The Square is Red  color with a Straight texture\n",
      "The area of the Square is 50\n"
     ]
    }
   ],
   "source": [
    "class Figure:\n",
    "  def __init__(self,figure, height, base):\n",
    "    self.figure =figure\n",
    "    self.height = height\n",
    "    self.base = base\n",
    "class Color:\n",
    "  def __init__(self,color) :\n",
    "    self.color = color\n",
    "class Texture:\n",
    "  def __init__(self,texture):\n",
    "    self.texture = texture\n",
    "class CompleteFigure(Figure,Color,Texture):\n",
    "  def __init__(self,figure,color,texture, base, height):\n",
    "    Figure.__init__(self,figure, base, height)\n",
    "    Color.__init__(self,color)\n",
    "    Texture.__init__(self,texture)\n",
    "  def show_information(self):\n",
    "    return f\"The {self.figure} is {self.color}  color with a {self.texture} texture\"\n",
    "  def show_area(self):\n",
    "    return f\"The area of the {self.figure} is {self.height * self.base}\"\n",
    "thing = CompleteFigure(\"Square\",\"Red\",\"Straight\",10, 5)\n",
    "print(thing.show_information())\n",
    "print(thing.show_area())\n",
    "\n",
    "      "
   ]
  },
  {
   "cell_type": "markdown",
   "metadata": {},
   "source": [
    "## Ejercicio 16\n",
    "### Empleado con Diferentes Roles:\n",
    "#### Supongamos que queremos representar empleados con diferentes roles (técnico y administrativo)."
   ]
  },
  {
   "cell_type": "code",
   "execution_count": 8,
   "metadata": {},
   "outputs": [
    {
     "name": "stdout",
     "output_type": "stream",
     "text": [
      "I'm Santiago is 15 years old, I offer services of cooking, and if you want to contact me, you must go to 2\n"
     ]
    }
   ],
   "source": [
    "class Person:\n",
    "  def __init__(self,name:str,age:int):\n",
    "    self.name = name\n",
    "    self.age = age\n",
    "class Technical(Person):\n",
    "  def __init__(self, name:str, age:int, service:str):\n",
    "    Person.__init__(self,name,age)\n",
    "    self.service = service\n",
    "class Administrative(Person):\n",
    "  def __init__(self, name: str, age: int, office :str):\n",
    "    Person.__init__(self,name,age)\n",
    "    self.office = office\n",
    "class TecnicalAdministrative(Technical, Administrative):\n",
    "  def __init__(self, name, age, service, office):\n",
    "    Technical.__init__(self,name,age,service)\n",
    "    Administrative.__init__(self,name,age,office)\n",
    "  def show_inf(self):\n",
    "    return f\"I'm {self.name} is {self.age } years old, I offer services of {self.service}, and if you want to contact me, you must go to {self.office}\"\n",
    "chef = TecnicalAdministrative(\"Santiago\", 15, \"cooking\", \"2\")\n",
    "print(chef.show_inf())\n"
   ]
  },
  {
   "cell_type": "markdown",
   "metadata": {},
   "source": [
    "## Ejercicio 17\n",
    "### Animal con Características Físicas y Comportamiento (Herencia múltiple)"
   ]
  },
  {
   "cell_type": "code",
   "execution_count": 23,
   "metadata": {},
   "outputs": [
    {
     "name": "stdout",
     "output_type": "stream",
     "text": [
      "Woof\n"
     ]
    }
   ],
   "source": [
    "class PhysicalCharacteristics:\n",
    "  def __init__(self, color, race) -> None:\n",
    "    self.color = color\n",
    "    self.race = race\n",
    "    \n",
    "class Behaviour:\n",
    "  def __init__(self, personality) -> None:\n",
    "    self.personality = personality\n",
    "class Dog(PhysicalCharacteristics,Behaviour):\n",
    "  def __init__(self, color, race, personality) -> None:\n",
    "    PhysicalCharacteristics.__init__(self, color, race)\n",
    "    Behaviour.__init__(self, personality)\n",
    "  def bark(self):\n",
    "    return \"Woof\"\n",
    "my_dog = Dog(\"Black\",\"Pitbull\",\"michibous\")\n",
    "print(my_dog.bark())"
   ]
  },
  {
   "cell_type": "markdown",
   "metadata": {},
   "source": [
    "## Ejercicio 18\n",
    "###  Figura 3D con Color y Dimensiones (Herencia múltiple)"
   ]
  },
  {
   "cell_type": "code",
   "execution_count": 6,
   "metadata": {},
   "outputs": [
    {
     "name": "stdout",
     "output_type": "stream",
     "text": [
      "Color: Red, dimensiones: 2x 4 x 5\n"
     ]
    }
   ],
   "source": [
    "class Color:\n",
    "  def __init__(self, color) -> None:\n",
    "    self.color = color\n",
    "    \n",
    "class Dimension:\n",
    "  def __init__(self, altura, anchura, longitud) -> None:\n",
    "    self.altura = altura\n",
    "    self.anchura = anchura\n",
    "    self.longitud = longitud\n",
    "  \n",
    "class Figura3D(Color, Dimension):\n",
    "  def __init__(self, color, altura, anchura, longitud) -> None:\n",
    "    Color.__init__(self,color)\n",
    "    Dimension.__init__(self,anchura, altura, longitud)\n",
    "    \n",
    "  def __str__(self) -> str:\n",
    "    return f\"Color: {self.color}, dimensiones: {self.altura}x {self.longitud} x {self.anchura}\"\n",
    "cubo = Figura3D(\"Red\", 5, 2, 4)\n",
    "print(cubo)"
   ]
  },
  {
   "cell_type": "markdown",
   "metadata": {},
   "source": [
    "## Ejercicio 19\n",
    "###  Empleado con Diferentes Beneficios\n",
    "Imagine una empresa donde los empleados pueden tener diferentes beneficios, como seguro médico, seguro de vida y bonificaciones."
   ]
  },
  {
   "cell_type": "code",
   "execution_count": 19,
   "metadata": {},
   "outputs": [
    {
     "name": "stdout",
     "output_type": "stream",
     "text": [
      "Usted Santiago  con edad: 14 ha elegido este beneficio: Seguro Medico por lo tanto: El seguro medico es un beneficio que cubre los gastos de salud\n"
     ]
    }
   ],
   "source": [
    "class Beneficios:\n",
    "  def __init__(self, beneficio =\"\") -> None:\n",
    "    self.beneficio = beneficio\n",
    "    self.beneficio = [\"Seguro Medico\", \"Seguro de Vida\", \"Bonificaciones\"]\n",
    "  def obtener_beneficio(self, beneficio):\n",
    "    match beneficio:\n",
    "      case \"Seguro Medico\":\n",
    "        return \"El seguro medico es un beneficio que cubre los gastos de salud\"\n",
    "      case \"Seguro de Vida\":\n",
    "        return \"El seguro de vida es un beneficio que cubre la pérdida de vida\"\n",
    "      case \"Bonificaciones\":\n",
    "        return \"Las bonificaciones son un beneficio que se otorgan por logros\"\n",
    "      case _:\n",
    "        return \"Beneficio no encontrado\"\n",
    "class Empleado(Beneficios):\n",
    "  def __init__(self, nombre, edad, beneficio=\"\") -> None:\n",
    "    super().__init__(beneficio)\n",
    "    self.nombre = nombre\n",
    "    self.edad = edad\n",
    "  def mostrar_informacion(self, beneficio):\n",
    "    return(f\"Usted {self.nombre}  con edad: {self.edad} ha elegido este beneficio: {beneficio} por lo tanto: {self.obtener_beneficio(beneficio)}\")\n",
    "  \n",
    "thiago = Empleado(\"Santiago\", 14)\n",
    "print(thiago.mostrar_informacion(\"Seguro Medico\"))\n",
    "\n",
    "    "
   ]
  },
  {
   "cell_type": "markdown",
   "metadata": {},
   "source": [
    "## Ejercicio 20\n",
    "### Vehículo con Motor, Chasis y Equipamiento\n",
    "\n",
    "Expande el ejemplo del vehículo para incluir diferentes tipos de motores (gasolina, eléctrico) y equipamiento adicional (aire acondicionado, GPS)."
   ]
  },
  {
   "cell_type": "code",
   "execution_count": 27,
   "metadata": {},
   "outputs": [
    {
     "name": "stdout",
     "output_type": "stream",
     "text": [
      "La traccion es: Trasera\n",
      "El material es: aluminio\n",
      "El tipo de seguridad es: Cinturones\n",
      "El tipo de tecnologia es: AutoPilot\n"
     ]
    },
    {
     "data": {
      "text/plain": [
       "'Datos motor: Tipo de Combustion es: electrico con una potencia de: 100; Datos Chasis: None; Datos Equipamiento: None'"
      ]
     },
     "execution_count": 27,
     "metadata": {},
     "output_type": "execute_result"
    }
   ],
   "source": [
    "class Motor:\n",
    "  def __init__(self ) -> None:\n",
    "    self.tipo_de_combustible = [\"electrico\", \"combustible\"]\n",
    "  def mostrar_motor(self, potencia, combustion):\n",
    "    if  combustion in self.tipo_de_combustible:\n",
    "      return (f\"Tipo de Combustion es: {combustion} con una potencia de: {potencia}\")\n",
    "class Chasis:\n",
    "  def __init__(self):\n",
    "    self.tipo_de_traccion = [\"Trasera\", \"Delantera\", \"4x4\"]\n",
    "    self.tipos_de_suspension = [\"Suspensión independiente\",\"Suspensión de eje rígido\"]\n",
    "    self.tipos_de_materiales = ['metal', 'aluminio']\n",
    "  def mostrar_chasis(self, traccion, material, suspension):\n",
    "    if  traccion in self.tipo_de_traccion:\n",
    "      print(f\"La traccion es: {traccion}\")\n",
    "    if suspension in self.tipos_de_suspension:\n",
    "      print(f\"El tipo de suspension es: {suspension}\")\n",
    "    if material in self.tipos_de_materiales:\n",
    "      print(f\"El material es: {material}\")\n",
    "  \n",
    "class Equipamiento:\n",
    "  def __init__(self) -> None:\n",
    "    self.tipos_de_seguridad = [\"Bolsa de Aire\", \"Cinturones\"]\n",
    "    self.tipos_de_tecnologias =[\"AutoPilot\", \"Aire Acondicinado\"]\n",
    "  def mostrar_equipamiento(self, seguridad, tecnologia):\n",
    "    if seguridad in self.tipos_de_seguridad:\n",
    "      print(f\"El tipo de seguridad es: {seguridad}\")\n",
    "    if tecnologia in self.tipos_de_tecnologias:\n",
    "      print(f\"El tipo de tecnologia es: {tecnologia}\")\n",
    "class Vehiculo(Motor, Chasis, Equipamiento):\n",
    "  def __init__(self):\n",
    "    Motor.__init__(self)\n",
    "    Chasis.__init__(self)\n",
    "    Equipamiento.__init__(self)\n",
    "  def mostrar_datos(self, potencia, combustion, traccion, material, suspension, seguridad, tecnologia):\n",
    "    return f\"Datos motor: {self.mostrar_motor(potencia, combustion)}; Datos Chasis: {self.mostrar_chasis(traccion, material, suspension)}; Datos Equipamiento: {self.mostrar_equipamiento(seguridad, tecnologia)}\"\n",
    "  \n",
    "toyota = Vehiculo()\n",
    "toyota.mostrar_datos(100, \"electrico\", \"Trasera\",\"aluminio\",\"Suspension independiente\", \"Cinturones\", \"AutoPilot\")\n",
    "    \n",
    "    "
   ]
  },
  {
   "cell_type": "markdown",
   "metadata": {},
   "source": [
    "## Ejercicio 21\n",
    "### Sistema de Clasificación de Libros\n",
    "Crea un sistema de clasificación de libros basado en género, autor y editorial."
   ]
  },
  {
   "cell_type": "markdown",
   "metadata": {},
   "source": [
    "# Polimorfismo"
   ]
  },
  {
   "cell_type": "markdown",
   "metadata": {},
   "source": [
    "## Ejercicio 22\n",
    "### Animales que hacen sonidos"
   ]
  },
  {
   "cell_type": "code",
   "execution_count": 41,
   "metadata": {},
   "outputs": [
    {
     "name": "stdout",
     "output_type": "stream",
     "text": [
      "Wow\n"
     ]
    }
   ],
   "source": [
    "class Dog:\n",
    "  def __init__() -> None:\n",
    "    pass\n",
    "  def sound():\n",
    "    return \"Wow\"\n",
    "class Cat:\n",
    "  def __init__() -> None:\n",
    "    pass\n",
    "  def sound():\n",
    "    return \"Meow\"\n",
    "pet = Dog\n",
    "print(pet.sound())"
   ]
  },
  {
   "cell_type": "markdown",
   "metadata": {},
   "source": [
    "## Ejercicio 23\n",
    "### Ejercicio 2: Figuras geométricas que calculan área"
   ]
  },
  {
   "cell_type": "code",
   "execution_count": 22,
   "metadata": {},
   "outputs": [
    {
     "data": {
      "text/plain": [
       "'El area es:12.56'"
      ]
     },
     "execution_count": 22,
     "metadata": {},
     "output_type": "execute_result"
    }
   ],
   "source": [
    "class FiguraGeometrica:\n",
    "  def __init__(self, area= 0) -> None:\n",
    "    self.area = area\n",
    "    \n",
    "\n",
    "class Circulo(FiguraGeometrica):\n",
    "  def __init__(self) -> None:\n",
    "    super().__init__( area= 0)\n",
    "    self.PI = 3.14\n",
    "  def calcular_area(self, radio:int):\n",
    "    self.area = self.PI * (radio**2)\n",
    "    return f\"El area es:{self.area}\"\n",
    "circulo = Circulo()\n",
    "circulo.calcular_area(2)"
   ]
  },
  {
   "cell_type": "markdown",
   "metadata": {},
   "source": [
    "## Ejercicio 24\n",
    "###  Formas de pago\n",
    "El objetivo es modelar diferentes formas de pago (efectivo, tarjeta) que comparten una interfaz común (pagar), pero se implementan de manera diferente. Esto permite tratar cualquier forma de pago como un objeto genérico."
   ]
  },
  {
   "cell_type": "code",
   "execution_count": 40,
   "metadata": {},
   "outputs": [
    {
     "name": "stdout",
     "output_type": "stream",
     "text": [
      "Usted ha pagado con efectivo\n",
      "Usted ha pagado con tarjeta\n"
     ]
    }
   ],
   "source": [
    "class Pagar: #TODO: mejorable\n",
    "  def __init__(self, forma_de_pago):\n",
    "    self.forma_de_pago = forma_de_pago\n",
    "class EFectivo(Pagar):\n",
    "  def __init__(self, forma_de_pago):\n",
    "    super().__init__(forma_de_pago)\n",
    "  def pagar_efectivo(self):\n",
    "    if self.forma_de_pago == \"efectivo\":\n",
    "      return f\"Usted ha pagado con efectivo\"\n",
    "class Tarjeta(Pagar):\n",
    "  def __init__(self, forma_de_pago):\n",
    "    super().__init__(forma_de_pago)\n",
    "  def pagar_tarjeta(self):\n",
    "    if self.forma_de_pago == \"tarjeta\":\n",
    "      return f\"Usted ha pagado con tarjeta\"\n",
    "persona1 = EFectivo(\"efectivo\")\n",
    "print(persona1.pagar_efectivo())\n",
    "persona1 = Tarjeta(\"tarjeta\")\n",
    "print(persona1.pagar_tarjeta())"
   ]
  },
  {
   "cell_type": "markdown",
   "metadata": {},
   "source": [
    "## Ejercicio 25\n",
    "### Vehículos\n",
    "El objetivo es modelar diferentes tipos de vehículos (coches, aviones) que comparten la capacidad de acelerar, pero lo hacen de manera diferente. Esto ilustra cómo el polimorfismo se puede utilizar para representar comportamientos similares de objetos diferentes.\n"
   ]
  },
  {
   "cell_type": "code",
   "execution_count": 17,
   "metadata": {},
   "outputs": [
    {
     "ename": "TypeError",
     "evalue": "Avion.acelerar() missing 1 required positional argument: 'metres_seconds'",
     "output_type": "error",
     "traceback": [
      "\u001b[1;31m---------------------------------------------------------------------------\u001b[0m",
      "\u001b[1;31mTypeError\u001b[0m                                 Traceback (most recent call last)",
      "Cell \u001b[1;32mIn[17], line 20\u001b[0m\n\u001b[0;32m     17\u001b[0m       \u001b[38;5;28msuper\u001b[39m\u001b[38;5;241m.\u001b[39m\u001b[38;5;21m__init__\u001b[39m()\n\u001b[0;32m     19\u001b[0m my_bus \u001b[38;5;241m=\u001b[39m Avion\n\u001b[1;32m---> 20\u001b[0m \u001b[38;5;28mprint\u001b[39m(\u001b[43mmy_bus\u001b[49m\u001b[38;5;241;43m.\u001b[39;49m\u001b[43macelerar\u001b[49m\u001b[43m(\u001b[49m\u001b[38;5;241;43m0\u001b[39;49m\u001b[43m,\u001b[49m\u001b[43m \u001b[49m\u001b[38;5;241;43m200\u001b[39;49m\u001b[43m)\u001b[49m)\n",
      "\u001b[1;31mTypeError\u001b[0m: Avion.acelerar() missing 1 required positional argument: 'metres_seconds'"
     ]
    }
   ],
   "source": [
    "class Vehiculo:\n",
    "  def __init__(self):\n",
    "    self.marca = \"\"\n",
    "    self.tipo = [\"coche\",\"aviones\"]\n",
    "  def acelerar(self):\n",
    "    pass\n",
    "class Avion(Vehiculo):\n",
    "  def __init__(self, tipo):\n",
    "    if tipo ==self.tipo[1]:\n",
    "      tipo = super().tipo\n",
    "      print(tipo)\n",
    "  def acelerar(self, altitud_inicial, metres_seconds):\n",
    "    altitud_inicial += metres_seconds\n",
    "class Coche(Vehiculo):\n",
    "  def __init__(self, tipo):\n",
    "    if tipo == self.tipo[0]:\n",
    "      super.__init__()\n",
    "  "
   ]
  },
  {
   "cell_type": "markdown",
   "metadata": {},
   "source": [
    "## Ejercicio 26\n",
    "### Instrumentos Musicales\n",
    "El objetivo es crear una jerarquía de clases para representar diferentes instrumentos musicales, cada uno con su propio sonido. Esto muestra cómo el polimorfismo permite tratar diferentes instrumentos de manera uniforme."
   ]
  },
  {
   "cell_type": "code",
   "execution_count": 5,
   "metadata": {},
   "outputs": [
    {
     "name": "stdout",
     "output_type": "stream",
     "text": [
      "Wah\n",
      "Ding\n",
      "Glin\n"
     ]
    }
   ],
   "source": [
    "class Violin:\n",
    "  def __init__(self) -> None:\n",
    "    pass\n",
    "  def play(self):\n",
    "    return \"Glin\"\n",
    "class SaxoPhone:\n",
    "  def __init__(self) -> None:\n",
    "    pass\n",
    "  def play(self):\n",
    "    return \"Wah\"\n",
    "class Guitar:\n",
    "  def __init__(self) -> None:\n",
    "    pass\n",
    "  def play(self):\n",
    "    return \"Ding\"\n",
    "  \n",
    "instrumento = SaxoPhone()\n",
    "print(instrumento.play())\n",
    "  \n",
    "instrumento = Guitar()\n",
    "print(instrumento.play())\n",
    "  \n",
    "instrumento = Violin()\n",
    "print(instrumento.play())"
   ]
  },
  {
   "cell_type": "markdown",
   "metadata": {},
   "source": [
    "## Ejercicio 27(hard)\n",
    "### Simulación de un zoológico\n",
    "\n",
    "Objetivo: Crear una simulación básica de un zoológico donde diferentes animales puedan realizar acciones como comer, dormir y hacer ruido.\n",
    "Clases: Animal (clase base), León, Tigre, Oso, Pájaro (subclases).\n",
    "Métodos: comer(), dormir(), hacer_ruido().\n",
    "Polimorfismo: Cada animal debe implementar los métodos de manera diferente, mostrando su comportamiento específico."
   ]
  },
  {
   "cell_type": "code",
   "execution_count": null,
   "metadata": {},
   "outputs": [
    {
     "name": "stdout",
     "output_type": "stream",
     "text": [
      "ZOOLOGICO SMS\n",
      "El Leon duerme en con su manada\n"
     ]
    }
   ],
   "source": [
    "print(\"ZOOLOGICO SMS\")\n",
    "\n",
    "class Animal:\n",
    "  def __init__(self, animal) -> None:\n",
    "    self.animal = animal\n",
    "  def comer(self):\n",
    "    return f\"El {self.animal}\"\n",
    "  def dormir(self):\n",
    "    return f\"El {self.animal}\"\n",
    "  def hacer_ruido(self):\n",
    "    return f\"El {self.animal} esta: \"\n",
    "class Leon(Animal):\n",
    "  def __init__(self, animal) -> None:\n",
    "    super().__init__(animal)\n",
    "  def comer(self):\n",
    "    if self.animal == \"Leon\":\n",
    "      return super().comer() + \"  come carne\"\n",
    "    else:\n",
    "      return(\"No es Leon\")\n",
    "  def dormir(self):\n",
    "    if self.animal == \"Leon\":\n",
    "      return super().dormir() + \" duerme en con su manada\"\n",
    "    else:\n",
    "      return(\"No es Leon\")\n",
    "  def hacer_ruido(self):\n",
    "    if self.animal == \"Leon\":\n",
    "      return super().hacer_ruido() + \" rugiendo\"\n",
    "\n",
    "    \n",
    "\n",
    "leon = Leon(\"Leon\")\n",
    "print(leon.dormir())"
   ]
  },
  {
   "cell_type": "markdown",
   "metadata": {},
   "source": [
    "## Ejercicio 28 (hard)\n",
    "### Sistema de facturación\n",
    "Objetivo: Crear un sistema de facturación que pueda manejar diferentes tipos de productos (físicos, digitales) y formas de pago (efectivo, tarjeta, transferencia).\n",
    "Clases: Producto (clase base), ProductoFisico, ProductoDigital, FormaDePago (clase base), Efectivo, Tarjeta, Transferencia.\n",
    "Métodos: calcular_precio(), pagar().\n",
    "Polimorfismo: Los productos calcularán el precio de diferentes maneras, y las formas de pago se implementarán de forma distinta."
   ]
  },
  {
   "cell_type": "code",
   "execution_count": null,
   "metadata": {},
   "outputs": [],
   "source": []
  },
  {
   "cell_type": "markdown",
   "metadata": {},
   "source": [
    "## Ejercicio 29(hard)\n",
    "### Juego de rol simple\n",
    "Objetivo: Crear un juego de rol básico con diferentes tipos de personajes (guerrero, mago, ladrón), cada uno con sus propias habilidades y características.\n",
    "Clases: Personaje (clase base), Guerrero, Mago, Ladrón.\n",
    "Métodos: atacar(), defender(), usar_habilidad().\n",
    "Polimorfismo: Cada personaje implementará los métodos de manera diferente, reflejando sus habilidades únicas."
   ]
  },
  {
   "cell_type": "code",
   "execution_count": null,
   "metadata": {},
   "outputs": [],
   "source": []
  },
  {
   "cell_type": "markdown",
   "metadata": {},
   "source": [
    "## Ejercicio 30(hard)\n",
    "### Sistema de envío\n",
    "Objetivo: Crear un sistema de envío que pueda manejar diferentes tipos de paquetes (pequeños, grandes, frágiles) y diferentes servicios de envío (estándar, express, internacional).\n",
    "Clases: Paquete (clase base), PaquetePequeno, PaqueteGrande, ServicioEnvio (clase base), ServicioEstandar, ServicioExpress.\n",
    "Métodos: calcular_costo(), calcular_tiempo_entrega().\n",
    "Polimorfismo: Los paquetes se calcularán de manera diferente según su tamaño y los servicios de envío tendrán diferentes costos y tiempos de entrega."
   ]
  }
 ],
 "metadata": {
  "kernelspec": {
   "display_name": "Python 3",
   "language": "python",
   "name": "python3"
  },
  "language_info": {
   "codemirror_mode": {
    "name": "ipython",
    "version": 3
   },
   "file_extension": ".py",
   "mimetype": "text/x-python",
   "name": "python",
   "nbconvert_exporter": "python",
   "pygments_lexer": "ipython3",
   "version": "3.11.7"
  }
 },
 "nbformat": 4,
 "nbformat_minor": 2
}
