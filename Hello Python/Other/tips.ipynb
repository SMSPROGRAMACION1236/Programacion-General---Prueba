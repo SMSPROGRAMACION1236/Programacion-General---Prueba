{
 "cells": [
  {
   "cell_type": "markdown",
   "metadata": {},
   "source": [
    "## 1 .Dejar de Usar Print para Depurar\n",
    "Por que no sabemos donde podemos todos los prints"
   ]
  },
  {
   "cell_type": "code",
   "execution_count": 3,
   "metadata": {},
   "outputs": [],
   "source": [
    "from icecream import ic # Esta libreria nos permitira  evitar el uso de PRINTs"
   ]
  },
  {
   "cell_type": "code",
   "execution_count": null,
   "metadata": {},
   "outputs": [
    {
     "name": "stdout",
     "output_type": "stream",
     "text": [
      "100\n"
     ]
    },
    {
     "data": {
      "text/plain": [
       "-1900"
      ]
     },
     "execution_count": 12,
     "metadata": {},
     "output_type": "execute_result"
    }
   ],
   "source": [
    "### Ejemplo:\n",
    "#* ic.disable()  Con esto podemos anular todo, si es que ya no lo necesitamos\n",
    "def calcular_descuento(precio, descuento):\n",
    "  total_descuento = precio * descuento\n",
    "  precio_final = precio- total_descuento\n",
    "  print(precio)\n",
    "  ## Aca usamos IC, te dice el valor  y la variable\n",
    "  ic(precio)\n",
    "  ic(descuento)\n",
    "  ic(total_descuento)\n",
    "  ic(precio_final)\n",
    "  ic(\"Es algo\") #Tambien se puede imprimir de esta forma\n",
    "  # ic(f\"Precio: {precio}\") Tamgbien se puede imprimir de esta forma\n",
    "  return precio_final\n",
    "calcular_descuento(100, 20)"
   ]
  }
 ],
 "metadata": {
  "kernelspec": {
   "display_name": "Python 3",
   "language": "python",
   "name": "python3"
  },
  "language_info": {
   "codemirror_mode": {
    "name": "ipython",
    "version": 3
   },
   "file_extension": ".py",
   "mimetype": "text/x-python",
   "name": "python",
   "nbconvert_exporter": "python",
   "pygments_lexer": "ipython3",
   "version": "3.11.7"
  }
 },
 "nbformat": 4,
 "nbformat_minor": 2
}
