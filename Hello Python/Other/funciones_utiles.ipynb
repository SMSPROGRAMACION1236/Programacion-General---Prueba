{
 "cells": [
  {
   "cell_type": "markdown",
   "metadata": {},
   "source": [
    "#### exec()"
   ]
  },
  {
   "cell_type": "code",
   "execution_count": 1,
   "metadata": {},
   "outputs": [
    {
     "name": "stdout",
     "output_type": "stream",
     "text": [
      "Hola\n"
     ]
    }
   ],
   "source": [
    "# Ejecuta el codigo de una cadena de texto\n",
    "codigo = 'print(\"Hola\")'\n",
    "exec(codigo)"
   ]
  },
  {
   "cell_type": "markdown",
   "metadata": {},
   "source": [
    "#### partial()"
   ]
  },
  {
   "cell_type": "code",
   "execution_count": 2,
   "metadata": {},
   "outputs": [
    {
     "name": "stdout",
     "output_type": "stream",
     "text": [
      "Color: rojo, Nombre: producto, Cantidad: 10\n"
     ]
    }
   ],
   "source": [
    "# Pre configurar una funcion con un tipo de argumentos\n",
    "from functools import partial\n",
    "def especificaciones(color, nombre, cantidad):\n",
    "  print(f\"Color: {color}, Nombre: {nombre}, Cantidad: {cantidad}\")\n",
    "especificaciones_roja = partial(especificaciones, color=\"rojo\", nombre=\"producto\") # Suponiendo que raras veces cambiaras el contenido, por lo que pones cosas por defaut y solo la cantidad cambiara.\n",
    "\n",
    "\n",
    "especificaciones_roja(cantidad=10)"
   ]
  },
  {
   "cell_type": "markdown",
   "metadata": {},
   "source": [
    "#### permutations() y combinations_with_replacement()\n"
   ]
  },
  {
   "cell_type": "code",
   "execution_count": 12,
   "metadata": {},
   "outputs": [
    {
     "name": "stdout",
     "output_type": "stream",
     "text": [
      "[('a', 'b', 'c'), ('a', 'c', 'b'), ('b', 'a', 'c'), ('b', 'c', 'a'), ('c', 'a', 'b'), ('c', 'b', 'a')]\n",
      "[('a', 'a'), ('a', 'b'), ('a', 'c'), ('b', 'b'), ('b', 'c'), ('c', 'c')]\n"
     ]
    }
   ],
   "source": [
    "from itertools import permutations, combinations_with_replacement\n",
    "\n",
    "elementos = ['a','b','c']\n",
    "permutaciones = permutations(elementos) # Las combinaciones que se le puede hacer a una lista en su orden y no hay repeticion\n",
    "combinaciones = combinations_with_replacement(elementos, 2)  #aqui le entregamos la cantidad de elementos que queremos combinar en este caso selecciona 2 y si hay repeticiones\n",
    "\n",
    "print(list(permutaciones))\n",
    "print(list(combinaciones))"
   ]
  },
  {
   "cell_type": "markdown",
   "metadata": {},
   "source": [
    "#### choice, choices, sample()"
   ]
  },
  {
   "cell_type": "code",
   "execution_count": 33,
   "metadata": {},
   "outputs": [
    {
     "name": "stdout",
     "output_type": "stream",
     "text": [
      "El ganador es: Sofia\n",
      "Los ganadores son: ['Ana', 'Sofia']\n",
      "Nombres aleatorios: ['Luis', 'Sofia', 'Luis']\n"
     ]
    }
   ],
   "source": [
    "import random\n",
    "\n",
    "nombres = ['Ana','Luis','Sofia']\n",
    "\n",
    "ganador = random.choice(nombres) # Selecciona un elemento de una lista de elementos\n",
    "print(f\"El ganador es: {ganador}\")\n",
    "\n",
    "ganadores = random.sample(nombres, 2) # Elegir una cantidad indicada de elementos en este caso elegira 2\n",
    "print(f\"Los ganadores son: {ganadores}\")\n",
    "\n",
    "nombres_aleatorios = random.choices(nombres, k=3) # Elegi los elementos indicados y puede haber repetidos\n",
    "print(f\"Nombres aleatorios: {nombres_aleatorios}\")"
   ]
  },
  {
   "cell_type": "markdown",
   "metadata": {},
   "source": [
    "#### askopenfilename"
   ]
  },
  {
   "cell_type": "code",
   "execution_count": 35,
   "metadata": {},
   "outputs": [
    {
     "name": "stdout",
     "output_type": "stream",
     "text": [
      "Ruta del archivo: C:/Users/santi/Downloads/Untitled.jpg\n"
     ]
    }
   ],
   "source": [
    "from tkinter import Tk\n",
    "\n",
    "from tkinter.filedialog import askopenfilename #  Para simular un explorador de archivo\n",
    "\n",
    "Tk().withdraw() # Para ocultar la ventana raiz de tkinter\n",
    "\n",
    "ruta_archivo = askopenfilename(title=\"Selecciona un Archivo\") # Copiaremos la ruta del archivo seleccionado\n",
    "print(f\"Ruta del archivo: {ruta_archivo}\")"
   ]
  }
 ],
 "metadata": {
  "kernelspec": {
   "display_name": "Python 3",
   "language": "python",
   "name": "python3"
  },
  "language_info": {
   "codemirror_mode": {
    "name": "ipython",
    "version": 3
   },
   "file_extension": ".py",
   "mimetype": "text/x-python",
   "name": "python",
   "nbconvert_exporter": "python",
   "pygments_lexer": "ipython3",
   "version": "3.12.1"
  }
 },
 "nbformat": 4,
 "nbformat_minor": 2
}
