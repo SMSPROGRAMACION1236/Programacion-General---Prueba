{
 "cells": [
  {
   "cell_type": "markdown",
   "metadata": {},
   "source": [
    "#### Consejo #1: Evitar el Uso de pass"
   ]
  },
  {
   "cell_type": "code",
   "execution_count": null,
   "metadata": {},
   "outputs": [],
   "source": [
    "def conectar():\n",
    "  pass # Se te puede olvidar implementar algo\n",
    "\n",
    "conectar()"
   ]
  },
  {
   "cell_type": "code",
   "execution_count": 1,
   "metadata": {},
   "outputs": [
    {
     "ename": "NotImplementedError",
     "evalue": "La funcion conectar necesita ser implementada",
     "output_type": "error",
     "traceback": [
      "\u001b[1;31m---------------------------------------------------------------------------\u001b[0m",
      "\u001b[1;31mNotImplementedError\u001b[0m                       Traceback (most recent call last)",
      "Cell \u001b[1;32mIn[1], line 3\u001b[0m\n\u001b[0;32m      1\u001b[0m \u001b[38;5;28;01mdef\u001b[39;00m \u001b[38;5;21mconectar\u001b[39m():\n\u001b[0;32m      2\u001b[0m   \u001b[38;5;28;01mraise\u001b[39;00m \u001b[38;5;167;01mNotImplementedError\u001b[39;00m(\u001b[38;5;124m\"\u001b[39m\u001b[38;5;124mLa funcion conectar necesita ser implementada\u001b[39m\u001b[38;5;124m\"\u001b[39m) \u001b[38;5;66;03m# Es mejor poner esto\u001b[39;00m\n\u001b[1;32m----> 3\u001b[0m \u001b[43mconectar\u001b[49m\u001b[43m(\u001b[49m\u001b[43m)\u001b[49m\n",
      "Cell \u001b[1;32mIn[1], line 2\u001b[0m, in \u001b[0;36mconectar\u001b[1;34m()\u001b[0m\n\u001b[0;32m      1\u001b[0m \u001b[38;5;28;01mdef\u001b[39;00m \u001b[38;5;21mconectar\u001b[39m():\n\u001b[1;32m----> 2\u001b[0m   \u001b[38;5;28;01mraise\u001b[39;00m \u001b[38;5;167;01mNotImplementedError\u001b[39;00m(\u001b[38;5;124m\"\u001b[39m\u001b[38;5;124mLa funcion conectar necesita ser implementada\u001b[39m\u001b[38;5;124m\"\u001b[39m)\n",
      "\u001b[1;31mNotImplementedError\u001b[0m: La funcion conectar necesita ser implementada"
     ]
    }
   ],
   "source": [
    "def conectar():\n",
    "  raise NotImplementedError(\"La funcion conectar necesita ser implementada\") # Es mejor poner esto\n",
    "conectar()"
   ]
  },
  {
   "cell_type": "markdown",
   "metadata": {},
   "source": [
    "#### Consejo #2: Especificar Tipos de Retorno"
   ]
  },
  {
   "cell_type": "code",
   "execution_count": 2,
   "metadata": {},
   "outputs": [
    {
     "name": "stdout",
     "output_type": "stream",
     "text": [
      "1\n",
      "2\n"
     ]
    }
   ],
   "source": [
    "from typing import Dict\n",
    "\n",
    "def obtener_usuarios() ->Dict[int, str]: # Una forma de tipar, es decir sabemos que va a retornar cierto tipo de dato, en este caso un dict con int y str\n",
    "  usuarios = {1:\"Ana\",2:\"Luis\"}\n",
    "  return usuarios\n",
    "resultado = obtener_usuarios()\n",
    "# Imprimimos las claves\n",
    "for clave in resultado:\n",
    "  print(clave)"
   ]
  },
  {
   "cell_type": "markdown",
   "metadata": {},
   "source": [
    "#### Concejo #3: Agregar documentacion"
   ]
  },
  {
   "cell_type": "code",
   "execution_count": null,
   "metadata": {},
   "outputs": [],
   "source": [
    "#\n",
    "#* Usamos doc string\n",
    "\n",
    "def obtener_usuarios() -> Dict[int, str]:\n",
    "  #* Una explicacion de la funcion en forma de documentacion y sera asociada a la funcion.\n",
    "  \"\"\"Obtiene una lista de usuarios con sus respectivos IDs.\n",
    "  \n",
    "  Returns:\n",
    "    Dict[int, str]: Un diccionario con IDs de usuarios como claves y nombres como valores\"\"\"\n",
    "    \n",
    "  usuarios = {1:\"Ana\",2:\"Luis\"}\n",
    "  return usuarios\n",
    "\n",
    "obtener_usuarios()\n"
   ]
  },
  {
   "cell_type": "markdown",
   "metadata": {},
   "source": [
    "#### Consejo #4: Mantener tus funciones diminutas y enfocadas"
   ]
  },
  {
   "cell_type": "code",
   "execution_count": 4,
   "metadata": {},
   "outputs": [],
   "source": [
    "#\n",
    "#!Forma Larga\n",
    "def procesar_datos(datos):\n",
    "  procesados = []\n",
    "  for dato in datos:\n",
    "    if dato %2 ==0:\n",
    "      procesados.append(dato*2)\n",
    "    else:\n",
    "      procesados.append(dato*3)\n",
    "  return sum(procesados)\n",
    "\n",
    "#!Forma Corta\n",
    "#* Acortamos\n",
    "def procesar_dato(dato):\n",
    "  return dato * 2 if dato %2 ==0 else dato*3 # Usamos una condicional de una sola linea\n",
    "def sumar_datos(datos):\n",
    "  procesados = [procesar_dato(dato) for dato in datos] # Usamos comprension de listas\n",
    "  return sum(procesados)\n"
   ]
  },
  {
   "cell_type": "markdown",
   "metadata": {},
   "source": [
    "#### Consejo #5: Usa nombres descriptivos"
   ]
  },
  {
   "cell_type": "code",
   "execution_count": null,
   "metadata": {},
   "outputs": [],
   "source": [
    "\n",
    "def f(x,y): #! Le damos nombres que no sean descriptivo cual es mala practica\n",
    "  return x * y\n",
    "\n",
    "#* Nombre descriptivo\n",
    "def multiplicar_numeros(num1, num2): # Aqui es algo mas descriptivo\n",
    "  return num1 * num2\n",
    "\n"
   ]
  },
  {
   "cell_type": "markdown",
   "metadata": {},
   "source": [
    "#### Consejo #6: Evitar el uso de los bloques try-excepto en los bloques de las funciones\n"
   ]
  },
  {
   "cell_type": "code",
   "execution_count": 5,
   "metadata": {},
   "outputs": [
    {
     "ename": "SyntaxError",
     "evalue": "incomplete input (2402440717.py, line 8)",
     "output_type": "error",
     "traceback": [
      "\u001b[1;36m  Cell \u001b[1;32mIn[5], line 8\u001b[1;36m\u001b[0m\n\u001b[1;33m    if clave in diccionario:\u001b[0m\n\u001b[1;37m                            ^\u001b[0m\n\u001b[1;31mSyntaxError\u001b[0m\u001b[1;31m:\u001b[0m incomplete input\n"
     ]
    }
   ],
   "source": [
    "\n",
    "#!Mal uso\n",
    "def obtener_valor(diccionario, clave):\n",
    "  try:\n",
    "    return diccionario[clave]\n",
    "  except KeyError:\n",
    "    return None\n",
    "#!Buen Uso\\\n",
    "\"\"\" Es mas eficiente las condicionales\"\"\"\n",
    "def obtener_valor(diccionario, clave):\n",
    "  if clave in diccionario:\n",
    "    return diccionario[clave]\n",
    "  else:\n",
    "    return None"
   ]
  },
  {
   "cell_type": "code",
   "execution_count": null,
   "metadata": {},
   "outputs": [],
   "source": []
  }
 ],
 "metadata": {
  "kernelspec": {
   "display_name": "Python 3",
   "language": "python",
   "name": "python3"
  },
  "language_info": {
   "codemirror_mode": {
    "name": "ipython",
    "version": 3
   },
   "file_extension": ".py",
   "mimetype": "text/x-python",
   "name": "python",
   "nbconvert_exporter": "python",
   "pygments_lexer": "ipython3",
   "version": "3.11.7"
  }
 },
 "nbformat": 4,
 "nbformat_minor": 2
}
