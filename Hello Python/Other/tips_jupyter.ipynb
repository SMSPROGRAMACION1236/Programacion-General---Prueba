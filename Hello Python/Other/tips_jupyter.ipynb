{
 "cells": [
  {
   "cell_type": "markdown",
   "metadata": {},
   "source": [
    "https://youtu.be/TPKm7UjJzEc?si=kff8PZSJ7Safe1uL"
   ]
  },
  {
   "cell_type": "markdown",
   "metadata": {},
   "source": [
    "### 1  Ejecutar un Script de otro archivo"
   ]
  },
  {
   "cell_type": "code",
   "execution_count": null,
   "metadata": {},
   "outputs": [],
   "source": [
    "%run \"map.py\" # Es una forma de correr un archivo dentro de otro archivo, sirve con otros tipos de archivo como puede ser uno del tipo ipynb"
   ]
  },
  {
   "cell_type": "markdown",
   "metadata": {},
   "source": [
    "### 2. Medir el tiempo de ejecucion del un archivo"
   ]
  },
  {
   "cell_type": "code",
   "execution_count": null,
   "metadata": {},
   "outputs": [],
   "source": [
    "%time sum(range(1000)) # El tiempo total que el usuario lo vera\n",
    "\n",
    "%timeit sum(range(1000))  # Ejecuta varias veces con la desviacion estandar y encontrar el promedio\n",
    "\n",
    "\n"
   ]
  },
  {
   "cell_type": "code",
   "execution_count": null,
   "metadata": {},
   "outputs": [],
   "source": [
    "## Ejecucion en bloque\n",
    "%%time\n",
    "time = 0\n",
    "for i in range(100):\n",
    "  time += i\n",
    "print(time)"
   ]
  },
  {
   "cell_type": "markdown",
   "metadata": {},
   "source": [
    "### 3. Grabar y leer el codigo de un archivo externo"
   ]
  },
  {
   "cell_type": "code",
   "execution_count": null,
   "metadata": {},
   "outputs": [],
   "source": [
    "# %%writefile map.py # Lo que hacemos aqui es sobre escribir por lo que...\n",
    "#! No ejecutarlo, por que se sobre escribe\n",
    "\n",
    "def hola_mundo():\n",
    "  print(\"Hola Mundo\")"
   ]
  },
  {
   "cell_type": "code",
   "execution_count": null,
   "metadata": {},
   "outputs": [],
   "source": [
    "%pycat map.py ## Para mirar lo que hay aqui"
   ]
  },
  {
   "cell_type": "markdown",
   "metadata": {},
   "source": [
    "### 4. Cuello de Botella"
   ]
  },
  {
   "cell_type": "code",
   "execution_count": null,
   "metadata": {},
   "outputs": [],
   "source": [
    "# %load_ext heat ##! No funciona\n"
   ]
  },
  {
   "cell_type": "code",
   "execution_count": null,
   "metadata": {},
   "outputs": [],
   "source": [
    "# %%heat #! No funciona\n",
    "from functools import reduce\n",
    "#! Debemos importarlo\n",
    "numeros = [1,2,3,4,5]\n",
    "def sumar(num1, num2):\n",
    "  return num1 + num2\n",
    "\n",
    "total = reduce(sumar,numeros) #  suma todo para retornar solo un valor\n",
    "print(total)\n",
    "#* Con lambda\n",
    "total = reduce(lambda num1, num2: num1 + num2, numeros)\n",
    "print(total)"
   ]
  },
  {
   "cell_type": "markdown",
   "metadata": {},
   "source": [
    "### 5. Borrar Celdas"
   ]
  },
  {
   "cell_type": "code",
   "execution_count": null,
   "metadata": {},
   "outputs": [],
   "source": [
    "from IPython.display import clear_output # Para limpiar el out put\n",
    "import time\n",
    "\n",
    "for i in range(10):\n",
    "  clear_output(wait=True)\n",
    "  print(f\"Number: {i + 1}\")\n",
    "  time.sleep(1)"
   ]
  }
 ],
 "metadata": {
  "kernelspec": {
   "display_name": "Python 3",
   "language": "python",
   "name": "python3"
  },
  "language_info": {
   "codemirror_mode": {
    "name": "ipython",
    "version": 3
   },
   "file_extension": ".py",
   "mimetype": "text/x-python",
   "name": "python",
   "nbconvert_exporter": "python",
   "pygments_lexer": "ipython3",
   "version": "3.11.7"
  }
 },
 "nbformat": 4,
 "nbformat_minor": 2
}
