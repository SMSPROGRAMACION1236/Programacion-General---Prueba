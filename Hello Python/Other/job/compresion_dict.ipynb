{
 "cells": [
  {
   "cell_type": "markdown",
   "metadata": {},
   "source": [
    "#### https://gemini.google.com/u/0/app/dcf9939091761b45?hl=es"
   ]
  },
  {
   "cell_type": "markdown",
   "metadata": {},
   "source": [
    "### Ejercicio 1 Crear un diccionario con nombres y sus longitudes\n",
    "####  Dada una lista de nombres, crea un diccionario donde las claves sean los nombres y los valores sean la longitud de cada nombre.\n",
    "\n",
    "Nombres: [\"Ana\", \"Juan\", \"María\", \"Pedro\"]"
   ]
  },
  {
   "cell_type": "code",
   "execution_count": 2,
   "metadata": {},
   "outputs": [
    {
     "name": "stdout",
     "output_type": "stream",
     "text": [
      "{'Ana': 3, 'Juan': 4, 'María': 5, 'Pedro': 5}\n"
     ]
    }
   ],
   "source": [
    "nombres =  [\"Ana\", \"Juan\", \"María\", \"Pedro\"]\n",
    "nombres_dict = {x:len(x) for x  in nombres}\n",
    "print(nombres_dict)"
   ]
  },
  {
   "cell_type": "markdown",
   "metadata": {},
   "source": [
    "### Ejercicio 2  Crear un diccionario con números y sus cuadrados\n",
    "#### Crea un diccionario donde las claves sean los números del 1 al 5 y los valores sean sus respectivos cuadrados."
   ]
  },
  {
   "cell_type": "code",
   "execution_count": 4,
   "metadata": {},
   "outputs": [
    {
     "name": "stdout",
     "output_type": "stream",
     "text": [
      "{1: 1, 2: 4, 3: 9, 4: 16, 5: 25}\n"
     ]
    }
   ],
   "source": [
    "square_dict = {x:x**2 for x in range(1,6)}\n",
    "print(square_dict)"
   ]
  },
  {
   "cell_type": "markdown",
   "metadata": {},
   "source": [
    "###  Ejercicio 3:  Crear un diccionario con letras y sus códigos ASCII\n",
    "#### Crea un diccionario donde las claves sean las letras del alfabeto (a, b, c, etc.) y los valores sean sus correspondientes códigos ASCII."
   ]
  },
  {
   "cell_type": "code",
   "execution_count": null,
   "metadata": {},
   "outputs": [
    {
     "name": "stdout",
     "output_type": "stream",
     "text": [
      "21\n",
      "{'a': 97, 'b': 98, 'c': 99, 'd': 100, 'e': 101, 'f': 102, 'g': 103, 'h': 104, 'i': 105, 'j': 106, 'k': 107, 'l': 108, 'm': 109, 'n': 110, 'o': 111, 'p': 112, 'w': 119, 'v': 118, 'y': 121, 'z': 122}\n"
     ]
    }
   ],
   "source": [
    "alfabeto = [x for x in \"abcdefghijklmnopkwvyz\"]\n",
    "\n",
    "\n",
    "alfabeto_ascii = {x:ord(x) for x in alfabeto}\n",
    "print(alfabeto_ascii)"
   ]
  },
  {
   "cell_type": "markdown",
   "metadata": {},
   "source": [
    "###  Ejercicio 4:  Crear un diccionario con países y sus capitales\n",
    "#### Crea un diccionario donde las claves sean nombres de países y los valores sean sus respectivas capitales.\n",
    "Países: [\"España\", \"Francia\", \"Italia\"]\n",
    "Capitales: [\"Madrid\", \"París\", \"Roma\"]"
   ]
  },
  {
   "cell_type": "code",
   "execution_count": 19,
   "metadata": {},
   "outputs": [
    {
     "name": "stdout",
     "output_type": "stream",
     "text": [
      "{'España': 'Madrid', 'Francia': 'París', 'Italia': 'Roma'}\n"
     ]
    }
   ],
   "source": [
    "countries = [\"España\", \"Francia\", \"Italia\"]\n",
    "capitals =   [\"Madrid\", \"París\", \"Roma\"]\n",
    "\n",
    "\n",
    "country_capital = {country:capital for country, capital in zip(countries, capitals)}\n",
    "print(country_capital)"
   ]
  },
  {
   "cell_type": "markdown",
   "metadata": {},
   "source": [
    "### Ejercicio 5: Crear un diccionario con palabras y su número de vocales\n",
    "####  Dada una lista de palabras, crea un diccionario donde las claves sean las palabras y los valores sean el número de vocales que contiene cada palabra.\n",
    "Palabras: [\"casa\", \"árbol\", \"libro\", \"sol\"]"
   ]
  },
  {
   "cell_type": "code",
   "execution_count": 28,
   "metadata": {},
   "outputs": [
    {
     "name": "stdout",
     "output_type": "stream",
     "text": [
      "{'casa': 2, 'arbol': 2, 'libro': 2, 'sol': 1}\n"
     ]
    }
   ],
   "source": [
    "words = ['casa','arbol','libro','sol']\n",
    "def find_vowels(word):\n",
    "  vowels = ['a','e','i','o','u']\n",
    "  vowel_list = []\n",
    "  for i in word:\n",
    "    if i  in vowels:\n",
    "      vowel_list.append(i)\n",
    "  return len(vowel_list)\n",
    "  \n",
    "words_vowels = {x:find_vowels(x) for x in words}\n",
    "print(words_vowels)"
   ]
  },
  {
   "cell_type": "code",
   "execution_count": null,
   "metadata": {},
   "outputs": [],
   "source": [
    "\n"
   ]
  }
 ],
 "metadata": {
  "kernelspec": {
   "display_name": "Python 3",
   "language": "python",
   "name": "python3"
  },
  "language_info": {
   "codemirror_mode": {
    "name": "ipython",
    "version": 3
   },
   "file_extension": ".py",
   "mimetype": "text/x-python",
   "name": "python",
   "nbconvert_exporter": "python",
   "pygments_lexer": "ipython3",
   "version": "3.11.7"
  }
 },
 "nbformat": 4,
 "nbformat_minor": 2
}
