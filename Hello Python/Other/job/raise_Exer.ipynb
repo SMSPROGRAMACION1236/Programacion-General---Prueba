{
 "cells": [
  {
   "cell_type": "markdown",
   "metadata": {},
   "source": [
    "https://gemini.google.com/u/0/app/fddee7388bdffd99?hl=es\n"
   ]
  },
  {
   "cell_type": "markdown",
   "metadata": {},
   "source": [
    "#### 1. Número par: Crea una función que verifique si un número es par. Si no lo es, lanza una excepción llamada NumeroImpar."
   ]
  },
  {
   "cell_type": "code",
   "execution_count": 3,
   "metadata": {},
   "outputs": [
    {
     "name": "stdout",
     "output_type": "stream",
     "text": [
      "No es par\n"
     ]
    }
   ],
   "source": [
    "class NumeroImpar(Exception):\n",
    "  pass\n",
    "def es_par(val):\n",
    "  if val:\n",
    "    return val %2 ==0\n",
    "try:\n",
    "  num = int(input(\"Enter a number: \"))\n",
    "  if es_par(num):\n",
    "    print(\"No hay problema\")\n",
    "  else:\n",
    "    raise NumeroImpar(\"No es par\")\n",
    "except NumeroImpar as error:\n",
    "  print(error)"
   ]
  },
  {
   "cell_type": "markdown",
   "metadata": {},
   "source": [
    "#### 2. Palabra corta: Escribe una función que verifique si una palabra tiene menos de 3 letras. Si es así, lanza una excepción llamada PalabraMuyCorta."
   ]
  },
  {
   "cell_type": "code",
   "execution_count": 10,
   "metadata": {},
   "outputs": [
    {
     "name": "stdout",
     "output_type": "stream",
     "text": [
      "La palabra es muy corta\n"
     ]
    }
   ],
   "source": [
    "class PalabraMuyCorta(Exception):\n",
    "  pass\n",
    "\n",
    "def es_corta(word:str):\n",
    "  if len(word) < 3:\n",
    "    raise PalabraMuyCorta(\"La palabra es muy corta\")\n",
    "  else:\n",
    "    print(\"No hay problema\")\n",
    "try: \n",
    "  es_corta(\"la\")\n",
    "except PalabraMuyCorta as error:\n",
    "  print(error)\n"
   ]
  },
  {
   "cell_type": "markdown",
   "metadata": {},
   "source": [
    "#### 3. Lista con elementos: Crea una función que verifique si una lista está vacía. Si lo está, lanza una excepción llamada ListaVacia."
   ]
  },
  {
   "cell_type": "code",
   "execution_count": 16,
   "metadata": {},
   "outputs": [
    {
     "name": "stdout",
     "output_type": "stream",
     "text": [
      "No hay problema\n"
     ]
    }
   ],
   "source": [
    "class ListaVacia(Exception):\n",
    "  pass\n",
    "def esta_vacia(lista:list):\n",
    "  if lista == []:\n",
    "    raise ListaVacia(\"La lista está vacía\")\n",
    "  else:\n",
    "    print(\"No hay problema\")\n",
    "try:\n",
    "  my_list = []\n",
    "  esta_vacia(my_list)\n",
    "except ListaVacia as e:\n",
    "  print(e)\n"
   ]
  },
  {
   "cell_type": "markdown",
   "metadata": {},
   "source": [
    "####  4. Vocal: Crea una función que verifique si una letra es una vocal. Si no lo es, lanza una excepción llamada NoEsVocal."
   ]
  },
  {
   "cell_type": "code",
   "execution_count": 8,
   "metadata": {},
   "outputs": [
    {
     "name": "stdout",
     "output_type": "stream",
     "text": [
      "No es vocal\n"
     ]
    }
   ],
   "source": [
    "class NotVocal(Exception):\n",
    "  pass\n",
    "def is_vocal(x):\n",
    "  vocals = [\"a\",\"e\",\"i\",\"o\", \"u\"]\n",
    "  if x not in vocals:\n",
    "    raise NotVocal(\"No es vocal\")\n",
    "  else:\n",
    "    return True\n",
    "  \n",
    "try:\n",
    "  x = str(input(\"Enter a letter: \")).lower()\n",
    "  is_vocal(x)\n",
    "except NotVocal as error:\n",
    "  print(error)"
   ]
  },
  {
   "cell_type": "markdown",
   "metadata": {},
   "source": [
    "#### 5. Mayúscula: Escribe una función que verifique si una letra es mayúscula. Si no lo es, lanza una excepción llamada NoEsMayuscula."
   ]
  },
  {
   "cell_type": "code",
   "execution_count": 31,
   "metadata": {},
   "outputs": [
    {
     "name": "stdout",
     "output_type": "stream",
     "text": [
      "No es mayuscula\n"
     ]
    }
   ],
   "source": [
    "class NotCapitalLetter(Exception):\n",
    "  pass\n",
    "def is_capital_letter(x):\n",
    "  if not x.isupper():\n",
    "    raise NotCapitalLetter(\"No es mayuscula\")\n",
    "  else:\n",
    "    return True\n",
    "\n",
    "try:\n",
    "  letra = str(input(\"Ingrese una letra: \"))\n",
    "  is_capital_letter(letra)\n",
    "except NotCapitalLetter as error:\n",
    "  print(error)\n",
    "  \n"
   ]
  },
  {
   "cell_type": "markdown",
   "metadata": {},
   "source": [
    "#### 6. Longitud de lista: Crea una función que verifique si una lista tiene exactamente 5 elementos. Si no, lanza una excepción llamada LongitudIncorrecta."
   ]
  },
  {
   "cell_type": "code",
   "execution_count": 3,
   "metadata": {},
   "outputs": [
    {
     "name": "stdout",
     "output_type": "stream",
     "text": [
      "La lista no tiene cinco elementos\n"
     ]
    }
   ],
   "source": [
    "class IncorrectLengthError(Exception):\n",
    "  pass\n",
    "def list_length_has_five_elements(lista:list):\n",
    "  if not len(lista)  == 5:\n",
    "    raise IncorrectLengthError(\"La lista no tiene cinco elementos\")\n",
    "  else:\n",
    "    return True\n",
    "\n",
    "try:\n",
    "  lista = [1,2,5,4,3,5]\n",
    "  list_length_has_five_elements(lista)\n",
    "    \n",
    "except IncorrectLengthError as error:\n",
    "  print(error)\n",
    "    \n",
    "    "
   ]
  },
  {
   "cell_type": "markdown",
   "metadata": {},
   "source": [
    "#### 7. Número en rango: Escribe una función que verifique si un número está entre 10 y 20 (inclusive). Si no lo está, lanza una excepción llamada FueraDeRango."
   ]
  },
  {
   "cell_type": "code",
   "execution_count": 8,
   "metadata": {},
   "outputs": [
    {
     "name": "stdout",
     "output_type": "stream",
     "text": [
      "Fuera de Rango\n"
     ]
    }
   ],
   "source": [
    "class OutOfRange(Exception):\n",
    "  pass\n",
    "def is_out_of_range(x):\n",
    "  if not(x >=10  and x <= 20):\n",
    "    raise OutOfRange(\"Fuera de Rango\")\n",
    "  else:\n",
    "    return True\n",
    "\n",
    "\n",
    "try:\n",
    "  x = int(input(\"Enter a number: \"))\n",
    "  is_out_of_range(x)\n",
    "except OutOfRange as error:\n",
    "  print(error)"
   ]
  },
  {
   "cell_type": "markdown",
   "metadata": {},
   "source": [
    "#### 8. Adivina el número: Crea un juego donde el usuario debe adivinar un número secreto. Si el usuario ingresa un número fuera del rango permitido (por ejemplo, entre 1 y 100), lanza una excepción FueraDeRango. Si el usuario adivina el número, lanza una excepción Adivinado para indicar que el juego ha terminado."
   ]
  },
  {
   "cell_type": "code",
   "execution_count": null,
   "metadata": {},
   "outputs": [],
   "source": []
  },
  {
   "cell_type": "markdown",
   "metadata": {},
   "source": [
    "#### 9. Verificación de contraseñas: Crea una función que verifique si una contraseña cumple con ciertos requisitos (longitud mínima, presencia de mayúsculas, números y símbolos). Lanza excepciones personalizadas para cada requisito que no se cumpla (por ejemplo, LongitudIncorrecta, SinMayuscula, etc.)."
   ]
  },
  {
   "cell_type": "code",
   "execution_count": null,
   "metadata": {},
   "outputs": [],
   "source": []
  },
  {
   "cell_type": "markdown",
   "metadata": {},
   "source": [
    "##### 10. Gestión de inventario: Crea un programa que simule la gestión de un inventario. Utiliza excepciones para manejar situaciones como agregar un artículo que ya existe (ArticuloExistente), eliminar un artículo que no existe (ArticuloInexistente) o intentar vender más unidades de las disponibles (StockInsuficiente)."
   ]
  },
  {
   "cell_type": "code",
   "execution_count": null,
   "metadata": {},
   "outputs": [],
   "source": []
  },
  {
   "cell_type": "markdown",
   "metadata": {},
   "source": [
    "#### 11. Calculadora con excepciones: Crea una calculadora que realice operaciones básicas (suma, resta, multiplicación y división). Utiliza excepciones para manejar errores como división por cero (ZeroDivisionError) o entrada no válida (ValueError)."
   ]
  },
  {
   "cell_type": "code",
   "execution_count": null,
   "metadata": {},
   "outputs": [],
   "source": []
  }
 ],
 "metadata": {
  "kernelspec": {
   "display_name": "Python 3",
   "language": "python",
   "name": "python3"
  },
  "language_info": {
   "codemirror_mode": {
    "name": "ipython",
    "version": 3
   },
   "file_extension": ".py",
   "mimetype": "text/x-python",
   "name": "python",
   "nbconvert_exporter": "python",
   "pygments_lexer": "ipython3",
   "version": "3.11.7"
  }
 },
 "nbformat": 4,
 "nbformat_minor": 2
}
