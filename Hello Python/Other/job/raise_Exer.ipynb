{
 "cells": [
  {
   "cell_type": "markdown",
   "metadata": {},
   "source": [
    "https://gemini.google.com/u/0/app/fddee7388bdffd99?hl=es\n"
   ]
  },
  {
   "cell_type": "markdown",
   "metadata": {},
   "source": [
    "#### 1. Número par: Crea una función que verifique si un número es par. Si no lo es, lanza una excepción llamada NumeroImpar."
   ]
  },
  {
   "cell_type": "code",
   "execution_count": 3,
   "metadata": {},
   "outputs": [
    {
     "name": "stdout",
     "output_type": "stream",
     "text": [
      "No es par\n"
     ]
    }
   ],
   "source": [
    "class NumeroImpar(Exception):\n",
    "  pass\n",
    "def es_par(val):\n",
    "  if val:\n",
    "    return val %2 ==0\n",
    "try:\n",
    "  num = int(input(\"Enter a number: \"))\n",
    "  if es_par(num):\n",
    "    print(\"No hay problema\")\n",
    "  else:\n",
    "    raise NumeroImpar(\"No es par\")\n",
    "except NumeroImpar as error:\n",
    "  print(error)"
   ]
  },
  {
   "cell_type": "markdown",
   "metadata": {},
   "source": [
    "#### 2. Palabra corta: Escribe una función que verifique si una palabra tiene menos de 3 letras. Si es así, lanza una excepción llamada PalabraMuyCorta."
   ]
  },
  {
   "cell_type": "code",
   "execution_count": 10,
   "metadata": {},
   "outputs": [
    {
     "name": "stdout",
     "output_type": "stream",
     "text": [
      "La palabra es muy corta\n"
     ]
    }
   ],
   "source": [
    "class PalabraMuyCorta(Exception):\n",
    "  pass\n",
    "\n",
    "def es_corta(word:str):\n",
    "  if len(word) < 3:\n",
    "    raise PalabraMuyCorta(\"La palabra es muy corta\")\n",
    "  else:\n",
    "    print(\"No hay problema\")\n",
    "try: \n",
    "  es_corta(\"la\")\n",
    "except PalabraMuyCorta as error:\n",
    "  print(error)\n"
   ]
  },
  {
   "cell_type": "markdown",
   "metadata": {},
   "source": [
    "#### 3. Lista con elementos: Crea una función que verifique si una lista está vacía. Si lo está, lanza una excepción llamada ListaVacia."
   ]
  },
  {
   "cell_type": "code",
   "execution_count": 16,
   "metadata": {},
   "outputs": [
    {
     "name": "stdout",
     "output_type": "stream",
     "text": [
      "No hay problema\n"
     ]
    }
   ],
   "source": [
    "class ListaVacia(Exception):\n",
    "  pass\n",
    "def esta_vacia(lista:list):\n",
    "  if lista == []:\n",
    "    raise ListaVacia(\"La lista está vacía\")\n",
    "  else:\n",
    "    print(\"No hay problema\")\n",
    "try:\n",
    "  my_list = []\n",
    "  esta_vacia(my_list)\n",
    "except ListaVacia as e:\n",
    "  print(e)\n"
   ]
  },
  {
   "cell_type": "code",
   "execution_count": null,
   "metadata": {},
   "outputs": [],
   "source": []
  }
 ],
 "metadata": {
  "kernelspec": {
   "display_name": "Python 3",
   "language": "python",
   "name": "python3"
  },
  "language_info": {
   "codemirror_mode": {
    "name": "ipython",
    "version": 3
   },
   "file_extension": ".py",
   "mimetype": "text/x-python",
   "name": "python",
   "nbconvert_exporter": "python",
   "pygments_lexer": "ipython3",
   "version": "3.11.7"
  }
 },
 "nbformat": 4,
 "nbformat_minor": 2
}
