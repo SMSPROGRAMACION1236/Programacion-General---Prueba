{
 "cells": [
  {
   "cell_type": "markdown",
   "metadata": {},
   "source": [
    "### https://gemini.google.com/u/0/app/dcf9939091761b45?hl=es"
   ]
  },
  {
   "cell_type": "markdown",
   "metadata": {},
   "source": [
    "### Ejercicio 1 --   Eliminar duplicados de una lista"
   ]
  },
  {
   "cell_type": "markdown",
   "metadata": {},
   "source": [
    "#### Tienes una lista con números repetidos. Usa un set para crear una nueva colección que contenga solo los números únicos (sin duplicados).\n",
    "#### \n",
    "#### Lista: [1, 2, 2, 3, 4, 4, 5, 6, 6]"
   ]
  },
  {
   "cell_type": "code",
   "execution_count": 3,
   "metadata": {},
   "outputs": [
    {
     "name": "stdout",
     "output_type": "stream",
     "text": [
      "{1, 2, 3, 4, 5, 6}\n"
     ]
    }
   ],
   "source": [
    "listita_cara = [1,2,2,3,4,4,5,6,6]\n",
    "\n",
    "setsito_cara = {x for x in listita_cara}\n",
    "print(setsito_cara)"
   ]
  },
  {
   "cell_type": "markdown",
   "metadata": {},
   "source": [
    "### Ejercicio 2 -- Encontrar elementos comunes en dos listas"
   ]
  },
  {
   "cell_type": "markdown",
   "metadata": {},
   "source": [
    "#### Tienes dos listas de nombres. Usa sets para encontrar los nombres que están presentes en ambas listas.\n",
    "#### \n",
    "#### Lista 1: [\"Ana\", \"Juan\", \"María\", \"Pedro\"]\n",
    "#### Lista 2: [\"María\", \"Luis\", \"Pedro\", \"Sofía\"]"
   ]
  },
  {
   "cell_type": "code",
   "execution_count": 9,
   "metadata": {},
   "outputs": [
    {
     "name": "stdout",
     "output_type": "stream",
     "text": [
      "{'María', 'Pedro'}\n"
     ]
    }
   ],
   "source": [
    "\n",
    "listita_1_cara = [\"Ana\", \"Juan\", \"María\", \"Pedro\"]\n",
    "listita_2_cara = [\"María\", \"Luis\", \"Pedro\", \"Sofía\"]\n",
    "\n",
    "\n",
    "\n",
    "setsito_uwu = {x for x in  listita_1_cara if x in listita_1_cara and x in listita_2_cara}\n",
    "print(setsito_uwu)"
   ]
  },
  {
   "cell_type": "markdown",
   "metadata": {},
   "source": [
    "### Ejercicio 3 -- Crear un set con las vocales de una frase"
   ]
  },
  {
   "cell_type": "markdown",
   "metadata": {},
   "source": [
    "#### Pide al usuario que ingrese una frase. Crea un set que contenga solo las vocales que aparecen en la frase (sin importar si están en mayúsculas o minúsculas)."
   ]
  },
  {
   "cell_type": "code",
   "execution_count": 18,
   "metadata": {},
   "outputs": [
    {
     "name": "stdout",
     "output_type": "stream",
     "text": [
      "{'a', 'o'}\n"
     ]
    }
   ],
   "source": [
    "phase  = str(input(\"Ingrese una frasitiña cara: \"))\n",
    "vocales = {'a','e','i','o','u'}\n",
    "\n",
    "\n",
    "just_vowels =  {x.lower() for  x in phase if x.lower() in vocales}\n",
    "\n",
    "print(just_vowels)\n",
    "\n"
   ]
  },
  {
   "cell_type": "markdown",
   "metadata": {},
   "source": [
    "### Ejercicio 4 -- Encontrar la diferencia entre dos sets"
   ]
  },
  {
   "cell_type": "markdown",
   "metadata": {},
   "source": [
    "#### Tienes dos sets de números. Encuentra los números que están en el primer set pero no en el segundo.\n",
    "#### \n",
    "#### Set 1: {1, 2, 3, 4, 5}\n",
    "#### Set 2: {3, 5, 7, 9}\n",
    "\n"
   ]
  },
  {
   "cell_type": "code",
   "execution_count": 23,
   "metadata": {},
   "outputs": [
    {
     "name": "stdout",
     "output_type": "stream",
     "text": [
      "{1, 2, 4}\n"
     ]
    }
   ],
   "source": [
    "setsito_1_cara = {1, 2, 3, 4, 5}\n",
    "setsito_2_cara = {3, 5, 7, 9}\n",
    "\n",
    "\n",
    "\n",
    "setsito_excluyente_cara_uwu = {x for x in setsito_1_cara if not(x  in setsito_1_cara and x  in setsito_2_cara)}\n",
    "print(setsito_excluyente_cara_uwu)"
   ]
  },
  {
   "cell_type": "markdown",
   "metadata": {},
   "source": [
    "### Ejercicio 5: Crear un set con los números pares de una lista"
   ]
  },
  {
   "cell_type": "markdown",
   "metadata": {},
   "source": [
    "#### Tienes una lista de números. Usa un set para crear una nueva colección que contenga solo los números pares de la lista.\n",
    "#### \n",
    "#### Lista: [1, 2, 3, 4, 5, 6, 7, 8]"
   ]
  },
  {
   "cell_type": "code",
   "execution_count": 25,
   "metadata": {},
   "outputs": [
    {
     "name": "stdout",
     "output_type": "stream",
     "text": [
      "{8, 2, 4, 6}\n"
     ]
    }
   ],
   "source": [
    "listita_par = [1, 2, 3, 4, 5, 6, 7, 8]\n",
    "setsito_par = {x for x in listita_par if x %2 ==0}\n",
    "print(setsito_par)"
   ]
  }
 ],
 "metadata": {
  "kernelspec": {
   "display_name": "Python 3",
   "language": "python",
   "name": "python3"
  },
  "language_info": {
   "codemirror_mode": {
    "name": "ipython",
    "version": 3
   },
   "file_extension": ".py",
   "mimetype": "text/x-python",
   "name": "python",
   "nbconvert_exporter": "python",
   "pygments_lexer": "ipython3",
   "version": "3.11.7"
  }
 },
 "nbformat": 4,
 "nbformat_minor": 2
}
