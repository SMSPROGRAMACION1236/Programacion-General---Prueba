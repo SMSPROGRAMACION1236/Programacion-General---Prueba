{
 "cells": [
  {
   "cell_type": "markdown",
   "metadata": {},
   "source": [
    "### https://gemini.google.com/u/0/app/8d520c96c2eb09f1?hl=es"
   ]
  },
  {
   "cell_type": "markdown",
   "metadata": {},
   "source": [
    "### Ejercicio 1 -- (Suma y resta)\n",
    "#### Objetivo: Definir cómo se suman o restan objetos de una clase.\n",
    "#### Ejercicio:\n",
    "- Crea una clase llamada Punto que represente un punto en un plano cartesiano (con coordenadas x e y).\n",
    "- Implementa el método __add__ para que al sumar dos objetos Punto, se sumen sus coordenadas correspondientes.\n",
    "- Implementa el método __sub__ para que al restar dos objetos Punto, se resten sus coordenadas correspondientes."
   ]
  },
  {
   "cell_type": "code",
   "execution_count": null,
   "metadata": {},
   "outputs": [
    {
     "ename": "TypeError",
     "evalue": "Punto.__add__() missing 1 required positional argument: 'new_y'",
     "output_type": "error",
     "traceback": [
      "\u001b[1;31m---------------------------------------------------------------------------\u001b[0m",
      "\u001b[1;31mTypeError\u001b[0m                                 Traceback (most recent call last)",
      "Cell \u001b[1;32mIn[7], line 9\u001b[0m\n\u001b[0;32m      6\u001b[0m     \u001b[38;5;28;01mreturn\u001b[39;00m Punto(\u001b[38;5;28mself\u001b[39m\u001b[38;5;241m.\u001b[39mx \u001b[38;5;241m+\u001b[39m new_x, \u001b[38;5;28mself\u001b[39m\u001b[38;5;241m.\u001b[39my \u001b[38;5;241m+\u001b[39m new_y)\n\u001b[0;32m      8\u001b[0m puntito \u001b[38;5;241m=\u001b[39m Punto(\u001b[38;5;241m10\u001b[39m, \u001b[38;5;241m10\u001b[39m)\n\u001b[1;32m----> 9\u001b[0m \u001b[38;5;28mprint\u001b[39m(\u001b[43mpuntito\u001b[49m\u001b[43m \u001b[49m\u001b[38;5;241;43m+\u001b[39;49m\u001b[43m \u001b[49m\u001b[38;5;241;43m10\u001b[39;49m ,\u001b[38;5;241m10\u001b[39m)\n",
      "\u001b[1;31mTypeError\u001b[0m: Punto.__add__() missing 1 required positional argument: 'new_y'"
     ]
    }
   ],
   "source": [
    "class Punto:\n",
    "  def __init__(self,x, y):\n",
    "    self.x = x\n",
    "    self.y = y\n",
    "  def __add__(self, new_x, new_y):\n",
    "    return Punto(self.x + new_x, self.y + new_y)\n",
    "  \n",
    "puntito = Punto(10, 10)\n",
    "print(puntito)"
   ]
  },
  {
   "cell_type": "markdown",
   "metadata": {},
   "source": [
    "### Ejercicio 2 -- Acceder a Atributos\n",
    "#### Objetivo: Personalizar cómo se accede a los atributos de un objeto.\n",
    "#### Ejercicio:\n",
    "- Crea una clase llamada Persona con un atributo nombre.\n",
    "- Implementa __getattr__ para que si se intenta acceder a un atributo que no existe, devuelva un mensaje como \"El atributo {nombre_del_atributo} no existe\".\n",
    "- "
   ]
  },
  {
   "cell_type": "code",
   "execution_count": null,
   "metadata": {},
   "outputs": [],
   "source": []
  },
  {
   "cell_type": "markdown",
   "metadata": {},
   "source": [
    "### Ejercicio 3 --  (Inversión)\n",
    "#### Objetivo: Definir el comportamiento del operador de inversión (~).\n",
    "#### Ejercicio:\n",
    "- Crea una clase llamada Numero que almacene un número entero.\n",
    "- Implementa __invert__ para que al invertir un objeto Numero, se cambie el signo del número almacenado."
   ]
  },
  {
   "cell_type": "code",
   "execution_count": null,
   "metadata": {},
   "outputs": [],
   "source": []
  },
  {
   "cell_type": "markdown",
   "metadata": {},
   "source": [
    "### Ejercicio 4 -- Representación en cadena\n",
    "#### Objetivo: Definir cómo se representa un objeto como cadena de texto.\n",
    "#### Ejercicio:\n",
    "- Crea una clase llamada Libro con atributos titulo y autor.\n",
    "- Implementa __str__ para que al imprimir un objeto Libro, se muestre una cadena como \"Título: {titulo}, Autor: {autor}\"."
   ]
  },
  {
   "cell_type": "code",
   "execution_count": null,
   "metadata": {},
   "outputs": [],
   "source": []
  },
  {
   "cell_type": "markdown",
   "metadata": {},
   "source": [
    "### Ejercicio 5 -- Eliminación\n",
    "#### Objetivo: Definir qué sucede cuando se elimina un objeto.\n",
    "#### Ejercicio:\n",
    "- Crea una clase llamada Archivo con un atributo nombre_archivo.\n",
    "- Implementa __del__ para que al eliminar un objeto Archivo, se imprima un mensaje como \"Archivo {nombre_archivo} eliminado\"."
   ]
  },
  {
   "cell_type": "code",
   "execution_count": null,
   "metadata": {},
   "outputs": [],
   "source": []
  },
  {
   "cell_type": "markdown",
   "metadata": {},
   "source": [
    "### Ejercicio 6 -- (Longitud)\n",
    "#### Objetivo: Definir cómo se calcula la longitud de un objeto.\n",
    "#### Ejercicio:\n",
    "- Crea una clase llamada ListaPersonalizada que almacene una lista de elementos.\n",
    "- Implementa __len__ para que al usar la función len() con un objeto ListaPersonalizada, se devuelva la cantidad de elementos en la lista."
   ]
  },
  {
   "cell_type": "code",
   "execution_count": null,
   "metadata": {},
   "outputs": [],
   "source": []
  }
 ],
 "metadata": {
  "kernelspec": {
   "display_name": "Python 3",
   "language": "python",
   "name": "python3"
  },
  "language_info": {
   "codemirror_mode": {
    "name": "ipython",
    "version": 3
   },
   "file_extension": ".py",
   "mimetype": "text/x-python",
   "name": "python",
   "nbconvert_exporter": "python",
   "pygments_lexer": "ipython3",
   "version": "3.11.7"
  }
 },
 "nbformat": 4,
 "nbformat_minor": 2
}
