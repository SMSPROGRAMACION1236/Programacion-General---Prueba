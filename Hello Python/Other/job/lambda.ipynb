{
 "cells": [
  {
   "cell_type": "markdown",
   "metadata": {},
   "source": [
    "# https://gemini.google.com/u/1/app/a69c376e5275976a?hl=es\n",
    "En mi cuenta de correo largo\n"
   ]
  },
  {
   "cell_type": "markdown",
   "metadata": {},
   "source": [
    "# Lambdas\n",
    "## Ejercicios Basicos\n"
   ]
  },
  {
   "cell_type": "markdown",
   "metadata": {},
   "source": [
    "### Ejercicio 1\n",
    "#### Crear una lambda que sume dos numeros\n"
   ]
  },
  {
   "cell_type": "code",
   "execution_count": 9,
   "metadata": {},
   "outputs": [
    {
     "name": "stdout",
     "output_type": "stream",
     "text": [
      "5\n"
     ]
    }
   ],
   "source": [
    "funccion_suma = lambda a,b: a+b\n",
    "print(funccion_suma(2,3))"
   ]
  },
  {
   "cell_type": "markdown",
   "metadata": {},
   "source": [
    "### Ejercicio 2\n",
    "#### Crear una lambda que reste dos numeros\\\n"
   ]
  },
  {
   "cell_type": "code",
   "execution_count": 12,
   "metadata": {},
   "outputs": [
    {
     "name": "stdout",
     "output_type": "stream",
     "text": [
      "-1\n"
     ]
    }
   ],
   "source": [
    "funccion_resta = lambda a,b: a-b\n",
    "print(funccion_resta(2,3))"
   ]
  },
  {
   "cell_type": "markdown",
   "metadata": {},
   "source": [
    "### Ejercicio 3\n",
    "#### Crear una lambda que multiplique dos numeros\n"
   ]
  },
  {
   "cell_type": "code",
   "execution_count": 13,
   "metadata": {},
   "outputs": [
    {
     "name": "stdout",
     "output_type": "stream",
     "text": [
      "6\n"
     ]
    }
   ],
   "source": [
    "funccion_multi = lambda a,b: a*b\n",
    "print(funccion_multi(2,3))"
   ]
  },
  {
   "cell_type": "markdown",
   "metadata": {},
   "source": [
    "### Ejercico 4\n",
    "#### Crear una lambda que divida dos numeros\n"
   ]
  },
  {
   "cell_type": "code",
   "execution_count": 14,
   "metadata": {},
   "outputs": [
    {
     "name": "stdout",
     "output_type": "stream",
     "text": [
      "6\n"
     ]
    }
   ],
   "source": [
    "funccion_divi = lambda a,b: a/b\n",
    "print(funccion_multi(2,3))"
   ]
  },
  {
   "cell_type": "markdown",
   "metadata": {},
   "source": [
    "## Ejercicios Nivel Medio\n"
   ]
  },
  {
   "cell_type": "markdown",
   "metadata": {},
   "source": [
    "### Ejercicio 5\n",
    "####  Crear una lambda que determine si un número es par:"
   ]
  },
  {
   "cell_type": "code",
   "execution_count": 17,
   "metadata": {},
   "outputs": [
    {
     "name": "stdout",
     "output_type": "stream",
     "text": [
      "False\n"
     ]
    }
   ],
   "source": [
    "funccion_par =  lambda x:x%2==0\n",
    "numero = int(input(\"Enter a number\"))\n",
    "\n",
    "print(funccion_par(numero))"
   ]
  },
  {
   "cell_type": "markdown",
   "metadata": {},
   "source": [
    "### Ejercicio 6\n",
    "#### Crear una lambda que eleve un número a una potencia:"
   ]
  },
  {
   "cell_type": "code",
   "execution_count": 20,
   "metadata": {},
   "outputs": [
    {
     "name": "stdout",
     "output_type": "stream",
     "text": [
      "4\n"
     ]
    }
   ],
   "source": [
    "funccion_potencia = lambda x, y: x**y\n",
    "num = int(input(\"Ingrese un numero \"))\n",
    "pot = int(input(\"Ingrese una potencia \"))\n",
    "\n",
    "print(funccion_potencia(num, pot))"
   ]
  },
  {
   "cell_type": "markdown",
   "metadata": {},
   "source": [
    "### Ejercicio 7\n",
    "####  Crear una lambda que convierta una cadena a mayúsculas:"
   ]
  },
  {
   "cell_type": "code",
   "execution_count": 22,
   "metadata": {},
   "outputs": [
    {
     "name": "stdout",
     "output_type": "stream",
     "text": [
      "HOLA\n"
     ]
    }
   ],
   "source": [
    "funccion_mayus = lambda x:x.upper()\n",
    "print(funccion_mayus(\"Hola\"))"
   ]
  },
  {
   "cell_type": "markdown",
   "metadata": {},
   "source": [
    "### Ejercicio 8\n",
    "#### Crear una lista de números y usar una lambda para obtener el cuadrado de cada número:"
   ]
  },
  {
   "cell_type": "code",
   "execution_count": 23,
   "metadata": {},
   "outputs": [
    {
     "name": "stdout",
     "output_type": "stream",
     "text": [
      "1\n",
      "4\n",
      "9\n",
      "16\n",
      "25\n",
      "36\n",
      "49\n",
      "64\n",
      "81\n"
     ]
    }
   ],
   "source": [
    "numeros = [1,2,3,4,5,6,7,8,9]\n",
    "funccion_cuadrado = lambda x: x**2\n",
    "for num in numeros:\n",
    "  print(funccion_cuadrado(num))"
   ]
  },
  {
   "cell_type": "markdown",
   "metadata": {},
   "source": [
    "### Ejercicio 9\n",
    "#### Crear una lista de nombres y usar una lambda para obtener la longitud de cada nombre:"
   ]
  },
  {
   "cell_type": "code",
   "execution_count": 1,
   "metadata": {},
   "outputs": [
    {
     "name": "stdout",
     "output_type": "stream",
     "text": [
      "El nombre Alberto tiene como numero de caracteres: 7\n",
      "El nombre Damian tiene como numero de caracteres: 6\n",
      "El nombre Delfina tiene como numero de caracteres: 7\n"
     ]
    }
   ],
   "source": [
    "nombres = [\"Alberto\", \"Damian\", \"Delfina\"]\n",
    "\n",
    "longitud_function = lambda x: len(x)\n",
    "\n",
    "for i in nombres:\n",
    "  print(f\"El nombre {i} tiene como numero de caracteres: {longitud_function(i)}\")"
   ]
  },
  {
   "cell_type": "markdown",
   "metadata": {},
   "source": [
    "## Ejercicios Nivel Medio Alta\n"
   ]
  },
  {
   "cell_type": "markdown",
   "metadata": {},
   "source": [
    "### Ejercicio 10\n",
    "#### Filtrar una lista:\n",
    "Enunciado: Dada una lista de números, crea una nueva lista que contenga solo los números mayores a 5."
   ]
  },
  {
   "cell_type": "code",
   "execution_count": 4,
   "metadata": {},
   "outputs": [
    {
     "name": "stdout",
     "output_type": "stream",
     "text": [
      "[6, 7, 8, 9, 10]\n"
     ]
    }
   ],
   "source": [
    "original_lista = [1,2,3,4,5,6,7,8,9,10]\n",
    "nueva_lista =[]\n",
    "mayor_que_cinco = lambda x: x> 5\n",
    "\n",
    "for i in original_lista: \n",
    "  if mayor_que_cinco(i):\n",
    "    nueva_lista.append(i)\n",
    "print(nueva_lista)"
   ]
  },
  {
   "cell_type": "markdown",
   "metadata": {},
   "source": [
    "### Ejercicio 11\n",
    "#### Ordenar una lista:\n",
    "Enunciado: Ordena una lista de palabras alfabéticamente en orden descendente."
   ]
  },
  {
   "cell_type": "code",
   "execution_count": 10,
   "metadata": {},
   "outputs": [
    {
     "name": "stdout",
     "output_type": "stream",
     "text": [
      "['Valenciano', 'Thiago', 'Liam', 'Julian']\n"
     ]
    }
   ],
   "source": [
    "lista_de_nombres = [\"Liam\",\"Julian\", \"Thiago\",\"Valenciano\"]\n",
    "funcion_ordenadora = lambda x:sorted(x,reverse=True)\n",
    "lista_ordenada = funcion_ordenadora(lista_de_nombres)\n",
    "print(lista_ordenada)"
   ]
  },
  {
   "cell_type": "markdown",
   "metadata": {},
   "source": [
    "### Ejercicio 12\n",
    "#### Operaciones con cadenas:\n",
    "Enunciado: Crea una lista de nombres y devuelve una nueva lista con la primera letra de cada nombre en mayúscula."
   ]
  },
  {
   "cell_type": "code",
   "execution_count": 12,
   "metadata": {},
   "outputs": [
    {
     "name": "stdout",
     "output_type": "stream",
     "text": [
      "L\n",
      "J\n",
      "T\n",
      "V\n"
     ]
    }
   ],
   "source": [
    "lista_de_nombres = [\"liam\",\"julian\", \"thiago\",\"valenciano\"]\n",
    "\n",
    "function_first_capital_letter = lambda x:x[0][0].upper()\n",
    "for nombre in lista_de_nombres:\n",
    "  print(function_first_capital_letter(nombre))"
   ]
  },
  {
   "cell_type": "markdown",
   "metadata": {},
   "source": [
    "### Ejercicio 13\n",
    "#### Combinar listas:\n",
    "Enunciado: Tienes dos listas de números. Crea una nueva lista que contenga la suma de los elementos correspondientes de ambas listas."
   ]
  },
  {
   "cell_type": "code",
   "execution_count": 16,
   "metadata": {},
   "outputs": [
    {
     "name": "stdout",
     "output_type": "stream",
     "text": [
      "[55]\n"
     ]
    }
   ],
   "source": [
    "lista1 = [1,2,3,4,5]\n",
    "lista2 = [6,7,8,9,10]\n",
    "suma_list1_lista2 = []\n",
    "suma = 0\n",
    "funccion_sumadora = lambda x,y: x+ y\n",
    "\n",
    "for x,y in zip(lista1, lista2):\n",
    "  suma += x+y\n",
    "suma_list1_lista2.append(suma)\n",
    "print(suma_list1_lista2)"
   ]
  }
 ],
 "metadata": {
  "kernelspec": {
   "display_name": "Python 3",
   "language": "python",
   "name": "python3"
  },
  "language_info": {
   "codemirror_mode": {
    "name": "ipython",
    "version": 3
   },
   "file_extension": ".py",
   "mimetype": "text/x-python",
   "name": "python",
   "nbconvert_exporter": "python",
   "pygments_lexer": "ipython3",
   "version": "3.12.1"
  }
 },
 "nbformat": 4,
 "nbformat_minor": 2
}
