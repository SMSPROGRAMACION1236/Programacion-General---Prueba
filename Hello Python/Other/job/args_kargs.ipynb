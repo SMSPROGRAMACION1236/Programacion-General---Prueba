{
 "cells": [
  {
   "cell_type": "markdown",
   "metadata": {},
   "source": [
    "####  https://gemini.google.com/u/1/app/4c9c59290fc532e6?hl=es"
   ]
  },
  {
   "cell_type": "markdown",
   "metadata": {},
   "source": [
    "# Args\n"
   ]
  },
  {
   "cell_type": "markdown",
   "metadata": {},
   "source": [
    "## Antes de las Drogas"
   ]
  },
  {
   "cell_type": "markdown",
   "metadata": {},
   "source": [
    "### Ejercicio 1: Suma de Numeros\n",
    "#### Crea una función que sume todos los números que se le pasen como argumentos."
   ]
  },
  {
   "cell_type": "code",
   "execution_count": null,
   "metadata": {},
   "outputs": [
    {
     "name": "stdout",
     "output_type": "stream",
     "text": [
      "3465\n"
     ]
    }
   ],
   "source": [
    "def sumar(*values):\n",
    "  return sum(values)\n",
    "print(sumar(23,3442))\n",
    "print"
   ]
  },
  {
   "cell_type": "markdown",
   "metadata": {},
   "source": [
    "### Ejercicio 2: Concatenacion de cadenas\n",
    "#### Crea una función que concatene todas las cadenas que se le pasen como argumentos, separándolas por un espacio."
   ]
  },
  {
   "cell_type": "code",
   "execution_count": 54,
   "metadata": {},
   "outputs": [
    {
     "name": "stdout",
     "output_type": "stream",
     "text": [
      "  Hola Soy tu Amer\n"
     ]
    }
   ],
   "source": [
    "def concatenar(*cadenas):\n",
    "  resultado = \" \"\n",
    "  for i in cadenas:\n",
    "    resultado = resultado + f\" {i}\" \n",
    "  return resultado\n",
    "print(concatenar(\"Hola\", \"Soy tu\", \"Amer\"))\n"
   ]
  },
  {
   "cell_type": "markdown",
   "metadata": {},
   "source": [
    "### Ejercicio 3 : Encontrar el numero mas grande\n",
    "#### Crea una función que encuentre el número más grande dentro de los argumentos pasados."
   ]
  },
  {
   "cell_type": "code",
   "execution_count": 55,
   "metadata": {},
   "outputs": [
    {
     "name": "stdout",
     "output_type": "stream",
     "text": [
      "4\n"
     ]
    }
   ],
   "source": [
    "def numero_grande(*args):\n",
    "  return max(args)\n",
    "print(numero_grande(2,4))"
   ]
  },
  {
   "cell_type": "markdown",
   "metadata": {},
   "source": [
    "###  Ejercicio 4: Crear una lista a partir de argumentos\n",
    "#### Crea una función que tome cualquier número de argumentos y los agregue a una lista."
   ]
  },
  {
   "cell_type": "code",
   "execution_count": 56,
   "metadata": {},
   "outputs": [
    {
     "name": "stdout",
     "output_type": "stream",
     "text": [
      "[323, 32]\n"
     ]
    }
   ],
   "source": [
    "def create_list_from_args(*args):\n",
    "  return list(args)\n",
    "print(create_list_from_args(323,32))"
   ]
  },
  {
   "cell_type": "markdown",
   "metadata": {},
   "source": [
    "### Ejercicio 5:\n",
    "#### Crear una función que calcule el promedio de varios números."
   ]
  },
  {
   "cell_type": "code",
   "execution_count": 57,
   "metadata": {},
   "outputs": [
    {
     "name": "stdout",
     "output_type": "stream",
     "text": [
      "10.0\n"
     ]
    }
   ],
   "source": [
    "def promedio(*args):\n",
    "  adiccion = 0\n",
    "  for i in args:\n",
    "    adiccion += i\n",
    "  return adiccion / int(len(args))\n",
    "print(promedio(10,10))"
   ]
  },
  {
   "cell_type": "markdown",
   "metadata": {},
   "source": [
    "### Ejercicio 6\n",
    "#### Crear una función que imprima todos los argumentos en una sola línea, separados por comas.\n"
   ]
  },
  {
   "cell_type": "code",
   "execution_count": 58,
   "metadata": {},
   "outputs": [
    {
     "name": "stdout",
     "output_type": "stream",
     "text": [
      "Hola, Como estas, Bien\n"
     ]
    }
   ],
   "source": [
    "def args_in_one_line(*args):\n",
    "  resultado =\"\"\n",
    "  for i in args:\n",
    "    resultado = \", \".join(args)    \n",
    "  return resultado\n",
    "print(args_in_one_line(\"Hola\", \"Como estas\", \"Bien\"))\n",
    "    "
   ]
  },
  {
   "cell_type": "markdown",
   "metadata": {},
   "source": [
    "### Ejercicio 7\n",
    "Crear una función que cuente cuántos argumentos de tipo entero se le pasan.\n"
   ]
  },
  {
   "cell_type": "code",
   "execution_count": 59,
   "metadata": {},
   "outputs": [
    {
     "name": "stdout",
     "output_type": "stream",
     "text": [
      "3\n",
      "<class 'int'>\n"
     ]
    }
   ],
   "source": [
    "def count_int_args(*args):\n",
    "  count_int = 0\n",
    "  for value in args:\n",
    "    if (type(value)) == int:\n",
    "      count_int += 1\n",
    "  return count_int\n",
    "print(count_int_args(\"hola\",2,3,32))\n",
    "print(type(2))"
   ]
  },
  {
   "cell_type": "markdown",
   "metadata": {},
   "source": [
    "### Ejercicio 8\n",
    "#### Función para multiplicar todos los números:"
   ]
  },
  {
   "cell_type": "code",
   "execution_count": 70,
   "metadata": {},
   "outputs": [
    {
     "name": "stdout",
     "output_type": "stream",
     "text": [
      "48\n"
     ]
    }
   ],
   "source": [
    "def multiplicar_cada_valor(*numeros):\n",
    "  resultante = 1\n",
    "  for i in numeros:\n",
    "    resultante *= i\n",
    "  return resultante\n",
    "print(multiplicar_cada_valor(2,2,3,4))"
   ]
  },
  {
   "cell_type": "markdown",
   "metadata": {},
   "source": [
    "### Ejercico 9\n",
    "#### Función para encontrar el número más pequeño:"
   ]
  },
  {
   "cell_type": "code",
   "execution_count": 74,
   "metadata": {},
   "outputs": [
    {
     "name": "stdout",
     "output_type": "stream",
     "text": [
      "1\n"
     ]
    }
   ],
   "source": [
    "def encontrar_minimo(*args):\n",
    "  return min(args)\n",
    "print(encontrar_minimo(24,32,42,2,1))"
   ]
  },
  {
   "cell_type": "markdown",
   "metadata": {},
   "source": [
    "### Ejercicio 10\n",
    "####  Función para crear una tupla a partir de los argumentos:"
   ]
  },
  {
   "cell_type": "code",
   "execution_count": 73,
   "metadata": {},
   "outputs": [
    {
     "name": "stdout",
     "output_type": "stream",
     "text": [
      "(2, 42, 32)\n"
     ]
    }
   ],
   "source": [
    "def convertir_a_tupla(*args):\n",
    "  return tuple(args)\n",
    "print(convertir_a_tupla(2,42,32))"
   ]
  },
  {
   "cell_type": "markdown",
   "metadata": {},
   "source": [
    "### Ejercicio 11\n",
    "#### Función para imprimir todos los argumentos en una nueva línea:\n"
   ]
  },
  {
   "cell_type": "code",
   "execution_count": 79,
   "metadata": {},
   "outputs": [
    {
     "name": "stdout",
     "output_type": "stream",
     "text": [
      "2\n",
      "4\n"
     ]
    }
   ],
   "source": [
    "def imprimir_args_en_nueva_linea(*args):\n",
    "  for i in args:\n",
    "    print(i)\n",
    "imprimir_args_en_nueva_linea(2,4)"
   ]
  },
  {
   "cell_type": "markdown",
   "metadata": {},
   "source": [
    "### Ejercicio 12: Hard\n",
    "#### Función para calcular la desviación estándar de un conjunto de números:"
   ]
  },
  {
   "cell_type": "code",
   "execution_count": 61,
   "metadata": {},
   "outputs": [
    {
     "ename": "TypeError",
     "evalue": "unsupported operand type(s) for +=: 'int' and 'tuple'",
     "output_type": "error",
     "traceback": [
      "\u001b[1;31m---------------------------------------------------------------------------\u001b[0m",
      "\u001b[1;31mTypeError\u001b[0m                                 Traceback (most recent call last)",
      "Cell \u001b[1;32mIn[61], line 10\u001b[0m\n\u001b[0;32m      7\u001b[0m   desviacion \u001b[38;5;241m=\u001b[39m (varianza \u001b[38;5;241m/\u001b[39m \u001b[38;5;28mint\u001b[39m(\u001b[38;5;28mlen\u001b[39m(valores))) \u001b[38;5;241m*\u001b[39m\u001b[38;5;241m*\u001b[39m\u001b[38;5;241m0.5\u001b[39m\n\u001b[0;32m      8\u001b[0m   \u001b[38;5;28;01mreturn\u001b[39;00m desviacion\n\u001b[1;32m---> 10\u001b[0m \u001b[38;5;28mprint\u001b[39m(\u001b[43mdesviacion_estandar\u001b[49m\u001b[43m(\u001b[49m\u001b[38;5;241;43m2\u001b[39;49m\u001b[43m,\u001b[49m\u001b[38;5;241;43m3\u001b[39;49m\u001b[43m)\u001b[49m)\n",
      "Cell \u001b[1;32mIn[61], line 3\u001b[0m, in \u001b[0;36mdesviacion_estandar\u001b[1;34m(*valores)\u001b[0m\n\u001b[0;32m      1\u001b[0m \u001b[38;5;28;01mdef\u001b[39;00m \u001b[38;5;21mdesviacion_estandar\u001b[39m(\u001b[38;5;241m*\u001b[39mvalores):\n\u001b[0;32m      2\u001b[0m   varianza \u001b[38;5;241m=\u001b[39m \u001b[38;5;241m0\u001b[39m\n\u001b[1;32m----> 3\u001b[0m   prome \u001b[38;5;241m=\u001b[39m \u001b[38;5;28mfloat\u001b[39m(\u001b[43mpromedio\u001b[49m\u001b[43m(\u001b[49m\u001b[43mvalores\u001b[49m\u001b[43m)\u001b[49m)\n\u001b[0;32m      5\u001b[0m   \u001b[38;5;28;01mfor\u001b[39;00m  i \u001b[38;5;129;01min\u001b[39;00m valores:\n\u001b[0;32m      6\u001b[0m     varianza \u001b[38;5;241m+\u001b[39m\u001b[38;5;241m=\u001b[39m ((i) \u001b[38;5;241m-\u001b[39m prome)\u001b[38;5;241m*\u001b[39m\u001b[38;5;241m*\u001b[39m\u001b[38;5;241m2\u001b[39m\n",
      "Cell \u001b[1;32mIn[57], line 4\u001b[0m, in \u001b[0;36mpromedio\u001b[1;34m(*args)\u001b[0m\n\u001b[0;32m      2\u001b[0m adiccion \u001b[38;5;241m=\u001b[39m \u001b[38;5;241m0\u001b[39m\n\u001b[0;32m      3\u001b[0m \u001b[38;5;28;01mfor\u001b[39;00m i \u001b[38;5;129;01min\u001b[39;00m args:\n\u001b[1;32m----> 4\u001b[0m   \u001b[43madiccion\u001b[49m\u001b[43m \u001b[49m\u001b[38;5;241;43m+\u001b[39;49m\u001b[38;5;241;43m=\u001b[39;49m\u001b[43m \u001b[49m\u001b[43mi\u001b[49m\n\u001b[0;32m      5\u001b[0m \u001b[38;5;28;01mreturn\u001b[39;00m adiccion \u001b[38;5;241m/\u001b[39m \u001b[38;5;28mint\u001b[39m(\u001b[38;5;28mlen\u001b[39m(args))\n",
      "\u001b[1;31mTypeError\u001b[0m: unsupported operand type(s) for +=: 'int' and 'tuple'"
     ]
    }
   ],
   "source": [
    "\n",
    "\n",
    "def desviacion_estandar(*valores):\n",
    "  varianza = 0\n",
    "  prome = float(promedio(valores))\n",
    "\n",
    "  for  i in valores:\n",
    "    varianza += ((i) - prome)**2\n",
    "  desviacion = (varianza / int(len(valores))) **0.5\n",
    "  return desviacion\n",
    "\n",
    "print(desviacion_estandar(2,3))"
   ]
  },
  {
   "cell_type": "markdown",
   "metadata": {},
   "source": [
    "### Ejercicio 13: Hard\n",
    "#### Función para crear un diccionario a partir de argumentos clave-valor:"
   ]
  },
  {
   "cell_type": "code",
   "execution_count": 92,
   "metadata": {},
   "outputs": [
    {
     "name": "stdout",
     "output_type": "stream",
     "text": [
      "{10: 2, 3: 2}\n"
     ]
    }
   ],
   "source": [
    "def crear_diccionario(*args):\n",
    "  diccionario ={}\n",
    "  for i, j in args:\n",
    "    diccionario[i]= j\n",
    "  return diccionario\n",
    "    \n",
    "  \n",
    "print(crear_diccionario((10,2),(3,2)))"
   ]
  },
  {
   "cell_type": "markdown",
   "metadata": {},
   "source": [
    "### Ejercicio 14: Hard\n",
    "#### Función para combinar listas:"
   ]
  },
  {
   "cell_type": "code",
   "execution_count": 103,
   "metadata": {},
   "outputs": [
    {
     "name": "stdout",
     "output_type": "stream",
     "text": [
      "[[2, 2], [2, 2], [1, 4, 2, 2]]\n"
     ]
    }
   ],
   "source": [
    "def combinar_lista(*listas):\n",
    "  ready = list()\n",
    "  for i in listas:\n",
    "    ready.append(i)\n",
    "  print(ready)\n",
    "combinar_lista([2,2],[2,2],[1,4,2,2])"
   ]
  },
  {
   "cell_type": "markdown",
   "metadata": {},
   "source": [
    "### Ejercicio 15: Hard\n",
    "#### Función que toma un número variable de argumentos y un valor por defecto:"
   ]
  },
  {
   "cell_type": "code",
   "execution_count": 10,
   "metadata": {},
   "outputs": [
    {
     "ename": "TypeError",
     "evalue": "'tuple' object cannot be interpreted as an integer",
     "output_type": "error",
     "traceback": [
      "\u001b[1;31m---------------------------------------------------------------------------\u001b[0m",
      "\u001b[1;31mTypeError\u001b[0m                                 Traceback (most recent call last)",
      "Cell \u001b[1;32mIn[10], line 4\u001b[0m\n\u001b[0;32m      2\u001b[0m   \u001b[38;5;28;01mfor\u001b[39;00m i \u001b[38;5;129;01min\u001b[39;00m \u001b[38;5;28mrange\u001b[39m(numVar):\n\u001b[0;32m      3\u001b[0m     \u001b[38;5;28;01mreturn\u001b[39;00m \u001b[38;5;241m1\u001b[39m\n\u001b[1;32m----> 4\u001b[0m \u001b[38;5;28mprint\u001b[39m(\u001b[43mtake_some_arguments\u001b[49m\u001b[43m(\u001b[49m\u001b[38;5;241;43m2\u001b[39;49m\u001b[43m)\u001b[49m)\n",
      "Cell \u001b[1;32mIn[10], line 2\u001b[0m, in \u001b[0;36mtake_some_arguments\u001b[1;34m(*numVar)\u001b[0m\n\u001b[0;32m      1\u001b[0m \u001b[38;5;28;01mdef\u001b[39;00m \u001b[38;5;21mtake_some_arguments\u001b[39m(\u001b[38;5;241m*\u001b[39mnumVar):\n\u001b[1;32m----> 2\u001b[0m   \u001b[38;5;28;01mfor\u001b[39;00m i \u001b[38;5;129;01min\u001b[39;00m \u001b[38;5;28;43mrange\u001b[39;49m\u001b[43m(\u001b[49m\u001b[43mnumVar\u001b[49m\u001b[43m)\u001b[49m:\n\u001b[0;32m      3\u001b[0m     \u001b[38;5;28;01mreturn\u001b[39;00m \u001b[38;5;241m1\u001b[39m\n",
      "\u001b[1;31mTypeError\u001b[0m: 'tuple' object cannot be interpreted as an integer"
     ]
    }
   ],
   "source": [
    "def take_some_arguments(*numVar):\n",
    "  for i in range(numVar):\n",
    "    return 1\n",
    "print(take_some_arguments(2))"
   ]
  },
  {
   "cell_type": "markdown",
   "metadata": {},
   "source": [
    "### Ejercicio 16: Hard\n",
    "#### Función que toma un número variable de argumentos y los pasa a otra función:\n"
   ]
  },
  {
   "cell_type": "code",
   "execution_count": 8,
   "metadata": {},
   "outputs": [
    {
     "ename": "SyntaxError",
     "evalue": "invalid syntax (3413309490.py, line 1)",
     "output_type": "error",
     "traceback": [
      "\u001b[1;36m  Cell \u001b[1;32mIn[8], line 1\u001b[1;36m\u001b[0m\n\u001b[1;33m    from Hello Python.Other.job.window import  my_window\u001b[0m\n\u001b[1;37m               ^\u001b[0m\n\u001b[1;31mSyntaxError\u001b[0m\u001b[1;31m:\u001b[0m invalid syntax\n"
     ]
    }
   ],
   "source": []
  },
  {
   "cell_type": "markdown",
   "metadata": {},
   "source": [
    "## Despues de las Drogas\n"
   ]
  },
  {
   "cell_type": "markdown",
   "metadata": {},
   "source": [
    "### Ejercicio 1  Función para sumar números:"
   ]
  },
  {
   "cell_type": "markdown",
   "metadata": {},
   "source": [
    "\n",
    "#### Crea una función llamada sumar_numeros que acepte un número variable de argumentos y los sume todos. La función debe devolver la suma total."
   ]
  },
  {
   "cell_type": "code",
   "execution_count": null,
   "metadata": {},
   "outputs": [
    {
     "name": "stdout",
     "output_type": "stream",
     "text": [
      "6\n"
     ]
    }
   ],
   "source": [
    "def sumar_numeros(*nums):\n",
    "  return sum(nums)\n",
    "print(sumar_numeros(2,4))"
   ]
  },
  {
   "cell_type": "markdown",
   "metadata": {},
   "source": [
    "### Ejercicio  2  --- Función para imprimir nombres:"
   ]
  },
  {
   "cell_type": "markdown",
   "metadata": {},
   "source": [
    "#### Crea una función llamada imprimir_nombres que acepte un número variable de nombres como argumentos. La función debe imprimir un saludo personalizado para cada nombre."
   ]
  },
  {
   "cell_type": "code",
   "execution_count": null,
   "metadata": {},
   "outputs": [
    {
     "name": "stdout",
     "output_type": "stream",
     "text": [
      "Hola, que tal  wasaa: Maria\n",
      "Hola, que tal  wasaa: Thiago\n",
      "Hola, que tal  wasaa: Ian\n"
     ]
    }
   ],
   "source": [
    "def imprimir_nombres(*names:str):\n",
    "  for i in names:\n",
    "    print(f\"Hola, que tal  wasaa: {i}\")\n",
    "imprimir_nombres(\"Maria\", \"Thiago\",\"Ian\")"
   ]
  },
  {
   "cell_type": "markdown",
   "metadata": {},
   "source": [
    "### Ejercicio 3 -- Función para encontrar el número más grande:\n",
    "#### Crea una función llamada encontrar_mayor que acepte un número variable de números como argumentos. La función debe encontrar y devolver el número más grande de todos"
   ]
  },
  {
   "cell_type": "code",
   "execution_count": null,
   "metadata": {},
   "outputs": [
    {
     "name": "stdout",
     "output_type": "stream",
     "text": [
      "3\n"
     ]
    }
   ],
   "source": [
    "def encontrar_mayor(*nums):\n",
    "  mayor = sorted(nums, reverse=True)\n",
    "  return mayor[0]\n",
    "print(encontrar_mayor(1,2,3))"
   ]
  },
  {
   "cell_type": "markdown",
   "metadata": {},
   "source": [
    "# Kargs\n"
   ]
  },
  {
   "cell_type": "markdown",
   "metadata": {},
   "source": [
    "### Ejercicio 1 \n",
    "####  Crear un diccionario de información: Escribe una función llamada crear_persona que acepte cualquier cantidad de argumentos con nombre (clave-valor) y devuelva un diccionario con esa información."
   ]
  },
  {
   "cell_type": "code",
   "execution_count": 6,
   "metadata": {},
   "outputs": [
    {
     "name": "stdout",
     "output_type": "stream",
     "text": [
      "{'nonbre': 'Liam', 'apellido': 'Bernaveol', 'edad': 17}\n"
     ]
    }
   ],
   "source": [
    "def crear_persona(**kargs):\n",
    "  return kargs\n",
    "\n",
    "persona_1 = crear_persona(nonbre=\"Liam\", apellido=\"Bernaveol\", edad=17)\n",
    "print(persona_1)"
   ]
  },
  {
   "cell_type": "markdown",
   "metadata": {},
   "source": [
    "### Ejercicio 2"
   ]
  },
  {
   "cell_type": "markdown",
   "metadata": {},
   "source": [
    "#### Mostrar información de un libro: Crea una función llamada mostrar_libro que tome argumentos con nombre como titulo, autor y año y los imprima de una manera legible."
   ]
  },
  {
   "cell_type": "code",
   "execution_count": 9,
   "metadata": {},
   "outputs": [
    {
     "name": "stdout",
     "output_type": "stream",
     "text": [
      "autor: Thiago\n",
      "titulo: La Insanidad\n"
     ]
    }
   ],
   "source": [
    "def mostrar_libro(**kargs):\n",
    "  for i in kargs.keys():\n",
    "    print(f\"{i}: {kargs[i]}\")\n",
    "mostrar_libro(autor='Thiago', titulo=\"La Insanidad\")"
   ]
  },
  {
   "cell_type": "markdown",
   "metadata": {},
   "source": [
    "### Ejercicio 3 -- Función de saludo personalizado: "
   ]
  },
  {
   "cell_type": "markdown",
   "metadata": {},
   "source": [
    "####  Escribe una función llamada saludo que acepte argumentos con nombre para el nombre y un mensaje_adicional opcional. Si se proporciona el mensaje_adicional, la función debería incluirlo en el saludo."
   ]
  },
  {
   "cell_type": "code",
   "execution_count": 19,
   "metadata": {},
   "outputs": [
    {
     "name": "stdout",
     "output_type": "stream",
     "text": [
      "Hola: Brian\n"
     ]
    },
    {
     "data": {
      "text/plain": [
       "'mensaje; Hola Wasaa'"
      ]
     },
     "execution_count": 19,
     "metadata": {},
     "output_type": "execute_result"
    }
   ],
   "source": [
    "def saludar(name, **kargs):\n",
    "  print(f\"Hola: {name}\")\n",
    "  for i in kargs:\n",
    "    return f\"{i}; {kargs[i]}\"\n",
    "  \n",
    "saludar(\"Brian\",mensaje=\"Hola Wasaa\")"
   ]
  },
  {
   "cell_type": "markdown",
   "metadata": {},
   "source": [
    "### Ejercicio 4 -- Describir una mascota: "
   ]
  },
  {
   "cell_type": "markdown",
   "metadata": {},
   "source": [
    "####  Crea una función llamada describir_mascota que acepte argumentos con nombre como nombre y tipo. Si se proporciona una edad, inclúyela en la descripción."
   ]
  },
  {
   "cell_type": "code",
   "execution_count": 29,
   "metadata": {},
   "outputs": [
    {
     "name": "stdout",
     "output_type": "stream",
     "text": [
      "nombre: Zeus\n",
      "tipo: Pastor Aleman\n",
      "edad: 19\n"
     ]
    }
   ],
   "source": [
    "def describir_mascota(**kargs) ->str:\n",
    "  for i in kargs:\n",
    "    print( f\"{i}: {kargs[i]}\")\n",
    "  \n",
    "describir_mascota(nombre=\"Zeus\",tipo='Pastor Aleman', edad= 19)"
   ]
  },
  {
   "cell_type": "markdown",
   "metadata": {},
   "source": [
    "### Ejercicio 5 -- Configurar un perfil: "
   ]
  },
  {
   "cell_type": "markdown",
   "metadata": {},
   "source": [
    "#### Escribe una función llamada configurar_perfil que tome argumentos con nombre para diferentes campos de un perfil de usuario, como usuario, nombre_completo, email y ciudad. Imprime la información proporcionada."
   ]
  },
  {
   "cell_type": "code",
   "execution_count": 10,
   "metadata": {},
   "outputs": [
    {
     "name": "stdout",
     "output_type": "stream",
     "text": [
      "usuario= Liam13pro\n",
      "nombre_completo= Liam Damian Bernaveol\n",
      "email= liam@gmail.com\n",
      "ciudad= Caaguazu\n"
     ]
    }
   ],
   "source": [
    "def configuar_perfil(**kwargs):\n",
    "  for i, j in kwargs.items():\n",
    "    print(f\"{i}= {j}\")\n",
    "configuar_perfil(usuario=\"Liam13pro\", nombre_completo=\"Liam Damian Bernaveol\", email=\"liam@gmail.com\", ciudad=\"Caaguazu\")"
   ]
  },
  {
   "cell_type": "markdown",
   "metadata": {},
   "source": [
    "### Ejercicio 6 -- Crear un mensaje de evento: \n"
   ]
  },
  {
   "cell_type": "markdown",
   "metadata": {},
   "source": [
    "#### Diseña una función llamada crear_mensaje_evento que acepte argumentos con nombre como nombre_evento y lugar. Si se proporciona una fecha, inclúyela en el mensaje."
   ]
  },
  {
   "cell_type": "code",
   "execution_count": 17,
   "metadata": {},
   "outputs": [
    {
     "name": "stdout",
     "output_type": "stream",
     "text": [
      "nombre_evento: Casamiento\n",
      "Has incluido la fecha\n",
      "lugar: Caaguazu\n",
      "Has incluido la fecha\n",
      "fecha: 10/10/2024\n",
      "Has incluido la fecha\n"
     ]
    }
   ],
   "source": [
    "def crear_mensaje(**kwargs):\n",
    "  lista_de_argumentos = list(kwargs.keys())\n",
    "  for i, j in kwargs.items():\n",
    "    print(f\"{i}: {j}\")\n",
    "    if \"fecha\" in lista_de_argumentos:\n",
    "      print('Has incluido la fecha')\n",
    "    else:\n",
    "      pass  \n",
    "crear_mensaje(nombre_evento = \"Casamiento\", lugar= \"Caaguazu\", fecha=\"10/10/2024\")"
   ]
  },
  {
   "cell_type": "code",
   "execution_count": null,
   "metadata": {},
   "outputs": [],
   "source": []
  }
 ],
 "metadata": {
  "kernelspec": {
   "display_name": "Python 3",
   "language": "python",
   "name": "python3"
  },
  "language_info": {
   "codemirror_mode": {
    "name": "ipython",
    "version": 3
   },
   "file_extension": ".py",
   "mimetype": "text/x-python",
   "name": "python",
   "nbconvert_exporter": "python",
   "pygments_lexer": "ipython3",
   "version": "3.11.7"
  }
 },
 "nbformat": 4,
 "nbformat_minor": 2
}
