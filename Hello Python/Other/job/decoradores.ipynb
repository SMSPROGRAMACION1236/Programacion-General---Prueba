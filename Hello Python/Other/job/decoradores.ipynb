{
 "cells": [
  {
   "cell_type": "markdown",
   "metadata": {},
   "source": [
    "https://gemini.google.com/u/1/app/4c9c59290fc532e6?hl=es"
   ]
  },
  {
   "cell_type": "markdown",
   "metadata": {},
   "source": [
    "#### Ejercicio 1: Saludar con nombre\n",
    "\n",
    "Crea un decorador que reciba un nombre como argumento y devuelva una función que salude a la persona por su nombre. Decora una función simple de saludo para probar el decorador."
   ]
  },
  {
   "cell_type": "code",
   "execution_count": 6,
   "metadata": {},
   "outputs": [
    {
     "name": "stdout",
     "output_type": "stream",
     "text": [
      "You are: Juan\n",
      "hello: Juan\n"
     ]
    }
   ],
   "source": [
    "def decorator_greeting(fn):\n",
    "  def greet_avanced(name):\n",
    "    print(f\"You are: {name}\")\n",
    "    fn(name)\n",
    "  return greet_avanced\n",
    "@decorator_greeting\n",
    "def greet(name):\n",
    "  print( f\"hello: {name}\")\n",
    "  \n",
    "greet(\"Juan\")"
   ]
  },
  {
   "cell_type": "markdown",
   "metadata": {},
   "source": [
    "#### Ejercicio 2: Añadir texto al principio y final\n",
    "\n",
    "Crea un decorador que añada un texto específico al principio y al final del resultado de una función. Decora una función que devuelve un string para probar el decorador."
   ]
  },
  {
   "cell_type": "code",
   "execution_count": 13,
   "metadata": {},
   "outputs": [
    {
     "name": "stdout",
     "output_type": "stream",
     "text": [
      "Hello\n",
      "helloworld\n",
      "Bye\n"
     ]
    }
   ],
   "source": [
    "def decorator_messages(fn):\n",
    "  def say_more_information():\n",
    "    print(\"Hello\")\n",
    "    fn()\n",
    "    print(\"Bye\")\n",
    "  return say_more_information\n",
    "\n",
    "@decorator_messages\n",
    "def say_helloworld():\n",
    "  print( \"helloworld\")\n",
    "say_helloworld()"
   ]
  },
  {
   "cell_type": "markdown",
   "metadata": {},
   "source": [
    "#### Ejercicio 3: Convertir a minúsculas\n",
    "\n",
    "Crea un decorador que convierta el resultado de una función a minúsculas. Decora una función que devuelve un string para probar el decorador."
   ]
  },
  {
   "cell_type": "code",
   "execution_count": 25,
   "metadata": {},
   "outputs": [
    {
     "name": "stdout",
     "output_type": "stream",
     "text": [
      "Wasa\n"
     ]
    },
    {
     "data": {
      "text/plain": [
       "'WASA'"
      ]
     },
     "execution_count": 25,
     "metadata": {},
     "output_type": "execute_result"
    }
   ],
   "source": [
    "def decorator_capital_letter(fn):\n",
    "  def capital_letter( string:str):\n",
    "    fn(string)\n",
    "    return string.upper()\n",
    "  return capital_letter\n",
    "\n",
    "@decorator_capital_letter\n",
    "def hello_world(string):\n",
    "  print(string)\n",
    "hello_world(\"Wasa\")"
   ]
  },
  {
   "cell_type": "markdown",
   "metadata": {},
   "source": [
    "#### Ejercicio 4: Verificar si un número es par\n",
    "\n",
    "Crea un decorador que verifique si el argumento de una función es un número par. Si es par, imprime un mensaje indicando que es par. De lo contrario, no hace nada. Decora una función que recibe un número como argumento para probar el decorador."
   ]
  },
  {
   "cell_type": "code",
   "execution_count": 6,
   "metadata": {},
   "outputs": [
    {
     "name": "stdout",
     "output_type": "stream",
     "text": [
      "2\n",
      "2 is pair\n"
     ]
    }
   ],
   "source": [
    "def decorator_num_is_pair(fn):\n",
    "  def is_pair(num):\n",
    "    fn(num)\n",
    "    if num % 2 == 0:\n",
    "      print(f\"{num} is pair\")\n",
    "    else:\n",
    "      pass\n",
    "  return is_pair\n",
    "\n",
    "@decorator_num_is_pair\n",
    "def print_num(num):\n",
    "  print(num)\n",
    "print_num(2)\n",
    "\n",
    "      "
   ]
  },
  {
   "cell_type": "markdown",
   "metadata": {},
   "source": [
    "#### Ejercicio 5: Contar caracteres\n",
    "\n",
    "Crea un decorador que cuente la cantidad de caracteres del resultado de una función e imprima el resultado. Decora una función que devuelve un string para probar el decorador."
   ]
  },
  {
   "cell_type": "code",
   "execution_count": 9,
   "metadata": {},
   "outputs": [
    {
     "name": "stdout",
     "output_type": "stream",
     "text": [
      "The word is: Hola Mundo\n",
      "The word: Hola Mundo has a lengthen of 10\n"
     ]
    }
   ],
   "source": [
    "def decorator_count_string(fn):\n",
    "  def count_letter(word):\n",
    "    fn(word)\n",
    "    print(f\"The word: {word} has a lengthen of {len(word)}\")\n",
    "  return count_letter\n",
    "@decorator_count_string\n",
    "def say_something(word):\n",
    "  print(f\"The word is: {word}\")\n",
    "say_something(\"Hola Mundo\")"
   ]
  },
  {
   "cell_type": "markdown",
   "metadata": {},
   "source": [
    "#### Ejercicio 6: Registrar llamadas a una función\n",
    "Crea un decorador que registre la cantidad de veces que se llama a una función. El decorador debe mostrar el número de llamadas cada vez que se ejecuta la función decorada."
   ]
  },
  {
   "cell_type": "code",
   "execution_count": 27,
   "metadata": {},
   "outputs": [
    {
     "name": "stdout",
     "output_type": "stream",
     "text": [
      "Hola\n"
     ]
    },
    {
     "data": {
      "text/plain": [
       "1"
      ]
     },
     "execution_count": 27,
     "metadata": {},
     "output_type": "execute_result"
    }
   ],
   "source": [
    "def decorator_count_call_function(fn):\n",
    "  def count_call_function():\n",
    "    count_call_function.count +=1\n",
    "    return fn()\n",
    "  \n",
    "  count_call_function.count = 0\n",
    "  return count_call_function\n",
    "\n",
    "@decorator_count_call_function\n",
    "def hola():\n",
    "  print(\"Hola\")    \n",
    "hola.count\n",
    "hola()\n",
    "hola.count"
   ]
  }
 ],
 "metadata": {
  "kernelspec": {
   "display_name": "Python 3",
   "language": "python",
   "name": "python3"
  },
  "language_info": {
   "codemirror_mode": {
    "name": "ipython",
    "version": 3
   },
   "file_extension": ".py",
   "mimetype": "text/x-python",
   "name": "python",
   "nbconvert_exporter": "python",
   "pygments_lexer": "ipython3",
   "version": "3.11.7"
  }
 },
 "nbformat": 4,
 "nbformat_minor": 2
}
