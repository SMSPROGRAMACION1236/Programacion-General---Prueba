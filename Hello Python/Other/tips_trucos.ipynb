{
 "cells": [
  {
   "cell_type": "markdown",
   "metadata": {},
   "source": [
    "## Trucos\n",
    "\n",
    "https://youtu.be/_VYPhIKj0BQ?si=56aEqazk1N_Y0tKp"
   ]
  },
  {
   "cell_type": "markdown",
   "metadata": {},
   "source": [
    "1. Fusionar elementos con *"
   ]
  },
  {
   "cell_type": "code",
   "execution_count": 6,
   "metadata": {},
   "outputs": [
    {
     "name": "stdout",
     "output_type": "stream",
     "text": [
      "[1, 2, 3, 4, 5, 6, 8, 9, 7]\n",
      "[1, 2, 3, 4, 5, 6, 8, 9, 7]\n"
     ]
    }
   ],
   "source": [
    "## Teniendo conjuntos de datos del mismo tipo o de diferentes\n",
    "#!Forma Mala\n",
    "lista = [1,2,3]\n",
    "tupla = (4,5,6)\n",
    "conjunto = {7,8,9}\n",
    "\n",
    "fusion  = lista + list(tupla) + list(conjunto)\n",
    "print(fusion)\n",
    "#!Forma Buena\n",
    "\n",
    "fusion2 = [*lista, *tupla, *conjunto] # es mucho mas corto, ya que lo desempaqueta\n",
    "print(fusion2)"
   ]
  },
  {
   "cell_type": "markdown",
   "metadata": {},
   "source": [
    "2. Operador Warlus"
   ]
  },
  {
   "cell_type": "code",
   "execution_count": 8,
   "metadata": {},
   "outputs": [
    {
     "name": "stdout",
     "output_type": "stream",
     "text": [
      "Ingresaste: 2\n"
     ]
    }
   ],
   "source": [
    "#\n",
    "#!Forma mala\n",
    "while True:\n",
    "  line = input(\"Ingresa un texto: \")\n",
    "  if not line:\n",
    "    break\n",
    "  print(f\"Ingresaste: {line}\")\n",
    "#!Forma buena\n",
    "while (line := input(\"Ingresa un texto: \")): # es una forma de asignar lo ingresado a la variable, y si no se cumple, se rompe por que es while line\n",
    "  print(f\"Ingresaste: {line}\")\n",
    "  "
   ]
  },
  {
   "cell_type": "markdown",
   "metadata": {},
   "source": [
    "3. Bucles Anidados"
   ]
  },
  {
   "cell_type": "code",
   "execution_count": 10,
   "metadata": {},
   "outputs": [
    {
     "name": "stdout",
     "output_type": "stream",
     "text": [
      "x: 1, y: a, z: True\n",
      "x: 1, y: a, z: False\n",
      "x: 1, y: b, z: True\n",
      "x: 1, y: b, z: False\n",
      "x: 1, y: c, z: True\n",
      "x: 1, y: c, z: False\n",
      "x: 2, y: a, z: True\n",
      "x: 2, y: a, z: False\n",
      "x: 2, y: b, z: True\n",
      "x: 2, y: b, z: False\n",
      "x: 2, y: c, z: True\n",
      "x: 2, y: c, z: False\n",
      "x: 3, y: a, z: True\n",
      "x: 3, y: a, z: False\n",
      "x: 3, y: b, z: True\n",
      "x: 3, y: b, z: False\n",
      "x: 3, y: c, z: True\n",
      "x: 3, y: c, z: False\n",
      "x: 1, y: a, z: True\n",
      "x: 1, y: a, z: False\n",
      "x: 1, y: b, z: True\n",
      "x: 1, y: b, z: False\n",
      "x: 1, y: c, z: True\n",
      "x: 1, y: c, z: False\n",
      "x: 2, y: a, z: True\n",
      "x: 2, y: a, z: False\n",
      "x: 2, y: b, z: True\n",
      "x: 2, y: b, z: False\n",
      "x: 2, y: c, z: True\n",
      "x: 2, y: c, z: False\n",
      "x: 3, y: a, z: True\n",
      "x: 3, y: a, z: False\n",
      "x: 3, y: b, z: True\n",
      "x: 3, y: b, z: False\n",
      "x: 3, y: c, z: True\n",
      "x: 3, y: c, z: False\n"
     ]
    }
   ],
   "source": [
    "#Teniendo estas listas\n",
    "\n",
    "lista1 = [1,2,3]\n",
    "lista2 = ['a','b','c']\n",
    "lista3 = [True, False]\n",
    "\n",
    "\n",
    "#! #!Mala Forma\n",
    "for x in lista1:\n",
    "  for y in lista2:\n",
    "    for z in lista3:\n",
    "      print(f\"x: {x}, y: {y}, z: {z}\")\n",
    "#! Buena forma\n",
    "from itertools import product\n",
    "for x, y, z in product(lista1, lista2, lista3):\n",
    "  print(f\"x: {x}, y: {y}, z: {z}\")"
   ]
  },
  {
   "cell_type": "markdown",
   "metadata": {},
   "source": [
    "4. Trucos de f- strings"
   ]
  },
  {
   "cell_type": "code",
   "execution_count": 22,
   "metadata": {},
   "outputs": [
    {
     "name": "stdout",
     "output_type": "stream",
     "text": [
      "El PI es: 3.14\n",
      "La fecha actual es: 27/08/2024\n"
     ]
    }
   ],
   "source": [
    "#\n",
    "import math as mt\n",
    "\n",
    "PI = mt.pi\n",
    "print(f\"El PI es: {PI:.2f}\") # Imprime solo los dos primeros decimales\n",
    "\n",
    "from datetime import datetime\n",
    "\n",
    "ahora = datetime.now()\n",
    "print(f\"La fecha actual es: {ahora:%d/%m/%Y}\") # Logramos formatear la fecha"
   ]
  },
  {
   "cell_type": "markdown",
   "metadata": {},
   "source": [
    "5. Operador Ternario"
   ]
  },
  {
   "cell_type": "code",
   "execution_count": 25,
   "metadata": {},
   "outputs": [
    {
     "name": "stdout",
     "output_type": "stream",
     "text": [
      "adulto\n",
      "adulto\n"
     ]
    }
   ],
   "source": [
    "edad = 20\n",
    "#! forma mala\n",
    "if edad >=18:\n",
    "  estado = \"adulto\"\n",
    "  print(estado)\n",
    "else:\n",
    "  estado = \"menor\"\n",
    "  print(estado)\n",
    "  \n",
    "#! forma buena\n",
    "\n",
    "print(\"adulto\" if edad >= 18 else \"menor\") # condiciones en una sola fila,  primero si la condicion es verdadera, la condicion y al final si no es verdadera."
   ]
  },
  {
   "cell_type": "markdown",
   "metadata": {},
   "source": [
    "6. Unir diccionarios"
   ]
  },
  {
   "cell_type": "code",
   "execution_count": 28,
   "metadata": {},
   "outputs": [
    {
     "name": "stdout",
     "output_type": "stream",
     "text": [
      "{'a': 1, 'b': 2, 'c': 3, 'd': 4}\n",
      "{'a': 1, 'b': 2, 'c': 3, 'd': 4}\n"
     ]
    }
   ],
   "source": [
    "#\n",
    "\n",
    "dict1 = {'a':1,'b':2}\n",
    "dict2 = {'c':3,'d':4}\n",
    "#! Forma mala\n",
    "dict3 = dict1.copy() # copiamos el dict1\n",
    "dict3.update(dict2) # agregamos el dict2\n",
    "print(dict3)\n",
    "#! Forma buena\n",
    "dict3 = dict1 | dict2 # el simbolo | seria de union\n",
    "print(dict3)\n",
    "\"\"\"\n",
    "dict3 |= dict4  #Asi seria si quieramos agregar mas diccionarios\n",
    "\"\"\""
   ]
  },
  {
   "cell_type": "markdown",
   "metadata": {},
   "source": [
    "https://youtu.be/WEYrBXSGLNI?si=7xiJI4TbLXV6wxsL\n"
   ]
  },
  {
   "cell_type": "markdown",
   "metadata": {},
   "source": [
    "7. Uniendo Elementos de una lista"
   ]
  },
  {
   "cell_type": "code",
   "execution_count": 1,
   "metadata": {},
   "outputs": [
    {
     "name": "stdout",
     "output_type": "stream",
     "text": [
      "paraguay-Brasil-Rusia\n"
     ]
    }
   ],
   "source": [
    "paises = [\"paraguay\",\"Brasil\",\"Rusia\"]\n",
    "\n",
    "print(\"-\".join(paises)) # entre comillas ponemos como queremos que una los elementos "
   ]
  },
  {
   "cell_type": "markdown",
   "metadata": {},
   "source": [
    "8. Combinando bucles con salida\n"
   ]
  },
  {
   "cell_type": "code",
   "execution_count": 5,
   "metadata": {},
   "outputs": [
    {
     "name": "stdout",
     "output_type": "stream",
     "text": [
      "Pais: paraguay, Pais: Brasil, Pais: Rusia\n"
     ]
    }
   ],
   "source": [
    "paises = [\"paraguay\",\"Brasil\",\"Rusia\"]\n",
    "print(*(f\"Pais: {pais}\" for pais in paises), sep=\", \") # el * es para desempaquetar  y lo divide por comas"
   ]
  },
  {
   "cell_type": "markdown",
   "metadata": {},
   "source": [
    "9. Salida de Clave- Valor en un diccionario"
   ]
  },
  {
   "cell_type": "code",
   "execution_count": 6,
   "metadata": {},
   "outputs": [
    {
     "name": "stdout",
     "output_type": "stream",
     "text": [
      "Fisica : 12 - Mate : 31\n"
     ]
    }
   ],
   "source": [
    "materias = {\"Fisica\":12,\"Mate\":31}\n",
    "print(\" - \".join(f\"{k} : {j}\" for k, j in materias.items()))"
   ]
  },
  {
   "cell_type": "markdown",
   "metadata": {},
   "source": []
  },
  {
   "cell_type": "markdown",
   "metadata": {},
   "source": [
    "10. Funcion de una sola linea"
   ]
  },
  {
   "cell_type": "code",
   "execution_count": 10,
   "metadata": {},
   "outputs": [
    {
     "name": "stdout",
     "output_type": "stream",
     "text": [
      "vad \n"
     ]
    }
   ],
   "source": [
    "def sayhola(n): print (True) if n ==\"hola\" else print(\"vad \")\n",
    "sayhola(\"\")"
   ]
  },
  {
   "cell_type": "markdown",
   "metadata": {},
   "source": [
    "11. Comprobacion Multi- Condicional"
   ]
  },
  {
   "cell_type": "code",
   "execution_count": 15,
   "metadata": {},
   "outputs": [
    {
     "name": "stdout",
     "output_type": "stream",
     "text": [
      "Menor de 18\n"
     ]
    }
   ],
   "source": [
    "edad= 1\n",
    "\n",
    "print(\"Menor de 18\" if edad < 18 else (\"Menor de 50\" if edad < 50 else \"Mayor que 50\"))"
   ]
  }
 ],
 "metadata": {
  "kernelspec": {
   "display_name": "Python 3",
   "language": "python",
   "name": "python3"
  },
  "language_info": {
   "codemirror_mode": {
    "name": "ipython",
    "version": 3
   },
   "file_extension": ".py",
   "mimetype": "text/x-python",
   "name": "python",
   "nbconvert_exporter": "python",
   "pygments_lexer": "ipython3",
   "version": "3.11.7"
  }
 },
 "nbformat": 4,
 "nbformat_minor": 2
}
