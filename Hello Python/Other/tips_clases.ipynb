{
 "cells": [
  {
   "cell_type": "markdown",
   "metadata": {},
   "source": [
    "#### https://youtu.be/6rhxtFU0ENw?si=vMIWabcBJjo0mFop"
   ]
  },
  {
   "cell_type": "markdown",
   "metadata": {},
   "source": [
    "#### Metodo STR\n"
   ]
  },
  {
   "cell_type": "code",
   "execution_count": 5,
   "metadata": {},
   "outputs": [
    {
     "name": "stdout",
     "output_type": "stream",
     "text": [
      "Malco\n"
     ]
    }
   ],
   "source": [
    "\n",
    "# Sirve para imprimir los atributos de una clase, si quieres imprimir directamente el objeto instanciado\n",
    "class Persona():\n",
    "  def __init__(self, nombre): \n",
    "    self.nombre = nombre\n",
    "  def __str__(self) -> str:\n",
    "    return(self.nombre)\n",
    "persona_1 = Persona(\"Malco\")\n",
    "print(persona_1)"
   ]
  },
  {
   "cell_type": "markdown",
   "metadata": {},
   "source": [
    "#### Metodo Invert\n"
   ]
  },
  {
   "cell_type": "code",
   "execution_count": 7,
   "metadata": {},
   "outputs": [
    {
     "name": "stdout",
     "output_type": "stream",
     "text": [
      "Pueba(valor: 30)\n"
     ]
    }
   ],
   "source": [
    "#\n",
    "class Prueba:\n",
    "  def __init__(self, valor):\n",
    "    self.valor = valor\n",
    "  def __invert__(self):\n",
    "    return -self.valor #!No entendi XD\n",
    "  def __str__(self) -> str:\n",
    "    return f\"Pueba(valor: {self.valor})\"\n",
    "prueba = Prueba(30)\n",
    "print(prueba)"
   ]
  },
  {
   "cell_type": "markdown",
   "metadata": {},
   "source": [
    "#### Sub Classes\n"
   ]
  },
  {
   "cell_type": "code",
   "execution_count": 11,
   "metadata": {},
   "outputs": [
    {
     "name": "stdout",
     "output_type": "stream",
     "text": [
      "[<class '__main__.Americano'>, <class '__main__.Europeo'>]\n"
     ]
    }
   ],
   "source": [
    "class Persona():\n",
    "  pass\n",
    "class Americano(Persona):\n",
    "  pass\n",
    "class Europeo(Persona):\n",
    "  pass\n",
    "class Chileno(Americano):\n",
    "  pass\n",
    "print(Persona.__subclasses__()) # Imprime las clases  de las cuales usan a Pesona como padre"
   ]
  },
  {
   "cell_type": "markdown",
   "metadata": {},
   "source": [
    "#### Herencia Multiple Metodos Repetidos"
   ]
  },
  {
   "cell_type": "code",
   "execution_count": 12,
   "metadata": {},
   "outputs": [
    {
     "name": "stdout",
     "output_type": "stream",
     "text": [
      "Hola\n"
     ]
    }
   ],
   "source": [
    "class Spanish():\n",
    "  def greet(self):\n",
    "    print(\"Hola\")\n",
    "class English():\n",
    "  def greet(self):\n",
    "    print(\"Hello\")\n",
    "class Languages(Spanish, English):\n",
    "  pass\n",
    "\n",
    "persona = Languages()\n",
    "persona.greet() # Imprimira el contenido de la primera clase que hereda"
   ]
  },
  {
   "cell_type": "markdown",
   "metadata": {},
   "source": [
    "#### Manejo de Atributos\n"
   ]
  },
  {
   "cell_type": "code",
   "execution_count": 16,
   "metadata": {},
   "outputs": [
    {
     "name": "stdout",
     "output_type": "stream",
     "text": [
      "Ivan\n",
      "El atributo no existe\n"
     ]
    }
   ],
   "source": [
    "from typing import Any\n",
    "\n",
    "\n",
    "class Persona():\n",
    "  def __init__(self, nombre) -> None:\n",
    "    self.nombre = nombre\n",
    "  # Si le instancias a un objeto una clase y lo pones un atributo que no existe, puedes usar esto para manejar el error\n",
    "  def __getattr__(self, name: str) -> Any:\n",
    "    return f\"El atributo no existe\"\n",
    "persona_1 = Persona(\"Ivan\")\n",
    "\n",
    "print(persona_1.nombre)\n",
    "print(persona_1.edad)"
   ]
  },
  {
   "cell_type": "markdown",
   "metadata": {},
   "source": [
    "#### Metodos add y sub"
   ]
  },
  {
   "cell_type": "code",
   "execution_count": 3,
   "metadata": {},
   "outputs": [
    {
     "name": "stdout",
     "output_type": "stream",
     "text": [
      "Suma: Prueba(valor: 15)\n",
      "Resta: Prueba(valor: 5)\n"
     ]
    }
   ],
   "source": [
    "class Prueba:\n",
    "  # Método constructor que inicializa el atributo 'valor'\n",
    "  def __init__(self, valor) -> None:\n",
    "    self.valor = valor\n",
    "\n",
    "  # Método para sobrecargar el operador +\n",
    "  def __add__(self, otro):\n",
    "    # Verifica si 'otro' es una instancia de la clase Prueba\n",
    "    if isinstance(otro, Prueba):\n",
    "      # Si es así, suma los valores de ambas instancias y retorna una nueva instancia de Prueba\n",
    "      return Prueba(self.valor + otro.valor)\n",
    "    # Si 'otro' no es una instancia de Prueba, asume que es un número y lo suma directamente\n",
    "    return Prueba(self.valor + otro)\n",
    "\n",
    "  # Método para sobrecargar el operador -\n",
    "  def __sub__(self, otro):\n",
    "    # Verifica si 'otro' es una instancia de la clase Prueba\n",
    "    if isinstance(otro, Prueba):\n",
    "      # Si es así, resta los valores de ambas instancias y retorna una nueva instancia de Prueba\n",
    "      return Prueba(self.valor - otro.valor)\n",
    "    # Si 'otro' no es una instancia de Prueba, asume que es un número y lo resta directamente\n",
    "    return Prueba(self.valor - otro)\n",
    "\n",
    "  # Método para representar el objeto como una cadena de texto\n",
    "  def __str__(self) -> str:\n",
    "    return f\"Prueba(valor: {self.valor})\"\n",
    "\n",
    "# Crear instancias de la clase Prueba con valores iniciales\n",
    "prueba1 = Prueba(10)\n",
    "prueba2 = Prueba(5)\n",
    "\n",
    "# Usar el operador + para sumar las dos instancias de Prueba\n",
    "resultado_suma = prueba1 + prueba2\n",
    "# Usar el operador - para restar las dos instancias de Prueba\n",
    "resultado_resta = prueba1 - prueba2\n",
    "\n",
    "# Imprimir los resultados de las operaciones\n",
    "print(f\"Suma: {resultado_suma}\")  # Debería imprimir \"Suma: Prueba(valor: 15)\"\n",
    "print(f\"Resta: {resultado_resta}\")  # Debería imprimir \"Resta: Prueba(valor: 5)\""
   ]
  }
 ],
 "metadata": {
  "kernelspec": {
   "display_name": "Python 3",
   "language": "python",
   "name": "python3"
  },
  "language_info": {
   "codemirror_mode": {
    "name": "ipython",
    "version": 3
   },
   "file_extension": ".py",
   "mimetype": "text/x-python",
   "name": "python",
   "nbconvert_exporter": "python",
   "pygments_lexer": "ipython3",
   "version": "3.12.1"
  }
 },
 "nbformat": 4,
 "nbformat_minor": 2
}
