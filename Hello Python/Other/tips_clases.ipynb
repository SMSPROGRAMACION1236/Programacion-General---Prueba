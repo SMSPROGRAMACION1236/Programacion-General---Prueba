{
 "cells": [
  {
   "cell_type": "markdown",
   "metadata": {},
   "source": [
    "#### https://youtu.be/6rhxtFU0ENw?si=vMIWabcBJjo0mFop"
   ]
  },
  {
   "cell_type": "markdown",
   "metadata": {},
   "source": [
    "#### Metodo STR\n"
   ]
  },
  {
   "cell_type": "code",
   "execution_count": 5,
   "metadata": {},
   "outputs": [
    {
     "name": "stdout",
     "output_type": "stream",
     "text": [
      "Malco\n"
     ]
    }
   ],
   "source": [
    "\n",
    "# Sirve para imprimir los atributos de una clase, si quieres imprimir directamente el objeto instanciado\n",
    "class Persona():\n",
    "  def __init__(self, nombre): \n",
    "    self.nombre = nombre\n",
    "  def __str__(self) -> str:\n",
    "    return(self.nombre)\n",
    "persona_1 = Persona(\"Malco\")\n",
    "print(persona_1)"
   ]
  },
  {
   "cell_type": "markdown",
   "metadata": {},
   "source": [
    "#### Metodo Invert\n"
   ]
  },
  {
   "cell_type": "code",
   "execution_count": 7,
   "metadata": {},
   "outputs": [
    {
     "name": "stdout",
     "output_type": "stream",
     "text": [
      "Pueba(valor: 30)\n"
     ]
    }
   ],
   "source": [
    "#\n",
    "class Prueba:\n",
    "  def __init__(self, valor):\n",
    "    self.valor = valor\n",
    "  def __invert__(self):\n",
    "    return -self.valor #!No entendi XD\n",
    "  def __str__(self) -> str:\n",
    "    return f\"Pueba(valor: {self.valor})\"\n",
    "prueba = Prueba(30)\n",
    "print(prueba)"
   ]
  },
  {
   "cell_type": "markdown",
   "metadata": {},
   "source": [
    "#### Sub Classes\n"
   ]
  },
  {
   "cell_type": "code",
   "execution_count": 11,
   "metadata": {},
   "outputs": [
    {
     "name": "stdout",
     "output_type": "stream",
     "text": [
      "[<class '__main__.Americano'>, <class '__main__.Europeo'>]\n"
     ]
    }
   ],
   "source": [
    "class Persona():\n",
    "  pass\n",
    "class Americano(Persona):\n",
    "  pass\n",
    "class Europeo(Persona):\n",
    "  pass\n",
    "class Chileno(Americano):\n",
    "  pass\n",
    "print(Persona.__subclasses__()) # Imprime las clases  de las cuales usan a Pesona como padre"
   ]
  },
  {
   "cell_type": "markdown",
   "metadata": {},
   "source": [
    "#### Herencia Multiple Metodos Repetidos"
   ]
  },
  {
   "cell_type": "code",
   "execution_count": 12,
   "metadata": {},
   "outputs": [
    {
     "name": "stdout",
     "output_type": "stream",
     "text": [
      "Hola\n"
     ]
    }
   ],
   "source": [
    "class Spanish():\n",
    "  def greet(self):\n",
    "    print(\"Hola\")\n",
    "class English():\n",
    "  def greet(self):\n",
    "    print(\"Hello\")\n",
    "class Languages(Spanish, English):\n",
    "  pass\n",
    "\n",
    "persona = Languages()\n",
    "persona.greet() # Imprimira el contenido de la primera clase que hereda"
   ]
  },
  {
   "cell_type": "markdown",
   "metadata": {},
   "source": [
    "#### Manejo de Atributos\n"
   ]
  },
  {
   "cell_type": "code",
   "execution_count": 16,
   "metadata": {},
   "outputs": [
    {
     "name": "stdout",
     "output_type": "stream",
     "text": [
      "Ivan\n",
      "El atributo no existe\n"
     ]
    }
   ],
   "source": [
    "from typing import Any\n",
    "\n",
    "\n",
    "class Persona():\n",
    "  def __init__(self, nombre) -> None:\n",
    "    self.nombre = nombre\n",
    "  # Si le instancias a un objeto una clase y lo pones un atributo que no existe, puedes usar esto para manejar el error\n",
    "  def __getattr__(self, name: str) -> Any:\n",
    "    return f\"El atributo no existe\"\n",
    "persona_1 = Persona(\"Ivan\")\n",
    "\n",
    "print(persona_1.nombre)\n",
    "print(persona_1.edad)"
   ]
  },
  {
   "cell_type": "markdown",
   "metadata": {},
   "source": [
    "#### Metodos add y sub"
   ]
  },
  {
   "cell_type": "code",
   "execution_count": 19,
   "metadata": {},
   "outputs": [
    {
     "name": "stdout",
     "output_type": "stream",
     "text": [
      "Hola +\n",
      "Hola -\n"
     ]
    }
   ],
   "source": [
    "class Prueba:\n",
    "  def __init__(self) -> None:\n",
    "    self.contador = 1\n",
    "  def __add__(self, otro):  \n",
    "    return \"Hola +\"  #\n",
    "  def __sub__(self, otro):\n",
    "    return \"Hola -\"  #si detecta el - retornara esto\n",
    "prueba = Prueba()\n",
    "print(prueba + 5)\n",
    "print(prueba - 4)"
   ]
  }
 ],
 "metadata": {
  "kernelspec": {
   "display_name": "Python 3",
   "language": "python",
   "name": "python3"
  },
  "language_info": {
   "codemirror_mode": {
    "name": "ipython",
    "version": 3
   },
   "file_extension": ".py",
   "mimetype": "text/x-python",
   "name": "python",
   "nbconvert_exporter": "python",
   "pygments_lexer": "ipython3",
   "version": "3.12.1"
  }
 },
 "nbformat": 4,
 "nbformat_minor": 2
}
