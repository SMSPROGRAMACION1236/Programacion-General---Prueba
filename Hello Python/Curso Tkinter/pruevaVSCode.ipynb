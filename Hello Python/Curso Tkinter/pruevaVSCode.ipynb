{
 "cells": [
  {
   "cell_type": "markdown",
   "metadata": {},
   "source": [
    "### https://gemini.google.com/app/003aebc8e11b3d6d\n"
   ]
  },
  {
   "cell_type": "code",
   "execution_count": 2,
   "metadata": {},
   "outputs": [],
   "source": [
    "import tkinter as tk\n",
    "from tkinter import Button, messagebox"
   ]
  },
  {
   "cell_type": "markdown",
   "metadata": {},
   "source": [
    "# Ejercicios Basicos\n"
   ]
  },
  {
   "cell_type": "markdown",
   "metadata": {},
   "source": [
    "#### 1. Ventana con un botón que salude:\n",
    "Crea una ventana y coloca un botón.\n",
    "\n",
    "Al hacer clic en el botón, debe aparecer un mensaje que diga \"Hola!\" en una ventana emergente."
   ]
  },
  {
   "cell_type": "code",
   "execution_count": 10,
   "metadata": {},
   "outputs": [],
   "source": [
    "window = tk.Tk()\n",
    "window.title(\"Ejercicio 1\")\n",
    "\n",
    "button_greet = tk.Button(window, text=\"Presione aqui\")\n",
    "def say_hola():\n",
    "  print(\"Hola\")\n",
    "button_greet.config(command=say_hola)\n",
    "button_greet.pack()\n",
    "\n",
    "window.mainloop()"
   ]
  },
  {
   "cell_type": "markdown",
   "metadata": {},
   "source": [
    "#### 2. Ventana con un label que cambie de texto:\n",
    "\n",
    "Crea una ventana con un label y un botón.\n",
    "\n",
    "Inicialmente, el label muestra un texto.\n",
    "\n",
    "Al hacer clic en el botón, el texto del label cambia a otro."
   ]
  },
  {
   "cell_type": "code",
   "execution_count": 7,
   "metadata": {},
   "outputs": [],
   "source": [
    "\n",
    "window = tk.Tk()\n",
    "\n",
    "label1 = tk.Label(window, text=\"Hello\")\n",
    "label1.pack()\n",
    "def change_label():\n",
    "  label1.config(text=\"Bye\")\n",
    "\n",
    "change_label_button = tk.Button(window, command= change_label)\n",
    "change_label_button.pack()\n",
    "window.mainloop()"
   ]
  },
  {
   "cell_type": "markdown",
   "metadata": {},
   "source": [
    "#### 3. Ocultar y mostrar un frame:\n",
    "Crea una ventana con dos frames.\n",
    "Inicialmente, solo uno de los frames es visible.\n",
    "Al hacer clic en un botón, se oculta el frame visible y se muestra el otro."
   ]
  },
  {
   "cell_type": "code",
   "execution_count": 13,
   "metadata": {},
   "outputs": [],
   "source": [
    "window = tk.Tk()\n",
    "window.geometry(\"200x200\")\n",
    "frame1 = tk.Frame(window)\n",
    "frame2 = tk.Frame(window)\n",
    "frame1.config(width=100, height=100, bg=\"green\")\n",
    "frame2.config(width=100, height=100, bg=\"red\")\n",
    "frame1.pack()\n",
    "frame2.pack_forget()\n",
    "def frame_visibily():\n",
    "  frame1.pack_forget()\n",
    "  frame2.pack()\n",
    "\n",
    "button = tk.Button(window, text= \"Presiona Aqui\")\n",
    "button.config(command=frame_visibily)\n",
    "button.pack()\n",
    "window.mainloop()"
   ]
  },
  {
   "cell_type": "markdown",
   "metadata": {},
   "source": [
    "#### 4. Cambiar color de fondo\n",
    "Crea una ventana con un botón.\n",
    "Al hacer clic en el botón, el fondo de la ventana debe cambiar de color."
   ]
  },
  {
   "cell_type": "code",
   "execution_count": 23,
   "metadata": {},
   "outputs": [],
   "source": [
    "window= tk.Tk()\n",
    "window.config(bg='red')\n",
    "\n",
    "def change_color():\n",
    "  window.config(bg=\"green\")\n",
    "  \n",
    "button = Button(window, text=\"Presione aqui para cambiar de Color\", command=change_color)\n",
    "button.pack()\n",
    "\n",
    "window.mainloop()"
   ]
  },
  {
   "cell_type": "markdown",
   "metadata": {},
   "source": [
    "#### 5.  Ventana con un campo de texto:\n",
    "\n",
    "Crea una ventana con un campo de texto (Entry) y un botón.\n",
    "Cuando se escribe algo en el campo de texto y se presiona el botón, el texto escrito se muestra en una ventana emergente."
   ]
  },
  {
   "cell_type": "code",
   "execution_count": 5,
   "metadata": {},
   "outputs": [],
   "source": [
    "window = tk.Tk()\n",
    "\n",
    "introduce = tk.Entry(window)\n",
    "introduce.pack()\n",
    "\n",
    "def show_mesage():\n",
    "  message = introduce.get()\n",
    "  messagebox.showinfo(message)\n",
    "button = tk.Button(window, text=\"Presione Aqui\", command=show_mesage)\n",
    "button.pack()\n",
    "\n",
    "window.mainloop()"
   ]
  },
  {
   "cell_type": "code",
   "execution_count": 11,
   "metadata": {},
   "outputs": [],
   "source": [
    "root = tk.Tk()\n",
    "entry = tk.Entry(root)\n",
    "entry.grid(row=1, column=1)\n",
    "frame1 = tk.Button(root, text= \"Frame 1\")\n",
    "frame1.grid(row=2, column=1)\n",
    "frame2 = tk.Button(root, text= \"Frame 2\")\n",
    "frame2.grid(row=2,  column=2)\n",
    "\n",
    "frame3 = tk.Button(root, text= \"Frame 3\")\n",
    "frame3.grid(row=3, column=2)\n",
    "frame4 = tk.Button(root, text= \"Frame 4\")\n",
    "frame5 = tk.Button(root, text= \"Frame 5\")\n",
    "frame6 = tk.Button(root, text= \"Frame 6\")\n",
    "frame7 = tk.Button(root, text= \"Frame 7\")\n",
    "frame8 = tk.Button(root, text= \"Frame 8\")\n",
    "root.mainloop()"
   ]
  },
  {
   "cell_type": "markdown",
   "metadata": {},
   "source": [
    "### Ejercicio 6 - Formulario de Contacto:\n",
    "#### Crea una ventana con campos para el nombre, correo electrónico y mensaje. Al enviar el formulario, muestra un mensaje de agradecimiento en un label."
   ]
  },
  {
   "cell_type": "code",
   "execution_count": null,
   "metadata": {},
   "outputs": [],
   "source": [
    "import tkinter as tk\n",
    "ventana = tk.Tk()\n",
    "ventana.title(\"Formulario\")\n",
    "### Seccion 1 Nombre\n",
    "label_nombre = tk.Label(ventana, text=\"Nombre\")\n",
    "nombre_entry = tk.Entry(ventana)\n",
    "nombre_entry.place(x=10, y =35)\n",
    "label_nombre.place(x= 10, y=10)\n",
    "#### Seccion 2 Correo\n",
    "label_correo = tk.Label(ventana, text=\"Correo Electronico\")\n",
    "label_correo.place(x=10, y= 50)\n",
    "correo_entry = tk.Entry(ventana)\n",
    "correo_entry.place(x=10, y= 70)\n",
    "### Seccion 3 Mensaje\n",
    "label_mensaje = tk.Label(ventana, text=\"Mensaje\")\n",
    "label_mensaje.place(x=10, y= 90)\n",
    "mensaje_enty = tk.Entry(ventana)\n",
    "mensaje_enty.place(x= 10, y = 110)\n",
    "### Seccion 4: Functions and message\n",
    "aviso_label = tk.Label(ventana, text=\"Pulsa el Boton para Enviar\")\n",
    "aviso_label.place(x= 30, y= 180)\n",
    "def press_buton():\n",
    "  aviso_label.config(text=\"Enviado con Exito\")\n",
    "  global nombre\n",
    "  global correo\n",
    "  global mensaje\n",
    "  nombre= nombre_entry.get()\n",
    "  correo = correo_entry.get()\n",
    "  mensaje = mensaje_enty.get()\n",
    "### Seccion 5  Boton\n",
    "enviar_button = tk.Button(ventana, text='Enviar')\n",
    "enviar_button.place(x= 30, y= 150)\n",
    "enviar_button.config(command=press_buton)\n",
    "\n",
    "ventana.mainloop()\n",
    "\n",
    "print(\"Datos del Formulario\")\n",
    "print(f\"Nombre: {nombre}, Correo: {correo}, Mensaje: {mensaje}\")"
   ]
  },
  {
   "cell_type": "markdown",
   "metadata": {},
   "source": [
    "### Ejercicio 7 -- Conversor de Unidades\n",
    "#### Elige dos monedas (por ejemplo, dólares y euros) y crea una ventana con un campo de texto para ingresar la cantidad a convertir y un botón para realizar la conversión. Muestra el resultado en otro label."
   ]
  },
  {
   "cell_type": "code",
   "execution_count": 121,
   "metadata": {},
   "outputs": [],
   "source": [
    "import tkinter as tk\n",
    "\n",
    "ventana = tk.Tk()\n",
    "ventana.title(\"Dolar a Guaranies\")\n",
    "\n",
    "label_dolar = tk.Label(ventana, text=\"Dolar\", bg=\"red\")\n",
    "label_dolar.place(x = 10, y= 10)\n",
    "dolar_entry = tk.Entry(ventana)\n",
    "dolar_entry.place(x= 10, y= 50)\n",
    "\n",
    "\n",
    "label_guarani = tk.Label(ventana, text=\"Guarani\",  bg='red')\n",
    "label_guarani.place(x= 80, y=10)\n",
    "guarani_entry = tk.Entry(ventana)\n",
    "guarani_entry.place(x= 80, y= 50)\n",
    "\n",
    "### funcionts\n",
    "def get_dolar(dolar):\n",
    "  dolar_value = dolar.get()\n",
    "  return int(dolar_value)\n",
    "def to_guarani():\n",
    "  guarani_value = get_dolar((dolar_entry)) * 7000\n",
    "  guarani_entry.insert(tk.END, guarani_value)\n",
    "### Boton\n",
    "cambiar = tk.Button(ventana,text=\"Cambio\")\n",
    "cambiar.config(command=to_guarani)\n",
    "cambiar.place(x=100, y=100)\n",
    "ventana.mainloop()\n",
    "\n"
   ]
  },
  {
   "cell_type": "markdown",
   "metadata": {},
   "source": [
    "### Ejercicio 8 -- Juego de Adivinar un Numero\n",
    "#### Genera un número aleatorio entre 1 y 100 y pídele al usuario que lo adivine. Muestra si el número ingresado es mayor o menor que el número secreto."
   ]
  },
  {
   "cell_type": "code",
   "execution_count": null,
   "metadata": {},
   "outputs": [],
   "source": [
    "import random\n",
    "\n",
    "num_random = random.randint(1,101)\n",
    "print(num_random)\n",
    "ventana = tk.Tk()\n",
    "label_inicial = tk.Label(ventana, text=\"Adivine el numero\")\n",
    "label_inicial.place(x=10, y= 10)\n",
    "\n",
    "entry = tk.Entry(ventana)\n",
    "entry.place(x=10, y= 40)\n",
    "\n",
    "label_final = tk.Label(ventana, text=\"Hola\")\n",
    "label_final.place(x = 20, y=100)\n",
    "\n",
    "### Function\n",
    "def get_entry_number(x):\n",
    "  gotten_num = x.get()\n",
    "  return int(gotten_num)\n",
    "def check_num():\n",
    "  if num_random == get_entry_number(entry):\n",
    "    label_final.config(text=\"Adivinaste\")\n",
    "  elif num_random > get_entry_number(entry):\n",
    "    label_final.config(text=\"Es Mayor\")\n",
    "  else:\n",
    "    label_final.config(text=\"Es Menor\")\n",
    "### Boton\n",
    "\n",
    "buton_checked = tk.Button(ventana, text=\"Revisar\", command=check_num)\n",
    "buton_checked.place(x= 20, y =70)\n",
    "ventana.mainloop()\n"
   ]
  },
  {
   "cell_type": "markdown",
   "metadata": {},
   "source": [
    "### Ejercicio 9 -- Boton que cambia el color de fondo\n",
    "####  Crea una ventana con un botón. Al hacer clic en el botón, el color de fondo de la ventana cambia a un color aleatorio. Puedes usar un callback para ejecutar esta función al hacer clic en el botón."
   ]
  },
  {
   "cell_type": "code",
   "execution_count": 6,
   "metadata": {},
   "outputs": [],
   "source": [
    "import tkinter as tk\n",
    "\n",
    "colored_list = [\"red\", \"blue\", \"green\", \"black\"]\n",
    "\n",
    "\n",
    "# print(type(selected_color))\n",
    "ventana = tk.Tk()\n",
    "\n",
    "ventana.title(\"Cambiar Color de Fondo\")\n",
    "ventana.geometry(\"350x350\")\n",
    "ask_label = tk.Label(ventana, text=\"Presiona el Boton para cambiar el color del fondo\")\n",
    "ask_label.place(x= 10, y=10)\n",
    "def clicked_button(event):\n",
    "  selected_color = random.choice(colored_list)\n",
    "  ventana.config(bg=selected_color)\n",
    "pressed_button = tk.Button(ventana, text=\"Cambiar Fondo\")\n",
    "pressed_button.place(x=30, y = 70)\n",
    "pressed_button.bind(\"<Button-3>\", clicked_button)\n",
    "\n",
    "\n",
    "ventana.mainloop()"
   ]
  },
  {
   "cell_type": "markdown",
   "metadata": {},
   "source": [
    "### Ejercicio 10 -- Boton de Seleccion de Dimension de Fuente\n",
    "#### Crea una ventana con varios radiobuttons, cada uno representando un tamaño de fuente diferente. Al seleccionar un tamaño, el texto de un label cambia de tamaño."
   ]
  },
  {
   "cell_type": "code",
   "execution_count": null,
   "metadata": {},
   "outputs": [],
   "source": [
    "import tkinter as tk\n",
    "root = tk.Tk()\n",
    "ask_label = tk.Label(root, text=\"Seleccione un tamaño de fuente: \")\n",
    "ask_label.place(x=10, y=20)\n",
    "label_cambiante = tk.Label(root, text=\"Texto a ser Cambiado\", font=(\"Arial\", 8))\n",
    "label_cambiante.place(x=10, y=154)\n",
    "\n",
    "control = tk.IntVar()\n",
    "\n",
    "def change_font_length():\n",
    "  font_size = control.get()\n",
    "  if font_size == 10:\n",
    "    label_cambiante.config(font=(\"Arial\", 10))\n",
    "    print(\"Wasaa\")\n",
    "  elif font_size == 15:\n",
    "    label_cambiante.config(font=(\"Arial\", 15))\n",
    "  elif font_size == 20:\n",
    "    label_cambiante.config(font=(\"Arial\", 20))\n",
    "  else:\n",
    "    label_cambiante.configure(font=(\"Arial\", 8))\n",
    "opcion_1 = tk.Radiobutton(root, text=\"Tamaño 10\",variable=control, value=10, command=change_font_length)\n",
    "opcion_1.place(x=30, y=70)\n",
    "opcion_2 = tk.Radiobutton(root, text=\"Tamaño 15\", variable= control, value=15, command=change_font_length)\n",
    "opcion_2.place(x=30, y=95)\n",
    "opcion_3 = tk.Radiobutton(root, text=\"Tamaño 20\", variable= control, value=20, command=change_font_length)\n",
    "opcion_3.place(x=30, y=120)\n",
    "root.mainloop()"
   ]
  },
  {
   "cell_type": "markdown",
   "metadata": {},
   "source": [
    "### EJERCICO 11 -- Lista de tareas:\n",
    "#### Crea una ventana con varios checkbuttons, cada uno representando una tarea. Al marcar un checkbutton, se considera que la tarea está completada. Puedes mostrar un mensaje cuando se hayan completado todas las tareas."
   ]
  },
  {
   "cell_type": "code",
   "execution_count": 34,
   "metadata": {},
   "outputs": [
    {
     "name": "stdout",
     "output_type": "stream",
     "text": [
      "Todas las tareas estan listas\n"
     ]
    }
   ],
   "source": [
    "import tkinter as tk\n",
    "\n",
    "root = tk.Tk()\n",
    "\n",
    "label_intro = tk.Label(root, text=\"Lista de Tarea del Dia de Hoy\")\n",
    "label_intro.place(x=10, y=10)\n",
    "\n",
    "control_task_1 = tk.BooleanVar()\n",
    "control_task_2 = tk.BooleanVar()\n",
    "control_task_3 = tk.BooleanVar()\n",
    "\n",
    "def check_buttton():\n",
    "  task_state_1 = control_task_1.get()\n",
    "  task_state_2 = control_task_2.get()\n",
    "  task_state_3 = control_task_3.get()\n",
    "  if task_state_1 == True and task_state_2 == True and task_state_3 == True:\n",
    "    print(\"Todas las tareas estan listas\")\n",
    "task_1 = tk.Checkbutton(root, text=\"Dar de Comer al Perro\", variable=control_task_1, command=check_buttton)\n",
    "task_2 = tk.Checkbutton(root, text=\"Ir al Gym\", variable=control_task_2, command=check_buttton)\n",
    "task_3 = tk.Checkbutton(root, text=\"Cenar\", variable=control_task_3, command=check_buttton)\n",
    "\n",
    "task_1.place(x=10, y=30)\n",
    "task_2.place(x=10, y=60)\n",
    "task_3.place(x=10, y=90)\n",
    "root.mainloop()\n"
   ]
  },
  {
   "cell_type": "markdown",
   "metadata": {},
   "source": [
    "### Ejercicio 12 --- Calculadora Basica \n",
    "#### Crea una calculadora simple con cuatro botones para las operaciones básicas (+, -, *, /) y dos campos de texto para ingresar los números. Utiliza Grid para organizar los elementos en una cuadrícula."
   ]
  },
  {
   "cell_type": "code",
   "execution_count": 3,
   "metadata": {},
   "outputs": [],
   "source": [
    "import tkinter as tk\n",
    "root = tk.Tk()\n",
    "root.title(\"Calculadora\")\n",
    "root.geometry(\"250x120\")\n",
    "\n",
    "### Entries\n",
    "entry_num1 = tk.Entry(root)\n",
    "entry_num2 = tk.Entry(root)\n",
    "\n",
    "entry_num1.grid(column=0, row=0)\n",
    "entry_num2.grid(column=1, row=0)\n",
    "\n",
    "\n",
    "\n",
    "\n",
    "### Operacion\n",
    "def get_entry(content):\n",
    "  entry_content = content.get()\n",
    "  return int(entry_content)\n",
    "# def get_entry2(content):\n",
    "#   entry_content = content.get()\n",
    "#   return int(entry_content)\n",
    "\n",
    "ans_label = tk.Label(root, text= \"Aqui estara la respuesta\")\n",
    "ans_label.grid(column=0, row=3)\n",
    "\n",
    "### Buton de Calculo\n",
    "def buton_suma():\n",
    "  conten_1 = get_entry(entry_num1)\n",
    "  conten_2 = get_entry(entry_num2)\n",
    "  ans_label.config(text=f\"El resultado es: {conten_1 + conten_2}\")\n",
    "def buton_resta():\n",
    "  conten_1 = get_entry(entry_num1)\n",
    "  conten_2 = get_entry(entry_num2)\n",
    "  ans_label.config(text=f\"El resultado es: {conten_1 - conten_2}\")\n",
    "def buton_multi():\n",
    "  conten_1 = get_entry(entry_num1)\n",
    "  conten_2 = get_entry(entry_num2)\n",
    "  ans_label.config(text=f\"El resultado es: {conten_1 * conten_2}\")\n",
    "def buton_divi():\n",
    "  conten_1 = get_entry(entry_num1)\n",
    "  conten_2 = get_entry(entry_num2)\n",
    "  ans_label.config(text=f\"El resultado es: {conten_1 / conten_2}\")\n",
    "\n",
    "### Buttons\n",
    "\n",
    "suma_button = tk.Button(root, text=\"+\", font=(\"Arial\", 15), command=buton_suma)\n",
    "resta_button = tk.Button(root, text=\"-\", font=(\"Arial\",15), command=buton_resta)\n",
    "multi_button = tk.Button(root, text=\"X\", font=(\"Arial\",15), command=buton_multi)\n",
    "divi_button = tk.Button(root, text=\"%\", font=(\"Arial\", 15), command=buton_divi)\n",
    "\n",
    "suma_button.grid(column=0, row=1)\n",
    "resta_button.grid(column=0, row=2)\n",
    "multi_button.grid(column=1, row=1)\n",
    "divi_button.grid(column=1, row=2)\n",
    "\n",
    "root.mainloop()\n",
    "\n"
   ]
  },
  {
   "cell_type": "markdown",
   "metadata": {},
   "source": [
    "### Ejercicio 13 -- Formulario de Registro\n",
    "#### : Crea un formulario sencillo con campos para nombre, apellido y correo electrónico. Utiliza Grid para organizar los elementos de forma ordenada."
   ]
  },
  {
   "cell_type": "code",
   "execution_count": 1,
   "metadata": {},
   "outputs": [],
   "source": [
    "import tkinter as tk\n",
    "\n",
    "root = tk.Tk()\n",
    "root.title(\"Pagina de Incio\")\n",
    "root.geometry(\"500x120\")\n",
    "\n",
    "### Labels \n",
    "nom_label = tk.Label(root, text=\"Nombre\")\n",
    "ape_label = tk.Label(root, text=\"Apellido\")\n",
    "mail_label = tk.Label(root, text=\"Correo\")\n",
    "\n",
    "nom_label.grid(column=0, row=0)\n",
    "ape_label.grid(column=1, row=0)\n",
    "mail_label.grid(column=2, row=0)\n",
    "### Entries\n",
    "\n",
    "nombre = tk.Entry(root)\n",
    "apellido = tk.Entry(root)\n",
    "correo = tk.Entry(root)\n",
    "\n",
    "nombre.grid(column=0, row=1)\n",
    "apellido.grid(column=1, row=1)\n",
    "correo.grid(column=2, row=1)\n",
    "\n",
    "\n",
    "users_data = {\"nombre\":\"Santiago\", \"apellido\":\"Sanabria\",\"mail\":\"sanabriasanti1237@gmail.com\"\n",
    "}\n",
    "checked_label = tk.Label(root, text=\"\")\n",
    "checked_label.grid(column=1, row=5)\n",
    "\n",
    "## Chequear la info\n",
    "\n",
    "def check_info():\n",
    "  if nombre.get() == users_data.get(\"nombre\") and apellido.get() == users_data.get(\"apellido\") and correo.get() == users_data.get(\"mail\"): \n",
    "    checked_label.config(text=\"Verificacion exitosa\")\n",
    "  else:\n",
    "    checked_label.config(text=\"Datos Invalidos\")\n",
    "  \n",
    "    \n",
    "    \n",
    "checked_button = tk.Button(root, text=\"Chequear\", command=check_info)\n",
    "checked_button.grid(column=1, row=4)\n",
    "\n",
    "\n",
    "\n",
    "root.mainloop()\n"
   ]
  },
  {
   "cell_type": "markdown",
   "metadata": {},
   "source": [
    "### Ejercicio 14 -- Botones en una Columna\n",
    "#### Crea una ventana con varios botones uno debajo del otro. Utiliza pack para colocar los botones verticalmente."
   ]
  },
  {
   "cell_type": "code",
   "execution_count": 17,
   "metadata": {},
   "outputs": [],
   "source": [
    "import tkinter as tk\n",
    "\n",
    "root = tk.Tk()\n",
    "root.title(\"Botones en una Columna\")\n",
    "root.geometry(\"100x300\")\n",
    "\n",
    "\n",
    "### Label de Comprobacion\n",
    "label_check = tk.Label(root, text=\"22\")\n",
    "label_check.pack()\n",
    "\n",
    "def on_press_button_1():\n",
    "  if boton_1:\n",
    "    label_check.config(text=\"Boton 1\")\n",
    "  else:\n",
    "    label_check.config(text=\"No existe el boton seleccionado\")\n",
    "def on_press_button_2():\n",
    "  if boton_1:\n",
    "    label_check.config(text=\"Boton 2\")\n",
    "  else:\n",
    "    label_check.config(text=\"No existe el boton seleccionado\")\n",
    "def on_press_button_3(): \n",
    "  if boton_1:\n",
    "    label_check.config(text=\"Boton 3\")\n",
    "  else:\n",
    "    label_check.config(text=\"No existe el boton seleccionado\")\n",
    "def on_press_button_4():\n",
    "  if boton_1:\n",
    "    label_check.config(text=\"Boton 4\")\n",
    "  else:\n",
    "    label_check.config(text=\"No existe el boton seleccionado\")\n",
    "  \n",
    "    \n",
    "###Los botones1\n",
    "\n",
    "value = tk.StringVar()\n",
    "boton_1 = tk.Button(root, text=\"Boton 1\", command=on_press_button_1)\n",
    "boton_2 = tk.Button(root, text=\"Boton 2\", command=on_press_button_2)\n",
    "boton_3 = tk.Button(root, text=\"Boton 3\", command=on_press_button_3)\n",
    "boton_4 = tk.Button(root, text=\"Boton 4\", command=on_press_button_4)\n",
    "boton_1.pack()\n",
    "boton_2.pack()\n",
    "boton_3.pack()\n",
    "boton_4.pack()\n",
    "\n",
    "root.mainloop()"
   ]
  },
  {
   "cell_type": "markdown",
   "metadata": {},
   "source": [
    "### Ejercicio 15 -- Label y botón:\n",
    "####  Crea una ventana con un label y un botón. Utiliza pack para colocar el label encima del botón."
   ]
  },
  {
   "cell_type": "code",
   "execution_count": 25,
   "metadata": {},
   "outputs": [],
   "source": [
    "import tkinter as tk\n",
    "\n",
    "root = tk.Tk()\n",
    "root.title(\"Label y Boton\")\n",
    "root.geometry(\"300x300\")\n",
    "\n",
    "top_label = tk.Label(root, text=\"Label Superior\")\n",
    "top_label.pack()\n",
    "\n",
    "\n",
    "\n",
    "\n",
    "def pressed_button():\n",
    "  top_label.config(text=\"Label Superior: Boton Presioado\")\n",
    "under_button = tk.Button(root, text=\"Boton Under\", command=pressed_button)\n",
    "under_button.pack()\n",
    "  \n",
    "root.mainloop()"
   ]
  },
  {
   "cell_type": "markdown",
   "metadata": {},
   "source": [
    "### Ejercicio 16 -- Posicionamiento Exacto\n",
    "#### Crea una ventana y coloca un botón en una posición específica utilizando coordenadas (x, y)."
   ]
  },
  {
   "cell_type": "code",
   "execution_count": 26,
   "metadata": {},
   "outputs": [],
   "source": [
    "root = tk.Tk()\n",
    "root.title(\"Posicionamiento Exacto\")\n",
    "xy_button = tk.Button(root, text=\"Un Buton Insano\")\n",
    "xy_button.place(x= 40, y=100)\n",
    "\n",
    "root.mainloop()\n",
    "\n"
   ]
  }
 ],
 "metadata": {
  "kernelspec": {
   "display_name": "Python 3",
   "language": "python",
   "name": "python3"
  },
  "language_info": {
   "codemirror_mode": {
    "name": "ipython",
    "version": 3
   },
   "file_extension": ".py",
   "mimetype": "text/x-python",
   "name": "python",
   "nbconvert_exporter": "python",
   "pygments_lexer": "ipython3",
   "version": "3.11.7"
  }
 },
 "nbformat": 4,
 "nbformat_minor": 2
}
