{
 "cells": [
  {
   "cell_type": "markdown",
   "metadata": {},
   "source": [
    "### https://gemini.google.com/app/003aebc8e11b3d6d\n"
   ]
  },
  {
   "cell_type": "code",
   "execution_count": 1,
   "metadata": {},
   "outputs": [],
   "source": [
    "import tkinter as tk\n",
    "from tkinter import Button, messagebox\n",
    "import random\n",
    "from icecream import ic"
   ]
  },
  {
   "cell_type": "markdown",
   "metadata": {},
   "source": [
    "**"
   ]
  },
  {
   "cell_type": "markdown",
   "metadata": {},
   "source": [
    "# Ejercicios Basicos\n"
   ]
  },
  {
   "cell_type": "markdown",
   "metadata": {},
   "source": [
    "#### 1. Ventana con un botón que salude:\n",
    "Crea una ventana y coloca un botón.\n",
    "\n",
    "Al hacer clic en el botón, debe aparecer un mensaje que diga \"Hola!\" en una ventana emergente."
   ]
  },
  {
   "cell_type": "code",
   "execution_count": null,
   "metadata": {},
   "outputs": [],
   "source": [
    "window = tk.Tk()\n",
    "window.title(\"Ejercicio 1\")\n",
    "\n",
    "button_greet = tk.Button(window, text=\"Presione aquí\")\n",
    "def say_hola():\n",
    "  print(\"Hola\")\n",
    "button_greet.config(command=say_hola)\n",
    "button_greet.pack()\n",
    "\n",
    "window.mainloop()"
   ]
  },
  {
   "cell_type": "markdown",
   "metadata": {},
   "source": [
    "#### 2. Ventana con un label que cambie de texto:\n",
    "\n",
    "Crea una ventana con un label y un botón.\n",
    "\n",
    "Inicialmente, el label muestra un texto.\n",
    "\n",
    "Al hacer clic en el botón, el texto del label cambia a otro."
   ]
  },
  {
   "cell_type": "code",
   "execution_count": 3,
   "metadata": {},
   "outputs": [],
   "source": [
    "\n",
    "window = tk.Tk()\n",
    "\n",
    "label1 = tk.Label(window, text=\"Hello\")\n",
    "label1.pack()\n",
    "def change_label():\n",
    "  label1.config(text=\"Bye\")\n",
    "\n",
    "change_label_button = tk.Button(window, command= change_label)\n",
    "change_label_button.pack()\n",
    "window.mainloop()"
   ]
  },
  {
   "cell_type": "markdown",
   "metadata": {},
   "source": [
    "#### 3. Ocultar y mostrar un frame:\n",
    "Crea una ventana con dos frames.\n",
    "Inicialmente, solo uno de los frames es visible.\n",
    "Al hacer clic en un botón, se oculta el frame visible y se muestra el otro."
   ]
  },
  {
   "cell_type": "code",
   "execution_count": 4,
   "metadata": {},
   "outputs": [],
   "source": [
    "window = tk.Tk()\n",
    "window.geometry(\"200x200\")\n",
    "frame1 = tk.Frame(window)\n",
    "frame2 = tk.Frame(window)\n",
    "frame1.config(width=100, height=100, bg=\"green\")\n",
    "frame2.config(width=100, height=100, bg=\"red\")\n",
    "frame1.pack()\n",
    "frame2.pack_forget()\n",
    "def frame_visibily():\n",
    "  frame1.pack_forget()\n",
    "  frame2.pack()\n",
    "\n",
    "button = tk.Button(window, text= \"Presiona Aqui\")\n",
    "button.config(command=frame_visibily)\n",
    "button.pack()\n",
    "window.mainloop()"
   ]
  },
  {
   "cell_type": "markdown",
   "metadata": {},
   "source": [
    "#### 4. Cambiar color de fondo\n",
    "Crea una ventana con un botón.\n",
    "Al hacer clic en el botón, el fondo de la ventana debe cambiar de color."
   ]
  },
  {
   "cell_type": "code",
   "execution_count": 5,
   "metadata": {},
   "outputs": [],
   "source": [
    "window= tk.Tk()\n",
    "window.config(bg='red')\n",
    "\n",
    "def change_color():\n",
    "  window.config(bg=\"green\")\n",
    "  \n",
    "button = Button(window, text=\"Presione aqui para cambiar de Color\", command=change_color)\n",
    "button.pack()\n",
    "\n",
    "window.mainloop()"
   ]
  },
  {
   "cell_type": "markdown",
   "metadata": {},
   "source": [
    "#### 5.  Ventana con un campo de texto:\n",
    "\n",
    "Crea una ventana con un campo de texto (Entry) y un botón.\n",
    "Cuando se escribe algo en el campo de texto y se presiona el botón, el texto escrito se muestra en una ventana emergente."
   ]
  },
  {
   "cell_type": "code",
   "execution_count": 6,
   "metadata": {},
   "outputs": [],
   "source": [
    "window = tk.Tk()\n",
    "\n",
    "introduce = tk.Entry(window)\n",
    "introduce.pack()\n",
    "\n",
    "def show_mesage():\n",
    "  message = introduce.get()\n",
    "  messagebox.showinfo(message)\n",
    "button = tk.Button(window, text=\"Presione Aqui\", command=show_mesage)\n",
    "button.pack()\n",
    "\n",
    "window.mainloop()"
   ]
  },
  {
   "cell_type": "code",
   "execution_count": 7,
   "metadata": {},
   "outputs": [],
   "source": [
    "root = tk.Tk()\n",
    "entry = tk.Entry(root)\n",
    "entry.grid(row=1, column=1)\n",
    "frame1 = tk.Button(root, text= \"Frame 1\")\n",
    "frame1.grid(row=2, column=1)\n",
    "frame2 = tk.Button(root, text= \"Frame 2\")\n",
    "frame2.grid(row=2,  column=2)\n",
    "\n",
    "frame3 = tk.Button(root, text= \"Frame 3\")\n",
    "frame3.grid(row=3, column=2)\n",
    "frame4 = tk.Button(root, text= \"Frame 4\")\n",
    "frame5 = tk.Button(root, text= \"Frame 5\")\n",
    "frame6 = tk.Button(root, text= \"Frame 6\")\n",
    "frame7 = tk.Button(root, text= \"Frame 7\")\n",
    "frame8 = tk.Button(root, text= \"Frame 8\")\n",
    "root.mainloop()"
   ]
  },
  {
   "cell_type": "markdown",
   "metadata": {},
   "source": [
    "### Ejercicio 6 - Formulario de Contacto:\n",
    "#### Crea una ventana con campos para el nombre, correo electrónico y mensaje. Al enviar el formulario, muestra un mensaje de agradecimiento en un label."
   ]
  },
  {
   "cell_type": "code",
   "execution_count": null,
   "metadata": {},
   "outputs": [
    {
     "name": "stdout",
     "output_type": "stream",
     "text": [
      "Datos del Formulario\n"
     ]
    },
    {
     "ename": "NameError",
     "evalue": "name 'nombre' is not defined",
     "output_type": "error",
     "traceback": [
      "\u001b[1;31m---------------------------------------------------------------------------\u001b[0m",
      "\u001b[1;31mNameError\u001b[0m                                 Traceback (most recent call last)",
      "Cell \u001b[1;32mIn[8], line 38\u001b[0m\n\u001b[0;32m     35\u001b[0m ventana\u001b[38;5;241m.\u001b[39mmainloop()\n\u001b[0;32m     37\u001b[0m \u001b[38;5;28mprint\u001b[39m(\u001b[38;5;124m\"\u001b[39m\u001b[38;5;124mDatos del Formulario\u001b[39m\u001b[38;5;124m\"\u001b[39m)\n\u001b[1;32m---> 38\u001b[0m \u001b[38;5;28mprint\u001b[39m(\u001b[38;5;124mf\u001b[39m\u001b[38;5;124m\"\u001b[39m\u001b[38;5;124mNombre: \u001b[39m\u001b[38;5;132;01m{\u001b[39;00m\u001b[43mnombre\u001b[49m\u001b[38;5;132;01m}\u001b[39;00m\u001b[38;5;124m, Correo: \u001b[39m\u001b[38;5;132;01m{\u001b[39;00mcorreo\u001b[38;5;132;01m}\u001b[39;00m\u001b[38;5;124m, Mensaje: \u001b[39m\u001b[38;5;132;01m{\u001b[39;00mmensaje\u001b[38;5;132;01m}\u001b[39;00m\u001b[38;5;124m\"\u001b[39m)\n",
      "\u001b[1;31mNameError\u001b[0m: name 'nombre' is not defined"
     ]
    }
   ],
   "source": [
    "import tkinter as tk\n",
    "ventana = tk.Tk()\n",
    "ventana.title(\"Formulario\")\n",
    "### Seccion 1 Nombre\n",
    "label_nombre = tk.Label(ventana, text=\"Nombre\")\n",
    "nombre_entry = tk.Entry(ventana)\n",
    "nombre_entry.place(x=10, y =35)\n",
    "label_nombre.place(x= 10, y=10)\n",
    "#### Session 2 Correo\n",
    "label_correo = tk.Label(ventana, text=\"Correo Electronico\")\n",
    "label_correo.place(x=10, y= 50)\n",
    "correo_entry = tk.Entry(ventana)\n",
    "correo_entry.place(x=10, y= 70)\n",
    "### Seccion 3 Mensaje\n",
    "label_mensaje = tk.Label(ventana, text=\"Mensaje\")\n",
    "label_mensaje.place(x=10, y= 90)\n",
    "mensaje_enty = tk.Entry(ventana)\n",
    "mensaje_enty.place(x= 10, y = 110)\n",
    "### Seccion 4: Functions and message\n",
    "aviso_label = tk.Label(ventana, text=\"Pulsa el Boton para Enviar\")\n",
    "aviso_label.place(x= 30, y= 180)\n",
    "def press_buton():\n",
    "  aviso_label.config(text=\"Enviado con Exito\")\n",
    "  global nombre\n",
    "  global correo\n",
    "  global mensaje\n",
    "  nombre= nombre_entry.get()\n",
    "  correo = correo_entry.get()\n",
    "  mensaje = mensaje_enty.get()\n",
    "### Seccion 5  Boton\n",
    "enviar_button = tk.Button(ventana, text='Enviar')\n",
    "enviar_button.place(x= 30, y= 150)\n",
    "enviar_button.config(command=press_buton)\n",
    "\n",
    "ventana.mainloop()\n",
    "\n",
    "print(\"Datos del Formulario\")\n",
    "print(f\"Nombre: {nombre}, Correo: {correo}, Mensaje: {mensaje}\")"
   ]
  },
  {
   "cell_type": "markdown",
   "metadata": {},
   "source": [
    "### Ejercicio 7 -- Conversor de Unidades\n",
    "#### Elige dos monedas (por ejemplo, dólares y euros) y crea una ventana con un campo de texto para ingresar la cantidad a convertir y un botón para realizar la conversión. Muestra el resultado en otro label."
   ]
  },
  {
   "cell_type": "code",
   "execution_count": null,
   "metadata": {},
   "outputs": [],
   "source": [
    "import tkinter as tk\n",
    "\n",
    "ventana = tk.Tk()\n",
    "ventana.title(\"Dolar a Guaranies\")\n",
    "\n",
    "label_dolar = tk.Label(ventana, text=\"Dolar\", bg=\"red\")\n",
    "label_dolar.place(x = 10, y= 10)\n",
    "dolar_entry = tk.Entry(ventana)\n",
    "dolar_entry.place(x= 10, y= 50)\n",
    "\n",
    "\n",
    "label_guarani = tk.Label(ventana, text=\"Guarani\",  bg='red')\n",
    "label_guarani.place(x= 80, y=10)\n",
    "guarani_entry = tk.Entry(ventana)\n",
    "guarani_entry.place(x= 80, y= 50)\n",
    "\n",
    "### funcionts\n",
    "def get_dolar(dolar):\n",
    "  dolar_value = dolar.get()\n",
    "  return int(dolar_value)\n",
    "def to_guarani():\n",
    "  guarani_value = get_dolar((dolar_entry)) * 7000\n",
    "  guarani_entry.insert(tk.END, guarani_value)\n",
    "### Boton\n",
    "cambiar = tk.Button(ventana,text=\"Cambio\")\n",
    "cambiar.config(command=to_guarani)\n",
    "cambiar.place(x=100, y=100)\n",
    "ventana.mainloop()\n",
    "\n"
   ]
  },
  {
   "cell_type": "markdown",
   "metadata": {},
   "source": [
    "### Ejercicio 8 -- Juego de Adivinar un Numero\n",
    "#### Genera un número aleatorio entre 1 y 100 y pídele al usuario que lo adivine. Muestra si el número ingresado es mayor o menor que el número secreto."
   ]
  },
  {
   "cell_type": "code",
   "execution_count": null,
   "metadata": {},
   "outputs": [],
   "source": [
    "import random\n",
    "\n",
    "num_random = random.randint(1,101)\n",
    "print(num_random)\n",
    "ventana = tk.Tk()\n",
    "label_inicial = tk.Label(ventana, text=\"Adivine el numero\")\n",
    "label_inicial.place(x=10, y= 10)\n",
    "\n",
    "entry = tk.Entry(ventana)\n",
    "entry.place(x=10, y= 40)\n",
    "\n",
    "label_final = tk.Label(ventana, text=\"Hola\")\n",
    "label_final.place(x = 20, y=100)\n",
    "\n",
    "### Function\n",
    "def get_entry_number(x):\n",
    "  gotten_num = x.get()\n",
    "  return int(gotten_num)\n",
    "def check_num():\n",
    "  if num_random == get_entry_number(entry):\n",
    "    label_final.config(text=\"Adivinaste\")\n",
    "  elif num_random > get_entry_number(entry):\n",
    "    label_final.config(text=\"Es Mayor\")\n",
    "  else:\n",
    "    label_final.config(text=\"Es Menor\")\n",
    "### Boton\n",
    "\n",
    "buton_checked = tk.Button(ventana, text=\"Revisar\", command=check_num)\n",
    "buton_checked.place(x= 20, y =70)\n",
    "ventana.mainloop()\n"
   ]
  },
  {
   "cell_type": "markdown",
   "metadata": {},
   "source": [
    "### Ejercicio 9 -- Boton que cambia el color de fondo\n",
    "####  Crea una ventana con un botón. Al hacer clic en el botón, el color de fondo de la ventana cambia a un color aleatorio. Puedes usar un callback para ejecutar esta función al hacer clic en el botón."
   ]
  },
  {
   "cell_type": "code",
   "execution_count": null,
   "metadata": {},
   "outputs": [],
   "source": [
    "import tkinter as tk\n",
    "\n",
    "colored_list = [\"red\", \"blue\", \"green\", \"black\"]\n",
    "\n",
    "\n",
    "# print(type(selected_color))\n",
    "ventana = tk.Tk()\n",
    "\n",
    "ventana.title(\"Cambiar Color de Fondo\")\n",
    "ventana.geometry(\"350x350\")\n",
    "ask_label = tk.Label(ventana, text=\"Presiona el Boton para cambiar el color del fondo\")\n",
    "ask_label.place(x= 10, y=10)\n",
    "def clicked_button(event):\n",
    "  selected_color = random.choice(colored_list)\n",
    "  ventana.config(bg=selected_color)\n",
    "pressed_button = tk.Button(ventana, text=\"Cambiar Fondo\")\n",
    "pressed_button.place(x=30, y = 70)\n",
    "pressed_button.bind(\"<Button-3>\", clicked_button)\n",
    "\n",
    "\n",
    "ventana.mainloop()"
   ]
  },
  {
   "cell_type": "markdown",
   "metadata": {},
   "source": [
    "### Ejercicio 10 -- Boton de Seleccion de Dimension de Fuente\n",
    "#### Crea una ventana con varios radiobuttons, cada uno representando un tamaño de fuente diferente. Al seleccionar un tamaño, el texto de un label cambia de tamaño."
   ]
  },
  {
   "cell_type": "code",
   "execution_count": null,
   "metadata": {},
   "outputs": [],
   "source": [
    "import tkinter as tk\n",
    "root = tk.Tk()\n",
    "ask_label = tk.Label(root, text=\"Seleccione un tamaño de fuente: \")\n",
    "ask_label.place(x=10, y=20)\n",
    "label_cambiante = tk.Label(root, text=\"Texto a ser Cambiado\", font=(\"Arial\", 8))\n",
    "label_cambiante.place(x=10, y=154)\n",
    "\n",
    "control = tk.IntVar()\n",
    "\n",
    "def change_font_length():\n",
    "  font_size = control.get()\n",
    "  if font_size == 10:\n",
    "    label_cambiante.config(font=(\"Arial\", 10))\n",
    "    print(\"Wasaa\")\n",
    "  elif font_size == 15:\n",
    "    label_cambiante.config(font=(\"Arial\", 15))\n",
    "  elif font_size == 20:\n",
    "    label_cambiante.config(font=(\"Arial\", 20))\n",
    "  else:\n",
    "    label_cambiante.configure(font=(\"Arial\", 8))\n",
    "opcion_1 = tk.Radiobutton(root, text=\"Tamaño 10\",variable=control, value=10, command=change_font_length)\n",
    "opcion_1.place(x=30, y=70)\n",
    "opcion_2 = tk.Radiobutton(root, text=\"Tamaño 15\", variable= control, value=15, command=change_font_length)\n",
    "opcion_2.place(x=30, y=95)\n",
    "opcion_3 = tk.Radiobutton(root, text=\"Tamaño 20\", variable= control, value=20, command=change_font_length)\n",
    "opcion_3.place(x=30, y=120)\n",
    "root.mainloop()"
   ]
  },
  {
   "cell_type": "markdown",
   "metadata": {},
   "source": [
    "### EJERCICO 11 -- Lista de tareas:\n",
    "#### Crea una ventana con varios checkbuttons, cada uno representando una tarea. Al marcar un checkbutton, se considera que la tarea está completada. Puedes mostrar un mensaje cuando se hayan completado todas las tareas."
   ]
  },
  {
   "cell_type": "code",
   "execution_count": null,
   "metadata": {},
   "outputs": [],
   "source": [
    "import tkinter as tk\n",
    "\n",
    "root = tk.Tk()\n",
    "\n",
    "label_intro = tk.Label(root, text=\"Lista de Tarea del Dia de Hoy\")\n",
    "label_intro.place(x=10, y=10)\n",
    "\n",
    "control_task_1 = tk.BooleanVar()\n",
    "control_task_2 = tk.BooleanVar()\n",
    "control_task_3 = tk.BooleanVar()\n",
    "\n",
    "def check_buttton():\n",
    "  task_state_1 = control_task_1.get()\n",
    "  task_state_2 = control_task_2.get()\n",
    "  task_state_3 = control_task_3.get()\n",
    "  if task_state_1 == True and task_state_2 == True and task_state_3 == True:\n",
    "    print(\"Todas las tareas estan listas\")\n",
    "task_1 = tk.Checkbutton(root, text=\"Dar de Comer al Perro\", variable=control_task_1, command=check_buttton)\n",
    "task_2 = tk.Checkbutton(root, text=\"Ir al Gym\", variable=control_task_2, command=check_buttton)\n",
    "task_3 = tk.Checkbutton(root, text=\"Cenar\", variable=control_task_3, command=check_buttton)\n",
    "\n",
    "task_1.place(x=10, y=30)\n",
    "task_2.place(x=10, y=60)\n",
    "task_3.place(x=10, y=90)\n",
    "root.mainloop()\n"
   ]
  },
  {
   "cell_type": "markdown",
   "metadata": {},
   "source": [
    "### Ejercicio 12 --- Calculadora Basica \n",
    "#### Crea una calculadora simple con cuatro botones para las operaciones básicas (+, -, *, /) y dos campos de texto para ingresar los números. Utiliza Grid para organizar los elementos en una cuadrícula."
   ]
  },
  {
   "cell_type": "code",
   "execution_count": null,
   "metadata": {},
   "outputs": [],
   "source": [
    "import tkinter as tk\n",
    "root = tk.Tk()\n",
    "root.title(\"Calculadora\")\n",
    "root.geometry(\"250x120\")\n",
    "\n",
    "### Entries\n",
    "entry_num1 = tk.Entry(root)\n",
    "entry_num2 = tk.Entry(root)\n",
    "\n",
    "entry_num1.grid(column=0, row=0)\n",
    "entry_num2.grid(column=1, row=0)\n",
    "\n",
    "\n",
    "\n",
    "\n",
    "### Operacion\n",
    "def get_entry(content):\n",
    "  entry_content = content.get()\n",
    "  return int(entry_content)\n",
    "# def get_entry2(content):\n",
    "#   entry_content = content.get()\n",
    "#   return int(entry_content)\n",
    "\n",
    "ans_label = tk.Label(root, text= \"Aqui estara la respuesta\")\n",
    "ans_label.grid(column=0, row=3)\n",
    "\n",
    "### Buton de Calculo\n",
    "def buton_suma():\n",
    "  conten_1 = get_entry(entry_num1)\n",
    "  conten_2 = get_entry(entry_num2)\n",
    "  ans_label.config(text=f\"El resultado es: {conten_1 + conten_2}\")\n",
    "def buton_resta():\n",
    "  conten_1 = get_entry(entry_num1)\n",
    "  conten_2 = get_entry(entry_num2)\n",
    "  ans_label.config(text=f\"El resultado es: {conten_1 - conten_2}\")\n",
    "def buton_multi():\n",
    "  conten_1 = get_entry(entry_num1)\n",
    "  conten_2 = get_entry(entry_num2)\n",
    "  ans_label.config(text=f\"El resultado es: {conten_1 * conten_2}\")\n",
    "def buton_divi():\n",
    "  conten_1 = get_entry(entry_num1)\n",
    "  conten_2 = get_entry(entry_num2)\n",
    "  ans_label.config(text=f\"El resultado es: {conten_1 / conten_2}\")\n",
    "\n",
    "### Buttons\n",
    "\n",
    "suma_button = tk.Button(root, text=\"+\", font=(\"Arial\", 15), command=buton_suma)\n",
    "resta_button = tk.Button(root, text=\"-\", font=(\"Arial\",15), command=buton_resta)\n",
    "multi_button = tk.Button(root, text=\"X\", font=(\"Arial\",15), command=buton_multi)\n",
    "divi_button = tk.Button(root, text=\"%\", font=(\"Arial\", 15), command=buton_divi)\n",
    "\n",
    "suma_button.grid(column=0, row=1)\n",
    "resta_button.grid(column=0, row=2)\n",
    "multi_button.grid(column=1, row=1)\n",
    "divi_button.grid(column=1, row=2)\n",
    "\n",
    "root.mainloop()\n",
    "\n"
   ]
  },
  {
   "cell_type": "markdown",
   "metadata": {},
   "source": [
    "### Ejercicio 13 -- Formulario de Registro\n",
    "#### : Crea un formulario sencillo con campos para nombre, apellido y correo electrónico. Utiliza Grid para organizar los elementos de forma ordenada."
   ]
  },
  {
   "cell_type": "code",
   "execution_count": null,
   "metadata": {},
   "outputs": [],
   "source": [
    "import tkinter as tk\n",
    "\n",
    "root = tk.Tk()\n",
    "root.title(\"Pagina de Incio\")\n",
    "root.geometry(\"500x120\")\n",
    "\n",
    "### Labels \n",
    "nom_label = tk.Label(root, text=\"Nombre\")\n",
    "ape_label = tk.Label(root, text=\"Apellido\")\n",
    "mail_label = tk.Label(root, text=\"Correo\")\n",
    "\n",
    "nom_label.grid(column=0, row=0)\n",
    "ape_label.grid(column=1, row=0)\n",
    "mail_label.grid(column=2, row=0)\n",
    "### Entries\n",
    "\n",
    "nombre = tk.Entry(root)\n",
    "apellido = tk.Entry(root)\n",
    "correo = tk.Entry(root)\n",
    "\n",
    "nombre.grid(column=0, row=1)\n",
    "apellido.grid(column=1, row=1)\n",
    "correo.grid(column=2, row=1)\n",
    "\n",
    "\n",
    "users_data = {\"nombre\":\"Santiago\", \"apellido\":\"Sanabria\",\"mail\":\"sanabriasanti1237@gmail.com\"\n",
    "}\n",
    "checked_label = tk.Label(root, text=\"\")\n",
    "checked_label.grid(column=1, row=5)\n",
    "\n",
    "## Chequear la info\n",
    "\n",
    "def check_info():\n",
    "  if nombre.get() == users_data.get(\"nombre\") and apellido.get() == users_data.get(\"apellido\") and correo.get() == users_data.get(\"mail\"): \n",
    "    checked_label.config(text=\"Verificacion exitosa\")\n",
    "  else:\n",
    "    checked_label.config(text=\"Datos Invalidos\")\n",
    "  \n",
    "    \n",
    "    \n",
    "checked_button = tk.Button(root, text=\"Chequear\", command=check_info)\n",
    "checked_button.grid(column=1, row=4)\n",
    "\n",
    "\n",
    "\n",
    "root.mainloop()\n"
   ]
  },
  {
   "cell_type": "markdown",
   "metadata": {},
   "source": [
    "### Ejercicio 14 -- Botones en una Columna\n",
    "#### Crea una ventana con varios botones uno debajo del otro. Utiliza pack para colocar los botones verticalmente."
   ]
  },
  {
   "cell_type": "code",
   "execution_count": null,
   "metadata": {},
   "outputs": [],
   "source": [
    "import tkinter as tk\n",
    "\n",
    "root = tk.Tk()\n",
    "root.title(\"Botones en una Columna\")\n",
    "root.geometry(\"100x300\")\n",
    "\n",
    "\n",
    "### Label de Comprobacion\n",
    "label_check = tk.Label(root, text=\"22\")\n",
    "label_check.pack()\n",
    "\n",
    "def on_press_button_1():\n",
    "  if boton_1:\n",
    "    label_check.config(text=\"Boton 1\")\n",
    "  else:\n",
    "    label_check.config(text=\"No existe el boton seleccionado\")\n",
    "def on_press_button_2():\n",
    "  if boton_1:\n",
    "    label_check.config(text=\"Boton 2\")\n",
    "  else:\n",
    "    label_check.config(text=\"No existe el boton seleccionado\")\n",
    "def on_press_button_3(): \n",
    "  if boton_1:\n",
    "    label_check.config(text=\"Boton 3\")\n",
    "  else:\n",
    "    label_check.config(text=\"No existe el boton seleccionado\")\n",
    "def on_press_button_4():\n",
    "  if boton_1:\n",
    "    label_check.config(text=\"Boton 4\")\n",
    "  else:\n",
    "    label_check.config(text=\"No existe el boton seleccionado\")\n",
    "  \n",
    "    \n",
    "###Los botones1\n",
    "\n",
    "value = tk.StringVar()\n",
    "boton_1 = tk.Button(root, text=\"Boton 1\", command=on_press_button_1)\n",
    "boton_2 = tk.Button(root, text=\"Boton 2\", command=on_press_button_2)\n",
    "boton_3 = tk.Button(root, text=\"Boton 3\", command=on_press_button_3)\n",
    "boton_4 = tk.Button(root, text=\"Boton 4\", command=on_press_button_4)\n",
    "boton_1.pack()\n",
    "boton_2.pack()\n",
    "boton_3.pack()\n",
    "boton_4.pack()\n",
    "\n",
    "root.mainloop()"
   ]
  },
  {
   "cell_type": "markdown",
   "metadata": {},
   "source": [
    "### Ejercicio 15 -- Label y botón:\n",
    "####  Crea una ventana con un label y un botón. Utiliza pack para colocar el label encima del botón."
   ]
  },
  {
   "cell_type": "code",
   "execution_count": null,
   "metadata": {},
   "outputs": [],
   "source": [
    "import tkinter as tk\n",
    "\n",
    "root = tk.Tk()\n",
    "root.title(\"Label y Boton\")\n",
    "root.geometry(\"300x300\")\n",
    "\n",
    "top_label = tk.Label(root, text=\"Label Superior\")\n",
    "top_label.pack()\n",
    "\n",
    "\n",
    "\n",
    "\n",
    "def pressed_button():\n",
    "  top_label.config(text=\"Label Superior: Boton Presioado\")\n",
    "under_button = tk.Button(root, text=\"Boton Under\", command=pressed_button)\n",
    "under_button.pack()\n",
    "  \n",
    "root.mainloop()"
   ]
  },
  {
   "cell_type": "markdown",
   "metadata": {},
   "source": [
    "### Ejercicio 16 -- Posicionamiento Exacto\n",
    "#### Crea una ventana y coloca un botón en una posición específica utilizando coordenadas (x, y)."
   ]
  },
  {
   "cell_type": "code",
   "execution_count": null,
   "metadata": {},
   "outputs": [],
   "source": [
    "root = tk.Tk()\n",
    "root.title(\"Posicionamiento Exacto\")\n",
    "xy_button = tk.Button(root, text=\"Un Buton Insano\")\n",
    "xy_button.place(x= 40, y=100)\n",
    "\n",
    "root.mainloop()\n",
    "\n"
   ]
  },
  {
   "cell_type": "markdown",
   "metadata": {},
   "source": [
    "### Ejercicio 17 --  Etiqueta con texto variable\n",
    "####  Crea una ventana con una etiqueta y un campo de entrada. Al escribir en el campo de entrada, el texto de la etiqueta debe cambiar automáticamente. Utiliza una StringVar para vincular el campo de entrada con la etiqueta."
   ]
  },
  {
   "cell_type": "code",
   "execution_count": null,
   "metadata": {},
   "outputs": [],
   "source": [
    "root = tk.Tk()\n",
    "\n",
    "text = tk.StringVar(value=\"Hola Mundo\")\n",
    "entry = tk.Entry(root, textvariable=text)\n",
    "label = tk.Label(root, text=\"Hola Mundo\")\n",
    "entry.pack()\n",
    "label.pack()\n",
    "\n",
    "def change_label(*args):\n",
    "  label.config(text=text.get())\n",
    "text.trace(\"w\",change_label)\n",
    "\n",
    "\n",
    "root.mainloop()"
   ]
  },
  {
   "cell_type": "markdown",
   "metadata": {},
   "source": [
    "### Ejercicio 18 --  Contador simple\n",
    "####  Crea una ventana con un botón y un label. Cada vez que se presiona el botón, el contador (representado por un IntVar) aumenta en uno y se actualiza el label."
   ]
  },
  {
   "cell_type": "code",
   "execution_count": null,
   "metadata": {},
   "outputs": [],
   "source": [
    "root = tk.Tk()\n",
    "\n",
    "\n",
    "var_int = tk.IntVar(value=0)\n",
    "label = tk.Label(root)\n",
    "label.pack()\n",
    "\n",
    "def on_pressed_button():\n",
    "  var_int.set(var_int.get() + 1)\n",
    "  label.config(text=var_int.get())\n",
    "\n",
    "button_for_intVar = tk.Button(root, text=\"Presiona Aqui\", command=on_pressed_button)\n",
    "button_for_intVar.pack()\n",
    "root.mainloop()\n"
   ]
  },
  {
   "cell_type": "markdown",
   "metadata": {},
   "source": [
    "### Ejercicio 19 -- Casilla de verificación\n",
    "#### Crea una ventana con una casilla de verificación. Utiliza una BooleanVar para almacenar el estado de la casilla (marcada o desmarcada). Cuando se marca la casilla, muestra un mensaje en un label."
   ]
  },
  {
   "cell_type": "code",
   "execution_count": null,
   "metadata": {},
   "outputs": [],
   "source": [
    "root = tk.Tk()\n",
    "root.title(\"Boleano Int\")\n",
    "boleano = tk.BooleanVar(value=False)\n",
    "label_bolean = tk.Label(root, text=\"No marcado\")\n",
    "label_bolean.pack()\n",
    "\n",
    "def on_presses_casilla():\n",
    "  if boleano.get() == True:\n",
    "    label_bolean.config(text=\"Presionado\")\n",
    "  else:\n",
    "    label_bolean.configure(text=\"No presionado\")\n",
    "casilla = tk.Checkbutton(root, text=\"Presionar\", variable=boleano, command=on_presses_casilla)\n",
    "casilla.pack()\n",
    "\n",
    "root.mainloop()"
   ]
  },
  {
   "cell_type": "markdown",
   "metadata": {},
   "source": [
    "### Ejercicio 20 -- Selector de tamaño de fuente:\n",
    "#### Crea una ventana con un slider (scale) y un label. Al mover el slider, el tamaño de la fuente del label debe cambiar. Utiliza una DoubleVar para almacenar el valor del slider."
   ]
  },
  {
   "cell_type": "code",
   "execution_count": null,
   "metadata": {},
   "outputs": [],
   "source": [
    "root = tk.Tk()\n",
    "label_for_font = tk.Label(root, text=\"Hola Mundo\")\n",
    "double_var = tk.DoubleVar(value=0)\n",
    "\n",
    "def change_label(*args):\n",
    "  label_for_font.config(font=(\"Arial\", int(double_var.get())))\n",
    "\n",
    "control_deslizante = tk.Scale(root, variable=double_var, from_=0.0, to=10.0, resolution=0.01, orient=tk.HORIZONTAL, command=change_label)\n",
    "control_deslizante.pack()\n",
    "label_for_font.pack()\n",
    "\n",
    "root.mainloop()"
   ]
  },
  {
   "cell_type": "markdown",
   "metadata": {},
   "source": [
    "### Ejercicio 21 --  Formulario de registro\n",
    "#### Crea un formulario sencillo con campos para nombre, edad y si desea recibir un boletín. Utiliza StringVar, IntVar y BooleanVar para almacenar los datos introducidos por el usuario."
   ]
  },
  {
   "cell_type": "code",
   "execution_count": 31,
   "metadata": {},
   "outputs": [
    {
     "name": "stderr",
     "output_type": "stream",
     "text": [
      "ic| name: 'Hola'\n",
      "ic| age: 0\n",
      "ic| boletin: True\n"
     ]
    }
   ],
   "source": [
    "root = tk.Tk()\n",
    "\n",
    "name_value = tk.StringVar()\n",
    "age_value = tk.IntVar()\n",
    "boletin_value = tk.BooleanVar()\n",
    "\n",
    "label_name = tk.Label(root, text=\"Nombre\")\n",
    "label_name.pack()\n",
    "entry_name = tk.Entry(root, textvariable=name_value)\n",
    "entry_name.pack()\n",
    "\n",
    "label_age = tk.Label(root, text=\"Edad\")\n",
    "label_age.pack()\n",
    "entry_age = tk.Entry(root, textvariable=age_value)\n",
    "entry_age.pack()\n",
    "\n",
    "label_boletin = tk.Label(root, text=\"Desea Recibir un Boletin\")\n",
    "label_boletin.pack()\n",
    "boletin_checkbutton = tk.Checkbutton(root, text=\"Marque para Recibir un Boletin\", variable=boletin_value)\n",
    "boletin_checkbutton.pack()\n",
    "\n",
    "def enviar_datos():\n",
    "  name = name_value.get()\n",
    "  age = age_value.get()\n",
    "  boletin = boletin_value.get()\n",
    "  ic(name)\n",
    "  ic(age)\n",
    "  ic(boletin)\n",
    "\n",
    "buton_send = tk.Button(root, text=\"Enviar Datos\", command=enviar_datos)\n",
    "buton_send.pack()\n",
    "\n",
    "root.mainloop()\n"
   ]
  },
  {
   "cell_type": "markdown",
   "metadata": {},
   "source": [
    "### Ejercicio 22 -- Calculadora simple:\n",
    "#### Crea una calculadora básica con dos campos de entrada para números y botones para realizar operaciones. Utiliza DoubleVar para almacenar los valores numéricos y realizar los cálculos."
   ]
  },
  {
   "cell_type": "code",
   "execution_count": 3,
   "metadata": {},
   "outputs": [],
   "source": [
    "root = tk.Tk()\n",
    "main_value = tk.DoubleVar(value=0.0)\n",
    "secundary_value = tk.DoubleVar(value=0.0)\n",
    "\n",
    "main_entry = tk.Entry(root, textvariable=main_value)\n",
    "secundary_entry = tk.Entry(root, textvariable=secundary_value)\n",
    "\n",
    "main_entry.grid(row=0, column=0)\n",
    "secundary_entry.grid(row=0, column=1)\n",
    "\n",
    "result_value = tk.DoubleVar(value=0.0)\n",
    "result_label = tk.Label(text= \"0\", textvariable=result_value, bg=\"red\")\n",
    "result_label.grid(row=3, column=0, columnspan=2)\n",
    "### Funciones\n",
    "def sumar():\n",
    "  main = main_value.get()\n",
    "  secundary = secundary_value.get()\n",
    "  result_value.set(value= (main + secundary))\n",
    "def resta():\n",
    "  main = main_value.get()\n",
    "  secundary = secundary_value.get()\n",
    "  result_value.set(value= (main - secundary))\n",
    "def multiplicacion():\n",
    "  main = main_value.get()\n",
    "  secundary = secundary_value.get()\n",
    "  result_value.set(value= (main * secundary))\n",
    "def division():\n",
    "  main = main_value.get()\n",
    "  secundary = secundary_value.get()\n",
    "  result_value.set(value= (main / secundary))\n",
    "\n",
    "\n",
    "## Botones\n",
    "suma_button = tk.Button(root, text=\"+\", width=10, command=sumar)\n",
    "suma_button.grid(row=1, column=0)\n",
    "\n",
    "suma_button = tk.Button(root, text=\"-\", width=10, command=resta)\n",
    "suma_button.grid(row=1, column=1)\n",
    "\n",
    "suma_button = tk.Button(root, text=\"X\", width=10, command= multiplicacion)\n",
    "suma_button.grid(row=2, column=0)\n",
    "\n",
    "suma_button = tk.Button(root, text=\"%\", width=10, command=division)\n",
    "suma_button.grid(row=2, column=1)\n",
    "\n",
    "\n",
    "\n",
    "root.mainloop()"
   ]
  },
  {
   "cell_type": "markdown",
   "metadata": {},
   "source": [
    "### Ejercicio 23 -- Ventana de \"Acerca de\"\n"
   ]
  },
  {
   "cell_type": "markdown",
   "metadata": {},
   "source": [
    "#### Crea una ventana principal con un botón.\n",
    "#### Al hacer clic en el botón, se abre una nueva ventana Toplevel que muestra información sobre el programa (por ejemplo, el nombre del programa, la versión, tu nombre como creador)."
   ]
  },
  {
   "cell_type": "code",
   "execution_count": 10,
   "metadata": {},
   "outputs": [],
   "source": [
    "root = tk.Tk()\n",
    "root.geometry(\"400x220\")\n",
    "\n",
    "def mostrar_acerca_de():\n",
    "  global acerca_de\n",
    "  acerca_de = tk.Toplevel(root)\n",
    "  acerca_de.title(\"Acerca De\")\n",
    "  label_info = tk.Label(acerca_de, text=\"\"\"\n",
    "    Nombre del Programa: Acerca De;\n",
    "    Version: 4.2.1\n",
    "    Desarrollador: SMS\"\"\")\n",
    "  label_info.pack()\n",
    "button_acerca_de = tk.Button(root, text=\"Mostrar Acerca De\", command=mostrar_acerca_de)\n",
    "button_acerca_de.pack()\n",
    "root.mainloop()"
   ]
  },
  {
   "cell_type": "markdown",
   "metadata": {},
   "source": [
    "### Ejercico 24 -- Ventana de configuración\n"
   ]
  },
  {
   "cell_type": "markdown",
   "metadata": {},
   "source": [
    "#### Crea una ventana principal con un botón de \"Configuración\".\n",
    "#### Al hacer clic en el botón, se abre una ventana Toplevel donde puedes tener algunas opciones que el usuario puede cambiar (por ejemplo, un color de fondo, un tamaño de texto)."
   ]
  },
  {
   "cell_type": "code",
   "execution_count": 2,
   "metadata": {},
   "outputs": [],
   "source": [
    "root = tk.Tk()\n",
    "root.geometry(\"400x400\")\n",
    "\n",
    "label_to_change = tk.Label(root, text=\"Hola Mundo\", font=(\"Arial\", 40))\n",
    "label_to_change.pack()\n",
    "\n",
    "\n",
    "def configuracion():\n",
    "  global confi_toplevel \n",
    "  confi_toplevel = tk.Toplevel(root)\n",
    "  confi_toplevel.title(\"Configuracion\")\n",
    "  \n",
    "  control_color = tk.StringVar(value=\"Red\")\n",
    "  entry_color = tk.Entry(confi_toplevel, textvariable=control_color)\n",
    "  entry_color.pack()\n",
    "  \n",
    "  control_font = tk.IntVar(value=30)\n",
    "  entry_font = tk.Entry(confi_toplevel, textvariable=control_font)\n",
    "  entry_font.pack()\n",
    "  def cambiar_fondo_fuente():\n",
    "    label_to_change.config(bg=control_color.get(), font=(\"Arial\", control_font.get()))\n",
    "  button_change = tk.Button(confi_toplevel, text=\"Cambiar algo\", command=cambiar_fondo_fuente)\n",
    "  button_change.pack()\n",
    "  \n",
    "  \n",
    "  # button\n",
    "\n",
    "button_config = tk.Button(root, text=\"Configurar\", command=configuracion)\n",
    "button_config.pack()\n",
    "  \n",
    "root.mainloop()"
   ]
  },
  {
   "cell_type": "markdown",
   "metadata": {},
   "source": [
    "### Ejercicio 25 -- Menú simple con opciones"
   ]
  },
  {
   "cell_type": "markdown",
   "metadata": {},
   "source": [
    "#### Crea una ventana principal con un botón de menú llamado \"Archivo\".\n",
    "#### Dentro de este menú, agrega opciones como \"Nuevo\", \"Abrir\", \"Guardar\" y \"Salir\".\n",
    "#### Por ahora, puedes hacer que al seleccionar cada opción, aparezca un mensaje sencillo en la ventana principal o en una ventana emergente (usando messagebox)."
   ]
  },
  {
   "cell_type": "code",
   "execution_count": 11,
   "metadata": {},
   "outputs": [],
   "source": [
    "from tkinter import messagebox\n",
    "root = tk.Tk()\n",
    "root.title(\"Menu Simple\")\n",
    "root.geometry(\"400x300\")\n",
    "\n",
    "menubutton = tk.Menubutton(root, text=\"Archivo\")\n",
    "menubutton.pack()\n",
    "\n",
    "menu = tk.Menu(menubutton)\n",
    "menubutton.config(menu=menu)\n",
    "\n",
    "\n",
    "def abrir():\n",
    "  messagebox.showinfo(\"Abrir\",\"Seleccionaste abrir\")\n",
    "  \n",
    "def guardar():\n",
    "  messagebox.showinfo(\"Guardar\",\"Selecionaste guardar\")\n",
    "def salir():\n",
    "  messagebox.showinfo(\"Salir\",\"Selecionaste salir\")\n",
    "\n",
    "menu.add_command(label=\"Abrir\", command=abrir)\n",
    "menu.add_command(label=\"Guardar\", command=guardar)\n",
    "menu.add_command(label=\"Salir\", command=salir)\n",
    "\n",
    "\n",
    "\n",
    "root.mainloop()"
   ]
  },
  {
   "cell_type": "markdown",
   "metadata": {},
   "source": [
    "### Ejercicio 26 --  Menú con submenú:\n"
   ]
  },
  {
   "cell_type": "markdown",
   "metadata": {},
   "source": [
    "#### Crea una ventana principal con un botón de menú llamado \"Editar\".\n",
    "#### Dentro de este menú, agrega opciones como \"Copiar\", \"Pegar\" y un submenú llamado \"Formato\".\n",
    "#### Dentro del submenú \"Formato\", agrega opciones como \"Negrita\" y \"Cursiva\".\n",
    "#### Al igual que en el ejercicio anterior, puedes hacer que al seleccionar cada opción, aparezca un mensaje."
   ]
  },
  {
   "cell_type": "code",
   "execution_count": 28,
   "metadata": {},
   "outputs": [],
   "source": [
    "from tkinter import messagebox\n",
    "\n",
    "root = tk.Tk()\n",
    "root.geometry(\"300x300\")\n",
    "def copiar():\n",
    "  messagebox.showinfo(\"Copiar\", \"Seleccionaste copiar\")\n",
    "def pegar():\n",
    "  messagebox.showinfo(\"Pegar\", \"Seleccionaste Pegar\")\n",
    "def cursiva():\n",
    "  messagebox.showinfo(\"Cursiva\", \"Seleccionaste cursiva\")\n",
    "def negrita():\n",
    "  messagebox.showinfo(\"Negrita\", \"Seleccionaste negrita\")\n",
    "\n",
    "menu_principal = tk.Menu(root)\n",
    "root.config(menu=menu_principal)\n",
    "\n",
    "menu_editar = tk.Menu(menu_principal)\n",
    "\n",
    "menu_principal.add_cascade(label=\"Editar\", menu=menu_editar)\n",
    "\n",
    "menu_editar.add_command(label=\"Copiar\", command=copiar)\n",
    "menu_editar.add_command(label=\"Pegar\", command=pegar)\n",
    "\n",
    "menu_formato = tk.Menu(menu_editar)\n",
    "menu_editar.add_cascade(label=\"Formato\", menu=menu_formato)\n",
    "\n",
    "\n",
    "menu_formato.add_command(label=\"Negrita\", command=negrita)\n",
    "menu_formato.add_command(label=\"Cursiva\", command=cursiva)\n",
    "root.mainloop()"
   ]
  },
  {
   "cell_type": "markdown",
   "metadata": {},
   "source": [
    "### Ejercicio 27 -- Barra de menú básica"
   ]
  },
  {
   "cell_type": "markdown",
   "metadata": {},
   "source": [
    "#### Crea una ventana principal.\n",
    "#### Añade una barra de menú en la parte superior de la ventana.\n",
    "#### Agrega un menú llamado \"Archivo\" con las opciones \"Nuevo\", \"Abrir\" y \"Salir\".\n",
    "#### Agrega otro menú llamado \"Editar\" con las opciones \"Copiar\" y \"Pegar\".\n",
    "#### Por ahora, haz que al seleccionar cada opción, aparezca un mensaje simple en la consola o en una ventana emergente usando messagebox.showinfo()."
   ]
  },
  {
   "cell_type": "code",
   "execution_count": 13,
   "metadata": {},
   "outputs": [],
   "source": [
    "root = tk.Tk()\n",
    "root.geometry(\"300x200\")\n",
    "\n",
    "barra_menu = tk.Menu(root)\n",
    "root.config(menu=barra_menu)\n",
    "\n",
    "archivo_menu = tk.Menu(barra_menu)\n",
    "\n",
    "barra_menu.add_cascade(label=\"Archivo\", menu=archivo_menu)\n",
    "\n",
    "\n",
    "archivo_menu.add_command(label=\"Nuevo\")\n",
    "archivo_menu.add_command(label=\"Abrir\")\n",
    "archivo_menu.add_separator()\n",
    "archivo_menu.add_command(label=\"Salir\")\n",
    "\n",
    "editar_menu = tk.Menu(barra_menu)\n",
    "barra_menu.add_cascade(label=\"Editar\", menu=editar_menu)\n",
    "\n",
    "editar_menu.add_command(label=\"Copiar\")\n",
    "editar_menu.add_command(label=\"Pegar\")\n",
    "\n",
    "\n",
    "\n",
    "root.mainloop()\n"
   ]
  },
  {
   "cell_type": "markdown",
   "metadata": {},
   "source": [
    "### Ejercicio 28 -- Menú contextual en un Entry\n",
    "#### Crea una ventana principal con un campo de entrada (Entry).\n",
    "#### Crea un menú contextual con las opciones estándar \"Cortar\", \"Copiar\" y \"Pegar\".\n",
    "#### Haz que al hacer clic derecho sobre el Entry, aparezca este menú contextual.\n",
    "#### Nota: Para este ejercicio, puedes investigar cómo vincular las acciones del menú contextual a las funcionalidades propias del widget Entry (seleccionar, copiar, pegar). Sin embargo, para mantenerlo simple, inicialmente puedes solo mostrar un mensaje al seleccionar cada opción."
   ]
  },
  {
   "cell_type": "code",
   "execution_count": null,
   "metadata": {},
   "outputs": [],
   "source": [
    "root = tk.Tk()\n",
    "root.geometry(\"400x300\")\n",
    "\n",
    "def mostrar_menu_contextual(evento):\n",
    "  menu_contextual.tk_popup(evento.x_root, evento.y_root)\n",
    "menu_contextual = tk.Menu(root, tearoff=0)\n",
    "\n",
    "def cortar():\n",
    "  messagebox.showinfo(\"Cortar\", \"Has seleccionado Cortar\")\n",
    "def copiar():\n",
    "  messagebox.showinfo(\"Copiar\", \"Has seleccionado Copiar\")\n",
    "def pegar():\n",
    "  messagebox.showinfo(\"Pegar\", \"Has seleccionado Pegar\")\n",
    "menu_contextual.add_command(label=\"Cortar\", command=cortar)\n",
    "menu_contextual.add_command(label=\"Copiar\", command=copiar)\n",
    "menu_contextual.add_command(label=\"Pegar\", command=pegar)\n",
    "\n",
    "entrada = tk.Entry(root)\n",
    "entrada.pack() \n",
    "\n",
    "entrada.bind(\"<Button-3>\", mostrar_menu_contextual)\n",
    "root.mainloop()"
   ]
  },
  {
   "cell_type": "markdown",
   "metadata": {},
   "source": [
    "### Ejercicio 29 -- Menú contextual en un Entry\n",
    "#### Crea una ventana principal con un Label que muestre un texto.\n",
    "#### Crea un menú contextual con opciones como \"Copiar texto\" y \"Cambiar color de fondo\".\n",
    "#### Haz que al hacer clic derecho sobre el Label, aparezca el menú contextual.\n",
    "#### Al seleccionar \"Copiar texto\", puedes simplemente imprimir un mensaje en la consola indicando que se ha copiado el texto.\n",
    "#### Al seleccionar \"Cambiar color de fondo\", puedes cambiar el color de fondo del Label a un color predefinido."
   ]
  },
  {
   "cell_type": "code",
   "execution_count": 13,
   "metadata": {},
   "outputs": [],
   "source": [
    "root = tk.Tk()\n",
    "\n",
    "label_texto = tk.Label(root, text=\"Hola Mundo\")\n",
    "label_texto.pack()\n",
    "\n",
    "def mostrar_menu(event):\n",
    "  menu_contextual.tk_popup(event.x_root, event.y_root)\n",
    "menu_contextual = tk.Menu(root, tearoff=0)\n",
    "\n",
    "\n",
    "\n",
    "\n",
    "def copiar_texto():\n",
    "  messagebox.showinfo(\"Copiar Texto\", \"Has Copiado un Texto\")\n",
    "def cambiar_fondo():\n",
    "  colors = [\"green\", \"red\", \"black\", \"yellow\"]\n",
    "  label_texto.config(bg=str(random.choice(colors)))\n",
    "\n",
    "menu_contextual.add_command(label=\"Copiar Texto\", command=copiar_texto)\n",
    "menu_contextual.add_command(label=\"Cambiar fondo\", command=cambiar_fondo)\n",
    "\n",
    "\n",
    "label_texto.bind(\"<Button-3>\", mostrar_menu)\n",
    "\n",
    "root.mainloop()"
   ]
  },
  {
   "cell_type": "code",
   "execution_count": null,
   "metadata": {},
   "outputs": [
    {
     "name": "stdout",
     "output_type": "stream",
     "text": [
      "ha\n"
     ]
    }
   ],
   "source": []
  },
  {
   "cell_type": "markdown",
   "metadata": {},
   "source": [
    "### Ejercicio 30 -- Selector de preferencias:\n"
   ]
  },
  {
   "cell_type": "markdown",
   "metadata": {},
   "source": [
    "#### Crea una ventana con una barra de menú \"Opciones\" que tenga un submenú \"Tema\" con opciones como \"Claro\" y \"Oscuro\".\n",
    "#### Utiliza StringVar para almacenar el tema seleccionado.\n",
    "#### Crea un menú contextual en la ventana principal que también permita cambiar el tema.\n",
    "#### Al seleccionar un tema desde la barra de menú o el menú contextual, cambia el color de fondo de la ventana (puedes usar callbacks para esto)."
   ]
  },
  {
   "cell_type": "code",
   "execution_count": null,
   "metadata": {},
   "outputs": [
    {
     "name": "stdout",
     "output_type": "stream",
     "text": [
      "None\n"
     ]
    }
   ],
   "source": [
    "root = tk.Tk()\n",
    "\n",
    "barra_menu = tk.Menu(root)\n",
    "root.config(menu=barra_menu)\n",
    "opciones = tk.Menu(barra_menu)\n",
    "barra_menu.add_cascade(label=\"Opciones\", menu=opciones)\n",
    "\n",
    "tema = tk.Menu(opciones)\n",
    "opciones.add_cascade(label=\"Tema\", menu=tema)\n",
    "\n",
    "\n",
    "def modo_claro():\n",
    "  value = tk.StringVar(value=\"white\")\n",
    "  root.config(bg=value.get())\n",
    "def modo_oscuro():\n",
    "  value = tk.StringVar(value=\"black\")\n",
    "  root.config(bg=value.get())\n",
    "\n",
    "tema.add_command(label=\"Modo Claro\", command=modo_claro)\n",
    "tema.add_command(label=\"Modo Oscuro\", command=modo_oscuro)\n",
    "\n",
    "\n",
    "\n",
    "\n",
    "\n",
    "root.mainloop()"
   ]
  },
  {
   "cell_type": "markdown",
   "metadata": {},
   "source": [
    "### Ejercicio 31 -- Visualizador de información"
   ]
  },
  {
   "cell_type": "markdown",
   "metadata": {},
   "source": [
    "#### Crea una ventana con un Label que muestra un texto inicial.\n",
    "#### Añade una barra de menú \"Acciones\" con una opción \"Mostrar detalles\".\n",
    "#### Al seleccionar \"Mostrar detalles\", abre una ventana Toplevel con más información (otro Label con un texto más largo).\n",
    "#### Agrega un menú contextual al Label inicial con la opción \"Copiar al portapapeles\" (simula esto con un mensaje)."
   ]
  },
  {
   "cell_type": "code",
   "execution_count": 24,
   "metadata": {},
   "outputs": [],
   "source": [
    "root = tk.Tk()\n",
    "\n",
    "main_label = tk.Label(root, text=\"Soy un gran texto\")\n",
    "main_label.pack()\n",
    "barra_menu = tk.Menu(root)\n",
    "root.config(menu=barra_menu)\n",
    "acciones = tk.Menu(barra_menu)\n",
    "barra_menu.add_cascade(label=\"opciones\", menu=acciones)\n",
    "\n",
    "def mas_detalles():\n",
    "  toplevel = tk.Toplevel(root)\n",
    "  toplevel.title(\"Mas Información\")\n",
    "  second_label = tk.Label(toplevel, text=\"Demasiado texto, este es un texto mas extenso\")\n",
    "  second_label.pack()\n",
    "acciones.add_command(label=\"Mostrar mas detalles\", command=mas_detalles)\n",
    "\n",
    "\n",
    "def mostrar_menu_contextual(event):\n",
    "  menu_contextual.tk_popup(event.x_root, event.y_root)\n",
    "def copiar_portapapeles():\n",
    "  return messagebox.showinfo(\"Copiar al Portapapeles\", \"Se ha copiado algo al portapapeles\")\n",
    "menu_contextual = tk.Menu(root)\n",
    "menu_contextual.add_command(label=\"Copiar al Portapapeles\", command= copiar_portapapeles)\n",
    "\n",
    "\n",
    "main_label.bind(\"<Button-3>\", mostrar_menu_contextual)\n",
    "\n",
    "\n",
    "\n",
    "root.mainloop()"
   ]
  },
  {
   "cell_type": "markdown",
   "metadata": {},
   "source": [
    "### Ejercicio 32 -- Configurador de botones"
   ]
  },
  {
   "cell_type": "markdown",
   "metadata": {},
   "source": [
    "#### Crea una ventana con varios Buttons.\n",
    "#### Añade una barra de menú \"Configuración\" con una opción \"Cambiar texto de botones\".\n",
    "#### Al seleccionar esta opción, abre una ventana Toplevel con un Entry donde el usuario puede escribir un nuevo texto y un Button \"Aplicar\".\n",
    "#### Al hacer clic en \"Aplicar\", el texto de todos los botones de la ventana principal cambia al texto ingresado (puedes usar una función que itere sobre los botones).\n",
    "Implementa un menú contextual en cada botón con la opción \"Restaurar texto original\"."
   ]
  },
  {
   "cell_type": "code",
   "execution_count": null,
   "metadata": {},
   "outputs": [],
   "source": []
  },
  {
   "cell_type": "markdown",
   "metadata": {},
   "source": [
    "### Ejercicio 33 -- Control de Checkbuttons con menú contextual:\n"
   ]
  },
  {
   "cell_type": "markdown",
   "metadata": {},
   "source": [
    "#### Crea una ventana con varios Checkbuttons.\n",
    "#### Implementa un menú contextual en la ventana principal con opciones como \"Marcar todos\", \"Desmarcar todos\" e \"Invertir selección\". Utiliza BooleanVar para controlar el estado de cada Checkbutton y actualízalos según la opción del menú contextual."
   ]
  },
  {
   "cell_type": "code",
   "execution_count": null,
   "metadata": {},
   "outputs": [],
   "source": []
  },
  {
   "cell_type": "markdown",
   "metadata": {},
   "source": [
    "### Ejercicio  34 -- Selector de opciones con menú contextual"
   ]
  },
  {
   "cell_type": "markdown",
   "metadata": {},
   "source": [
    "#### Crea una ventana con varios Radiobuttons agrupados.\n",
    "#### Implementa un menú contextual en la ventana principal (no en los Radiobuttons directamente) con una opción para \"Seleccionar opción predeterminada\". Al seleccionar esta opción, se marca un Radiobutton específico (puedes usar una variable de Tkinter IntVar para controlar la selección)."
   ]
  },
  {
   "cell_type": "code",
   "execution_count": null,
   "metadata": {},
   "outputs": [],
   "source": []
  },
  {
   "cell_type": "markdown",
   "metadata": {},
   "source": [
    "### Ejercicio 35 -- Visualizador de información con menú contextual:\n",
    "#### Crea una ventana con un Label que muestre un nombre.\n",
    "#### Implementa un menú contextual en el Label con opciones como \"Mostrar detalles\" (abre un Toplevel con más información en otro Label), \"Cambiar nombre\" (abre un Toplevel con un Entry para cambiar el nombre del Label principal, utilizando una StringVar), y \"Cambiar color de fondo del nombre\" (similar al ejercicio 1, usando Radiobuttons en un Toplevel)."
   ]
  }
 ],
 "metadata": {
  "kernelspec": {
   "display_name": "Python 3",
   "language": "python",
   "name": "python3"
  },
  "language_info": {
   "codemirror_mode": {
    "name": "ipython",
    "version": 3
   },
   "file_extension": ".py",
   "mimetype": "text/x-python",
   "name": "python",
   "nbconvert_exporter": "python",
   "pygments_lexer": "ipython3",
   "version": "3.11.7"
  }
 },
 "nbformat": 4,
 "nbformat_minor": 2
}
