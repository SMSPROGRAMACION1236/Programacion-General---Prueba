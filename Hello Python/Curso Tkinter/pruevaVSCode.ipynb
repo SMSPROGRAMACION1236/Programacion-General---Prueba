{
 "cells": [
  {
   "cell_type": "markdown",
   "metadata": {},
   "source": [
    "### https://gemini.google.com/app/003aebc8e11b3d6d\n"
   ]
  },
  {
   "cell_type": "code",
   "execution_count": 2,
   "metadata": {},
   "outputs": [],
   "source": [
    "import tkinter as tk"
   ]
  },
  {
   "cell_type": "markdown",
   "metadata": {},
   "source": [
    "# Ejercicios Basicos\n"
   ]
  },
  {
   "cell_type": "markdown",
   "metadata": {},
   "source": [
    "#### 1. Ventana con un botón que salude:\n",
    "Crea una ventana y coloca un botón.\n",
    "\n",
    "Al hacer clic en el botón, debe aparecer un mensaje que diga \"Hola!\" en una ventana emergente."
   ]
  },
  {
   "cell_type": "code",
   "execution_count": 10,
   "metadata": {},
   "outputs": [],
   "source": [
    "window = tk.Tk()\n",
    "window.title(\"Ejercicio 1\")\n",
    "\n",
    "button_greet = tk.Button(window, text=\"Presione aqui\")\n",
    "def say_hola():\n",
    "  print(\"Hola\")\n",
    "button_greet.config(command=say_hola)\n",
    "button_greet.pack()\n",
    "\n",
    "window.mainloop()"
   ]
  },
  {
   "cell_type": "markdown",
   "metadata": {},
   "source": [
    "#### 2. Ventana con un label que cambie de texto:\n",
    "\n",
    "Crea una ventana con un label y un botón.\n",
    "\n",
    "Inicialmente, el label muestra un texto.\n",
    "\n",
    "Al hacer clic en el botón, el texto del label cambia a otro."
   ]
  },
  {
   "cell_type": "code",
   "execution_count": 11,
   "metadata": {},
   "outputs": [],
   "source": [
    "window = tk.Tk()\n",
    "window.mainloop()\n",
    "label1 = tk.Label(window, text=\"Hello\")\n",
    "def change_label():\n",
    "  print(\"Bye\")\n",
    "label1.pack\n",
    "change_label_button = tk.Button()"
   ]
  }
 ],
 "metadata": {
  "kernelspec": {
   "display_name": "Python 3",
   "language": "python",
   "name": "python3"
  },
  "language_info": {
   "codemirror_mode": {
    "name": "ipython",
    "version": 3
   },
   "file_extension": ".py",
   "mimetype": "text/x-python",
   "name": "python",
   "nbconvert_exporter": "python",
   "pygments_lexer": "ipython3",
   "version": "3.11.7"
  }
 },
 "nbformat": 4,
 "nbformat_minor": 2
}
