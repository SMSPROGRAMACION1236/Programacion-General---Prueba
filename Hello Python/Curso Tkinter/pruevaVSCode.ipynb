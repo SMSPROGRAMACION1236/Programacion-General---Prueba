{
 "cells": [
  {
   "cell_type": "markdown",
   "metadata": {},
   "source": [
    "### https://gemini.google.com/app/003aebc8e11b3d6d\n"
   ]
  },
  {
   "cell_type": "code",
   "execution_count": 1,
   "metadata": {},
   "outputs": [],
   "source": [
    "import tkinter as tk\n",
    "from tkinter import Button, messagebox"
   ]
  },
  {
   "cell_type": "markdown",
   "metadata": {},
   "source": [
    "# Ejercicios Basicos\n"
   ]
  },
  {
   "cell_type": "markdown",
   "metadata": {},
   "source": [
    "#### 1. Ventana con un botón que salude:\n",
    "Crea una ventana y coloca un botón.\n",
    "\n",
    "Al hacer clic en el botón, debe aparecer un mensaje que diga \"Hola!\" en una ventana emergente."
   ]
  },
  {
   "cell_type": "code",
   "execution_count": 10,
   "metadata": {},
   "outputs": [],
   "source": [
    "window = tk.Tk()\n",
    "window.title(\"Ejercicio 1\")\n",
    "\n",
    "button_greet = tk.Button(window, text=\"Presione aqui\")\n",
    "def say_hola():\n",
    "  print(\"Hola\")\n",
    "button_greet.config(command=say_hola)\n",
    "button_greet.pack()\n",
    "\n",
    "window.mainloop()"
   ]
  },
  {
   "cell_type": "markdown",
   "metadata": {},
   "source": [
    "#### 2. Ventana con un label que cambie de texto:\n",
    "\n",
    "Crea una ventana con un label y un botón.\n",
    "\n",
    "Inicialmente, el label muestra un texto.\n",
    "\n",
    "Al hacer clic en el botón, el texto del label cambia a otro."
   ]
  },
  {
   "cell_type": "code",
   "execution_count": 7,
   "metadata": {},
   "outputs": [],
   "source": [
    "\n",
    "window = tk.Tk()\n",
    "\n",
    "label1 = tk.Label(window, text=\"Hello\")\n",
    "label1.pack()\n",
    "def change_label():\n",
    "  label1.config(text=\"Bye\")\n",
    "\n",
    "change_label_button = tk.Button(window, command= change_label)\n",
    "change_label_button.pack()\n",
    "window.mainloop()"
   ]
  },
  {
   "cell_type": "markdown",
   "metadata": {},
   "source": [
    "#### 3. Ocultar y mostrar un frame:\n",
    "Crea una ventana con dos frames.\n",
    "Inicialmente, solo uno de los frames es visible.\n",
    "Al hacer clic en un botón, se oculta el frame visible y se muestra el otro."
   ]
  },
  {
   "cell_type": "code",
   "execution_count": 13,
   "metadata": {},
   "outputs": [],
   "source": [
    "window = tk.Tk()\n",
    "window.geometry(\"200x200\")\n",
    "frame1 = tk.Frame(window)\n",
    "frame2 = tk.Frame(window)\n",
    "frame1.config(width=100, height=100, bg=\"green\")\n",
    "frame2.config(width=100, height=100, bg=\"red\")\n",
    "frame1.pack()\n",
    "frame2.pack_forget()\n",
    "def frame_visibily():\n",
    "  frame1.pack_forget()\n",
    "  frame2.pack()\n",
    "\n",
    "button = tk.Button(window, text= \"Presiona Aqui\")\n",
    "button.config(command=frame_visibily)\n",
    "button.pack()\n",
    "window.mainloop()"
   ]
  },
  {
   "cell_type": "markdown",
   "metadata": {},
   "source": [
    "#### 4. Cambiar color de fondo\n",
    "Crea una ventana con un botón.\n",
    "Al hacer clic en el botón, el fondo de la ventana debe cambiar de color."
   ]
  },
  {
   "cell_type": "code",
   "execution_count": 23,
   "metadata": {},
   "outputs": [],
   "source": [
    "window= tk.Tk()\n",
    "window.config(bg='red')\n",
    "\n",
    "def change_color():\n",
    "  window.config(bg=\"green\")\n",
    "  \n",
    "button = Button(window, text=\"Presione aqui para cambiar de Color\", command=change_color)\n",
    "button.pack()\n",
    "\n",
    "window.mainloop()"
   ]
  },
  {
   "cell_type": "markdown",
   "metadata": {},
   "source": [
    "#### 5.  Ventana con un campo de texto:\n",
    "\n",
    "Crea una ventana con un campo de texto (Entry) y un botón.\n",
    "Cuando se escribe algo en el campo de texto y se presiona el botón, el texto escrito se muestra en una ventana emergente."
   ]
  },
  {
   "cell_type": "code",
   "execution_count": 5,
   "metadata": {},
   "outputs": [],
   "source": [
    "window = tk.Tk()\n",
    "\n",
    "introduce = tk.Entry(window)\n",
    "introduce.pack()\n",
    "\n",
    "def show_mesage():\n",
    "  message = introduce.get()\n",
    "  messagebox.showinfo(message)\n",
    "button = tk.Button(window, text=\"Presione Aqui\", command=show_mesage)\n",
    "button.pack()\n",
    "\n",
    "window.mainloop()"
   ]
  },
  {
   "cell_type": "code",
   "execution_count": 11,
   "metadata": {},
   "outputs": [],
   "source": [
    "root = tk.Tk()\n",
    "entry = tk.Entry(root)\n",
    "entry.grid(row=1, column=1)\n",
    "frame1 = tk.Button(root, text= \"Frame 1\")\n",
    "frame1.grid(row=2, column=1)\n",
    "frame2 = tk.Button(root, text= \"Frame 2\")\n",
    "frame2.grid(row=2,  column=2)\n",
    "\n",
    "frame3 = tk.Button(root, text= \"Frame 3\")\n",
    "frame3.grid(row=3, column=2)\n",
    "frame4 = tk.Button(root, text= \"Frame 4\")\n",
    "frame5 = tk.Button(root, text= \"Frame 5\")\n",
    "frame6 = tk.Button(root, text= \"Frame 6\")\n",
    "frame7 = tk.Button(root, text= \"Frame 7\")\n",
    "frame8 = tk.Button(root, text= \"Frame 8\")\n",
    "root.mainloop()"
   ]
  }
 ],
 "metadata": {
  "kernelspec": {
   "display_name": "Python 3",
   "language": "python",
   "name": "python3"
  },
  "language_info": {
   "codemirror_mode": {
    "name": "ipython",
    "version": 3
   },
   "file_extension": ".py",
   "mimetype": "text/x-python",
   "name": "python",
   "nbconvert_exporter": "python",
   "pygments_lexer": "ipython3",
   "version": "3.11.7"
  }
 },
 "nbformat": 4,
 "nbformat_minor": 2
}
