{
 "cells": [
  {
   "cell_type": "markdown",
   "metadata": {},
   "source": [
    "# Ejercicios Basicos de Excepciones\n",
    "https://www.bing.com/chat?q=Bing+AI&showconv=1&FORM=hpcodx\n"
   ]
  },
  {
   "cell_type": "markdown",
   "metadata": {},
   "source": [
    "1. División entre cero (ZeroDivisionError):\n",
    "Escribe un programa que solicite dos números al usuario y realice la división entre ellos. Si el segundo número es cero, muestra un mensaje de error indicando que no se puede dividir entre cero."
   ]
  },
  {
   "cell_type": "code",
   "execution_count": 6,
   "metadata": {},
   "outputs": [
    {
     "name": "stdout",
     "output_type": "stream",
     "text": [
      "The second number  is zero\n",
      "The program continue \n"
     ]
    }
   ],
   "source": [
    "a = int(input(\"Enter a number: \"))\n",
    "b = int(int(input(\"Enter the second number: \")))\n",
    "\n",
    "\n",
    "try:\n",
    "  print(f\"The result of the division will be: {a / b}\")\n",
    "except ZeroDivisionError:\n",
    "  print(\"The second number  is zero\")\n",
    "# else:\n",
    "#   print(\"Hola\") #* this is executed if the try is executed, and not if except it\n",
    "finally:\n",
    "  print(\"The program continue \") #* in any case, this one is executed"
   ]
  },
  {
   "cell_type": "markdown",
   "metadata": {},
   "source": [
    "2. Suma de tipos incompatibles (TypeError):\n",
    "Crea una función que tome dos argumentos y los sume. Si los argumentos no son números, lanza una excepción de tipo TypeError."
   ]
  },
  {
   "cell_type": "code",
   "execution_count": 11,
   "metadata": {},
   "outputs": [
    {
     "name": "stdout",
     "output_type": "stream",
     "text": [
      "It's not possible, because  there are different types of data a= <class 'int'> and b= <class 'str'>\n"
     ]
    }
   ],
   "source": [
    "def add(a, b):\n",
    "  try:\n",
    "    return f\"The result of the adding will be: {a +b}\"\n",
    "  except TypeError:\n",
    "    return f\"It's not possible, because  there are different types of data a= {type(a)} and b= {type(b)}\"\n",
    "  \n",
    "print(add(23,\"ho\"))"
   ]
  },
  {
   "cell_type": "markdown",
   "metadata": {},
   "source": [
    "3. Manejo de excepciones personalizado:\n",
    "Define una función que realice una operación matemática. Si ocurre un error específico (por ejemplo, división entre cero), lanza una excepción personalizada con un mensaje descriptivo."
   ]
  },
  {
   "cell_type": "code",
   "execution_count": 33,
   "metadata": {},
   "outputs": [
    {
     "name": "stdout",
     "output_type": "stream",
     "text": [
      "This is the error of: ' unsupported operand type(s) for /: 'int' and 'str'' provoked by the division of two values, when those values are different types\n"
     ]
    }
   ],
   "source": [
    "def operation(a,b):\n",
    "  try:\n",
    "    return f\"The division will be: {a/b}\"\n",
    "  except ZeroDivisionError as zero:\n",
    "    return f\"This is the error of: ' {zero}' provoked by the division of two values, when the second one is zero\"\n",
    "  except TypeError as typing:\n",
    "    return f\"This is the error of: ' {typing}' provoked by the division of two values, when those values are different types\"\n",
    "  \n",
    "print(operation(1,\"f\"))"
   ]
  },
  {
   "cell_type": "markdown",
   "metadata": {},
   "source": [
    "4. Índice fuera de rango (IndexError):\n",
    "Escribe un programa que tenga una lista de números y solicite al usuario un índice. Luego, intenta acceder al elemento en ese índice. Si el índice está fuera del rango válido, muestra un mensaje de error."
   ]
  },
  {
   "cell_type": "code",
   "execution_count": 5,
   "metadata": {},
   "outputs": [
    {
     "name": "stdout",
     "output_type": "stream",
     "text": [
      "It's not possible because typed index is out of the range\n"
     ]
    }
   ],
   "source": [
    "def index_request(a):\n",
    "  products = [\"java\",\"python\",\"c++\",\"c#\",\"perl\",\"scala\"]\n",
    "  try:\n",
    "    return products[a]\n",
    "  except IndexError:\n",
    "    return \"It's not possible because typed index is out of the range\"\n",
    "  \n",
    "a = int(input(\"Enter the index of the range: \"))\n",
    "print(index_request(a=a))"
   ]
  },
  {
   "cell_type": "markdown",
   "metadata": {},
   "source": [
    "5. Valor no encontrado (ValueError):\n",
    "Crea una función que tome una lista de números y un valor objetivo. Si el valor objetivo no está en la lista, lanza una excepción de tipo ValueError"
   ]
  },
  {
   "cell_type": "code",
   "execution_count": 7,
   "metadata": {},
   "outputs": [
    {
     "name": "stdout",
     "output_type": "stream",
     "text": [
      "The value: 2 is out of the range of the list: [1, 4, 5]\n"
     ]
    }
   ],
   "source": [
    "def error_value(roll:list,value = 0):\n",
    "  try:\n",
    "    return roll.index(value)\n",
    "  except ValueError:\n",
    "    return f\"The value: {value} is out of the range of the list: {roll}\"\n",
    "print(error_value([1,4,5],2))\n",
    "\n",
    "\n",
    "  "
   ]
  },
  {
   "cell_type": "markdown",
   "metadata": {},
   "source": [
    "6. Manejo de archivos (FileNotFoundError):\n",
    "Intenta abrir un archivo que no existe. Captura la excepción FileNotFoundError y muestra un mensaje indicando que el archivo no se encontró."
   ]
  },
  {
   "cell_type": "code",
   "execution_count": 30,
   "metadata": {},
   "outputs": [
    {
     "name": "stdout",
     "output_type": "stream",
     "text": [
      "File: fichero_de_excepciones.txt found\n"
     ]
    }
   ],
   "source": [
    "\n",
    "\n",
    "def open_file(file:str):\n",
    "  try:\n",
    "    open(str(file))\n",
    "    return f\"File: {file} found\"\n",
    "    \n",
    "  except FileNotFoundError:\n",
    "    return f\"The file: {file} isn't here\"\n",
    "  \n",
    "print(open_file(\"fichero_de_excepciones.txt\"))\n",
    "  "
   ]
  }
 ],
 "metadata": {
  "kernelspec": {
   "display_name": "Python 3",
   "language": "python",
   "name": "python3"
  },
  "language_info": {
   "codemirror_mode": {
    "name": "ipython",
    "version": 3
   },
   "file_extension": ".py",
   "mimetype": "text/x-python",
   "name": "python",
   "nbconvert_exporter": "python",
   "pygments_lexer": "ipython3",
   "version": "3.11.7"
  }
 },
 "nbformat": 4,
 "nbformat_minor": 2
}
