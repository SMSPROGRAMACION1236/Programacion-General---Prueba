{
 "cells": [
  {
   "cell_type": "markdown",
   "metadata": {},
   "source": [
    "###### Practica y Motivo\n",
    "Voy a practicar de nuevo, por que me olvidado de todo, por que mi falta de practica debido a problemas personales y problemas de tiempo\n",
    "\n",
    "https://aprendeconalf.es/docencia/python/ejercicios/"
   ]
  },
  {
   "cell_type": "code",
   "execution_count": 7,
   "metadata": {},
   "outputs": [],
   "source": [
    "import colorama as clma"
   ]
  },
  {
   "cell_type": "markdown",
   "metadata": {},
   "source": [
    "## Tipos de Datos Simples"
   ]
  },
  {
   "cell_type": "markdown",
   "metadata": {},
   "source": [
    "### Ejercicio 1\n",
    "#### Escribir un programa que muestre por pantalla la cadena ¡Hola Mundo!."
   ]
  },
  {
   "cell_type": "code",
   "execution_count": null,
   "metadata": {},
   "outputs": [],
   "source": [
    "print(\"Hola Mundo\")"
   ]
  },
  {
   "cell_type": "markdown",
   "metadata": {},
   "source": [
    "### Ejercicio 2\n",
    "#### Escribir un programa que almacene la cadena ¡Hola Mundo! en una variable y luego muestre por pantalla el contenido de la variable."
   ]
  },
  {
   "cell_type": "code",
   "execution_count": null,
   "metadata": {},
   "outputs": [],
   "source": [
    "hola_mundo = \"Hola Mundo\"\n",
    "print(hola_mundo)"
   ]
  },
  {
   "cell_type": "markdown",
   "metadata": {},
   "source": [
    "### Ejercicio 3\n",
    "#### Escribir un programa que pregunte el nombre del usuario en la consola y después de que el usuario lo introduzca muestre por pantalla la cadena ¡Hola <nombre>!, donde <nombre> es el nombre que el usuario haya introducido.\n"
   ]
  },
  {
   "cell_type": "code",
   "execution_count": null,
   "metadata": {},
   "outputs": [],
   "source": [
    "name = str(input(\"Enter your name: \"))\n",
    "print(f\"Hello, {name}!\")"
   ]
  },
  {
   "cell_type": "markdown",
   "metadata": {},
   "source": [
    "### Ejercicio 4\n",
    "#### Escribir un programa que muestre por pantalla el resultado de la siguiente operación aritmética \n"
   ]
  },
  {
   "cell_type": "code",
   "execution_count": null,
   "metadata": {},
   "outputs": [],
   "source": [
    "print(((3+2) /(2*5))**2)"
   ]
  },
  {
   "cell_type": "markdown",
   "metadata": {},
   "source": [
    "### Ejercicio 5\n",
    "#### Escribir un programa que pregunte al usuario por el número de horas trabajadas y el coste por hora. Después debe mostrar por pantalla la paga que le corresponde."
   ]
  },
  {
   "cell_type": "code",
   "execution_count": null,
   "metadata": {},
   "outputs": [],
   "source": [
    "hora_trabajadas = int(input(\"Enter the number of worked hours: \"))\n",
    "coste_per_hora =  float(input(\"El cobro por hora es: \"))\n",
    "sueldo = hora_trabajadas * coste_per_hora\n",
    "print(f\"El sueldo es: {sueldo}\")"
   ]
  },
  {
   "cell_type": "markdown",
   "metadata": {},
   "source": [
    "### Ejercicio 6\n",
    "#### Escribir un programa que lea un entero positivo,  introducido por el usuario y después muestre en pantalla la suma de todos los enteros desde 1 hasta La suma de los primeros enteros positivos puede ser calculada de la siguiente forma:"
   ]
  },
  {
   "cell_type": "code",
   "execution_count": null,
   "metadata": {},
   "outputs": [],
   "source": [
    "n = int(input(\"Introduzca un numero: \"))\n",
    "suma = 0\n",
    "\n",
    "for i in range(1, n+1):\n",
    "  suma += i\n",
    "print(f\"La suma total es de: {suma}\")"
   ]
  },
  {
   "cell_type": "markdown",
   "metadata": {},
   "source": [
    "### Ejercicio 7\n",
    "####  Escribir un programa que pida al usuario su peso (en kg) y estatura (en metros), calcule el índice de masa corporal y lo almacene en una variable, y muestre por pantalla la frase Tu índice de masa corporal es <imc> donde <imc> es el índice de masa corporal calculado redondeado con dos decimales."
   ]
  },
  {
   "cell_type": "code",
   "execution_count": null,
   "metadata": {},
   "outputs": [],
   "source": [
    "peso = float(input(\"Ingrese su peso en kg: \"))\n",
    "altura = float(input(\"Ingrese su altura en metros: \"))\n",
    "imc = 0\n",
    "imc = peso / (altura**2)\n",
    "print(f\"Su IMC es de: {imc}\")\n",
    "if imc < 18.5:\n",
    "  print(\"Bajo peso\")\n",
    "elif imc >= 18.5 and imc <= 24.9:\n",
    "  print(\"Normal\")\n",
    "elif imc >= 25 and imc <= 29.9:\n",
    "  print(\"Sobrepeso\")\n",
    "else:\n",
    "  print(\"Obesidad\")"
   ]
  },
  {
   "cell_type": "markdown",
   "metadata": {},
   "source": [
    "### Ejercicio 8\n",
    "#### Escribir un programa que pida al usuario dos números enteros y muestre por pantalla la <n> entre <m> da un cociente <c> y un resto <r> donde <n> y <m> son los números introducidos por el usuario, y <c> y <r> son el cociente y el resto de la división entera respectivamente.\n",
    "\n",
    "\n"
   ]
  },
  {
   "cell_type": "code",
   "execution_count": null,
   "metadata": {},
   "outputs": [],
   "source": [
    "n = int(input(\"Ingrese un numero: \"))\n",
    "m = int(input(\"Ingrese otro numero: \"))\n",
    "\n",
    "c= n//m\n",
    "r= n%m\n",
    "print(f\"El cociente entre: {n} y {m} es: {c} y es resto es: {r}\")\n"
   ]
  },
  {
   "cell_type": "markdown",
   "metadata": {},
   "source": [
    "### Ejercicio 9 \n",
    "#### Escribir un programa que pregunte al usuario una cantidad a invertir, el interés anual y el número de años, y muestre por pantalla el capital obtenido en la inversión."
   ]
  },
  {
   "cell_type": "code",
   "execution_count": null,
   "metadata": {},
   "outputs": [],
   "source": [
    "cantidadA_invertir = float(input(\"Ingrese la cantidad a invertir: \"))\n",
    "interes_anual = float(input(\"Ingrese el interes anual: \"))\n",
    "anios = int(input(\"Ingrese los años: \"))\n",
    "total = (cantidadA_invertir *interes_anual * anios) / 100\n",
    "print(f\"El total es de: {total}\")"
   ]
  },
  {
   "cell_type": "markdown",
   "metadata": {},
   "source": [
    "## Cadenas\n"
   ]
  },
  {
   "cell_type": "markdown",
   "metadata": {},
   "source": [
    "### Ejercicio 1\n",
    "####  Escribir un programa que pregunte el nombre del usuario en la consola y un número entero e imprima por pantalla en líneas distintas el nombre del usuario tantas veces como el número introducido.\n",
    "\n",
    "\n"
   ]
  },
  {
   "cell_type": "code",
   "execution_count": null,
   "metadata": {},
   "outputs": [],
   "source": [
    "nombre = str(input(\"Ingrese su nombre: \"))\n",
    "numero = int(input(\"Ingrese un numero: \"))\n",
    "for name in range(numero):\n",
    "  print(nombre)"
   ]
  },
  {
   "cell_type": "markdown",
   "metadata": {},
   "source": [
    "### Ejercicio 2\n",
    "#### Escribir un programa que pregunte el nombre completo del usuario en la consola y después muestre por pantalla el nombre completo del usuario tres veces, una con todas las letras minúsculas, otra con todas las letras mayúsculas y otra solo con la primera letra del nombre y de los apellidos en mayúscula. El usuario puede introducir su nombre combinando mayúsculas y minúsculas como quiera."
   ]
  },
  {
   "cell_type": "code",
   "execution_count": null,
   "metadata": {},
   "outputs": [],
   "source": [
    "completed_name = str(input(\"Ingrese su nombre completo: \"))\n",
    "print(completed_name.lower())\n",
    "print(completed_name.upper())\n",
    "print(completed_name.title())\n"
   ]
  },
  {
   "cell_type": "markdown",
   "metadata": {},
   "source": [
    "### Ejercicio 3\n",
    "#### Escribir un programa que pregunte el nombre del usuario en la consola y después de que el usuario lo introduzca muestre por pantalla <NOMBRE> tiene <n> letras, donde <NOMBRE> es el nombre de usuario en mayúsculas y <n> es el número de letras que tienen el nombre."
   ]
  },
  {
   "cell_type": "code",
   "execution_count": null,
   "metadata": {},
   "outputs": [],
   "source": [
    "nombre = str(input(\"Ingrese su nombre: \"))\n",
    "print(f\"{nombre.upper()} tiene {len(nombre)} letras\")"
   ]
  },
  {
   "cell_type": "markdown",
   "metadata": {},
   "source": [
    "## Condicionales"
   ]
  },
  {
   "cell_type": "markdown",
   "metadata": {},
   "source": [
    "### Ejercicio 1\n",
    "#### Escribir un programa que pregunte al usuario su edad y muestre por pantalla si es mayor de edad o no."
   ]
  },
  {
   "cell_type": "code",
   "execution_count": null,
   "metadata": {},
   "outputs": [],
   "source": [
    "edad = int(input(\"Por favor, ingrese su edad: \"))\n",
    "if edad >=1 and edad <=17:\n",
    "  print(\"Menor de edad\")\n",
    "else:\n",
    "  print(\"Mayor de edad\")\n",
    "  "
   ]
  },
  {
   "cell_type": "markdown",
   "metadata": {},
   "source": [
    "### Ejercicio 2\n",
    "#### Escribir un programa que almacene la cadena de caracteres contraseña en una variable, pregunte al usuario por la contraseña e imprima por pantalla si la contraseña introducida por el usuario coincide con la guardada en la variable sin tener en cuenta mayúsculas y minúsculas.\n",
    "\n",
    "\n"
   ]
  },
  {
   "cell_type": "code",
   "execution_count": null,
   "metadata": {},
   "outputs": [],
   "source": [
    "password = \"santiagopro17\"\n",
    "entered_password = str(input(\"Ingrese la contraseña: \")).lower()\n",
    "if entered_password == password:\n",
    "  print(\"Contraseña correcta\")\n",
    "else:\n",
    "  print(\"Contraseña incorrecta\")"
   ]
  },
  {
   "cell_type": "markdown",
   "metadata": {},
   "source": [
    "### Ejercicio 3\n",
    "#### Escribir un programa que pida al usuario dos números y muestre por pantalla su división. Si el divisor es cero el programa debe mostrar un error."
   ]
  },
  {
   "cell_type": "code",
   "execution_count": null,
   "metadata": {},
   "outputs": [],
   "source": [
    "dividendo = int(input(\"Ingrese el dividendo: \"))\n",
    "divisor = int(input(\"Ingrese el divisor: \"))\n",
    "\n",
    "if divisor != 0:\n",
    "  print(dividendo / divisor)\n",
    "else:\n",
    "  print(f\"No se puede dividir entre: {divisor}\")"
   ]
  },
  {
   "cell_type": "markdown",
   "metadata": {},
   "source": [
    "### Ejercicio 4\n",
    "#### Escribe un programa que pida al usuario un numero entero y muestre por pantalla si es par o impar"
   ]
  },
  {
   "cell_type": "code",
   "execution_count": null,
   "metadata": {},
   "outputs": [],
   "source": [
    "x = int(input(\"Ingrese un numero: \"))\n",
    "if x %2 ==0:\n",
    "  print(f\"{x} es par\")\n",
    "else:\n",
    "  print(f\"{x} es impar\")\n"
   ]
  },
  {
   "cell_type": "markdown",
   "metadata": {},
   "source": []
  },
  {
   "cell_type": "markdown",
   "metadata": {},
   "source": [
    "### Ejercicio 5\n",
    "#### Para tributar un determinado impuesto se debe ser mayor de 16 años y tener unos ingresos iguales o superiores a 1000 € mensuales. Escribir un programa que pregunte al usuario su edad y sus ingresos mensuales y muestre por pantalla si el usuario tiene que tributar o no"
   ]
  },
  {
   "cell_type": "code",
   "execution_count": null,
   "metadata": {},
   "outputs": [],
   "source": [
    "edad = int(input(\"Ingrese su edad: \"))\n",
    "ingreso_mensual = int(input(\"Ingrese lo que gana en un mes: \"))\n",
    "\n",
    "if edad > 16 and ingreso_mensual >= 1000:\n",
    "  print(\"Debes tributar\")\n",
    "else:\n",
    "  print(\"No debes tributar\")"
   ]
  },
  {
   "cell_type": "markdown",
   "metadata": {},
   "source": [
    "### Ejercicio 6\n",
    "#### Los alumnos de un curso se han dividido en dos grupos A y B de acuerdo al sexo y el nombre. El grupo A esta formado por las mujeres con un nombre anterior a la M y los hombres con un nombre posterior a la N y el grupo B por el resto. Escribir un programa que pregunte al usuario su nombre y sexo, y muestre por pantalla el grupo que le corresponde."
   ]
  },
  {
   "cell_type": "code",
   "execution_count": null,
   "metadata": {},
   "outputs": [],
   "source": [
    "nombre = str(input(\"Ingrese su nombre: \")).lower()\n",
    "sexo = str(input(\"Ingrese su sexo(m/f): \")).lower()\n",
    "\n",
    "\n",
    "if sexo == \"f\" and nombre[0] < \"m\":\n",
    "  print(\"Perteneces al grupo A\")\n",
    "elif sexo == \"m\" and nombre [0]  > \"n\":\n",
    "  print(\"Perteneces al grupo A\")\n",
    "else:\n",
    "  print(\"Perteneces al Grupo B\")"
   ]
  },
  {
   "cell_type": "markdown",
   "metadata": {},
   "source": [
    "### Ejercicio 7\n",
    "#### Los tramos impositivos para la declaración de la renta en un determinado país son los siguientes:\n",
    "\n",
    "Renta         \tTipo impositivo\n",
    "\n",
    "Menos de 10000€\t           5%\n",
    "\n",
    "Entre 10000€ y 20000€\t    15%\n",
    "\n",
    "Entre 20000€ y 35000€    \t20%\n",
    "\n",
    "Entre 35000€ y 60000€\t    30%\n",
    "\n",
    "Más de 60000€           \t45%\n",
    "#### Escribir un programa que pregunte al usuario su renta anual y muestre por pantalla el tipo impositivo que le corresponde."
   ]
  },
  {
   "cell_type": "code",
   "execution_count": null,
   "metadata": {},
   "outputs": [],
   "source": [
    "renta_anual = int(input(\"Ingrese su renta anual: \"))\n",
    "tipo_de_impositivo = [\"5%\", \"15%\", \"20%\", \"30%\", \"45%\"]\n",
    "if renta_anual < 10000:\n",
    "  print(f\"El tipo de Impositivo que le corresponde es: {tipo_de_impositivo[0]}\")\n",
    "elif renta_anual >= 10000 and renta_anual <=20000:\n",
    "   print(f\"El tipo de Impositivo que le corresponde es: {tipo_de_impositivo[1]}\")\n",
    "elif renta_anual >= 20000 and renta_anual <= 35000:\n",
    "   print(f\"El tipo de Impositivo que le corresponde es: {tipo_de_impositivo[2]}\")\n",
    "elif renta_anual >=35000 and renta_anual <= 60000:\n",
    "   print(f\"El tipo de Impositivo que le corresponde es: {tipo_de_impositivo[3]}\")\n",
    "else: \n",
    "   print(f\"El tipo de Impositivo que le corresponde es: {tipo_de_impositivo[4]}\")"
   ]
  },
  {
   "cell_type": "markdown",
   "metadata": {},
   "source": [
    "### Ejercicio 8 \n",
    "#### En una determinada empresa, sus empleados son evaluados al final de cada año. Los puntos que pueden obtener en la evaluación comienzan en 0.0 y pueden ir aumentando, traduciéndose en mejores beneficios. Los puntos que pueden conseguir los empleados pueden ser 0.0, 0.4, 0.6 o más, pero no valores intermedios entre las cifras mencionadas. A continuación se muestra una tabla con los niveles correspondientes a cada puntuación. La cantidad de dinero conseguida en cada nivel es de 2.400€ multiplicada por la puntuación del nivel.\n",
    "\n",
    "Nivel\tPuntuación\n",
    "\n",
    "Inaceptable\t0.0\n",
    "\n",
    "Aceptable\t0.4\n",
    "\n",
    "Meritorio\t0.6 o más\n",
    "\n",
    "#### Escribir un programa que lea la puntuación del usuario e indique su nivel de rendimiento, así como la cantidad de dinero que recibirá el usuario."
   ]
  },
  {
   "cell_type": "code",
   "execution_count": null,
   "metadata": {},
   "outputs": [],
   "source": [
    "tipo_de_nivel_dict =  {0.0:\"inacetable\", 0.4:\"aceptable\", 0.6:\"meritorio\"}\n",
    "tipo_de_nivel_list = [i for i in tipo_de_nivel_dict.keys()]\n",
    "\n",
    "\n",
    "nombre_empleado = str(input(\"Ingrese el nombre del empleado: \"))\n",
    "nivel_empleado = float(input(f\"Ingrese el nivel logrado del empleado: {nombre_empleado} : \"))\n",
    "\n",
    "if nivel_empleado == tipo_de_nivel_list[0]:\n",
    "  print(f\"El empleado {nombre_empleado} ha tenido un desempeño {tipo_de_nivel_dict[0.0]} por lo que ganara: {2400 * 0.0}\")\n",
    "elif nivel_empleado == tipo_de_nivel_list[1]:\n",
    "   print(f\"El empleado {nombre_empleado} ha tenido un desempeño {tipo_de_nivel_dict[0.4]} por lo que ganara: {2400 * 0.4}\")\n",
    "elif nivel_empleado >= int(tipo_de_nivel_list[2]):\n",
    "   print(f\"El empleado {nombre_empleado} ha tenido un desempeño {tipo_de_nivel_dict[0.6]} por lo que ganara: {2400 * nivel_empleado}\")\n",
    "else:\n",
    "  print(\"Puntuacion Invalida\")\n",
    "\n"
   ]
  },
  {
   "cell_type": "markdown",
   "metadata": {},
   "source": [
    "## Bucles\n"
   ]
  },
  {
   "cell_type": "markdown",
   "metadata": {},
   "source": [
    "### Ejercicio 1\n",
    "#### Escribir un programa que pida al usuario una palabra y la muestre por pantalla 10 veces."
   ]
  },
  {
   "cell_type": "code",
   "execution_count": null,
   "metadata": {},
   "outputs": [],
   "source": [
    "contador = 1\n",
    "palabra = str(input(\"Ingrese una palabra: \"))\n",
    "while contador != 11:\n",
    "  print(f\"{palabra} = {contador} \")\n",
    "  contador += 1"
   ]
  },
  {
   "cell_type": "markdown",
   "metadata": {},
   "source": [
    "### Ejercicio 2\n",
    "#### Escribir un programa que pregunte al usuario su edad y muestre por pantalla todos los años que ha cumplido (desde 1 hasta su edad).\n"
   ]
  },
  {
   "cell_type": "code",
   "execution_count": null,
   "metadata": {},
   "outputs": [],
   "source": [
    "edad = int(input(\"Ingrese su edad: \"))\n",
    "\n",
    "cont_edad = 1\n",
    "while cont_edad <= edad:\n",
    "  print(f\"Tienes {cont_edad} años\")\n",
    "  cont_edad += 1"
   ]
  },
  {
   "cell_type": "markdown",
   "metadata": {},
   "source": [
    "### Ejercicio 3\n",
    "#### Escribir un programa que pida al usuario un número entero positivo y muestre por pantalla todos los números impares desde 1 hasta ese número separados por comas."
   ]
  },
  {
   "cell_type": "code",
   "execution_count": null,
   "metadata": {},
   "outputs": [],
   "source": [
    "num = int(input(\"Ingrese un numero: \"))\n",
    "result = \"\"\n",
    "if num > 0:\n",
    "  for i in range(1, num+1, 2):\n",
    "    print(i, end=\",\")\n",
    "else:\n",
    "  print(\"El numero debe ser positivo\")"
   ]
  },
  {
   "cell_type": "markdown",
   "metadata": {},
   "source": [
    "### 4 Ejercicio\n",
    "#### Escribir un programa que pida al usuario un número entero positivo y muestre por pantalla la cuenta atrás desde ese número hasta cero separados por comas.\n"
   ]
  },
  {
   "cell_type": "code",
   "execution_count": null,
   "metadata": {},
   "outputs": [],
   "source": [
    "\n",
    "cont_x = int(input(\"Enter a number\"))\n",
    "if cont_x>0:\n",
    "  while cont_x >=0:\n",
    "    print(cont_x, end=\",\")\n",
    "    cont_x -=1\n",
    "    \n",
    "else:\n",
    "  print(\"You must enter a positive number\")"
   ]
  },
  {
   "cell_type": "markdown",
   "metadata": {},
   "source": [
    "### Ejercicio 5\n",
    "####  Escribir un programa que pregunte al usuario una cantidad a invertir, el interés anual y el número de años, y muestre por pantalla el capital obtenido en la inversión cada año que dura la inversión."
   ]
  },
  {
   "cell_type": "code",
   "execution_count": null,
   "metadata": {},
   "outputs": [],
   "source": [
    "amortizacion = int(input(\"Ingrese la cantidad de Dinero  a Invertir: \"))\n",
    "interes = int(input(\"Ingrese el porcentaje de Intereses acordado: \"))\n",
    "num_anual = int(input(f\"Ingrese el tiempo(anual) que sera invertido la capital {amortizacion} en años: \"))\n",
    "\n",
    "conteo_anual = 0\n",
    "\n",
    "while num_anual != 0:\n",
    "  \n",
    "  for i in range(1, num_anual +1):\n",
    "    amortizacion *= ((interes /100) +1)\n",
    "    print(f\"Dinero: {amortizacion} en el año {i} \")\n",
    "    num_anual -+ 1\n",
    "    \n",
    "  break\n",
    "  \n",
    "    "
   ]
  },
  {
   "cell_type": "markdown",
   "metadata": {},
   "source": [
    "### Ejercicio 6\n",
    "#### Escribir un programa que pida al usuario un número entero y muestre por pantalla un triángulo rectángulo como el de más abajo, de altura el número introducido."
   ]
  },
  {
   "cell_type": "code",
   "execution_count": 37,
   "metadata": {},
   "outputs": [
    {
     "name": "stdout",
     "output_type": "stream",
     "text": [
      "*\n",
      "**\n",
      "***\n"
     ]
    }
   ],
   "source": [
    "numero = int(input(\"Ingrese un numero: \"))\n",
    "\n",
    "num = 1\n",
    "\n",
    "while numero != num:\n",
    "  for i in range(1, numero +1):\n",
    "    print(\"*\" * num)\n",
    "    num +=1 \n",
    "  break \n",
    "else:\n",
    "  print(\"*\")\n",
    "  "
   ]
  },
  {
   "cell_type": "markdown",
   "metadata": {},
   "source": [
    "### Ejercicio 7\n",
    "#### Escribir un programa que muestre por pantalla la tabla de multiplicar del 1 al 10."
   ]
  },
  {
   "cell_type": "code",
   "execution_count": 8,
   "metadata": {},
   "outputs": [
    {
     "name": "stdout",
     "output_type": "stream",
     "text": [
      "\u001b[31mTabla del: 1\u001b[0m\n",
      "1\n",
      "2\n",
      "3\n",
      "4\n",
      "5\n",
      "6\n",
      "7\n",
      "8\n",
      "9\n",
      "10\n",
      "\u001b[31mTabla del: 2\u001b[0m\n",
      "2\n",
      "4\n",
      "6\n",
      "8\n",
      "10\n",
      "12\n",
      "14\n",
      "16\n",
      "18\n",
      "20\n",
      "\u001b[31mTabla del: 3\u001b[0m\n",
      "3\n",
      "6\n",
      "9\n",
      "12\n",
      "15\n",
      "18\n",
      "21\n",
      "24\n",
      "27\n",
      "30\n",
      "\u001b[31mTabla del: 4\u001b[0m\n",
      "4\n",
      "8\n",
      "12\n",
      "16\n",
      "20\n",
      "24\n",
      "28\n",
      "32\n",
      "36\n",
      "40\n",
      "\u001b[31mTabla del: 5\u001b[0m\n",
      "5\n",
      "10\n",
      "15\n",
      "20\n",
      "25\n",
      "30\n",
      "35\n",
      "40\n",
      "45\n",
      "50\n",
      "\u001b[31mTabla del: 6\u001b[0m\n",
      "6\n",
      "12\n",
      "18\n",
      "24\n",
      "30\n",
      "36\n",
      "42\n",
      "48\n",
      "54\n",
      "60\n",
      "\u001b[31mTabla del: 7\u001b[0m\n",
      "7\n",
      "14\n",
      "21\n",
      "28\n",
      "35\n",
      "42\n",
      "49\n",
      "56\n",
      "63\n",
      "70\n",
      "\u001b[31mTabla del: 8\u001b[0m\n",
      "8\n",
      "16\n",
      "24\n",
      "32\n",
      "40\n",
      "48\n",
      "56\n",
      "64\n",
      "72\n",
      "80\n",
      "\u001b[31mTabla del: 9\u001b[0m\n",
      "9\n",
      "18\n",
      "27\n",
      "36\n",
      "45\n",
      "54\n",
      "63\n",
      "72\n",
      "81\n",
      "90\n",
      "\u001b[31mTabla del: 10\u001b[0m\n",
      "10\n",
      "20\n",
      "30\n",
      "40\n",
      "50\n",
      "60\n",
      "70\n",
      "80\n",
      "90\n",
      "100\n"
     ]
    }
   ],
   "source": [
    "for i in range(1,11):\n",
    "  print(clma.Fore.RED + f\"Tabla del: {i}\" + clma.Style.RESET_ALL)\n",
    "  for j in range(1,11):\n",
    "    print(i * j)\n",
    "  "
   ]
  },
  {
   "cell_type": "code",
   "execution_count": null,
   "metadata": {},
   "outputs": [],
   "source": []
  }
 ],
 "metadata": {
  "kernelspec": {
   "display_name": "Python 3",
   "language": "python",
   "name": "python3"
  },
  "language_info": {
   "codemirror_mode": {
    "name": "ipython",
    "version": 3
   },
   "file_extension": ".py",
   "mimetype": "text/x-python",
   "name": "python",
   "nbconvert_exporter": "python",
   "pygments_lexer": "ipython3",
   "version": "3.11.7"
  }
 },
 "nbformat": 4,
 "nbformat_minor": 2
}
