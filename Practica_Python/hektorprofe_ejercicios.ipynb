{
 "cells": [
  {
   "cell_type": "markdown",
   "metadata": {},
   "source": [
    "# Ejercicios de Todo Tipo\n",
    "https://docs.hektorprofe.net/python/errores-y-excepciones/excepciones-multiples/"
   ]
  },
  {
   "cell_type": "markdown",
   "metadata": {},
   "source": [
    "### Introduccion\n"
   ]
  },
  {
   "cell_type": "markdown",
   "metadata": {},
   "source": [
    "##### Ejercicio 1\n",
    "Identifica el tipo de dato (int, float, string o list) de los siguientes valores literales:\n",
    "\n",
    "\"Hola Mundo\"     \n",
    "[1, 10, 100]      \n",
    "-25              \n",
    "1.167             \n",
    "[\"Hola\", \"Mundo\"] \n",
    "\n",
    "' '    "
   ]
  },
  {
   "cell_type": "code",
   "execution_count": 6,
   "metadata": {},
   "outputs": [
    {
     "name": "stdout",
     "output_type": "stream",
     "text": [
      "<class 'str'>\n",
      "<class 'list'>\n",
      "<class 'int'>\n",
      "<class 'float'>\n",
      "<class 'list'>\n",
      "<class 'str'>\n"
     ]
    }
   ],
   "source": [
    "\"Hola Mundo\"     \n",
    "[1, 10, 100]      \n",
    "-25              \n",
    "1.167             \n",
    "[\"Hola\", \"Mundo\"] \n",
    "' ' \n",
    "\n",
    "\n",
    "print(type(\"Hola Mundo\" )) # str\n",
    "print(type([1, 10, 100] ))# list\n",
    "print(type(-25))# int\n",
    "print(type(1.167)) # float\n",
    "print(type([\"Hola\", \"Mundo\"] )) # list\n",
    "print(type(' '  )) # str \n"
   ]
  },
  {
   "cell_type": "markdown",
   "metadata": {},
   "source": [
    "\n",
    "##### Ejercicio 2\n",
    "Determina mentalmente (sin programar) el resultado que aparecerá por pantalla en las siguientes operaciones con variables:\n"
   ]
  },
  {
   "cell_type": "code",
   "execution_count": 7,
   "metadata": {},
   "outputs": [
    {
     "name": "stdout",
     "output_type": "stream",
     "text": [
      "50\n",
      "15\n",
      "Hola Mundo\n",
      "Hola Hola \n",
      "3\n",
      "[2, 3]\n",
      "[1, 2, 3, 1, 2, 3]\n"
     ]
    }
   ],
   "source": [
    "a = 10\n",
    "b = -5\n",
    "c = \"Hola \"\n",
    "d = [1, 2, 3] \n",
    "\n",
    "print(a * 5)  #50\n",
    "print(a - b) #5 #! en realidad es 15\n",
    "print(c + \"Mundo\") # Hola Mundo\n",
    "print(c * 2) #Hola Hola\n",
    "print(d[-1]) # 3\n",
    "print(d[1:]) # 2, 3\n",
    "print(d + d) # [2,`4,6] #! en realidad es[1, 2,3,1,2,3]\n",
    "\n",
    "\n"
   ]
  },
  {
   "cell_type": "markdown",
   "metadata": {},
   "source": [
    "##### Ejercicio 3\n",
    "El siguiente codigo pretende realizar una media entre 3 numeros, pero no funciona correctamente, eres capaz de identificar el problema y solucionarlo\n",
    "\n",
    "numero_1 = 9\n",
    "\n",
    "numero_2 = 3\n",
    "\n",
    "numero_3 = 6\n",
    "\n",
    "media = numero_1 + numero_2 + numero_3 / 3\n",
    "\n",
    "print(\"La nota media es\", media)"
   ]
  },
  {
   "cell_type": "code",
   "execution_count": 9,
   "metadata": {},
   "outputs": [
    {
     "name": "stdout",
     "output_type": "stream",
     "text": [
      "La nota media es 6.0\n"
     ]
    }
   ],
   "source": [
    "numero_1 = 9\n",
    "numero_2 = 3\n",
    "numero_3 = 6\n",
    "\n",
    "media = (numero_1 + numero_2 + numero_3) / 3 #* debe llevar parentesis\n",
    "print(\"La nota media es\", media)"
   ]
  },
  {
   "cell_type": "markdown",
   "metadata": {},
   "source": [
    "##### Ejercicio 4\n",
    "\n",
    "A partir del ejercicio anterior, vamos a suponer que cada número es una nota, y lo que queremos es obtener la nota final. El problema es que cada nota tiene un valor porcentual:\n",
    "\n",
    "La primera nota vale un 15% del total\n",
    "\n",
    "La segunda nota vale un 35% del total\n",
    "\n",
    "La tercera nota vale un 50% del total\n",
    "\n",
    "Desarrolla un programa para calcular perfectamente la nota final:"
   ]
  },
  {
   "cell_type": "code",
   "execution_count": 1,
   "metadata": {},
   "outputs": [
    {
     "name": "stdout",
     "output_type": "stream",
     "text": [
      "21\n"
     ]
    }
   ],
   "source": [
    "nota1= 10\n",
    "nota2 = 7\n",
    "nota3 = 4\n",
    "nota_maxima = nota1 + nota2 +nota3\n",
    "print(nota_maxima)"
   ]
  },
  {
   "cell_type": "markdown",
   "metadata": {},
   "source": [
    "##### Ejercicio 5\n",
    "La siguiente matriz (o lista con listas anidadas) debe cumplir una condición, y es que en cada fila el cuarto elemento siempre debe ser el resultado de sumar los tres primeros. ¿Eres capaz de modificar las sumas incorrectas utilizando la técnica del slicing?\n",
    "\n",
    "matriz = [ \n",
    "    [1, 1, 1, 3],\n",
    "    [2, 2, 2, 7],\n",
    "    [3, 3, 3, 9],\n",
    "    [4, 4, 4, 13]\n",
    "]\n",
    "\n"
   ]
  },
  {
   "cell_type": "code",
   "execution_count": 47,
   "metadata": {},
   "outputs": [
    {
     "name": "stdout",
     "output_type": "stream",
     "text": [
      "True\n",
      "False\n",
      "True\n",
      "False\n"
     ]
    }
   ],
   "source": [
    "matriz = [ \n",
    "    [1, 1, 1, 3],\n",
    "    [2, 2, 2, 7],\n",
    "    [3, 3, 3, 9], \n",
    "    [4, 4, 4, 13]# in the whatever index 0 to 2, i can replace with 4\n",
    "]\n",
    "\n",
    "# Completa el ejercicio aquí\n",
    "\n",
    "if sum(matriz[0][0:3]) == (matriz[0][3]):\n",
    "  print(True)\n",
    "else: \n",
    "  print(False)\n",
    "if sum(matriz[1][0:3]) == (matriz[1][3]):\n",
    "  print(True)\n",
    "else:\n",
    "  print(False)\n",
    "if sum(matriz[2][0:3]) == (matriz[2][3]):\n",
    "  print(True)\n",
    "else:\n",
    "  print(False)\n",
    "if sum(matriz[3][0:3]) == (matriz[3][3]):\n",
    "  print(True)\n",
    "else:\n",
    "  print(False)\n",
    "\n",
    "\n"
   ]
  },
  {
   "cell_type": "markdown",
   "metadata": {},
   "source": [
    "##### Ejercicio 6\n",
    "Al realizar una consulta en un registro hemos obtenido una cadena de texto corrupta al revés. Al parecer contiene el nombre de un alumno y la nota de un exámen. ¿Cómo podríamos formatear la cadena y conseguir una estructura como la siguiente?\n",
    "\n",
    "cadena = \"zeréP nauJ,01\""
   ]
  },
  {
   "cell_type": "code",
   "execution_count": 63,
   "metadata": {},
   "outputs": [
    {
     "name": "stdout",
     "output_type": "stream",
     "text": [
      "10,Juan Pérez\n",
      "Juan Pérez ha sacado un 10 de nota\n"
     ]
    }
   ],
   "source": [
    "\n",
    "# Completa el ejercicio aquí\n",
    "\n",
    "cadena = \"zeréP nauJ,01\"\n",
    "nueva_cadena = cadena[::-1]\n",
    "print(nueva_cadena)\n",
    "\n",
    "print(f\"{nueva_cadena[3:7]} {nueva_cadena[8:13]} ha sacado un {nueva_cadena[0:2]} de nota\")"
   ]
  },
  {
   "cell_type": "markdown",
   "metadata": {},
   "source": [
    "### Operaciones y expresiones"
   ]
  },
  {
   "cell_type": "markdown",
   "metadata": {},
   "source": [
    "#### Ejercicio 1\n",
    "\n",
    "Realiza un programa que lea 2 números por teclado y determine los siguientes aspectos (es suficiene con mostrar True o False):\n",
    "\n",
    "Si los dos números son iguales\n",
    "\n",
    "Si los dos números son diferentes\n",
    "\n",
    "Si el primero es mayor que el segundo\n",
    "\n",
    "Si el segundo es mayor o igual que el primero\n"
   ]
  },
  {
   "cell_type": "code",
   "execution_count": 2,
   "metadata": {},
   "outputs": [
    {
     "name": "stdout",
     "output_type": "stream",
     "text": [
      "False\n",
      "True\n",
      "False\n",
      "True\n"
     ]
    }
   ],
   "source": [
    "a = int(input(\"Enter a number: \"))\n",
    "b = int(input(\"Enter a number: \"))\n",
    "\n",
    "if a == b:\n",
    "  print(True)\n",
    "else:\n",
    "  print(False)\n",
    "\n",
    "if a != b:\n",
    "  print(True)\n",
    "else:\n",
    "  print(False)\n",
    "\n",
    "if a > b:\n",
    "  print(True)\n",
    "else:\n",
    "  print(False)\n",
    "\n",
    "if a <=b:\n",
    "  print(True)\n",
    "else:\n",
    "  print(False)"
   ]
  },
  {
   "cell_type": "markdown",
   "metadata": {},
   "source": [
    "#### Ejercicio 2 \n",
    "\n",
    "Utilizando operadores lógicos, determina si una cadena de texto introducida por el usuario tiene una longitud mayor o igual que 3 y a su vez es menor que 10 (es suficiene con mostrar True o False)."
   ]
  },
  {
   "cell_type": "code",
   "execution_count": 5,
   "metadata": {},
   "outputs": [
    {
     "name": "stdout",
     "output_type": "stream",
     "text": [
      "False\n"
     ]
    }
   ],
   "source": [
    "phase = str(input(\"Enter a phase: \"))\n",
    "\n",
    "if len(phase) >= 3 and len(phase) <10:\n",
    "  print(True)\n",
    "else:\n",
    "  print(False)"
   ]
  },
  {
   "cell_type": "markdown",
   "metadata": {},
   "source": [
    "#### Ejercicio 3\n",
    "Realiza un programa que cumpla el siguiente algoritmo utilizando siempre que sea posible operadores en asignación:\n",
    "\n",
    "Guarda en una variable numero_magico el valor 12345679 (sin el 8)\n",
    "\n",
    "Lee por pantalla otro numero_usuario, especifica que sea entre 1 y 9\n",
    "\n",
    "Multiplica el numero_usuario por 9 en sí mismo\n",
    "\n",
    "Multiplica el numero_magico por el numero_usuario en sí mismo\n",
    "\n",
    "Finalmente muestra el valor final del numero_magico por pantalla\n"
   ]
  },
  {
   "cell_type": "code",
   "execution_count": 6,
   "metadata": {},
   "outputs": [
    {
     "name": "stdout",
     "output_type": "stream",
     "text": [
      "El número mágico es: 999999999\n"
     ]
    }
   ],
   "source": [
    "numero_magico = 12345679\n",
    "numero_usuario = int(input(\"Adivina el número mágico(1/9): \"))\n",
    "\n",
    "\n",
    "numero_usuario *= 9\n",
    "numero_magico *= numero_usuario\n",
    "print(\"El número mágico es:\", numero_magico)\n"
   ]
  },
  {
   "cell_type": "markdown",
   "metadata": {},
   "source": [
    "### Controlando el flujo\n"
   ]
  },
  {
   "cell_type": "markdown",
   "metadata": {},
   "source": [
    "#### Ejercicio 1 \n",
    "Realiza un programa que lea dos números por teclado y permita elegir entre 3 opciones en un menú:\n",
    "\n",
    "- Mostrar una suma de los dos números\n",
    "\n",
    "- Mostrar una resta de los dos números (el primero menos el segundo)\n",
    "\n",
    "- Mostrar una multiplicación de los dos números\n",
    "  \n",
    "En caso de introducir una opción inválida, el programa informará de que no es correcta."
   ]
  },
  {
   "cell_type": "code",
   "execution_count": 7,
   "metadata": {},
   "outputs": [
    {
     "name": "stdout",
     "output_type": "stream",
     "text": [
      "The sum of the two numbers is:  20\n"
     ]
    }
   ],
   "source": [
    "num1 = int(input(\"Enter the first number: \"))\n",
    "num2 = int(input(\"Enter the second number: \"))\n",
    "operation = str(input(\"Enter the operaration(sum/less/time): \")).lower()\n",
    "\n",
    "if operation == \"sum\":\n",
    "  print(\"The sum of the two numbers is: \", num1 + num2)\n",
    "elif operation == \"less\":\n",
    "  print(\"The difference of the two numbers is: \", num1 - num2)\n",
    "elif operation == \"time\":\n",
    "  print(\"The product of the two numbers is: \", num1 * num2)\n",
    "else:\n",
    "  print(\"Invalid operation. Please enter sum, less or time.\")\n",
    "  "
   ]
  },
  {
   "cell_type": "markdown",
   "metadata": {},
   "source": [
    "#### Ejercicio 2\n",
    "Realiza un programa que lea un número impar por teclado. Si el usuario no introduce un número impar, debe repetise el proceso hasta que lo introduzca correctamente."
   ]
  },
  {
   "cell_type": "code",
   "execution_count": 15,
   "metadata": {},
   "outputs": [],
   "source": [
    "num = int(input(\"Enter an even number: \"))\n",
    "\n",
    "while num %2 ==0:\n",
    "  num = int(input(\"Enter an even number: \"))\n"
   ]
  },
  {
   "cell_type": "markdown",
   "metadata": {},
   "source": [
    "#### Ejercicio 3\n",
    "Realiza un programa que sume todos los números enteros pares desde el 0 hasta el 100."
   ]
  },
  {
   "cell_type": "code",
   "execution_count": 20,
   "metadata": {},
   "outputs": [
    {
     "name": "stdout",
     "output_type": "stream",
     "text": [
      "5050\n"
     ]
    }
   ],
   "source": [
    "print(sum(range(0,101)))"
   ]
  },
  {
   "cell_type": "markdown",
   "metadata": {},
   "source": [
    "#### Ejercicio 4\n",
    "Realiza un programa que pida al usuario cuantos números quiere introducir. Luego lee todos los números y realiza una media aritmética."
   ]
  },
  {
   "cell_type": "code",
   "execution_count": 30,
   "metadata": {},
   "outputs": [
    {
     "name": "stdout",
     "output_type": "stream",
     "text": [
      "The result is: 9.0\n"
     ]
    }
   ],
   "source": [
    "number_length = int(input(\"Enter the length: \"))\n",
    "result = 0\n",
    "numbers = []\n",
    "for i in range(number_length):\n",
    "  numbers.append(int(input(\"Enter number : \")))\n",
    "  \n",
    "for i in numbers:\n",
    "  result += i\n",
    "print(f\"The result is: {result/len(numbers)}\")"
   ]
  },
  {
   "cell_type": "markdown",
   "metadata": {},
   "source": [
    "#### Ejercicio 5\n",
    "Realiza un programa que pida al usuario un número entero del 0 al 9, y que mientras el número no sea correcto se repita el proceso. Luego debe comprobar si el número se encuentra en la lista de números y notificarlo:"
   ]
  },
  {
   "cell_type": "code",
   "execution_count": 11,
   "metadata": {},
   "outputs": [
    {
     "name": "stdout",
     "output_type": "stream",
     "text": [
      "2\n"
     ]
    }
   ],
   "source": [
    "list_of_numbers = [0,1,2,3,4,5,6,7,8,9]\n",
    "\n",
    "def is_number_in_list(n = 0):\n",
    "  n = int(input(\"Enter a number between (1 to 9): \"))\n",
    "  while n not in list_of_numbers:\n",
    "    n = int(input(\"Enter a number between (1 to 9): \"))\n",
    "  else:\n",
    "    return n\n",
    "print(is_number_in_list())"
   ]
  },
  {
   "cell_type": "markdown",
   "metadata": {},
   "source": [
    "#### Ejercicio 6\n",
    "Utilizando la función range() y la conversión a listas genera las siguientes listas dinámicamente:\n",
    "\n",
    "Todos los números del 0 al 10 [0, 1, 2, ..., 10]\n",
    "\n",
    "Todos los números del -10 al 0 [-10, -9, -8, ..., 0]\n",
    "\n",
    "Todos los números pares del 0 al 20 [0, 2, 4, ..., 20\n",
    "]\n",
    "Todos los números impares entre -20 y 0 [-19, -17, -15, ..., -1]\n",
    "\n",
    "Todos los números múltiples de 5 del 0 al 50 [0, 5, 10, ..., 50]\n"
   ]
  },
  {
   "cell_type": "code",
   "execution_count": 34,
   "metadata": {},
   "outputs": [
    {
     "name": "stdout",
     "output_type": "stream",
     "text": [
      "[0, 1, 2, 3, 4, 5, 6, 7, 8, 9, 10]\n",
      "[-10, -9, -8, -7, -6, -5, -4, -3, -2, -1, 0]\n",
      "[0, 2, 4, 6, 8, 10, 12, 14, 16, 18, 20]\n",
      "[-19, -17, -15, -13, -11, -9, -7, -5, -3, -1]\n"
     ]
    }
   ],
   "source": [
    "# ~ Todos los numero del 0 al 10 [0,1,2,3...,10]\n",
    "list_of_ten_values = []\n",
    "for i in range(0,11):\n",
    "  list_of_ten_values.append(i)\n",
    "print(list_of_ten_values)\n",
    "\n",
    "# ~ Todos los numeros del -10 al 0 [-10, -9, ...,0]\n",
    "list_of_ten_zeros = []\n",
    "for i in range(-10,1):\n",
    "  list_of_ten_zeros.append(i)\n",
    "print(list_of_ten_zeros)\n",
    "\n",
    "#~ Todos los numeros pares del 0 al 20 [0,2,4,...,20] y todos los numeros impares entre -20 a 0 [-19, -17,...,-1]\n",
    "list_of_ten_positive_pair = []\n",
    "for j in range (0,21):\n",
    "  if j%2 == 0:\n",
    "    list_of_ten_positive_pair.append(j)\n",
    "print(list_of_ten_positive_pair)\n",
    "\n",
    "\n",
    "list_of_ten_negative_impair = []\n",
    "\n",
    "for i in range(-20, 1):\n",
    "  if i%2 != 0:\n",
    "    list_of_ten_negative_impair.append(i)\n",
    "print(list_of_ten_negative_impair)"
   ]
  },
  {
   "cell_type": "markdown",
   "metadata": {},
   "source": [
    "#### Ejercicio 7 \n",
    "Dadas dos listas, debes generar una tercera con todos los elementos que se repitan en ellas, pero no debe repetirse ningún elemento en la nueva lista:"
   ]
  },
  {
   "cell_type": "code",
   "execution_count": 58,
   "metadata": {},
   "outputs": [
    {
     "name": "stdout",
     "output_type": "stream",
     "text": [
      "Between the lists ['h', 'o', 'l', 'a', ' ', 'm', 'u', 'n', 'd', 'o'] and ['h', 'o', 'l', 'a', ' ', 'l', 'u', 'n', 'a'], the new list with the repetitions words is: ['h', 'o', 'l', 'a', ' ', 'u', 'n']\n"
     ]
    }
   ],
   "source": [
    "lista_1 = [\"h\",'o','l','a',' ', 'm','u','n','d','o']\n",
    "lista_2 = [\"h\",'o','l','a',' ', 'l','u','n','a']\n",
    "lista_3 = []\n",
    "\n",
    "\n",
    "for j,i in zip(lista_1,lista_2):\n",
    "  if j ==i:\n",
    "    lista_3.append(j)\n",
    "    \n",
    "print(f\"Between the lists {lista_1} and {lista_2}, the new list with the repetitions words is: {lista_3}\")"
   ]
  },
  {
   "cell_type": "markdown",
   "metadata": {},
   "source": [
    "### Colecciones de Datos\n",
    "#### Ejercicio 1\n",
    "Realiza un programa que siga las siguientes instrucciones:\n",
    "\n",
    "- Crea un conjunto llamado usuarios con los usuarios Marta, David, Elvira, Juan y Marcos\n",
    "- Crea un conjunto llamado administradores con los administradores Juan y Marta.\n",
    "- Borra al administrador Juan del conjunto de administradores.\n",
    "- Añade a Marcos como un nuevo administrador, pero no lo borres del conjunto de usuarios.\n",
    "- Muestra todos los usuarios por pantalla de forma dinámica, además debes indicar cada usuario es administrador o no."
   ]
  },
  {
   "cell_type": "code",
   "execution_count": 16,
   "metadata": {},
   "outputs": [
    {
     "name": "stdout",
     "output_type": "stream",
     "text": [
      "{'Marta'}\n",
      "{'Marta', 'Marcos'}\n",
      "List of them\n",
      "David No admin\n",
      "Juan No admin\n",
      "Marcos Es admin\n",
      "Marta Es admin\n",
      "Elvira No admin\n"
     ]
    }
   ],
   "source": [
    "# ~Crea un conjunto llamado usuarios con los usuarios Marta, David, Elvira, Juan y Marcos\n",
    "users = {\"Marta\",\"David\",\"Elvira\", \"Juan\", \"Marcos\"}\n",
    "#~ Crea un conjunto llamado administradores con los administradores Juan and Marta\n",
    "admins = {\"Juan\", \"Marta\"}\n",
    "#~ Borrar al administrador Juan del conjunto de administradores\n",
    "admins.remove(\"Juan\")\n",
    "print(admins)\\\n",
    "#~ Agrega a Marcos como un nuevo administrador, pero no lo borres del conjunto de usuarios\n",
    "\n",
    "admins.add(\"Marcos\")\n",
    "print(admins)\n",
    "#~ Muestra todos los usuarios por pantalla de forma dinamica, ademas debes indicar cada usuario es administrador o no\n",
    "print(\"List of them\")\n",
    "for i in users:\n",
    "  if i in admins:\n",
    "    print(f\"{i} Es admin\")\n",
    "  else:\n",
    "    print(f\"{i} No admin\")\n",
    "    "
   ]
  },
  {
   "cell_type": "markdown",
   "metadata": {},
   "source": [
    "####  Ejercicio 2\n",
    "Durante el desarrollo de un pequeño videojuego se te encarga configurar y balancear cada clase de personaje jugable. Partiendo que la estadística base es 2, debes cumplir las siguientes condiciones:\n",
    "\n",
    "- El caballero tiene el doble de vida y defensa que un guerrero.\n",
    "\n",
    "- El guerrero tiene el doble de ataque y alcance que un caballero.\n",
    "- El arquero tiene la misma vida y ataque que un guerrero, pero la mitad de su defensa y el doble de su alcance.\n",
    "\n",
    "- Muestra como quedan las propiedades de los tres personajes.\n",
    "\n",
    "\n"
   ]
  },
  {
   "cell_type": "code",
   "execution_count": 20,
   "metadata": {},
   "outputs": [
    {
     "name": "stdout",
     "output_type": "stream",
     "text": [
      "{'vida': 4, 'defensa': 4, 'alcance': 2, 'ataque': 22}\n",
      "{'vida': 2, 'defensa': 2, 'alcance': 4, 'ataque': 44}\n",
      "{'vida': 2, 'ataque': 22, 'defensa': 1.0, 'alcance': 4}\n"
     ]
    }
   ],
   "source": [
    "vida = int(input(\"Ingrese la vida: \"))\n",
    "defensa = int(input(\"Ingrese la defensa: \"))\n",
    "alcance = int(input(\"Ingrese el alcance: \"))\n",
    "ataque = int(input(\"Ingrese el ataque: \"))\n",
    "caballero = {\"vida\": vida *2,\"defensa\":defensa* 2,\"alcance\":alcance,\"ataque\":ataque}\n",
    "guerrero = {\"vida\":vida,\"defensa\":defensa,\"alcance\":alcance *2, \"ataque\":ataque *2}\n",
    "arquero = {\"vida\":vida,\"ataque\":ataque,\"defensa\":defensa /2, \"alcance\":alcance *2}\n",
    "\n",
    "\n",
    "print(caballero)\n",
    "print(guerrero)\n",
    "print(arquero)"
   ]
  },
  {
   "cell_type": "markdown",
   "metadata": {},
   "source": [
    "#### Ejercicio 3\n",
    "\n",
    "Durante la planificación de un proyecto se han acordado una lista de tareas. Para cada una de estas tareas se ha asignado un orden de prioridad (cuanto menor es el número de orden, más prioridad).\n",
    "\n",
    "¿Eres capaz de crear una estructura del tipo cola con todas las tareas ordenadas pero sin los números de orden?"
   ]
  },
  {
   "cell_type": "code",
   "execution_count": 63,
   "metadata": {},
   "outputs": [
    {
     "name": "stdout",
     "output_type": "stream",
     "text": [
      "dormir\n",
      "comer\n",
      "ducharse\n",
      "hacer tarea\n",
      "2\n",
      "1\n",
      "4\n",
      "3\n"
     ]
    }
   ],
   "source": [
    "from collections import deque\n",
    "tasks_cola = deque()\n",
    "tasks_cola = {2:\"comer\", 1:\"dormir\",4:\"hacer tarea\",3:\"ducharse\"}\n",
    "for i in sorted(tasks_cola.keys()):\n",
    "  print(tasks_cola[i])\n"
   ]
  },
  {
   "cell_type": "markdown",
   "metadata": {},
   "source": [
    "### Entradas y Salidas\n",
    "#### Ejercicio 1\n",
    "\n",
    "Formatea los siguientes valores para mostrar el resultado indicado:\n",
    "---\n",
    "- \"Hola Mundo\" → Alineado a la derecha en 20 caracteres\n",
    "- \"Hola Mundo\" → Truncamiento en el cuarto carácter (índice 3)\n",
    "- \"Hola Mundo\" → Alineamiento al centro en 20 caracteres con truncamiento en el segundo carácter (índice 1)\n",
    "- 150 → Formateo a 5 números enteros rellenados con ceros\n",
    "- 7887 → Formateo a 7 números enteros rellenados con espacios\n",
    "- 20.02 → Formateo a 3 números enteros y 3 números decimales"
   ]
  },
  {
   "cell_type": "code",
   "execution_count": 6,
   "metadata": {},
   "outputs": [
    {
     "name": "stdout",
     "output_type": "stream",
     "text": [
      "          Hola Mundo\n"
     ]
    }
   ],
   "source": [
    "print(\"{:>20}\".format(\"Hola Mundo\"))\n",
    "print()"
   ]
  },
  {
   "cell_type": "code",
   "execution_count": null,
   "metadata": {},
   "outputs": [],
   "source": []
  }
 ],
 "metadata": {
  "kernelspec": {
   "display_name": "Python 3",
   "language": "python",
   "name": "python3"
  },
  "language_info": {
   "codemirror_mode": {
    "name": "ipython",
    "version": 3
   },
   "file_extension": ".py",
   "mimetype": "text/x-python",
   "name": "python",
   "nbconvert_exporter": "python",
   "pygments_lexer": "ipython3",
   "version": "3.11.7"
  }
 },
 "nbformat": 4,
 "nbformat_minor": 2
}
